{
 "cells": [
  {
   "cell_type": "markdown",
   "metadata": {},
   "source": [
    "# ValidMind for model validation — 111 Import the champion model\n",
    "\n",
    "Learn how to use ValidMind for your end-to-end model validation process based on common scenarios with our series of four introductory notebooks. In this first notebook, you'll set up the ValidMind Library and import a champion model for review."
   ]
  },
  {
   "cell_type": "markdown",
   "metadata": {},
   "source": [
    "- About ValidMind block\n",
    "- Prereq block\n",
    "    - Access to champion model export\n",
    "    - Registered model in platform, assigned as validator\n",
    "- Install & initialize block\n",
    "    - move LLM context + add explanatory section\n",
    "    - Adjust initialize with validator instructions > need to remove yourself as a developer!\n",
    "- Load the champion model\n",
    "- Load sample model development dataset\n",
    "- Upgrade ValidMind\n",
    "- In summary\n",
    "- Next steps\n"
   ]
  }
 ],
 "metadata": {
  "language_info": {
   "name": "python"
  }
 },
 "nbformat": 4,
 "nbformat_minor": 2
}

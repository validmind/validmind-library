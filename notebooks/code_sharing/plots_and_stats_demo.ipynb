{
  "cells": [
    {
      "cell_type": "markdown",
      "metadata": {
        "vscode": {
          "languageId": "raw"
        }
      },
      "source": [
        "# Comprehensive Guide: ValidMind Plots and Statistics Tests\n",
        "\n",
        "This notebook demonstrates all the available tests from the `validmind.plots` and `validmind.stats` modules. Theseized tests provide powerful visualization and statistical analysis capabilities for any dataset.\n",
        "\n",
        "## What You'll Learn\n",
        "\n",
        "In this notebook, we'll explore:\n",
        "\n",
        "1. **Plotting Tests**: Visual analysis tools for data exploration\n",
        "   - CorrelationHeatmap\n",
        "   - HistogramPlot\n",
        "   - BoxPlot\n",
        "   - ViolinPlot\n",
        "\n",
        "2. **Statistical Tests**: Comprehensive statistical analysis tools\n",
        "   - DescriptiveStats\n",
        "   - CorrelationAnalysis\n",
        "   - NormalityTests\n",
        "   - OutlierDetection\n",
        "\n",
        "Each test is highly configurable and can be adapted to different datasets and use cases.\n"
      ]
    },
    {
      "cell_type": "markdown",
      "metadata": {},
      "source": [
        "# Comprehensive Guide: ValidMind Plots and Statistics Tests\n",
        "\n",
        "This notebook demonstrates all the available tests from the `validmind.plots` and `validmind.stats` modules. These generalized tests provide powerful visualization and statistical analysis capabilities for any dataset.\n",
        "\n",
        "## What You'll Learn\n",
        "\n",
        "In this notebook, we'll explore:\n",
        "\n",
        "1. **Plotting Tests**: Visual analysis tools for data exploration\n",
        "   - CorrelationHeatmap\n",
        "   - HistogramPlot\n",
        "   - BoxPlot\n",
        "   - ViolinPlot\n",
        "\n",
        "2. **Statistical Tests**: Comprehensive statistical analysis tools\n",
        "   - DescriptiveStats\n",
        "   - CorrelationAnalysis\n",
        "   - NormalityTests\n",
        "   - OutlierDetection\n",
        "\n",
        "Each test is highly configurable and can be adapted to different datasets and use cases.\n"
      ]
    },
    {
      "cell_type": "markdown",
      "metadata": {},
      "source": []
    },
    {
      "cell_type": "markdown",
      "metadata": {
        "vscode": {
          "languageId": "raw"
        }
      },
      "source": [
        "## About ValidMind\n",
        "\n",
        "ValidMind is a suite of tools for managing model risk, including risk associated with AI and statistical models. You use the ValidMind Library to automate documentation and validation tests, and then use the ValidMind Platform to collaborate on model documentation.\n"
      ]
    },
    {
      "cell_type": "markdown",
      "metadata": {
        "vscode": {
          "languageId": "raw"
        }
      },
      "source": [
        "## Setting up\n",
        "\n",
        "### Install the ValidMind Library\n"
      ]
    },
    {
      "cell_type": "code",
      "execution_count": null,
      "metadata": {},
      "outputs": [],
      "source": [
        "%pip install -q validmind\n"
      ]
    },
    {
      "cell_type": "markdown",
      "metadata": {
        "vscode": {
          "languageId": "raw"
        }
      },
      "source": [
        "### Initialize the ValidMind Library\n",
        "\n",
        "For this demonstration, we'll initialize ValidMind in demo mode.\n"
      ]
    },
    {
      "cell_type": "code",
      "execution_count": null,
      "metadata": {},
      "outputs": [],
      "source": [
        "# Load your model identifier credentials from an `.env` file\n",
        "\n",
        "%load_ext dotenv\n",
        "%dotenv .env\n",
        "\n",
        "# Or replace with your code snippet\n",
        "\n",
        "import validmind as vm\n",
        "\n",
        "# Note: You need valid API credentials for this to work\n",
        "# If you don't have credentials, use the standalone script: test_outlier_detection_standalone.py\n",
        "\n",
        "vm.init(\n",
        "    api_host=\"...\",\n",
        "    api_key=\"...\",\n",
        "    api_secret=\"...\",\n",
        "    model=\"...\",\n",
        ")"
      ]
    },
    {
      "cell_type": "markdown",
      "metadata": {
        "vscode": {
          "languageId": "raw"
        }
      },
      "source": [
        "## Import and Prepare Sample Dataset\n",
        "\n",
        "We'll use the Bank Customer Churn dataset as our example data for demonstrating all the tests.\n"
      ]
    },
    {
      "cell_type": "code",
      "execution_count": null,
      "metadata": {},
      "outputs": [],
      "source": [
        "from validmind.datasets.classification import customer_churn\n",
        "\n",
        "print(\n",
        "    f\"Loaded demo dataset with: \\n\\n\\t• Target column: '{customer_churn.target_column}' \\n\\t• Class labels: {customer_churn.class_labels}\"\n",
        ")\n",
        "\n",
        "# Load and preprocess the data\n",
        "raw_df = customer_churn.load_data()\n",
        "train_df, validation_df, test_df = customer_churn.preprocess(raw_df)\n",
        "\n",
        "print(f\"\\nDataset shapes:\")\n",
        "print(f\"• Training: {train_df.shape}\")\n",
        "print(f\"• Validation: {validation_df.shape}\")\n",
        "print(f\"• Test: {test_df.shape}\")\n",
        "\n",
        "raw_df.head()\n"
      ]
    },
    {
      "cell_type": "markdown",
      "metadata": {
        "vscode": {
          "languageId": "raw"
        }
      },
      "source": [
        "### Initialize ValidMind Datasets\n",
        "\n",
        "Initialize ValidMind dataset objects for our analysis:\n"
      ]
    },
    {
      "cell_type": "code",
      "execution_count": null,
      "metadata": {},
      "outputs": [],
      "source": [
        "# Initialize datasets for ValidMind\n",
        "vm_raw_dataset = vm.init_dataset(\n",
        "    dataset=raw_df,\n",
        "    input_id=\"raw_dataset\",\n",
        "    target_column=customer_churn.target_column,\n",
        "    class_labels=customer_churn.class_labels,\n",
        ")\n",
        "\n",
        "vm_train_ds = vm.init_dataset(\n",
        "    dataset=train_df,\n",
        "    input_id=\"train_dataset\",\n",
        "    target_column=customer_churn.target_column,\n",
        ")\n",
        "\n",
        "print(\"✅ ValidMind datasets initialized successfully!\")\n"
      ]
    },
    {
      "cell_type": "markdown",
      "metadata": {
        "vscode": {
          "languageId": "raw"
        }
      },
      "source": [
        "### Explore Dataset Structure\n",
        "\n",
        "Let's examine our dataset to understand what columns are available for analysis:\n"
      ]
    },
    {
      "cell_type": "code",
      "execution_count": null,
      "metadata": {},
      "outputs": [],
      "source": [
        "print(\"📊 Dataset Information:\")\n",
        "print(f\"\\nAll columns ({len(vm_train_ds.df.columns)}):\")\n",
        "print(list(vm_train_ds.df.columns))\n",
        "\n",
        "print(f\"\\nNumerical columns ({len(vm_train_ds.feature_columns_numeric)}):\")\n",
        "print(vm_train_ds.feature_columns_numeric)\n",
        "\n",
        "print(f\"\\nCategorical columns ({len(vm_train_ds.feature_columns_categorical) if hasattr(vm_train_ds, 'feature_columns_categorical') else 0}):\")\n",
        "print(vm_train_ds.feature_columns_categorical if hasattr(vm_train_ds, 'feature_columns_categorical') else \"None detected\")\n",
        "\n",
        "print(f\"\\nTarget column: {vm_train_ds.target_column}\")\n"
      ]
    },
    {
      "cell_type": "markdown",
      "metadata": {
        "vscode": {
          "languageId": "raw"
        }
      },
      "source": [
        "# Part 1: Plotting Tests\n",
        "\n",
        "The ValidMind plotting tests provide powerful visualization capabilities for data exploration and analysis. All plots are interactive and built with Plotly.\n",
        "\n",
        "## 1.  Correlation Heatmap\n",
        "\n",
        "Visualizes correlations between numerical features using a heatmap. Useful for identifying multicollinearity and feature relationships.\n"
      ]
    },
    {
      "cell_type": "code",
      "execution_count": null,
      "metadata": {},
      "outputs": [],
      "source": [
        "# Basic correlation heatmap\n",
        "vm.tests.run_test(\n",
        "    \"validmind.plots.CorrelationHeatmap\",\n",
        "    inputs={\"dataset\": vm_train_ds},\n",
        "    params={\n",
        "        \"method\": \"pearson\",\n",
        "        \"show_values\": True,\n",
        "        \"colorscale\": \"RdBu\",\n",
        "        \"mask_upper\": False,\n",
        "        \"threshold\": None,\n",
        "        \"width\": 800,\n",
        "        \"height\": 600,\n",
        "        \"title\": \"Feature Correlation Heatmap\"\n",
        "    }\n",
        ")\n"
      ]
    },
    {
      "cell_type": "code",
      "execution_count": null,
      "metadata": {},
      "outputs": [],
      "source": [
        "# Advanced correlation heatmap with custom settings\n",
        "vm.tests.run_test(\n",
        "    \"validmind.plots.CorrelationHeatmap\",\n",
        "    inputs={\"dataset\": vm_train_ds},\n",
        "    params={\n",
        "        \"method\": \"spearman\",  # Different correlation method\n",
        "        \"show_values\": True,\n",
        "        \"colorscale\": \"Viridis\",\n",
        "        \"mask_upper\": True,  # Mask upper triangle\n",
        "        \"width\": 900,\n",
        "        \"height\": 700,\n",
        "        \"title\": \"Spearman Correlation (|r| > 0.3)\",\n",
        "        \"columns\": [\"CreditScore\", \"Age\", \"Balance\", \"EstimatedSalary\"]  # Specific columns\n",
        "    }\n",
        ")\n"
      ]
    },
    {
      "cell_type": "markdown",
      "metadata": {
        "vscode": {
          "languageId": "raw"
        }
      },
      "source": [
        "## 2.  Histogram Plot\n",
        "\n",
        "Creates histogram distributions for numerical features with optional KDE overlay. Essential for understanding data distributions.\n"
      ]
    },
    {
      "cell_type": "code",
      "execution_count": null,
      "metadata": {},
      "outputs": [],
      "source": [
        "# Basic histogram with KDE\n",
        "vm.tests.run_test(\n",
        "    \"validmind.plots.HistogramPlot\",\n",
        "    inputs={\"dataset\": vm_train_ds},\n",
        "    params={\n",
        "        \"columns\": [\"CreditScore\", \"Balance\", \"EstimatedSalary\", \"Age\"],\n",
        "        \"bins\": 30,\n",
        "        \"color\": \"steelblue\",\n",
        "        \"opacity\": 0.7,\n",
        "        \"show_kde\": True,\n",
        "        \"normalize\": False,\n",
        "        \"log_scale\": False,\n",
        "        \"width\": 1200,\n",
        "        \"height\": 800,\n",
        "        \"n_cols\": 2,\n",
        "        \"vertical_spacing\": 0.15,\n",
        "        \"horizontal_spacing\": 0.15,\n",
        "        \"title_prefix\": \"Distribution of\"\n",
        "    }\n",
        ")\n"
      ]
    },
    {
      "cell_type": "markdown",
      "metadata": {
        "vscode": {
          "languageId": "raw"
        }
      },
      "source": [
        "## 3.  Box Plot\n",
        "\n",
        "Displays box plots for numerical features, optionally grouped by a categorical variable. Excellent for outlier detection and comparing distributions.\n"
      ]
    },
    {
      "cell_type": "code",
      "execution_count": null,
      "metadata": {},
      "outputs": [],
      "source": [
        "# Box plots grouped by target variable\n",
        "vm.tests.run_test(\n",
        "    \"validmind.plots.BoxPlot\", \n",
        "    inputs={\"dataset\": vm_train_ds},\n",
        "    params={\n",
        "        \"columns\": [\"CreditScore\", \"Balance\", \"Age\"],\n",
        "        \"group_by\": \"Exited\",  # Group by churn status\n",
        "        \"colors\": [\"lightblue\", \"salmon\"],\n",
        "        \"show_outliers\": True,\n",
        "        \"width\": 1200,\n",
        "        \"height\": 600\n",
        "    }\n",
        ")\n"
      ]
    },
    {
      "cell_type": "markdown",
      "metadata": {
        "vscode": {
          "languageId": "raw"
        }
      },
      "source": [
        "## 4.  Violin Plot\n",
        "\n",
        "Creates violin plots that combine box plots with kernel density estimation. Shows both summary statistics and distribution shape.\n"
      ]
    },
    {
      "cell_type": "code",
      "execution_count": null,
      "metadata": {},
      "outputs": [],
      "source": [
        "# Violin plots grouped by target variable\n",
        "vm.tests.run_test(\n",
        "    \"validmind.plots.ViolinPlot\",\n",
        "    inputs={\"dataset\": vm_train_ds},\n",
        "    params={\n",
        "        \"columns\": [\"Age\", \"Balance\"],  # Focus on key variables\n",
        "        \"group_by\": \"Exited\",\n",
        "        \"width\": 800,\n",
        "        \"height\": 600\n",
        "    }\n",
        ")\n"
      ]
    },
    {
      "cell_type": "markdown",
      "metadata": {
        "vscode": {
          "languageId": "raw"
        }
      },
      "source": [
        "# Part 2: Statistical Tests\n",
        "\n",
        "The ValidMind statistical tests provide comprehensive statistical analysis capabilities for understanding data characteristics and quality.\n",
        "\n",
        "## 1.  Descriptive Statistics\n",
        "\n",
        "Provides comprehensive descriptive statistics including basic statistics, distribution measures, confidence intervals, and normality tests.\n"
      ]
    },
    {
      "cell_type": "code",
      "execution_count": null,
      "metadata": {},
      "outputs": [],
      "source": [
        "# Advanced descriptive statistics with all measures\n",
        "vm.tests.run_test(\n",
        "    \"validmind.stats.DescriptiveStats\",\n",
        "    inputs={\"dataset\": vm_train_ds},\n",
        "    params={\n",
        "        \"include_advanced\": True,  # Include skewness, kurtosis, normality tests, etc.\n",
        "        \"confidence_level\": 0.99,  # 99% confidence intervals\n",
        "        \"columns\": [\"CreditScore\", \"Balance\", \"EstimatedSalary\", \"Age\"]  # Specific columns\n",
        "    }\n",
        ")\n"
      ]
    },
    {
      "cell_type": "markdown",
      "metadata": {
        "vscode": {
          "languageId": "raw"
        }
      },
      "source": [
        "## 2.  Correlation Analysis\n",
        "\n",
        "Performs detailed correlation analysis with statistical significance testing and identifies highly correlated feature pairs.\n"
      ]
    },
    {
      "cell_type": "code",
      "execution_count": null,
      "metadata": {},
      "outputs": [],
      "source": [
        "# Correlation analysis with significance testing\n",
        "result = vm.tests.run_test(\n",
        "    \"validmind.stats.CorrelationAnalysis\",\n",
        "    inputs={\"dataset\": vm_train_ds},\n",
        "    params={\n",
        "        \"method\": \"pearson\",  # or \"spearman\", \"kendall\"\n",
        "        \"significance_level\": 0.05,\n",
        "        \"min_correlation\": 0.1  # Minimum correlation threshold\n",
        "    }\n",
        ")\n",
        "result.log()\n"
      ]
    },
    {
      "cell_type": "markdown",
      "metadata": {
        "vscode": {
          "languageId": "raw"
        }
      },
      "source": [
        "## 3.  Normality Tests\n",
        "\n",
        "Performs various normality tests to assess whether features follow a normal distribution.\n"
      ]
    },
    {
      "cell_type": "code",
      "execution_count": null,
      "metadata": {},
      "outputs": [],
      "source": [
        "# Comprehensive normality testing\n",
        "vm.tests.run_test(\n",
        "    \"validmind.stats.NormalityTests\",\n",
        "    inputs={\"dataset\": vm_train_ds},\n",
        "    params={\n",
        "        \"tests\": [\"shapiro\", \"anderson\", \"kstest\"],  # Multiple tests\n",
        "        \"alpha\": 0.05,\n",
        "        \"columns\": [\"CreditScore\", \"Balance\", \"Age\"]  # Focus on key features\n",
        "    }\n",
        ")\n"
      ]
    },
    {
      "cell_type": "markdown",
      "metadata": {
        "vscode": {
          "languageId": "raw"
        }
      },
      "source": [
        "## 4.  Outlier Detection\n",
        "\n",
        "Identifies outliers using various statistical methods including IQR, Z-score, and Isolation Forest.\n"
      ]
    },
    {
      "cell_type": "code",
      "execution_count": null,
      "metadata": {},
      "outputs": [],
      "source": [
        "# Comprehensive outlier detection with multiple methods\n",
        "vm.tests.run_test(\n",
        "    \"validmind.stats.OutlierDetection\",\n",
        "    inputs={\"dataset\": vm_train_ds},\n",
        "    params={\n",
        "        \"methods\": [\"iqr\", \"zscore\", \"isolation_forest\"],\n",
        "        \"iqr_threshold\": 1.5,\n",
        "        \"zscore_threshold\": 3.0,\n",
        "        \"contamination\": 0.1,\n",
        "        \"columns\": [\"CreditScore\", \"Balance\", \"EstimatedSalary\"]\n",
        "    }\n",
        ")\n"
      ]
    },
    {
      "cell_type": "markdown",
      "metadata": {
        "vscode": {
          "languageId": "raw"
        }
      },
      "source": [
        "# Part 3: Complete EDA Workflow Example\n",
        "\n",
        "Let's demonstrate a complete exploratory data analysis workflow using all the tests together:\n"
      ]
    },
    {
      "cell_type": "code",
      "execution_count": null,
      "metadata": {},
      "outputs": [],
      "source": [
        "# Example: Complete EDA workflow using all tests\n",
        "print(\"🔍 Complete Exploratory Data Analysis Workflow\")\n",
        "print(\"=\" * 50)\n",
        "\n",
        "# 1. Start with descriptive statistics\n",
        "print(\"\\n1. Descriptive Statistics:\")\n",
        "desc_stats = vm.tests.run_test(\n",
        "    \"validmind.stats.DescriptiveStats\",\n",
        "    inputs={\"dataset\": vm_train_ds},\n",
        "    params={\"include_advanced\": True}\n",
        ")\n",
        "\n",
        "print(\"\\n2. Distribution Analysis:\")\n",
        "# 2. Visualize distributions\n",
        "hist_plot = vm.tests.run_test(\n",
        "    \"validmind.plots.HistogramPlot\",\n",
        "    inputs={\"dataset\": vm_train_ds},\n",
        "    params={\"show_kde\": True, \"n_cols\": 3}\n",
        ")\n",
        "\n",
        "print(\"\\n3. Correlation Analysis:\")\n",
        "# 3. Check correlations\n",
        "corr_heatmap = vm.tests.run_test(\n",
        "    \"validmind.plots.CorrelationHeatmap\",\n",
        "    inputs={\"dataset\": vm_train_ds}\n",
        ")\n",
        "\n",
        "print(\"\\n4. Outlier Detection:\")\n",
        "# 4. Detect outliers\n",
        "outliers = vm.tests.run_test(\n",
        "    \"validmind.stats.OutlierDetection\",\n",
        "    inputs={\"dataset\": vm_train_ds},\n",
        "    params={\"methods\": [\"iqr\", \"zscore\"]}\n",
        ")\n",
        "\n",
        "print(\"\\n✅ EDA Complete! Check the visualizations and tables above for insights.\")\n"
      ]
    },
    {
      "cell_type": "markdown",
      "metadata": {},
      "source": [
        "# Comprehensive Guide: ValidMind Plots and Statistics Tests\n",
        "\n",
        "This notebook demonstrates all the available tests from the `validmind.plots` and `validmind.stats` modules. These generalized tests provide powerful visualization and statistical analysis capabilities for any dataset.\n",
        "\n",
        "## What You'll Learn\n",
        "\n",
        "In this notebook, we'll explore:\n",
        "\n",
        "1. **Plotting Tests**: Visual analysis tools for data exploration\n",
        "   - GeneralCorrelationHeatmap\n",
        "   - GeneralHistogramPlot\n",
        "   - GeneralBoxPlot\n",
        "   - GeneralViolinPlot\n",
        "\n",
        "2. **Statistical Tests**: Comprehensive statistical analysis tools\n",
        "   - GeneralDescriptiveStats\n",
        "   - GeneralCorrelationAnalysis\n",
        "   - GeneralNormalityTests\n",
        "   - GeneralOutlierDetection\n",
        "\n",
        "Each test is highly configurable and can be adapted to different datasets and use cases.\n"
      ]
    },
    {
      "cell_type": "markdown",
      "metadata": {
        "vscode": {
          "languageId": "raw"
        }
      },
      "source": [
        "# Conclusion\n",
        "\n",
        "This notebook demonstrated all the plotting and statistical tests available in ValidMind:\n",
        "\n",
        "## Plotting Tests Covered:\n",
        "✅ **GeneralCorrelationHeatmap** - Interactive correlation matrices  \n",
        "✅ **GeneralHistogramPlot** - Distribution analysis with KDE  \n",
        "✅ **GeneralBoxPlot** - Outlier detection and group comparisons  \n",
        "✅ **GeneralViolinPlot** - Distribution shape analysis  \n",
        "\n",
        "## Statistical Tests Covered:\n",
        "✅ **GeneralDescriptiveStats** - Comprehensive statistical profiling  \n",
        "✅ **GeneralCorrelationAnalysis** - Formal correlation testing  \n",
        "✅ **GeneralNormalityTests** - Distribution assumption checking  \n",
        "✅ **GeneralOutlierDetection** - Multi-method outlier identification  \n",
        "\n",
        "## Key Benefits:\n",
        "- **Highly Customizable**: All tests offer extensive parameter options\n",
        "- **Interactive Visualizations**: Plotly-based plots with zoom, pan, hover\n",
        "- **Statistical Rigor**: Formal testing with significance levels\n",
        "- **Flexible Input**: Works with any ValidMind dataset\n",
        "- **Comprehensive Output**: Tables, plots, and statistical summaries\n",
        "\n",
        "## Best Practices:\n",
        "\n",
        "### When to Use Each Test:\n",
        "\n",
        "**Plotting Tests:**\n",
        "- **GeneralCorrelationHeatmap**: Initial data exploration, multicollinearity detection\n",
        "- **GeneralHistogramPlot**: Understanding feature distributions, identifying skewness\n",
        "- **GeneralBoxPlot**: Outlier detection, comparing groups\n",
        "- **GeneralViolinPlot**: Detailed distribution analysis, especially for grouped data\n",
        "\n",
        "**Statistical Tests:**\n",
        "- **GeneralDescriptiveStats**: Comprehensive data profiling, baseline statistics\n",
        "- **GeneralCorrelationAnalysis**: Formal correlation testing with significance\n",
        "- **GeneralNormalityTests**: Model assumption checking\n",
        "- **GeneralOutlierDetection**: Data quality assessment, preprocessing decisions\n",
        "\n",
        "## Next Steps:\n",
        "- Integrate these tests into your model documentation templates\n",
        "- Customize parameters based on your specific data characteristics\n",
        "- Use results to inform preprocessing and modeling decisions\n",
        "- Combine with ValidMind's model validation tests for complete analysis\n",
        "\n",
        "These tests provide a solid foundation for exploratory data analysis, data quality assessment, and statistical validation in any data science workflow.\n"
      ]
    }
  ],
  "metadata": {
    "kernelspec": {
      "display_name": "ValidMind Library",
      "language": "python",
      "name": "validmind"
    },
    "language_info": {
      "codemirror_mode": {
        "name": "ipython",
        "version": 3
      },
      "file_extension": ".py",
      "mimetype": "text/x-python",
      "name": "python",
      "nbconvert_exporter": "python",
      "pygments_lexer": "ipython3",
      "version": "3.11.9"
    }
  },
  "nbformat": 4,
  "nbformat_minor": 2
}

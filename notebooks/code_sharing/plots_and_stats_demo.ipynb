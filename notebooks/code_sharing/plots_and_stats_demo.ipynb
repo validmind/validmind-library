{
  "cells": [
    {
      "cell_type": "markdown",
      "metadata": {
        "vscode": {
          "languageId": "raw"
        }
      },
      "source": [
        "# Comprehensive Guide: ValidMind Plots and Statistics Tests\n",
        "\n",
        "This notebook demonstrates all the available tests from the `validmind.plots` and `validmind.stats` modules. Theseized tests provide powerful visualization and statistical analysis capabilities for any dataset.\n",
        "\n",
        "## What You'll Learn\n",
        "\n",
        "In this notebook, we'll explore:\n",
        "\n",
        "1. **Plotting Tests**: Visual analysis tools for data exploration\n",
        "   - CorrelationHeatmap\n",
        "   - HistogramPlot\n",
        "   - BoxPlot\n",
        "   - ViolinPlot\n",
        "   - ScatterMatrix\n",
        "\n",
        "2. **Statistical Tests**: Comprehensive statistical analysis tools\n",
        "   - DescriptiveStats\n",
        "   - CorrelationAnalysis\n",
        "   - NormalityTests\n",
        "   - OutlierDetection\n",
        "\n",
        "Each test is highly configurable and can be adapted to different datasets and use cases.\n"
      ]
    },
    {
      "cell_type": "markdown",
      "metadata": {},
      "source": [
        "# Comprehensive Guide: ValidMind Plots and Statistics Tests\n",
        "\n",
        "This notebook demonstrates all the available tests from the `validmind.plots` and `validmind.stats` modules. These generalized tests provide powerful visualization and statistical analysis capabilities for any dataset.\n",
        "\n",
        "## What You'll Learn\n",
        "\n",
        "In this notebook, we'll explore:\n",
        "\n",
        "1. **Plotting Tests**: Visual analysis tools for data exploration\n",
        "   - CorrelationHeatmap\n",
        "   - HistogramPlot\n",
        "   - BoxPlot\n",
        "   - ViolinPlot\n",
        "   - ScatterMatrix\n",
        "\n",
        "2. **Statistical Tests**: Comprehensive statistical analysis tools\n",
        "   - DescriptiveStats\n",
        "   - CorrelationAnalysis\n",
        "   - NormalityTests\n",
        "   - OutlierDetection\n",
        "\n",
        "Each test is highly configurable and can be adapted to different datasets and use cases.\n"
      ]
    },
    {
      "cell_type": "markdown",
      "metadata": {},
      "source": []
    },
    {
      "cell_type": "markdown",
      "metadata": {
        "vscode": {
          "languageId": "raw"
        }
      },
      "source": [
        "## About ValidMind\n",
        "\n",
        "ValidMind is a suite of tools for managing model risk, including risk associated with AI and statistical models. You use the ValidMind Library to automate documentation and validation tests, and then use the ValidMind Platform to collaborate on model documentation.\n"
      ]
    },
    {
      "cell_type": "markdown",
      "metadata": {
        "vscode": {
          "languageId": "raw"
        }
      },
      "source": [
        "## Setting up\n",
        "\n",
        "### Install the ValidMind Library\n"
      ]
    },
    {
      "cell_type": "code",
      "execution_count": 17,
      "metadata": {},
      "outputs": [
        {
          "name": "stdout",
          "output_type": "stream",
          "text": [
            "\n",
            "\u001b[1m[\u001b[0m\u001b[34;49mnotice\u001b[0m\u001b[1;39;49m]\u001b[0m\u001b[39;49m A new release of pip is available: \u001b[0m\u001b[31;49m25.0.1\u001b[0m\u001b[39;49m -> \u001b[0m\u001b[32;49m25.1.1\u001b[0m\n",
            "\u001b[1m[\u001b[0m\u001b[34;49mnotice\u001b[0m\u001b[1;39;49m]\u001b[0m\u001b[39;49m To update, run: \u001b[0m\u001b[32;49mpip install --upgrade pip\u001b[0m\n",
            "Note: you may need to restart the kernel to use updated packages.\n"
          ]
        }
      ],
      "source": [
        "%pip install -q validmind\n"
      ]
    },
    {
      "cell_type": "markdown",
      "metadata": {
        "vscode": {
          "languageId": "raw"
        }
      },
      "source": [
        "### Initialize the ValidMind Library\n",
        "\n",
        "For this demonstration, we'll initialize ValidMind in demo mode.\n"
      ]
    },
    {
      "cell_type": "code",
      "execution_count": null,
      "metadata": {},
      "outputs": [
        {
          "name": "stdout",
          "output_type": "stream",
          "text": [
            "The dotenv extension is already loaded. To reload it, use:\n",
            "  %reload_ext dotenv\n"
          ]
        }
      ],
      "source": [
        "# Load your model identifier credentials from an `.env` file\n",
        "\n",
        "%load_ext dotenv\n",
        "%dotenv .env\n",
        "\n",
        "# Or replace with your code snippet\n",
        "\n",
        "import validmind as vm\n",
        "\n",
        "# Note: You need valid API credentials for this to work\n",
        "# If you don't have credentials, use the standalone script: test_outlier_detection_standalone.py\n",
        "\n",
        "vm.init(\n",
        "    api_host=\"...\",\n",
        "    api_key=\"...\",\n",
        "    api_secret=\"...\",\n",
        "    model=\"...\",\n",
        ")\n",
        "\n"
      ]
    },
    {
      "cell_type": "markdown",
      "metadata": {
        "vscode": {
          "languageId": "raw"
        }
      },
      "source": [
        "## Import and Prepare Sample Dataset\n",
        "\n",
        "We'll use the Bank Customer Churn dataset as our example data for demonstrating all the tests.\n"
      ]
    },
    {
      "cell_type": "code",
      "execution_count": 19,
      "metadata": {},
      "outputs": [
        {
          "name": "stdout",
          "output_type": "stream",
          "text": [
            "Loaded demo dataset with: \n",
            "\n",
            "\t• Target column: 'Exited' \n",
            "\t• Class labels: {'0': 'Did not exit', '1': 'Exited'}\n",
            "\n",
            "Dataset shapes:\n",
            "• Training: (4800, 13)\n",
            "• Validation: (1600, 13)\n",
            "• Test: (1600, 13)\n"
          ]
        },
        {
          "data": {
            "text/html": [
              "<div>\n",
              "<style scoped>\n",
              "    .dataframe tbody tr th:only-of-type {\n",
              "        vertical-align: middle;\n",
              "    }\n",
              "\n",
              "    .dataframe tbody tr th {\n",
              "        vertical-align: top;\n",
              "    }\n",
              "\n",
              "    .dataframe thead th {\n",
              "        text-align: right;\n",
              "    }\n",
              "</style>\n",
              "<table border=\"1\" class=\"dataframe\">\n",
              "  <thead>\n",
              "    <tr style=\"text-align: right;\">\n",
              "      <th></th>\n",
              "      <th>CreditScore</th>\n",
              "      <th>Geography</th>\n",
              "      <th>Gender</th>\n",
              "      <th>Age</th>\n",
              "      <th>Tenure</th>\n",
              "      <th>Balance</th>\n",
              "      <th>NumOfProducts</th>\n",
              "      <th>HasCrCard</th>\n",
              "      <th>IsActiveMember</th>\n",
              "      <th>EstimatedSalary</th>\n",
              "      <th>Exited</th>\n",
              "    </tr>\n",
              "  </thead>\n",
              "  <tbody>\n",
              "    <tr>\n",
              "      <th>0</th>\n",
              "      <td>619</td>\n",
              "      <td>France</td>\n",
              "      <td>Female</td>\n",
              "      <td>42</td>\n",
              "      <td>2</td>\n",
              "      <td>0.00</td>\n",
              "      <td>1</td>\n",
              "      <td>1</td>\n",
              "      <td>1</td>\n",
              "      <td>101348.88</td>\n",
              "      <td>1</td>\n",
              "    </tr>\n",
              "    <tr>\n",
              "      <th>1</th>\n",
              "      <td>608</td>\n",
              "      <td>Spain</td>\n",
              "      <td>Female</td>\n",
              "      <td>41</td>\n",
              "      <td>1</td>\n",
              "      <td>83807.86</td>\n",
              "      <td>1</td>\n",
              "      <td>0</td>\n",
              "      <td>1</td>\n",
              "      <td>112542.58</td>\n",
              "      <td>0</td>\n",
              "    </tr>\n",
              "    <tr>\n",
              "      <th>2</th>\n",
              "      <td>502</td>\n",
              "      <td>France</td>\n",
              "      <td>Female</td>\n",
              "      <td>42</td>\n",
              "      <td>8</td>\n",
              "      <td>159660.80</td>\n",
              "      <td>3</td>\n",
              "      <td>1</td>\n",
              "      <td>0</td>\n",
              "      <td>113931.57</td>\n",
              "      <td>1</td>\n",
              "    </tr>\n",
              "    <tr>\n",
              "      <th>3</th>\n",
              "      <td>699</td>\n",
              "      <td>France</td>\n",
              "      <td>Female</td>\n",
              "      <td>39</td>\n",
              "      <td>1</td>\n",
              "      <td>0.00</td>\n",
              "      <td>2</td>\n",
              "      <td>0</td>\n",
              "      <td>0</td>\n",
              "      <td>93826.63</td>\n",
              "      <td>0</td>\n",
              "    </tr>\n",
              "    <tr>\n",
              "      <th>4</th>\n",
              "      <td>850</td>\n",
              "      <td>Spain</td>\n",
              "      <td>Female</td>\n",
              "      <td>43</td>\n",
              "      <td>2</td>\n",
              "      <td>125510.82</td>\n",
              "      <td>1</td>\n",
              "      <td>1</td>\n",
              "      <td>1</td>\n",
              "      <td>79084.10</td>\n",
              "      <td>0</td>\n",
              "    </tr>\n",
              "  </tbody>\n",
              "</table>\n",
              "</div>"
            ],
            "text/plain": [
              "   CreditScore Geography  Gender  Age  Tenure    Balance  NumOfProducts  \\\n",
              "0          619    France  Female   42       2       0.00              1   \n",
              "1          608     Spain  Female   41       1   83807.86              1   \n",
              "2          502    France  Female   42       8  159660.80              3   \n",
              "3          699    France  Female   39       1       0.00              2   \n",
              "4          850     Spain  Female   43       2  125510.82              1   \n",
              "\n",
              "   HasCrCard  IsActiveMember  EstimatedSalary  Exited  \n",
              "0          1               1        101348.88       1  \n",
              "1          0               1        112542.58       0  \n",
              "2          1               0        113931.57       1  \n",
              "3          0               0         93826.63       0  \n",
              "4          1               1         79084.10       0  "
            ]
          },
          "execution_count": 19,
          "metadata": {},
          "output_type": "execute_result"
        }
      ],
      "source": [
        "from validmind.datasets.classification import customer_churn\n",
        "\n",
        "print(\n",
        "    f\"Loaded demo dataset with: \\n\\n\\t• Target column: '{customer_churn.target_column}' \\n\\t• Class labels: {customer_churn.class_labels}\"\n",
        ")\n",
        "\n",
        "# Load and preprocess the data\n",
        "raw_df = customer_churn.load_data()\n",
        "train_df, validation_df, test_df = customer_churn.preprocess(raw_df)\n",
        "\n",
        "print(f\"\\nDataset shapes:\")\n",
        "print(f\"• Training: {train_df.shape}\")\n",
        "print(f\"• Validation: {validation_df.shape}\")\n",
        "print(f\"• Test: {test_df.shape}\")\n",
        "\n",
        "raw_df.head()\n"
      ]
    },
    {
      "cell_type": "markdown",
      "metadata": {
        "vscode": {
          "languageId": "raw"
        }
      },
      "source": [
        "### Initialize ValidMind Datasets\n",
        "\n",
        "Initialize ValidMind dataset objects for our analysis:\n"
      ]
    },
    {
      "cell_type": "code",
      "execution_count": 20,
      "metadata": {},
      "outputs": [
        {
          "name": "stdout",
          "output_type": "stream",
          "text": [
            "✅ ValidMind datasets initialized successfully!\n"
          ]
        }
      ],
      "source": [
        "# Initialize datasets for ValidMind\n",
        "vm_raw_dataset = vm.init_dataset(\n",
        "    dataset=raw_df,\n",
        "    input_id=\"raw_dataset\",\n",
        "    target_column=customer_churn.target_column,\n",
        "    class_labels=customer_churn.class_labels,\n",
        ")\n",
        "\n",
        "vm_train_ds = vm.init_dataset(\n",
        "    dataset=train_df,\n",
        "    input_id=\"train_dataset\",\n",
        "    target_column=customer_churn.target_column,\n",
        ")\n",
        "\n",
        "print(\"✅ ValidMind datasets initialized successfully!\")\n"
      ]
    },
    {
      "cell_type": "markdown",
      "metadata": {
        "vscode": {
          "languageId": "raw"
        }
      },
      "source": [
        "### Explore Dataset Structure\n",
        "\n",
        "Let's examine our dataset to understand what columns are available for analysis:\n"
      ]
    },
    {
      "cell_type": "code",
      "execution_count": 21,
      "metadata": {},
      "outputs": [
        {
          "name": "stdout",
          "output_type": "stream",
          "text": [
            "📊 Dataset Information:\n",
            "\n",
            "All columns (13):\n",
            "['CreditScore', 'Gender', 'Age', 'Tenure', 'Balance', 'NumOfProducts', 'HasCrCard', 'IsActiveMember', 'EstimatedSalary', 'Geography_France', 'Geography_Germany', 'Geography_Spain', 'Exited']\n",
            "\n",
            "Numerical columns (12):\n",
            "['CreditScore', 'Gender', 'Age', 'Tenure', 'Balance', 'NumOfProducts', 'HasCrCard', 'IsActiveMember', 'EstimatedSalary', 'Geography_France', 'Geography_Germany', 'Geography_Spain']\n",
            "\n",
            "Categorical columns (0):\n",
            "[]\n",
            "\n",
            "Target column: Exited\n"
          ]
        }
      ],
      "source": [
        "print(\"📊 Dataset Information:\")\n",
        "print(f\"\\nAll columns ({len(vm_train_ds.df.columns)}):\")\n",
        "print(list(vm_train_ds.df.columns))\n",
        "\n",
        "print(f\"\\nNumerical columns ({len(vm_train_ds.feature_columns_numeric)}):\")\n",
        "print(vm_train_ds.feature_columns_numeric)\n",
        "\n",
        "print(f\"\\nCategorical columns ({len(vm_train_ds.feature_columns_categorical) if hasattr(vm_train_ds, 'feature_columns_categorical') else 0}):\")\n",
        "print(vm_train_ds.feature_columns_categorical if hasattr(vm_train_ds, 'feature_columns_categorical') else \"None detected\")\n",
        "\n",
        "print(f\"\\nTarget column: {vm_train_ds.target_column}\")\n"
      ]
    },
    {
      "cell_type": "markdown",
      "metadata": {
        "vscode": {
          "languageId": "raw"
        }
      },
      "source": [
        "# Part 1: Plotting Tests\n",
        "\n",
        "The ValidMind plotting tests provide powerful visualization capabilities for data exploration and analysis. All plots are interactive and built with Plotly.\n",
        "\n",
        "## 1.  Correlation Heatmap\n",
        "\n",
        "Visualizes correlations between numerical features using a heatmap. Useful for identifying multicollinearity and feature relationships.\n"
      ]
    },
    {
      "cell_type": "code",
      "execution_count": 22,
      "metadata": {},
      "outputs": [
        {
          "data": {
            "application/vnd.jupyter.widget-view+json": {
              "model_id": "c3868eaa51964064b74163b5881cc128",
              "version_major": 2,
              "version_minor": 0
            },
            "text/plain": [
              "VBox(children=(HTML(value='<h2>Correlation Heatmap </h2>\\n\\n<p><strong>Correlation Heatmap</strong> is designe…"
            ]
          },
          "metadata": {},
          "output_type": "display_data"
        },
        {
          "data": {
            "text/html": [
              "\n",
              "<script defer type=\"module\">\n",
              "import hljs from 'https://unpkg.com/@highlightjs/cdn-assets@11.9.0/es/highlight.min.js';\n",
              "import python from 'https://cdnjs.cloudflare.com/ajax/libs/highlight.js/11.9.0/es/languages/python.min.js';\n",
              "\n",
              "hljs.registerLanguage('python', python);\n",
              "hljs.highlightAll();\n",
              "</script>\n"
            ],
            "text/plain": [
              "<IPython.core.display.HTML object>"
            ]
          },
          "metadata": {},
          "output_type": "display_data"
        },
        {
          "data": {
            "text/html": [
              "\n",
              "<script>\n",
              "window.MathJax = {\n",
              "    tex2jax: {\n",
              "        inlineMath: [['$', '$'], ['\\\\(', '\\\\)']],\n",
              "        displayMath: [['$$', '$$'], ['\\[', '\\]']],\n",
              "        processEscapes: true,\n",
              "        skipTags: ['script', 'noscript', 'style', 'textarea', 'pre'],\n",
              "        ignoreClass: \".*\",\n",
              "        processClass: \"math\"\n",
              "    }\n",
              "};\n",
              "setTimeout(function () {\n",
              "    var script = document.createElement('script');\n",
              "    script.type = 'text/javascript';\n",
              "    script.src = 'https://cdnjs.cloudflare.com/ajax/libs/mathjax/2.7.7/MathJax.js?config=TeX-AMS_HTML';\n",
              "    document.head.appendChild(script);\n",
              "}, 300);\n",
              "</script>\n"
            ],
            "text/plain": [
              "<IPython.core.display.HTML object>"
            ]
          },
          "metadata": {},
          "output_type": "display_data"
        },
        {
          "data": {
            "text/plain": [
              "TestResult(\"validmind.plots.CorrelationHeatmap\", doc, description, params, figures)"
            ]
          },
          "execution_count": 22,
          "metadata": {},
          "output_type": "execute_result"
        }
      ],
      "source": [
        "# Basic correlation heatmap\n",
        "vm.tests.run_test(\n",
        "    \"validmind.plots.CorrelationHeatmap\",\n",
        "    inputs={\"dataset\": vm_train_ds},\n",
        "    params={\n",
        "        \"method\": \"pearson\",\n",
        "        \"show_values\": True,\n",
        "        \"colorscale\": \"RdBu\",\n",
        "        \"mask_upper\": False,\n",
        "        \"threshold\": None,\n",
        "        \"width\": 800,\n",
        "        \"height\": 600,\n",
        "        \"title\": \"Feature Correlation Heatmap\"\n",
        "    }\n",
        ")\n"
      ]
    },
    {
      "cell_type": "code",
      "execution_count": 23,
      "metadata": {},
      "outputs": [
        {
          "name": "stderr",
          "output_type": "stream",
          "text": [
            "/Users/anilsorathiya/Library/Caches/pypoetry/virtualenvs/validmind-1QuffXMV-py3.11/lib/python3.11/site-packages/jupyter_client/session.py:721: UserWarning:\n",
            "\n",
            "Message serialization failed with:\n",
            "Out of range float values are not JSON compliant\n",
            "Supporting this message is deprecated in jupyter-client 7, please make sure your message is JSON-compliant\n",
            "\n"
          ]
        },
        {
          "data": {
            "application/vnd.jupyter.widget-view+json": {
              "model_id": "0f768debba2d41878cb56e39e968c453",
              "version_major": 2,
              "version_minor": 0
            },
            "text/plain": [
              "VBox(children=(HTML(value='<h2>Correlation Heatmap </h2>\\n\\n<p>&lt;ResponseFormat&gt;\\n**Correlation Heatmap**…"
            ]
          },
          "metadata": {},
          "output_type": "display_data"
        },
        {
          "data": {
            "text/html": [
              "\n",
              "<script defer type=\"module\">\n",
              "import hljs from 'https://unpkg.com/@highlightjs/cdn-assets@11.9.0/es/highlight.min.js';\n",
              "import python from 'https://cdnjs.cloudflare.com/ajax/libs/highlight.js/11.9.0/es/languages/python.min.js';\n",
              "\n",
              "hljs.registerLanguage('python', python);\n",
              "hljs.highlightAll();\n",
              "</script>\n"
            ],
            "text/plain": [
              "<IPython.core.display.HTML object>"
            ]
          },
          "metadata": {},
          "output_type": "display_data"
        },
        {
          "data": {
            "text/html": [
              "\n",
              "<script>\n",
              "window.MathJax = {\n",
              "    tex2jax: {\n",
              "        inlineMath: [['$', '$'], ['\\\\(', '\\\\)']],\n",
              "        displayMath: [['$$', '$$'], ['\\[', '\\]']],\n",
              "        processEscapes: true,\n",
              "        skipTags: ['script', 'noscript', 'style', 'textarea', 'pre'],\n",
              "        ignoreClass: \".*\",\n",
              "        processClass: \"math\"\n",
              "    }\n",
              "};\n",
              "setTimeout(function () {\n",
              "    var script = document.createElement('script');\n",
              "    script.type = 'text/javascript';\n",
              "    script.src = 'https://cdnjs.cloudflare.com/ajax/libs/mathjax/2.7.7/MathJax.js?config=TeX-AMS_HTML';\n",
              "    document.head.appendChild(script);\n",
              "}, 300);\n",
              "</script>\n"
            ],
            "text/plain": [
              "<IPython.core.display.HTML object>"
            ]
          },
          "metadata": {},
          "output_type": "display_data"
        },
        {
          "data": {
            "text/plain": [
              "TestResult(\"validmind.plots.CorrelationHeatmap\", doc, description, params, figures)"
            ]
          },
          "execution_count": 23,
          "metadata": {},
          "output_type": "execute_result"
        }
      ],
      "source": [
        "# Advanced correlation heatmap with custom settings\n",
        "vm.tests.run_test(\n",
        "    \"validmind.plots.CorrelationHeatmap\",\n",
        "    inputs={\"dataset\": vm_train_ds},\n",
        "    params={\n",
        "        \"method\": \"spearman\",  # Different correlation method\n",
        "        \"show_values\": True,\n",
        "        \"colorscale\": \"Viridis\",\n",
        "        \"mask_upper\": True,  # Mask upper triangle\n",
        "        \"width\": 900,\n",
        "        \"height\": 700,\n",
        "        \"title\": \"Spearman Correlation (|r| > 0.3)\",\n",
        "        \"columns\": [\"CreditScore\", \"Age\", \"Balance\", \"EstimatedSalary\"]  # Specific columns\n",
        "    }\n",
        ")\n"
      ]
    },
    {
      "cell_type": "markdown",
      "metadata": {
        "vscode": {
          "languageId": "raw"
        }
      },
      "source": [
        "## 2.  Histogram Plot\n",
        "\n",
        "Creates histogram distributions for numerical features with optional KDE overlay. Essential for understanding data distributions.\n"
      ]
    },
    {
      "cell_type": "code",
      "execution_count": 24,
      "metadata": {},
      "outputs": [
        {
          "data": {
            "application/vnd.jupyter.widget-view+json": {
              "model_id": "91107a3a7e914f72a34af91f889db6a7",
              "version_major": 2,
              "version_minor": 0
            },
            "text/plain": [
              "VBox(children=(HTML(value='<h2>Histogram Plot </h2>\\n\\n<p><strong>Histogram Plot</strong> is designed to provi…"
            ]
          },
          "metadata": {},
          "output_type": "display_data"
        },
        {
          "data": {
            "text/html": [
              "\n",
              "<script defer type=\"module\">\n",
              "import hljs from 'https://unpkg.com/@highlightjs/cdn-assets@11.9.0/es/highlight.min.js';\n",
              "import python from 'https://cdnjs.cloudflare.com/ajax/libs/highlight.js/11.9.0/es/languages/python.min.js';\n",
              "\n",
              "hljs.registerLanguage('python', python);\n",
              "hljs.highlightAll();\n",
              "</script>\n"
            ],
            "text/plain": [
              "<IPython.core.display.HTML object>"
            ]
          },
          "metadata": {},
          "output_type": "display_data"
        },
        {
          "data": {
            "text/html": [
              "\n",
              "<script>\n",
              "window.MathJax = {\n",
              "    tex2jax: {\n",
              "        inlineMath: [['$', '$'], ['\\\\(', '\\\\)']],\n",
              "        displayMath: [['$$', '$$'], ['\\[', '\\]']],\n",
              "        processEscapes: true,\n",
              "        skipTags: ['script', 'noscript', 'style', 'textarea', 'pre'],\n",
              "        ignoreClass: \".*\",\n",
              "        processClass: \"math\"\n",
              "    }\n",
              "};\n",
              "setTimeout(function () {\n",
              "    var script = document.createElement('script');\n",
              "    script.type = 'text/javascript';\n",
              "    script.src = 'https://cdnjs.cloudflare.com/ajax/libs/mathjax/2.7.7/MathJax.js?config=TeX-AMS_HTML';\n",
              "    document.head.appendChild(script);\n",
              "}, 300);\n",
              "</script>\n"
            ],
            "text/plain": [
              "<IPython.core.display.HTML object>"
            ]
          },
          "metadata": {},
          "output_type": "display_data"
        },
        {
          "data": {
            "text/plain": [
              "TestResult(\"validmind.plots.HistogramPlot\", doc, description, params, figures)"
            ]
          },
          "execution_count": 24,
          "metadata": {},
          "output_type": "execute_result"
        }
      ],
      "source": [
        "# Basic histogram with KDE\n",
        "vm.tests.run_test(\n",
        "    \"validmind.plots.HistogramPlot\",\n",
        "    inputs={\"dataset\": vm_train_ds},\n",
        "    params={\n",
        "        \"columns\": [\"CreditScore\", \"Balance\", \"EstimatedSalary\", \"Age\"],\n",
        "        \"bins\": 30,\n",
        "        \"color\": \"steelblue\",\n",
        "        \"opacity\": 0.7,\n",
        "        \"show_kde\": True,\n",
        "        \"normalize\": False,\n",
        "        \"log_scale\": False,\n",
        "        \"width\": 1200,\n",
        "        \"height\": 800,\n",
        "        \"n_cols\": 2,\n",
        "        \"vertical_spacing\": 0.15,\n",
        "        \"horizontal_spacing\": 0.15,\n",
        "        \"title_prefix\": \"Distribution of\"\n",
        "    }\n",
        ")\n"
      ]
    },
    {
      "cell_type": "markdown",
      "metadata": {
        "vscode": {
          "languageId": "raw"
        }
      },
      "source": [
        "## 3.  Box Plot\n",
        "\n",
        "Displays box plots for numerical features, optionally grouped by a categorical variable. Excellent for outlier detection and comparing distributions.\n"
      ]
    },
    {
      "cell_type": "code",
      "execution_count": 26,
      "metadata": {},
      "outputs": [
        {
          "data": {
            "application/vnd.jupyter.widget-view+json": {
              "model_id": "3e6c67ff046943d58c877e79febaf600",
              "version_major": 2,
              "version_minor": 0
            },
            "text/plain": [
              "VBox(children=(HTML(value='<h2>Box Plot </h2>\\n\\n<p><strong>Box Plot</strong> is designed to provide a flexibl…"
            ]
          },
          "metadata": {},
          "output_type": "display_data"
        },
        {
          "data": {
            "text/html": [
              "\n",
              "<script defer type=\"module\">\n",
              "import hljs from 'https://unpkg.com/@highlightjs/cdn-assets@11.9.0/es/highlight.min.js';\n",
              "import python from 'https://cdnjs.cloudflare.com/ajax/libs/highlight.js/11.9.0/es/languages/python.min.js';\n",
              "\n",
              "hljs.registerLanguage('python', python);\n",
              "hljs.highlightAll();\n",
              "</script>\n"
            ],
            "text/plain": [
              "<IPython.core.display.HTML object>"
            ]
          },
          "metadata": {},
          "output_type": "display_data"
        },
        {
          "data": {
            "text/html": [
              "\n",
              "<script>\n",
              "window.MathJax = {\n",
              "    tex2jax: {\n",
              "        inlineMath: [['$', '$'], ['\\\\(', '\\\\)']],\n",
              "        displayMath: [['$$', '$$'], ['\\[', '\\]']],\n",
              "        processEscapes: true,\n",
              "        skipTags: ['script', 'noscript', 'style', 'textarea', 'pre'],\n",
              "        ignoreClass: \".*\",\n",
              "        processClass: \"math\"\n",
              "    }\n",
              "};\n",
              "setTimeout(function () {\n",
              "    var script = document.createElement('script');\n",
              "    script.type = 'text/javascript';\n",
              "    script.src = 'https://cdnjs.cloudflare.com/ajax/libs/mathjax/2.7.7/MathJax.js?config=TeX-AMS_HTML';\n",
              "    document.head.appendChild(script);\n",
              "}, 300);\n",
              "</script>\n"
            ],
            "text/plain": [
              "<IPython.core.display.HTML object>"
            ]
          },
          "metadata": {},
          "output_type": "display_data"
        },
        {
          "data": {
            "text/plain": [
              "TestResult(\"validmind.plots.BoxPlot\", doc, description, params, figures)"
            ]
          },
          "execution_count": 26,
          "metadata": {},
          "output_type": "execute_result"
        }
      ],
      "source": [
        "# Box plots grouped by target variable\n",
        "vm.tests.run_test(\n",
        "    \"validmind.plots.BoxPlot\", \n",
        "    inputs={\"dataset\": vm_train_ds},\n",
        "    params={\n",
        "        \"columns\": [\"CreditScore\", \"Balance\", \"Age\"],\n",
        "        \"group_by\": \"Exited\",  # Group by churn status\n",
        "        \"colors\": [\"lightblue\", \"salmon\"],\n",
        "        \"show_outliers\": True,\n",
        "        \"width\": 1200,\n",
        "        \"height\": 600\n",
        "    }\n",
        ")\n"
      ]
    },
    {
      "cell_type": "markdown",
      "metadata": {
        "vscode": {
          "languageId": "raw"
        }
      },
      "source": [
        "## 4.  Violin Plot\n",
        "\n",
        "Creates violin plots that combine box plots with kernel density estimation. Shows both summary statistics and distribution shape.\n"
      ]
    },
    {
      "cell_type": "code",
      "execution_count": 27,
      "metadata": {},
      "outputs": [
        {
          "data": {
            "application/vnd.jupyter.widget-view+json": {
              "model_id": "81fb9a438eae44d680ddd64d68a19a6f",
              "version_major": 2,
              "version_minor": 0
            },
            "text/plain": [
              "VBox(children=(HTML(value='<h2>Violin Plot </h2>\\n\\n<p>&lt;ResponseFormat&gt;\\n**Violin Plot** is designed to …"
            ]
          },
          "metadata": {},
          "output_type": "display_data"
        },
        {
          "data": {
            "text/html": [
              "\n",
              "<script defer type=\"module\">\n",
              "import hljs from 'https://unpkg.com/@highlightjs/cdn-assets@11.9.0/es/highlight.min.js';\n",
              "import python from 'https://cdnjs.cloudflare.com/ajax/libs/highlight.js/11.9.0/es/languages/python.min.js';\n",
              "\n",
              "hljs.registerLanguage('python', python);\n",
              "hljs.highlightAll();\n",
              "</script>\n"
            ],
            "text/plain": [
              "<IPython.core.display.HTML object>"
            ]
          },
          "metadata": {},
          "output_type": "display_data"
        },
        {
          "data": {
            "text/html": [
              "\n",
              "<script>\n",
              "window.MathJax = {\n",
              "    tex2jax: {\n",
              "        inlineMath: [['$', '$'], ['\\\\(', '\\\\)']],\n",
              "        displayMath: [['$$', '$$'], ['\\[', '\\]']],\n",
              "        processEscapes: true,\n",
              "        skipTags: ['script', 'noscript', 'style', 'textarea', 'pre'],\n",
              "        ignoreClass: \".*\",\n",
              "        processClass: \"math\"\n",
              "    }\n",
              "};\n",
              "setTimeout(function () {\n",
              "    var script = document.createElement('script');\n",
              "    script.type = 'text/javascript';\n",
              "    script.src = 'https://cdnjs.cloudflare.com/ajax/libs/mathjax/2.7.7/MathJax.js?config=TeX-AMS_HTML';\n",
              "    document.head.appendChild(script);\n",
              "}, 300);\n",
              "</script>\n"
            ],
            "text/plain": [
              "<IPython.core.display.HTML object>"
            ]
          },
          "metadata": {},
          "output_type": "display_data"
        },
        {
          "data": {
            "text/plain": [
              "TestResult(\"validmind.plots.ViolinPlot\", doc, description, params, figures)"
            ]
          },
          "execution_count": 27,
          "metadata": {},
          "output_type": "execute_result"
        }
      ],
      "source": [
        "# Violin plots grouped by target variable\n",
        "vm.tests.run_test(\n",
        "    \"validmind.plots.ViolinPlot\",\n",
        "    inputs={\"dataset\": vm_train_ds},\n",
        "    params={\n",
        "        \"columns\": [\"Age\", \"Balance\"],  # Focus on key variables\n",
        "        \"group_by\": \"Exited\",\n",
        "        \"width\": 800,\n",
        "        \"height\": 600\n",
        "    }\n",
        ")\n"
      ]
    },
    {
      "cell_type": "markdown",
      "metadata": {
        "vscode": {
          "languageId": "raw"
        }
      },
      "source": [
        "## 5.  Scatter Matrix\n",
        "\n",
        "Creates a scatter plot matrix to visualize pairwise relationships between features. Useful for identifying patterns and correlations.\n"
      ]
    },
    {
      "cell_type": "code",
      "execution_count": 28,
      "metadata": {},
      "outputs": [
        {
          "data": {
            "application/vnd.jupyter.widget-view+json": {
              "model_id": "959679d330284f83b42e5acded775f38",
              "version_major": 2,
              "version_minor": 0
            },
            "text/plain": [
              "VBox(children=(HTML(value='<h2>Scatter Matrix </h2>\\n\\n<p><strong>Scatter Matrix</strong> is designed to creat…"
            ]
          },
          "metadata": {},
          "output_type": "display_data"
        },
        {
          "data": {
            "text/html": [
              "\n",
              "<script defer type=\"module\">\n",
              "import hljs from 'https://unpkg.com/@highlightjs/cdn-assets@11.9.0/es/highlight.min.js';\n",
              "import python from 'https://cdnjs.cloudflare.com/ajax/libs/highlight.js/11.9.0/es/languages/python.min.js';\n",
              "\n",
              "hljs.registerLanguage('python', python);\n",
              "hljs.highlightAll();\n",
              "</script>\n"
            ],
            "text/plain": [
              "<IPython.core.display.HTML object>"
            ]
          },
          "metadata": {},
          "output_type": "display_data"
        },
        {
          "data": {
            "text/html": [
              "\n",
              "<script>\n",
              "window.MathJax = {\n",
              "    tex2jax: {\n",
              "        inlineMath: [['$', '$'], ['\\\\(', '\\\\)']],\n",
              "        displayMath: [['$$', '$$'], ['\\[', '\\]']],\n",
              "        processEscapes: true,\n",
              "        skipTags: ['script', 'noscript', 'style', 'textarea', 'pre'],\n",
              "        ignoreClass: \".*\",\n",
              "        processClass: \"math\"\n",
              "    }\n",
              "};\n",
              "setTimeout(function () {\n",
              "    var script = document.createElement('script');\n",
              "    script.type = 'text/javascript';\n",
              "    script.src = 'https://cdnjs.cloudflare.com/ajax/libs/mathjax/2.7.7/MathJax.js?config=TeX-AMS_HTML';\n",
              "    document.head.appendChild(script);\n",
              "}, 300);\n",
              "</script>\n"
            ],
            "text/plain": [
              "<IPython.core.display.HTML object>"
            ]
          },
          "metadata": {},
          "output_type": "display_data"
        },
        {
          "data": {
            "text/plain": [
              "TestResult(\"validmind.plots.ScatterMatrix\", doc, description, params, figures)"
            ]
          },
          "execution_count": 28,
          "metadata": {},
          "output_type": "execute_result"
        }
      ],
      "source": [
        "# Scatter matrix with color coding by target\n",
        "vm.tests.run_test(\n",
        "    \"validmind.plots.ScatterMatrix\",\n",
        "    inputs={\"dataset\": vm_train_ds},\n",
        "    params={\n",
        "        \"columns\": [\"CreditScore\", \"Age\"],\n",
        "        \"color_by\": \"Exited\",  # Color points by churn status\n",
        "        \"max_features\": 10,\n",
        "        \"width\": 800,\n",
        "        \"height\": 600\n",
        "    }\n",
        ")\n"
      ]
    },
    {
      "cell_type": "markdown",
      "metadata": {
        "vscode": {
          "languageId": "raw"
        }
      },
      "source": [
        "# Part 2: Statistical Tests\n",
        "\n",
        "The ValidMind statistical tests provide comprehensive statistical analysis capabilities for understanding data characteristics and quality.\n",
        "\n",
        "## 1.  Descriptive Statistics\n",
        "\n",
        "Provides comprehensive descriptive statistics including basic statistics, distribution measures, confidence intervals, and normality tests.\n"
      ]
    },
    {
      "cell_type": "code",
      "execution_count": 29,
      "metadata": {},
      "outputs": [
        {
          "data": {
            "application/vnd.jupyter.widget-view+json": {
              "model_id": "13a0c3388f804a43af11841ce360e57a",
              "version_major": 2,
              "version_minor": 0
            },
            "text/plain": [
              "VBox(children=(HTML(value='<h2>Descriptive Stats </h2>\\n\\n<p><strong>Descriptive Stats</strong> is designed to…"
            ]
          },
          "metadata": {},
          "output_type": "display_data"
        },
        {
          "data": {
            "text/html": [
              "\n",
              "<script defer type=\"module\">\n",
              "import hljs from 'https://unpkg.com/@highlightjs/cdn-assets@11.9.0/es/highlight.min.js';\n",
              "import python from 'https://cdnjs.cloudflare.com/ajax/libs/highlight.js/11.9.0/es/languages/python.min.js';\n",
              "\n",
              "hljs.registerLanguage('python', python);\n",
              "hljs.highlightAll();\n",
              "</script>\n"
            ],
            "text/plain": [
              "<IPython.core.display.HTML object>"
            ]
          },
          "metadata": {},
          "output_type": "display_data"
        },
        {
          "data": {
            "text/html": [
              "\n",
              "<script>\n",
              "window.MathJax = {\n",
              "    tex2jax: {\n",
              "        inlineMath: [['$', '$'], ['\\\\(', '\\\\)']],\n",
              "        displayMath: [['$$', '$$'], ['\\[', '\\]']],\n",
              "        processEscapes: true,\n",
              "        skipTags: ['script', 'noscript', 'style', 'textarea', 'pre'],\n",
              "        ignoreClass: \".*\",\n",
              "        processClass: \"math\"\n",
              "    }\n",
              "};\n",
              "setTimeout(function () {\n",
              "    var script = document.createElement('script');\n",
              "    script.type = 'text/javascript';\n",
              "    script.src = 'https://cdnjs.cloudflare.com/ajax/libs/mathjax/2.7.7/MathJax.js?config=TeX-AMS_HTML';\n",
              "    document.head.appendChild(script);\n",
              "}, 300);\n",
              "</script>\n"
            ],
            "text/plain": [
              "<IPython.core.display.HTML object>"
            ]
          },
          "metadata": {},
          "output_type": "display_data"
        },
        {
          "data": {
            "text/plain": [
              "TestResult(\"validmind.stats.DescriptiveStats\", doc, description, params, tables)"
            ]
          },
          "execution_count": 29,
          "metadata": {},
          "output_type": "execute_result"
        }
      ],
      "source": [
        "# Advanced descriptive statistics with all measures\n",
        "vm.tests.run_test(\n",
        "    \"validmind.stats.DescriptiveStats\",\n",
        "    inputs={\"dataset\": vm_train_ds},\n",
        "    params={\n",
        "        \"include_advanced\": True,  # Include skewness, kurtosis, normality tests, etc.\n",
        "        \"confidence_level\": 0.99,  # 99% confidence intervals\n",
        "        \"columns\": [\"CreditScore\", \"Balance\", \"EstimatedSalary\", \"Age\"]  # Specific columns\n",
        "    }\n",
        ")\n"
      ]
    },
    {
      "cell_type": "markdown",
      "metadata": {
        "vscode": {
          "languageId": "raw"
        }
      },
      "source": [
        "## 2.  Correlation Analysis\n",
        "\n",
        "Performs detailed correlation analysis with statistical significance testing and identifies highly correlated feature pairs.\n"
      ]
    },
    {
      "cell_type": "code",
      "execution_count": 30,
      "metadata": {},
      "outputs": [
        {
          "data": {
            "application/vnd.jupyter.widget-view+json": {
              "model_id": "9edf8b6da4ca4fa3b99edc0bbde9b495",
              "version_major": 2,
              "version_minor": 0
            },
            "text/plain": [
              "VBox(children=(HTML(value='<h2>Correlation Analysis </h2>\\n\\n<p><strong>Correlation Analysis</strong> is desig…"
            ]
          },
          "metadata": {},
          "output_type": "display_data"
        },
        {
          "data": {
            "text/html": [
              "\n",
              "<script defer type=\"module\">\n",
              "import hljs from 'https://unpkg.com/@highlightjs/cdn-assets@11.9.0/es/highlight.min.js';\n",
              "import python from 'https://cdnjs.cloudflare.com/ajax/libs/highlight.js/11.9.0/es/languages/python.min.js';\n",
              "\n",
              "hljs.registerLanguage('python', python);\n",
              "hljs.highlightAll();\n",
              "</script>\n"
            ],
            "text/plain": [
              "<IPython.core.display.HTML object>"
            ]
          },
          "metadata": {},
          "output_type": "display_data"
        },
        {
          "data": {
            "text/html": [
              "\n",
              "<script>\n",
              "window.MathJax = {\n",
              "    tex2jax: {\n",
              "        inlineMath: [['$', '$'], ['\\\\(', '\\\\)']],\n",
              "        displayMath: [['$$', '$$'], ['\\[', '\\]']],\n",
              "        processEscapes: true,\n",
              "        skipTags: ['script', 'noscript', 'style', 'textarea', 'pre'],\n",
              "        ignoreClass: \".*\",\n",
              "        processClass: \"math\"\n",
              "    }\n",
              "};\n",
              "setTimeout(function () {\n",
              "    var script = document.createElement('script');\n",
              "    script.type = 'text/javascript';\n",
              "    script.src = 'https://cdnjs.cloudflare.com/ajax/libs/mathjax/2.7.7/MathJax.js?config=TeX-AMS_HTML';\n",
              "    document.head.appendChild(script);\n",
              "}, 300);\n",
              "</script>\n"
            ],
            "text/plain": [
              "<IPython.core.display.HTML object>"
            ]
          },
          "metadata": {},
          "output_type": "display_data"
        },
        {
          "name": "stderr",
          "output_type": "stream",
          "text": [
            "2025-07-23 10:23:12,580 - INFO(validmind.vm_models.result.result): Test driven block with result_id validmind.stats.CorrelationAnalysis does not exist in model's document\n"
          ]
        }
      ],
      "source": [
        "# Correlation analysis with significance testing\n",
        "result = vm.tests.run_test(\n",
        "    \"validmind.stats.CorrelationAnalysis\",\n",
        "    inputs={\"dataset\": vm_train_ds},\n",
        "    params={\n",
        "        \"method\": \"pearson\",  # or \"spearman\", \"kendall\"\n",
        "        \"significance_level\": 0.05,\n",
        "        \"min_correlation\": 0.1  # Minimum correlation threshold\n",
        "    }\n",
        ")\n",
        "result.log()\n"
      ]
    },
    {
      "cell_type": "markdown",
      "metadata": {
        "vscode": {
          "languageId": "raw"
        }
      },
      "source": [
        "## 3.  Normality Tests\n",
        "\n",
        "Performs various normality tests to assess whether features follow a normal distribution.\n"
      ]
    },
    {
      "cell_type": "code",
      "execution_count": 31,
      "metadata": {},
      "outputs": [
        {
          "data": {
            "application/vnd.jupyter.widget-view+json": {
              "model_id": "82eade32b80f451aba886dfc96678fb4",
              "version_major": 2,
              "version_minor": 0
            },
            "text/plain": [
              "VBox(children=(HTML(value='<h2>Normality Tests </h2>\\n\\n<p><strong>Normality Tests</strong> is designed to eva…"
            ]
          },
          "metadata": {},
          "output_type": "display_data"
        },
        {
          "data": {
            "text/html": [
              "\n",
              "<script defer type=\"module\">\n",
              "import hljs from 'https://unpkg.com/@highlightjs/cdn-assets@11.9.0/es/highlight.min.js';\n",
              "import python from 'https://cdnjs.cloudflare.com/ajax/libs/highlight.js/11.9.0/es/languages/python.min.js';\n",
              "\n",
              "hljs.registerLanguage('python', python);\n",
              "hljs.highlightAll();\n",
              "</script>\n"
            ],
            "text/plain": [
              "<IPython.core.display.HTML object>"
            ]
          },
          "metadata": {},
          "output_type": "display_data"
        },
        {
          "data": {
            "text/html": [
              "\n",
              "<script>\n",
              "window.MathJax = {\n",
              "    tex2jax: {\n",
              "        inlineMath: [['$', '$'], ['\\\\(', '\\\\)']],\n",
              "        displayMath: [['$$', '$$'], ['\\[', '\\]']],\n",
              "        processEscapes: true,\n",
              "        skipTags: ['script', 'noscript', 'style', 'textarea', 'pre'],\n",
              "        ignoreClass: \".*\",\n",
              "        processClass: \"math\"\n",
              "    }\n",
              "};\n",
              "setTimeout(function () {\n",
              "    var script = document.createElement('script');\n",
              "    script.type = 'text/javascript';\n",
              "    script.src = 'https://cdnjs.cloudflare.com/ajax/libs/mathjax/2.7.7/MathJax.js?config=TeX-AMS_HTML';\n",
              "    document.head.appendChild(script);\n",
              "}, 300);\n",
              "</script>\n"
            ],
            "text/plain": [
              "<IPython.core.display.HTML object>"
            ]
          },
          "metadata": {},
          "output_type": "display_data"
        },
        {
          "data": {
            "text/plain": [
              "TestResult(\"validmind.stats.NormalityTests\", doc, description, params, tables)"
            ]
          },
          "execution_count": 31,
          "metadata": {},
          "output_type": "execute_result"
        }
      ],
      "source": [
        "# Comprehensive normality testing\n",
        "vm.tests.run_test(\n",
        "    \"validmind.stats.NormalityTests\",\n",
        "    inputs={\"dataset\": vm_train_ds},\n",
        "    params={\n",
        "        \"tests\": [\"shapiro\", \"anderson\", \"kstest\"],  # Multiple tests\n",
        "        \"alpha\": 0.05,\n",
        "        \"columns\": [\"CreditScore\", \"Balance\", \"Age\"]  # Focus on key features\n",
        "    }\n",
        ")\n"
      ]
    },
    {
      "cell_type": "markdown",
      "metadata": {
        "vscode": {
          "languageId": "raw"
        }
      },
      "source": [
        "## 4.  Outlier Detection\n",
        "\n",
        "Identifies outliers using various statistical methods including IQR, Z-score, and Isolation Forest.\n"
      ]
    },
    {
      "cell_type": "code",
      "execution_count": 32,
      "metadata": {},
      "outputs": [
        {
          "data": {
            "application/vnd.jupyter.widget-view+json": {
              "model_id": "8d855d772ae14544ac9b5334eeee8a09",
              "version_major": 2,
              "version_minor": 0
            },
            "text/plain": [
              "VBox(children=(HTML(value='<h2>Outlier Detection </h2>\\n\\n<p><strong>Outlier Detection</strong> is designed to…"
            ]
          },
          "metadata": {},
          "output_type": "display_data"
        },
        {
          "data": {
            "text/html": [
              "\n",
              "<script defer type=\"module\">\n",
              "import hljs from 'https://unpkg.com/@highlightjs/cdn-assets@11.9.0/es/highlight.min.js';\n",
              "import python from 'https://cdnjs.cloudflare.com/ajax/libs/highlight.js/11.9.0/es/languages/python.min.js';\n",
              "\n",
              "hljs.registerLanguage('python', python);\n",
              "hljs.highlightAll();\n",
              "</script>\n"
            ],
            "text/plain": [
              "<IPython.core.display.HTML object>"
            ]
          },
          "metadata": {},
          "output_type": "display_data"
        },
        {
          "data": {
            "text/html": [
              "\n",
              "<script>\n",
              "window.MathJax = {\n",
              "    tex2jax: {\n",
              "        inlineMath: [['$', '$'], ['\\\\(', '\\\\)']],\n",
              "        displayMath: [['$$', '$$'], ['\\[', '\\]']],\n",
              "        processEscapes: true,\n",
              "        skipTags: ['script', 'noscript', 'style', 'textarea', 'pre'],\n",
              "        ignoreClass: \".*\",\n",
              "        processClass: \"math\"\n",
              "    }\n",
              "};\n",
              "setTimeout(function () {\n",
              "    var script = document.createElement('script');\n",
              "    script.type = 'text/javascript';\n",
              "    script.src = 'https://cdnjs.cloudflare.com/ajax/libs/mathjax/2.7.7/MathJax.js?config=TeX-AMS_HTML';\n",
              "    document.head.appendChild(script);\n",
              "}, 300);\n",
              "</script>\n"
            ],
            "text/plain": [
              "<IPython.core.display.HTML object>"
            ]
          },
          "metadata": {},
          "output_type": "display_data"
        },
        {
          "data": {
            "text/plain": [
              "TestResult(\"validmind.stats.OutlierDetection\", doc, description, params, tables)"
            ]
          },
          "execution_count": 32,
          "metadata": {},
          "output_type": "execute_result"
        }
      ],
      "source": [
        "# Comprehensive outlier detection with multiple methods\n",
        "vm.tests.run_test(\n",
        "    \"validmind.stats.OutlierDetection\",\n",
        "    inputs={\"dataset\": vm_train_ds},\n",
        "    params={\n",
        "        \"methods\": [\"iqr\", \"zscore\", \"isolation_forest\"],\n",
        "        \"iqr_threshold\": 1.5,\n",
        "        \"zscore_threshold\": 3.0,\n",
        "        \"contamination\": 0.1,\n",
        "        \"columns\": [\"CreditScore\", \"Balance\", \"EstimatedSalary\"]\n",
        "    }\n",
        ")\n"
      ]
    },
    {
      "cell_type": "markdown",
      "metadata": {
        "vscode": {
          "languageId": "raw"
        }
      },
      "source": [
        "# Part 3: Complete EDA Workflow Example\n",
        "\n",
        "Let's demonstrate a complete exploratory data analysis workflow using all the tests together:\n"
      ]
    },
    {
      "cell_type": "code",
      "execution_count": 34,
      "metadata": {},
      "outputs": [
        {
          "name": "stdout",
          "output_type": "stream",
          "text": [
            "🔍 Complete Exploratory Data Analysis Workflow\n",
            "==================================================\n",
            "\n",
            "1. Descriptive Statistics:\n"
          ]
        },
        {
          "data": {
            "application/vnd.jupyter.widget-view+json": {
              "model_id": "f3ee8c0e72ed40ebb66639a89fd87164",
              "version_major": 2,
              "version_minor": 0
            },
            "text/plain": [
              "VBox(children=(HTML(value='<h2>Descriptive Stats </h2>\\n\\n<p><strong>Descriptive Stats</strong> is designed to…"
            ]
          },
          "metadata": {},
          "output_type": "display_data"
        },
        {
          "data": {
            "text/html": [
              "\n",
              "<script defer type=\"module\">\n",
              "import hljs from 'https://unpkg.com/@highlightjs/cdn-assets@11.9.0/es/highlight.min.js';\n",
              "import python from 'https://cdnjs.cloudflare.com/ajax/libs/highlight.js/11.9.0/es/languages/python.min.js';\n",
              "\n",
              "hljs.registerLanguage('python', python);\n",
              "hljs.highlightAll();\n",
              "</script>\n"
            ],
            "text/plain": [
              "<IPython.core.display.HTML object>"
            ]
          },
          "metadata": {},
          "output_type": "display_data"
        },
        {
          "data": {
            "text/html": [
              "\n",
              "<script>\n",
              "window.MathJax = {\n",
              "    tex2jax: {\n",
              "        inlineMath: [['$', '$'], ['\\\\(', '\\\\)']],\n",
              "        displayMath: [['$$', '$$'], ['\\[', '\\]']],\n",
              "        processEscapes: true,\n",
              "        skipTags: ['script', 'noscript', 'style', 'textarea', 'pre'],\n",
              "        ignoreClass: \".*\",\n",
              "        processClass: \"math\"\n",
              "    }\n",
              "};\n",
              "setTimeout(function () {\n",
              "    var script = document.createElement('script');\n",
              "    script.type = 'text/javascript';\n",
              "    script.src = 'https://cdnjs.cloudflare.com/ajax/libs/mathjax/2.7.7/MathJax.js?config=TeX-AMS_HTML';\n",
              "    document.head.appendChild(script);\n",
              "}, 300);\n",
              "</script>\n"
            ],
            "text/plain": [
              "<IPython.core.display.HTML object>"
            ]
          },
          "metadata": {},
          "output_type": "display_data"
        },
        {
          "name": "stdout",
          "output_type": "stream",
          "text": [
            "\n",
            "2. Distribution Analysis:\n"
          ]
        },
        {
          "data": {
            "application/vnd.jupyter.widget-view+json": {
              "model_id": "1e184278f7fd41acb0740620a94ffcf4",
              "version_major": 2,
              "version_minor": 0
            },
            "text/plain": [
              "VBox(children=(HTML(value='<h2>Histogram Plot </h2>\\n\\n<p><strong>Histogram Plot</strong> is designed to provi…"
            ]
          },
          "metadata": {},
          "output_type": "display_data"
        },
        {
          "data": {
            "text/html": [
              "\n",
              "<script defer type=\"module\">\n",
              "import hljs from 'https://unpkg.com/@highlightjs/cdn-assets@11.9.0/es/highlight.min.js';\n",
              "import python from 'https://cdnjs.cloudflare.com/ajax/libs/highlight.js/11.9.0/es/languages/python.min.js';\n",
              "\n",
              "hljs.registerLanguage('python', python);\n",
              "hljs.highlightAll();\n",
              "</script>\n"
            ],
            "text/plain": [
              "<IPython.core.display.HTML object>"
            ]
          },
          "metadata": {},
          "output_type": "display_data"
        },
        {
          "data": {
            "text/html": [
              "\n",
              "<script>\n",
              "window.MathJax = {\n",
              "    tex2jax: {\n",
              "        inlineMath: [['$', '$'], ['\\\\(', '\\\\)']],\n",
              "        displayMath: [['$$', '$$'], ['\\[', '\\]']],\n",
              "        processEscapes: true,\n",
              "        skipTags: ['script', 'noscript', 'style', 'textarea', 'pre'],\n",
              "        ignoreClass: \".*\",\n",
              "        processClass: \"math\"\n",
              "    }\n",
              "};\n",
              "setTimeout(function () {\n",
              "    var script = document.createElement('script');\n",
              "    script.type = 'text/javascript';\n",
              "    script.src = 'https://cdnjs.cloudflare.com/ajax/libs/mathjax/2.7.7/MathJax.js?config=TeX-AMS_HTML';\n",
              "    document.head.appendChild(script);\n",
              "}, 300);\n",
              "</script>\n"
            ],
            "text/plain": [
              "<IPython.core.display.HTML object>"
            ]
          },
          "metadata": {},
          "output_type": "display_data"
        },
        {
          "name": "stdout",
          "output_type": "stream",
          "text": [
            "\n",
            "3. Correlation Analysis:\n"
          ]
        },
        {
          "data": {
            "application/vnd.jupyter.widget-view+json": {
              "model_id": "b7068bb19c33465c8e01c6579933fa56",
              "version_major": 2,
              "version_minor": 0
            },
            "text/plain": [
              "VBox(children=(HTML(value=\"<h2>Correlation Heatmap </h2>\\n\\n<p>&lt;ResponseFormat&gt;\\n**Correlation Heatmap**…"
            ]
          },
          "metadata": {},
          "output_type": "display_data"
        },
        {
          "data": {
            "text/html": [
              "\n",
              "<script defer type=\"module\">\n",
              "import hljs from 'https://unpkg.com/@highlightjs/cdn-assets@11.9.0/es/highlight.min.js';\n",
              "import python from 'https://cdnjs.cloudflare.com/ajax/libs/highlight.js/11.9.0/es/languages/python.min.js';\n",
              "\n",
              "hljs.registerLanguage('python', python);\n",
              "hljs.highlightAll();\n",
              "</script>\n"
            ],
            "text/plain": [
              "<IPython.core.display.HTML object>"
            ]
          },
          "metadata": {},
          "output_type": "display_data"
        },
        {
          "data": {
            "text/html": [
              "\n",
              "<script>\n",
              "window.MathJax = {\n",
              "    tex2jax: {\n",
              "        inlineMath: [['$', '$'], ['\\\\(', '\\\\)']],\n",
              "        displayMath: [['$$', '$$'], ['\\[', '\\]']],\n",
              "        processEscapes: true,\n",
              "        skipTags: ['script', 'noscript', 'style', 'textarea', 'pre'],\n",
              "        ignoreClass: \".*\",\n",
              "        processClass: \"math\"\n",
              "    }\n",
              "};\n",
              "setTimeout(function () {\n",
              "    var script = document.createElement('script');\n",
              "    script.type = 'text/javascript';\n",
              "    script.src = 'https://cdnjs.cloudflare.com/ajax/libs/mathjax/2.7.7/MathJax.js?config=TeX-AMS_HTML';\n",
              "    document.head.appendChild(script);\n",
              "}, 300);\n",
              "</script>\n"
            ],
            "text/plain": [
              "<IPython.core.display.HTML object>"
            ]
          },
          "metadata": {},
          "output_type": "display_data"
        },
        {
          "name": "stdout",
          "output_type": "stream",
          "text": [
            "\n",
            "4. Outlier Detection:\n"
          ]
        },
        {
          "data": {
            "application/vnd.jupyter.widget-view+json": {
              "model_id": "cfe88ca10352437eac5706596b048112",
              "version_major": 2,
              "version_minor": 0
            },
            "text/plain": [
              "VBox(children=(HTML(value='<h2>Outlier Detection </h2>\\n\\n<p><strong>Outlier Detection</strong> is designed to…"
            ]
          },
          "metadata": {},
          "output_type": "display_data"
        },
        {
          "data": {
            "text/html": [
              "\n",
              "<script defer type=\"module\">\n",
              "import hljs from 'https://unpkg.com/@highlightjs/cdn-assets@11.9.0/es/highlight.min.js';\n",
              "import python from 'https://cdnjs.cloudflare.com/ajax/libs/highlight.js/11.9.0/es/languages/python.min.js';\n",
              "\n",
              "hljs.registerLanguage('python', python);\n",
              "hljs.highlightAll();\n",
              "</script>\n"
            ],
            "text/plain": [
              "<IPython.core.display.HTML object>"
            ]
          },
          "metadata": {},
          "output_type": "display_data"
        },
        {
          "data": {
            "text/html": [
              "\n",
              "<script>\n",
              "window.MathJax = {\n",
              "    tex2jax: {\n",
              "        inlineMath: [['$', '$'], ['\\\\(', '\\\\)']],\n",
              "        displayMath: [['$$', '$$'], ['\\[', '\\]']],\n",
              "        processEscapes: true,\n",
              "        skipTags: ['script', 'noscript', 'style', 'textarea', 'pre'],\n",
              "        ignoreClass: \".*\",\n",
              "        processClass: \"math\"\n",
              "    }\n",
              "};\n",
              "setTimeout(function () {\n",
              "    var script = document.createElement('script');\n",
              "    script.type = 'text/javascript';\n",
              "    script.src = 'https://cdnjs.cloudflare.com/ajax/libs/mathjax/2.7.7/MathJax.js?config=TeX-AMS_HTML';\n",
              "    document.head.appendChild(script);\n",
              "}, 300);\n",
              "</script>\n"
            ],
            "text/plain": [
              "<IPython.core.display.HTML object>"
            ]
          },
          "metadata": {},
          "output_type": "display_data"
        },
        {
          "name": "stdout",
          "output_type": "stream",
          "text": [
            "\n",
            "✅ EDA Complete! Check the visualizations and tables above for insights.\n"
          ]
        }
      ],
      "source": [
        "# Example: Complete EDA workflow using all tests\n",
        "print(\"🔍 Complete Exploratory Data Analysis Workflow\")\n",
        "print(\"=\" * 50)\n",
        "\n",
        "# 1. Start with descriptive statistics\n",
        "print(\"\\n1. Descriptive Statistics:\")\n",
        "desc_stats = vm.tests.run_test(\n",
        "    \"validmind.stats.DescriptiveStats\",\n",
        "    inputs={\"dataset\": vm_train_ds},\n",
        "    params={\"include_advanced\": True}\n",
        ")\n",
        "\n",
        "print(\"\\n2. Distribution Analysis:\")\n",
        "# 2. Visualize distributions\n",
        "hist_plot = vm.tests.run_test(\n",
        "    \"validmind.plots.HistogramPlot\",\n",
        "    inputs={\"dataset\": vm_train_ds},\n",
        "    params={\"show_kde\": True, \"n_cols\": 3}\n",
        ")\n",
        "\n",
        "print(\"\\n3. Correlation Analysis:\")\n",
        "# 3. Check correlations\n",
        "corr_heatmap = vm.tests.run_test(\n",
        "    \"validmind.plots.CorrelationHeatmap\",\n",
        "    inputs={\"dataset\": vm_train_ds}\n",
        ")\n",
        "\n",
        "print(\"\\n4. Outlier Detection:\")\n",
        "# 4. Detect outliers\n",
        "outliers = vm.tests.run_test(\n",
        "    \"validmind.stats.OutlierDetection\",\n",
        "    inputs={\"dataset\": vm_train_ds},\n",
        "    params={\"methods\": [\"iqr\", \"zscore\"]}\n",
        ")\n",
        "\n",
        "print(\"\\n✅ EDA Complete! Check the visualizations and tables above for insights.\")\n"
      ]
    },
    {
      "cell_type": "markdown",
      "metadata": {},
      "source": [
        "# Comprehensive Guide: ValidMind Plots and Statistics Tests\n",
        "\n",
        "This notebook demonstrates all the available tests from the `validmind.plots` and `validmind.stats` modules. These generalized tests provide powerful visualization and statistical analysis capabilities for any dataset.\n",
        "\n",
        "## What You'll Learn\n",
        "\n",
        "In this notebook, we'll explore:\n",
        "\n",
        "1. **Plotting Tests**: Visual analysis tools for data exploration\n",
        "   - GeneralCorrelationHeatmap\n",
        "   - GeneralHistogramPlot\n",
        "   - GeneralBoxPlot\n",
        "   - GeneralViolinPlot\n",
        "   - GeneralScatterMatrix\n",
        "\n",
        "2. **Statistical Tests**: Comprehensive statistical analysis tools\n",
        "   - GeneralDescriptiveStats\n",
        "   - GeneralCorrelationAnalysis\n",
        "   - GeneralNormalityTests\n",
        "   - GeneralOutlierDetection\n",
        "\n",
        "Each test is highly configurable and can be adapted to different datasets and use cases.\n"
      ]
    },
    {
      "cell_type": "markdown",
      "metadata": {
        "vscode": {
          "languageId": "raw"
        }
      },
      "source": [
        "# Conclusion\n",
        "\n",
        "This notebook demonstrated all the plotting and statistical tests available in ValidMind:\n",
        "\n",
        "## Plotting Tests Covered:\n",
        "✅ **GeneralCorrelationHeatmap** - Interactive correlation matrices  \n",
        "✅ **GeneralHistogramPlot** - Distribution analysis with KDE  \n",
        "✅ **GeneralBoxPlot** - Outlier detection and group comparisons  \n",
        "✅ **GeneralViolinPlot** - Distribution shape analysis  \n",
        "✅ **GeneralScatterMatrix** - Pairwise relationship exploration  \n",
        "\n",
        "## Statistical Tests Covered:\n",
        "✅ **GeneralDescriptiveStats** - Comprehensive statistical profiling  \n",
        "✅ **GeneralCorrelationAnalysis** - Formal correlation testing  \n",
        "✅ **GeneralNormalityTests** - Distribution assumption checking  \n",
        "✅ **GeneralOutlierDetection** - Multi-method outlier identification  \n",
        "\n",
        "## Key Benefits:\n",
        "- **Highly Customizable**: All tests offer extensive parameter options\n",
        "- **Interactive Visualizations**: Plotly-based plots with zoom, pan, hover\n",
        "- **Statistical Rigor**: Formal testing with significance levels\n",
        "- **Flexible Input**: Works with any ValidMind dataset\n",
        "- **Comprehensive Output**: Tables, plots, and statistical summaries\n",
        "\n",
        "## Best Practices:\n",
        "\n",
        "### When to Use Each Test:\n",
        "\n",
        "**Plotting Tests:**\n",
        "- **GeneralCorrelationHeatmap**: Initial data exploration, multicollinearity detection\n",
        "- **GeneralHistogramPlot**: Understanding feature distributions, identifying skewness\n",
        "- **GeneralBoxPlot**: Outlier detection, comparing groups\n",
        "- **GeneralViolinPlot**: Detailed distribution analysis, especially for grouped data\n",
        "- **GeneralScatterMatrix**: Pairwise relationship exploration\n",
        "\n",
        "**Statistical Tests:**\n",
        "- **GeneralDescriptiveStats**: Comprehensive data profiling, baseline statistics\n",
        "- **GeneralCorrelationAnalysis**: Formal correlation testing with significance\n",
        "- **GeneralNormalityTests**: Model assumption checking\n",
        "- **GeneralOutlierDetection**: Data quality assessment, preprocessing decisions\n",
        "\n",
        "## Next Steps:\n",
        "- Integrate these tests into your model documentation templates\n",
        "- Customize parameters based on your specific data characteristics\n",
        "- Use results to inform preprocessing and modeling decisions\n",
        "- Combine with ValidMind's model validation tests for complete analysis\n",
        "\n",
        "These tests provide a solid foundation for exploratory data analysis, data quality assessment, and statistical validation in any data science workflow.\n"
      ]
    }
  ],
  "metadata": {
    "kernelspec": {
      "display_name": "ValidMind Library",
      "language": "python",
      "name": "validmind"
    },
    "language_info": {
      "codemirror_mode": {
        "name": "ipython",
        "version": 3
      },
      "file_extension": ".py",
      "mimetype": "text/x-python",
      "name": "python",
      "nbconvert_exporter": "python",
      "pygments_lexer": "ipython3",
      "version": "3.11.9"
    }
  },
  "nbformat": 4,
  "nbformat_minor": 2
}

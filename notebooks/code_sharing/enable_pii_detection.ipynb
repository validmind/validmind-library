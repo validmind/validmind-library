{
 "cells": [
  {
   "cell_type": "markdown",
   "id": "dd37d6f9",
   "metadata": {},
   "source": [
    "# Enable PII detection in test results"
   ]
  },
  {
   "cell_type": "markdown",
   "id": "d4721b73",
   "metadata": {},
   "source": [
    "Learn how to enable and configure Personally Identifiable Information (PII) detection when generating test results with the ValidMind Library. Choose whether or not to include PII in test descriptions generated, or whether or not to include PII in test results logged to the ValidMind Platform."
   ]
  },
  {
   "cell_type": "markdown",
   "id": "about-intro-85b40b47-34c7-4da4-b0e7-c491341a9f20",
   "metadata": {},
   "source": [
    "## About ValidMind\n",
    "\n",
    "ValidMind is a suite of tools for managing model risk, including risk associated with AI and statistical models. \n",
    "\n",
    "You use the ValidMind Library to automate documentation and validation tests, and then use the ValidMind Platform to collaborate on model documentation. Together, these products simplify model risk management, facilitate compliance with regulations and institutional standards, and enhance collaboration between yourself and model validators."
   ]
  },
  {
   "cell_type": "markdown",
   "id": "about-begin-c86ec11e-4e52-4799-bf11-fea595c2671e",
   "metadata": {},
   "source": [
    "### Before you begin\n",
    "\n",
    "This notebook assumes you have basic familiarity with Python, including an understanding of how functions work. If you are new to Python, you can still run the notebook but we recommend further familiarizing yourself with the language. \n",
    "\n",
    "If you encounter errors due to missing modules in your Python environment, install the modules with `pip install`, and then re-run the notebook. For more help, refer to [Installing Python Modules](https://docs.python.org/3/installing/index.html)."
   ]
  },
  {
   "cell_type": "markdown",
   "id": "about-signup-db4c0a03-ea37-4e81-b417-2e79eed1bc53",
   "metadata": {},
   "source": [
    "### New to ValidMind?\n",
    "\n",
    "If you haven't already seen our documentation on the [ValidMind Library](https://docs.validmind.ai/developer/validmind-library.html), we recommend you begin by exploring the available resources in this section. There, you can learn more about documenting models and running tests, as well as find code samples and our Python Library API reference.\n",
    "\n",
    "<div class=\"alert alert-block alert-info\" style=\"background-color: #B5B5B510; color: black; border: 1px solid #083E44; border-left-width: 5px; box-shadow: 2px 2px 4px rgba(0, 0, 0, 0.2);border-radius: 5px;\"><span style=\"color: #083E44;\"><b>For access to all features available in this notebook, you'll need access to a ValidMind account.</b></span>\n",
    "<br></br>\n",
    "<a href=\"https://docs.validmind.ai/guide/configuration/register-with-validmind.html\" style=\"color: #DE257E;\"><b>Register with ValidMind</b></a></div>"
   ]
  },
  {
   "cell_type": "markdown",
   "id": "about-concepts-fd7b60a6-60a8-420a-8ec2-287874cae377",
   "metadata": {},
   "source": [
    "### Key concepts\n",
    "\n",
    "**Model documentation**: A structured and detailed record pertaining to a model, encompassing key components such as its underlying assumptions, methodologies, data sources, inputs, performance metrics, evaluations, limitations, and intended uses. It serves to ensure transparency, adherence to regulatory requirements, and a clear understanding of potential risks associated with the model’s application.\n",
    "\n",
    "**Documentation template**: Functions as a test suite and lays out the structure of model documentation, segmented into various sections and sub-sections. Documentation templates define the structure of your model documentation, specifying the tests that should be run, and how the results should be displayed.\n",
    "\n",
    "**Tests**: A function contained in the ValidMind Library, designed to run a specific quantitative test on the dataset or model. Tests are the building blocks of ValidMind, used to evaluate and document models and datasets, and can be run individually or as part of a suite defined by your model documentation template.\n",
    "\n",
    "**Metrics**: A subset of tests that do not have thresholds. In the context of this notebook, metrics and tests can be thought of as interchangeable concepts.\n",
    "\n",
    "**Custom metrics**: Custom metrics are functions that you define to evaluate your model or dataset. These functions can be registered with the ValidMind Library to be used in the ValidMind Platform.\n",
    "\n",
    "**Inputs**: Objects to be evaluated and documented in the ValidMind Library. They can be any of the following:\n",
    "\n",
    "  - **model**: A single model that has been initialized in ValidMind with [`vm.init_model()`](https://docs.validmind.ai/validmind/validmind.html#init_model).\n",
    "  - **dataset**: Single dataset that has been initialized in ValidMind with [`vm.init_dataset()`](https://docs.validmind.ai/validmind/validmind.html#init_dataset).\n",
    "  - **models**: A list of ValidMind models - usually this is used when you want to compare multiple models in your custom metric.\n",
    "  - **datasets**: A list of ValidMind datasets - usually this is used when you want to compare multiple datasets in your custom metric. (Learn more: [Run tests with multiple datasets](https://docs.validmind.ai/notebooks/how_to/run_tests_that_require_multiple_datasets.html))\n",
    "\n",
    "**Parameters**: Additional arguments that can be passed when running a ValidMind test, used to pass additional information to a metric, customize its behavior, or provide additional context.\n",
    "\n",
    "**Outputs**: Custom metrics can return elements like tables or plots. Tables may be a list of dictionaries (each representing a row) or a pandas DataFrame. Plots may be matplotlib or plotly figures.\n",
    "\n",
    "**Test suites**: Collections of tests designed to run together to automate and generate model documentation end-to-end for specific use-cases.\n",
    "\n",
    "Example: the [`classifier_full_suite`](https://docs.validmind.ai/validmind/validmind/test_suites/classifier.html#ClassifierFullSuite) test suite runs tests from the [`tabular_dataset`](https://docs.validmind.ai/validmind/validmind/test_suites/tabular_datasets.html) and [`classifier`](https://docs.validmind.ai/validmind/validmind/test_suites/classifier.html) test suites to fully document the data and model sections for binary classification model use-cases."
   ]
  },
  {
   "cell_type": "markdown",
   "id": "33f87f48",
   "metadata": {},
   "source": [
    "## Setting up"
   ]
  },
  {
   "cell_type": "markdown",
   "id": "install-library-f5c5d59c-e356-4f22-a71e-d0c84c269273",
   "metadata": {},
   "source": [
    "### Install the ValidMind Library with PII detection\n",
    "\n",
    "<div class=\"alert alert-block alert-info\" style=\"background-color: #B5B5B510; color: black; border: 1px solid #083E44; border-left-width: 5px; box-shadow: 2px 2px 4px rgba(0, 0, 0, 0.2);border-radius: 5px;\"><span style=\"color: #083E44;\"><b>Recommended Python versions</b></span>\n",
    "<br></br>\n",
    "Python 3.8 <= x <= 3.11</div>\n",
    "\n",
    "To use PII detection powered by [Microsoft Presidio](https://microsoft.github.io/presidio/), install the library with the explicit `[pii-detection]` extra specifier:"
   ]
  },
  {
   "cell_type": "code",
   "execution_count": null,
   "id": "install-python-6511976a-8cb2-423d-bfbf-a6e39cc90e4a",
   "metadata": {},
   "outputs": [],
   "source": [
    "%pip install -q \"validmind[pii-detection]\""
   ]
  },
  {
   "cell_type": "markdown",
   "id": "install-initialize-e13c0197-f742-453c-9422-ebae53ddcf68",
   "metadata": {},
   "source": [
    "### Initialize the ValidMind Library\n",
    "\n",
    "ValidMind generates a unique _code snippet_ for each registered model to connect with your developer environment. You initialize the ValidMind Library with this code snippet, which ensures that your documentation and tests are uploaded to the correct model when you run the notebook."
   ]
  },
  {
   "cell_type": "markdown",
   "id": "install-snippet-dc2c3a8b-a2d8-4632-84f9-bb5c9dd8721c",
   "metadata": {},
   "source": [
    "#### Get your code snippet\n",
    "\n",
    "1. In a browser, [log in to ValidMind](https://docs.validmind.ai/guide/configuration/log-in-to-validmind.html).\n",
    "\n",
    "2. In the left sidebar, navigate to **Inventory** and click **+ Register Model**.\n",
    "\n",
    "3. Enter the model details and click **Continue**. ([Need more help?](https://docs.validmind.ai/guide/model-inventory/register-models-in-inventory.html))\n",
    "\n",
    "4. Go to **Getting Started** and click **Copy snippet to clipboard**.\n",
    "\n",
    "Next, [load your model identifier credentials from an `.env` file](https://docs.validmind.ai/developer/model-documentation/store-credentials-in-env-file.html) or replace the placeholder with your own code snippet:"
   ]
  },
  {
   "cell_type": "code",
   "execution_count": null,
   "id": "install-init-43c8827f-b023-4324-be38-c58c999d4575",
   "metadata": {},
   "outputs": [],
   "source": [
    "# Load your model identifier credentials from an `.env` file\n",
    "\n",
    "%load_ext dotenv\n",
    "%dotenv .env\n",
    "\n",
    "# Or replace with your code snippet\n",
    "\n",
    "import validmind as vm\n",
    "\n",
    "vm.init(\n",
    "    # api_host=\"...\",\n",
    "    # api_key=\"...\",\n",
    "    # api_secret=\"...\",\n",
    "    # model=\"...\",\n",
    ")"
   ]
  },
  {
   "cell_type": "markdown",
   "id": "9296d9c8",
   "metadata": {},
   "source": [
    "## Using PII detection"
   ]
  },
  {
   "cell_type": "markdown",
   "id": "a5cb8d86",
   "metadata": {},
   "source": [
    "### Create a custom test that outputs PII\n",
    "\n",
    "To demonstrate the feature, we'll need a test that outputs PII. First we'll create a custom test that returns:\n",
    "\n",
    "- A description string containing PII (name, email, phone)\n",
    "- A small table containing PII in columns\n",
    "\n",
    "This output mirrors the structure used in other custom test notebooks and will exercise both table and description PII detection paths. However, if structured detection is unavailable, the library falls back to token-level text scans when possible."
   ]
  },
  {
   "cell_type": "code",
   "execution_count": null,
   "id": "6452da1f",
   "metadata": {},
   "outputs": [],
   "source": [
    "import pandas as pd\n",
    "\n",
    "from validmind import test\n",
    "\n",
    "@test(\"pii_demo.PIIDetection\")\n",
    "def pii_custom_test():\n",
    "    \"\"\"A custom test that returns demo PII.\n",
    "    This default test description will display when PII is not sent to the LLM to generate test descriptions based on test result data.\"\"\"\n",
    "    return pd.DataFrame(\n",
    "        {\n",
    "            \"name\": [\"Jane Smith\", \"John Doe\", \"Alice Johnson\"],\n",
    "            \"email\": [\n",
    "                \"jane.smith@bank.example\",\n",
    "                \"john.doe@company.example\",\n",
    "                \"alice.johnson@service.example\",\n",
    "            ],\n",
    "            \"phone\": [\"(212) 555-9876\", \"(415) 555-1234\", \"(646) 555-5678\"],\n",
    "        }\n",
    "    )"
   ]
  },
  {
   "cell_type": "markdown",
   "id": "e210b665",
   "metadata": {},
   "source": [
    "<div class=\"alert alert-block alert-info\" style=\"background-color: #B5B5B510; color: black; border: 1px solid #083E44; border-left-width: 5px; box-shadow: 2px 2px 4px rgba(0, 0, 0, 0.2);border-radius: 5px;\"><span style=\"color: #083E44;\"><b>Want to learn more about custom tests?</b></span>\n",
    "<br></br>\n",
    "Check out our extended introduction to custom tests — <a href=\"https://docs.validmind.ai/notebooks/code_samples/custom_tests/implement_custom_tests.html\" style=\"color: #DE257E;\"><b>Implement custom tests</b></a></div>"
   ]
  },
  {
   "cell_type": "markdown",
   "id": "f3e47f7a",
   "metadata": {},
   "source": [
    "### Run test under different PII detection modes\n",
    "\n",
    "Next, let's import [the `run_test` function](https://docs.validmind.ai/validmind/validmind/tests.html#run_test) provided by the `validmind.tests` module to run our custom test via a function called `run_pii_test()` that catches exceptions to observe blocking behavior when PII is present:"
   ]
  },
  {
   "cell_type": "code",
   "execution_count": null,
   "id": "ef7c2b50",
   "metadata": {},
   "outputs": [],
   "source": [
    "import os\n",
    "from validmind.tests import run_test\n",
    "\n",
    "# Run test and tag result with unique `result_id`\n",
    "def run_pii_test(result_id=\"\"):\n",
    "    try:\n",
    "        test_name = f\"pii_demo.PIIDetection:{result_id}\"\n",
    "        result = run_test(test_name)\n",
    "\n",
    "        # Check if the test description was generated by LLM\n",
    "        if not result._was_description_generated:\n",
    "            print(\"PII detected: LLM-generated test description skipped\")\n",
    "        else:\n",
    "            print(\"No PII detected or detection disabled: Test description generated by LLM\")\n",
    "\n",
    "        # Try logging test results to the ValidMind Platform\n",
    "        result.log()\n",
    "        print(\"No PII detected or detection disabled: Test results logged to the ValidMind Platform\")\n",
    "    except Exception as e:\n",
    "        print(\"PII detected: Test results not logged to the ValidMind Platform\")"
   ]
  },
  {
   "cell_type": "markdown",
   "id": "e349b5f5",
   "metadata": {},
   "source": [
    "We'll then switch the `VALIDMIND_PII_DETECTION` environment variable across modes in the below examples.\n",
    "\n",
    "<div class=\"alert alert-block alert-info\" style=\"background-color: #B5B5B510; color: black; border: 1px solid #083E44; border-left-width: 5px; box-shadow: 2px 2px 4px rgba(0, 0, 0, 0.2);border-radius: 5px;\"><span style=\"color: #083E44;\"><b>Note that since we are running a custom test that does not exist in your model's default documentation template, we'll receive output indicating that a test-driven block doesn't currently exist in your model's documentation for that particular test ID.</b></span>\n",
    "<br></br>\n",
    "That's expected, as when we run custom tests the results logged need to be manually added to your documentation within the ValidMind Platform or added to your documentation template.</div>"
   ]
  },
  {
   "cell_type": "markdown",
   "id": "b39d6c1e",
   "metadata": {},
   "source": [
    "#### disabled\n",
    "\n",
    "When detection is set to `disabled`, tests run and generate test descriptions. Logging tests with [`.log()`](https://docs.validmind.ai/validmind/validmind/vm_models.html#TestResult.log) will also send test descriptions and test results to the ValidMind Platform as usual:"
   ]
  },
  {
   "cell_type": "code",
   "execution_count": null,
   "id": "0c6cbcba",
   "metadata": {},
   "outputs": [],
   "source": [
    "print(\"\\n=== Mode: disabled ===\")\n",
    "os.environ[\"VALIDMIND_PII_DETECTION\"] = \"disabled\"\n",
    "\n",
    "# Run test and tag result with unique ID `disabled`\n",
    "run_pii_test(\"disabled\")"
   ]
  },
  {
   "cell_type": "markdown",
   "id": "dcaf5605",
   "metadata": {},
   "source": [
    "#### test_results\n",
    "\n",
    "When detection is set for `test_results`, tests run and generate test descriptions for review in your environment, but logging tests will not send descriptions or test results to the ValidMind Platform:"
   ]
  },
  {
   "cell_type": "code",
   "execution_count": null,
   "id": "06c3f4f9",
   "metadata": {},
   "outputs": [],
   "source": [
    "print(\"\\n=== Mode: test_results ===\")\n",
    "os.environ[\"VALIDMIND_PII_DETECTION\"] = \"test_results\"\n",
    "\n",
    "# Run test and tag result with unique ID `results_blocked`\n",
    "run_pii_test(\"results_blocked\")"
   ]
  },
  {
   "cell_type": "markdown",
   "id": "808f95fb",
   "metadata": {},
   "source": [
    "#### test_descriptions\n",
    "\n",
    "When detection is set for `test_descriptions`, tests run but will not generate test descriptions, and logging tests will not send descriptions but will send test results to the ValidMind Platform:"
   ]
  },
  {
   "cell_type": "code",
   "execution_count": null,
   "id": "46636a1c",
   "metadata": {},
   "outputs": [],
   "source": [
    "print(\"\\n=== Mode: test_descriptions ===\")\n",
    "os.environ[\"VALIDMIND_PII_DETECTION\"] = \"test_descriptions\"\n",
    "\n",
    "# Run test and tag result with unique ID `desc_blocked`\n",
    "run_pii_test(\"desc_blocked\")"
   ]
  },
  {
   "cell_type": "markdown",
   "id": "6121b341",
   "metadata": {},
   "source": [
    "#### all\n",
    "\n",
    "When detection is set to `all`, tests run will not generate test descriptions or log test results to the ValidMind Platform."
   ]
  },
  {
   "cell_type": "code",
   "execution_count": null,
   "id": "cb627f9a",
   "metadata": {},
   "outputs": [],
   "source": [
    "print(\"\\n=== Mode: all ===\")\n",
    "os.environ[\"VALIDMIND_PII_DETECTION\"] = \"all\"\n",
    "\n",
    "# Run test and tag result with unique ID `all_blocked`\n",
    "run_pii_test(\"all_blocked\")"
   ]
  },
  {
   "cell_type": "markdown",
   "id": "284e69e5",
   "metadata": {},
   "source": [
    "### Override detection\n",
    "\n",
    "You can override blocking by passing `unsafe=True` to `result.log(unsafe=True)`, but this is not recommended outside controlled workflows.\n",
    "\n",
    "To demonstrate, let's rerun our custom test with some override scenarios. First, let's rerun our custom test with detection set to `all`, which will send the test results but not the test descriptions to the ValidMind Platform:"
   ]
  },
  {
   "cell_type": "code",
   "execution_count": null,
   "id": "c8dac20b",
   "metadata": {},
   "outputs": [],
   "source": [
    "print(\"\\n=== Mode: all & unsafe=True ===\")\n",
    "os.environ[\"VALIDMIND_PII_DETECTION\"] = \"all\"\n",
    "\n",
    "# Run test and tag result with unique ID `override_results`\n",
    "try:\n",
    "    result = run_test(\"pii_demo.PIIDetection:override_results\")\n",
    "\n",
    "    # Check if the test description was generated by LLM\n",
    "    if not result._was_description_generated:\n",
    "        print(\"PII detected: LLM-generated test description skipped\")\n",
    "    else:\n",
    "        print(\"No PII detected or detection disabled: Test description generated by LLM\")\n",
    "\n",
    "    # Try logging test results to the ValidMind Platform\n",
    "    result.log(unsafe=True)\n",
    "    print(\"No PII detected, detection disabled, or override set: Test results logged to the ValidMind Platform\")\n",
    "except Exception as e:\n",
    "    print(\"PII detected: Test results not logged to the ValidMind Platform\")"
   ]
  },
  {
   "cell_type": "markdown",
   "id": "b2b4c7ab",
   "metadata": {},
   "source": [
    "To send both the test descriptions and test results via override, set the `VALIDMIND_PII_DETECTION` environment variable to `test_results` while including the override flag:"
   ]
  },
  {
   "cell_type": "code",
   "execution_count": null,
   "id": "3aeef63b",
   "metadata": {},
   "outputs": [],
   "source": [
    "print(\"\\n=== Mode: test_results & unsafe=True ===\")\n",
    "os.environ[\"VALIDMIND_PII_DETECTION\"] = \"test_results\"\n",
    "\n",
    "# Run test and tag result with unique ID `override_both`\n",
    "try:\n",
    "    result = run_test(\"pii_demo.PIIDetection:override_both\")\n",
    "\n",
    "    # Check if the test description was generated by LLM\n",
    "    if not result._was_description_generated:\n",
    "        print(\"PII detected: LLM-generated test description skipped\")\n",
    "    else:\n",
    "        print(\"No PII detected, detection disabled, or override set: Test description generated by LLM\")\n",
    "\n",
    "    # Try logging test results to the ValidMind Platform\n",
    "    result.log(unsafe=True)\n",
    "    print(\"No PII detected, detection disabled, or override set: Test results logged to the ValidMind Platform\")\n",
    "except Exception as e:\n",
    "    print(\"PII detected: Test results not logged to the ValidMind Platform\")"
   ]
  },
  {
   "cell_type": "markdown",
   "id": "9ab973f2",
   "metadata": {},
   "source": [
    "### Review logged test results\n",
    "\n",
    "Now let's take a look at the results that were logged to the ValidMind Platform:\n",
    "\n",
    "1. From the **Inventory** in the ValidMind Platform, go to the model you registered earlier. ([Need more help?](https://docs.validmind.ai/guide/model-inventory/working-with-model-inventory.html))\n",
    "\n",
    "2. In the left sidebar that appears for your model, click **Documentation** under Documents.\n",
    "\n",
    "3. Click on any section heading to expand that section to add a new test-driven block ([Need more help?](https://docs.validmind.ai/developer/model-documentation/work-with-test-results.html)).\n",
    "\n",
    "4. Under TEST-DRIVEN in the sidebar, click **Custom**.\n",
    "\n",
    "5. Confirm that you're able to insert the following logged results:\n",
    "\n",
    "    - `pii_demo.PIIDetection:disabled`\n",
    "    - `pii_demo.PIIDetection:desc_blocked`\n",
    "    - `pii_demo.PIIDetection:override_results`\n",
    "    - `pii_demo.PIIDetection:override_both`"
   ]
  },
  {
   "cell_type": "markdown",
   "id": "53a1a62d",
   "metadata": {},
   "source": [
    "## Troubleshooting\n",
    "\n",
    "- [x] If you see warnings that Presidio or Presidio analyzer is unavailable, ensure you installed extras: `validmind[pii-detection]`.\n",
    "- [x] Ensure your environment is restarted after installing new packages if imports fail."
   ]
  },
  {
   "cell_type": "markdown",
   "id": "next-resources-c5b44493-85c8-491b-8eaa-d1bdfd81bc86",
   "metadata": {},
   "source": [
    "## Learn more\n",
    "\n",
    "We offer many interactive notebooks to help you document models:\n",
    "\n",
    "- [Run tests & test suites](https://docs.validmind.ai/guide/testing-overview.html)\n",
    "- [Code samples](https://docs.validmind.ai/guide/samples-jupyter-notebooks.html)\n",
    "\n",
    "Or, visit our [documentation](https://docs.validmind.ai/) to learn more about ValidMind."
   ]
  }
 ],
 "metadata": {
  "kernelspec": {
   "display_name": "Python 3",
   "language": "python",
   "name": "python3"
  },
  "language_info": {
   "name": "python",
   "version": "3.10"
  }
 },
 "nbformat": 4,
 "nbformat_minor": 5
}

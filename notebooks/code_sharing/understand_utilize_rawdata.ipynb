{
 "cells": [
  {
   "cell_type": "markdown",
   "id": "4f9a3237",
   "metadata": {},
   "source": [
    "# Understand and utilize `RawData` in ValidMind tests\n",
    "\n",
    "Test functions in ValidMind can return a special object called *`RawData`*, which holds intermediate or unprocessed data produced somewhere in the test logic but not returned as part of the test's visible output, such as in tables or figures.\n",
    "\n",
    "This data is useful when running post-processing functions with tests to recompute tabular outputs, redraw figures, or even create new outputs entirely. In this notebook, learn how to access, inspect, and utilize `RawData` from ValidMind tests with a couple of examples."
   ]
  },
  {
   "cell_type": "markdown",
   "id": "7d0ceab4",
   "metadata": {},
   "source": [
    "## Setup"
   ]
  },
  {
   "cell_type": "markdown",
   "id": "install-library-eeed10fa-6015-4d97-bcaa-32098df7f764",
   "metadata": {},
   "source": [
    "### Install and intialize the ValidMind Library\n",
    "\n",
    "First, let's make sure that the ValidMind Library is installed and ready to go:"
   ]
  },
  {
   "cell_type": "code",
   "execution_count": null,
   "id": "install-python-b56f71e6-6faf-4125-bb78-203a240f65b3",
   "metadata": {},
   "outputs": [],
   "source": [
    "%pip install -q validmind\n",
    "import validmind as vm"
   ]
  },
  {
   "cell_type": "markdown",
   "id": "fbaab316",
   "metadata": {},
   "source": [
    "### Initialize the Python environment\n",
    "\n",
    "Next, we'll import the necessary libraries and set up your Python environment for data analysis:"
   ]
  },
  {
   "cell_type": "code",
   "execution_count": null,
   "id": "578e5075",
   "metadata": {},
   "outputs": [],
   "source": [
    "import xgboost as xgb"
   ]
  },
  {
   "cell_type": "markdown",
   "id": "67a2992e",
   "metadata": {},
   "source": [
    "### Load the sample dataset\n",
    "\n",
    "Then, we'll import a sample ValidMind dataset:"
   ]
  },
  {
   "cell_type": "code",
   "execution_count": null,
   "id": "dc19d4f8",
   "metadata": {},
   "outputs": [],
   "source": [
    "from validmind.datasets.classification import customer_churn\n",
    "raw_df = customer_churn.load_data()"
   ]
  },
  {
   "cell_type": "markdown",
   "id": "b9f27fcb",
   "metadata": {},
   "source": [
    "#### Preprocess the raw dataset\n",
    "\n",
    "We'll also perform a number of operations to get ready for the subsequent steps:\n",
    "\n",
    "\n",
    "- **Preprocess the data:** Splits the DataFrame (`df`) into multiple datasets (`train_df`, `validation_df`, and `test_df`) using `demo_dataset.preprocess` to simplify preprocessing.\n",
    "- **Separate features and targets:** Drops the target column to create feature sets (`x_train`, `x_val`) and target sets (`y_train`, `y_val`).\n",
    "- **Initialize XGBoost classifier:** Creates an `XGBClassifier` object with early stopping rounds set to 10.\n",
    "- **Set evaluation metrics:** Specifies metrics for model evaluation as `error`, `logloss`, and `auc`.\n",
    "- **Fit the model:** Trains the model on `x_train` and `y_train` using the validation set `(x_val, y_val)`. Verbose output is disabled."
   ]
  },
  {
   "cell_type": "code",
   "execution_count": null,
   "id": "8913f5c8",
   "metadata": {},
   "outputs": [],
   "source": [
    "train_df, validation_df, test_df = customer_churn.preprocess(raw_df)\n",
    "\n",
    "x_train = train_df.drop(customer_churn.target_column, axis=1)\n",
    "y_train = train_df[customer_churn.target_column]\n",
    "x_val = validation_df.drop(customer_churn.target_column, axis=1)\n",
    "y_val = validation_df[customer_churn.target_column]\n",
    "\n",
    "model = xgb.XGBClassifier(early_stopping_rounds=10)\n",
    "model.set_params(\n",
    "    eval_metric=[\"error\", \"logloss\", \"auc\"],\n",
    ")\n",
    "model.fit(\n",
    "    x_train,\n",
    "    y_train,\n",
    "    eval_set=[(x_val, y_val)],\n",
    "    verbose=False,\n",
    ")"
   ]
  },
  {
   "cell_type": "markdown",
   "id": "7f904540",
   "metadata": {},
   "source": [
    "### Initialize the ValidMind objects"
   ]
  },
  {
   "cell_type": "markdown",
   "id": "c0e441f4",
   "metadata": {},
   "source": [
    "#### Initialize the datasets\n",
    "\n",
    "Before you can run tests, you'll need to initialize a ValidMind dataset object using the [`init_dataset`](https://docs.validmind.ai/validmind/validmind.html#init_dataset) function from the ValidMind (`vm`) module.\n",
    "\n",
    "We'll include the following arguments:\n",
    "\n",
    "- **`dataset`** — the raw dataset that you want to provide as input to tests\n",
    "- **`input_id`** - a unique identifier that allows tracking what inputs are used when running each individual test\n",
    "- **`target_column`** — a required argument if tests require access to true values. This is the name of the target column in the dataset\n",
    "- **`class_labels`** — an optional value to map predicted classes to class labels\n",
    "\n",
    "With all datasets ready, you can now initialize the raw, training, and test datasets (`raw_df`, `train_df` and `test_df`) created earlier into their own dataset objects using [`vm.init_dataset()`](https://docs.validmind.ai/validmind/validmind.html#init_dataset):"
   ]
  },
  {
   "cell_type": "code",
   "execution_count": null,
   "id": "6c072304",
   "metadata": {},
   "outputs": [],
   "source": [
    "vm_raw_dataset = vm.init_dataset(\n",
    "    dataset=raw_df,\n",
    "    input_id=\"raw_dataset\",\n",
    "    target_column=customer_churn.target_column,\n",
    "    class_labels=customer_churn.class_labels,\n",
    "    __log=False,\n",
    ")\n",
    "\n",
    "vm_train_ds = vm.init_dataset(\n",
    "    dataset=train_df,\n",
    "    input_id=\"train_dataset\",\n",
    "    target_column=customer_churn.target_column,\n",
    "    __log=False,\n",
    ")\n",
    "\n",
    "vm_test_ds = vm.init_dataset(\n",
    "    dataset=test_df,\n",
    "    input_id=\"test_dataset\",\n",
    "    target_column=customer_churn.target_column,\n",
    "    __log=False,\n",
    ")"
   ]
  },
  {
   "cell_type": "markdown",
   "id": "47339b81",
   "metadata": {},
   "source": [
    "#### Initialize a model object\n",
    "\n",
    "Additionally, you'll need to initialize a ValidMind model object (`vm_model`) that can be passed to other functions for analysis and tests on the data. \n",
    "\n",
    "Simply intialize this model object with [`vm.init_model()`](https://docs.validmind.ai/validmind/validmind.html#init_model):"
   ]
  },
  {
   "cell_type": "code",
   "execution_count": null,
   "id": "82d74165",
   "metadata": {},
   "outputs": [],
   "source": [
    "vm_model = vm.init_model(\n",
    "    model,\n",
    "    input_id=\"model\",\n",
    "    __log=False,\n",
    ")"
   ]
  },
  {
   "cell_type": "markdown",
   "id": "8c5a2b7c",
   "metadata": {},
   "source": [
    "#### Assign predictions to the datasets\n",
    "\n",
    "We can now use the `assign_predictions()` method from the Dataset object to link existing predictions to any model.\n",
    "\n",
    "If no prediction values are passed, the method will compute predictions automatically:"
   ]
  },
  {
   "cell_type": "code",
   "execution_count": null,
   "id": "cee7ab79",
   "metadata": {},
   "outputs": [],
   "source": [
    "vm_train_ds.assign_predictions(\n",
    "    model=vm_model,\n",
    ")\n",
    "\n",
    "vm_test_ds.assign_predictions(\n",
    "    model=vm_model,\n",
    ")"
   ]
  },
  {
   "cell_type": "markdown",
   "id": "e5b08241",
   "metadata": {},
   "source": [
    "## Examples\n",
    "\n",
    "Once you're set up, you can then run the following examples:"
   ]
  },
  {
   "cell_type": "markdown",
   "id": "18808f71",
   "metadata": {},
   "source": [
    "### Using `RawData` from the ROC Curve Test"
   ]
  },
  {
   "cell_type": "markdown",
   "id": "ed1b2ff9",
   "metadata": {},
   "source": [
    "### Pearson Correlation Matrix"
   ]
  },
  {
   "cell_type": "markdown",
   "id": "d4006753",
   "metadata": {},
   "source": [
    "### Precision-Recall Curve"
   ]
  },
  {
   "cell_type": "markdown",
   "id": "eaca281f",
   "metadata": {},
   "source": [
    "### Using `RawData` in custom tests"
   ]
  },
  {
   "cell_type": "markdown",
   "id": "c3e825ea",
   "metadata": {},
   "source": [
    "## Conclusion\n",
    "\n",
    "ValidMind's `RawData` feature allows you to customize the output of tests, including custom tests. \n",
    "\n",
    "This notebook has demonstrated how to use the `RawData` feature of ValidMind tests to customize the output of tests. It has also shown how to create custom tests that return `RawData` objects and use them in the same way.\n",
    "\n",
    "This feature is a powerful tool for creating custom tests and post-processing functions that can be used to generate a wide variety of outputs from ValidMind tests."
   ]
  }
 ],
 "metadata": {
  "kernelspec": {
   "display_name": "Python 3",
   "language": "python",
   "name": "python3"
  },
  "language_info": {
   "name": "python",
   "version": "3.10"
  }
 },
 "nbformat": 4,
 "nbformat_minor": 5
}

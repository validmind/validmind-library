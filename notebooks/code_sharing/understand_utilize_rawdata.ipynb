{
 "cells": [
  {
   "cell_type": "markdown",
   "id": "4f9a3237",
   "metadata": {},
   "source": [
    "# Understand and utilize `RawData` in ValidMind tests\n",
    "\n",
    "Test functions in ValidMind can return a special object called *`RawData`*, which holds intermediate or unprocessed data produced somewhere in the test logic but not returned as part of the test's visible output, such as in tables or figures.\n",
    "\n",
    "- The `RawData` feature allows you to customize the output of tests, making it a powerful tool for creating custom tests and post-processing functions.\n",
    "- `RawData` is useful when running post-processing functions with tests to recompute tabular outputs, redraw figures, or even create new outputs entirely.\n",
    "\n",
    "In this notebook, you'll learn how to access, inspect, and utilize `RawData` from ValidMind tests."
   ]
  },
  {
   "cell_type": "markdown",
   "id": "7d0ceab4",
   "metadata": {},
   "source": [
    "## Setup\n",
    "\n",
    "Before we can run our examples, we'll need to set the stage to enable running tests with the ValidMind Library. Since the focus of this notebook is on the `RawData` object, this section will merely summarize the steps instead of going into greater detail. \n",
    "\n",
    "To learn more about running tests with ValidMind: **[Run tests and test suites](https://docs.validmind.ai/developer/model-testing/testing-overview.html)**"
   ]
  },
  {
   "cell_type": "markdown",
   "id": "install-library-eeed10fa-6015-4d97-bcaa-32098df7f764",
   "metadata": {},
   "source": [
    "### Installation and intialization\n",
    "\n",
    "First, let's make sure that the ValidMind Library is installed and ready to go, and our Python environment set up for data analysis:"
   ]
  },
  {
   "cell_type": "code",
   "execution_count": null,
   "id": "install-python-b56f71e6-6faf-4125-bb78-203a240f65b3",
   "metadata": {},
   "outputs": [],
   "source": [
    "# Install the ValidMind Library\n",
    "%pip install -q validmind\n",
    "\n",
    "# Initialize the ValidMind Library\n",
    "import validmind as vm\n",
    "\n",
    "# Import the `xgboost` library with an allias\n",
    "import xgboost as xgb\n"
   ]
  },
  {
   "cell_type": "markdown",
   "id": "67a2992e",
   "metadata": {},
   "source": [
    "### Load the sample dataset\n",
    "\n",
    "Then, we'll import a sample ValidMind dataset and preprocess it:"
   ]
  },
  {
   "cell_type": "code",
   "execution_count": null,
   "id": "dc19d4f8",
   "metadata": {},
   "outputs": [],
   "source": [
    "# Import the `customer_churn` sample dataset\n",
    "from validmind.datasets.classification import customer_churn\n",
    "raw_df = customer_churn.load_data()\n",
    "\n",
    "# Preprocess the raw dataset\n",
    "train_df, validation_df, test_df = customer_churn.preprocess(raw_df)\n",
    "\n",
    "# Separate features and targets\n",
    "x_train = train_df.drop(customer_churn.target_column, axis=1)\n",
    "y_train = train_df[customer_churn.target_column]\n",
    "x_val = validation_df.drop(customer_churn.target_column, axis=1)\n",
    "y_val = validation_df[customer_churn.target_column]\n",
    "\n",
    "# Create an `XGBClassifier` object\n",
    "model = xgb.XGBClassifier(early_stopping_rounds=10)\n",
    "model.set_params(\n",
    "    eval_metric=[\"error\", \"logloss\", \"auc\"],\n",
    ")\n",
    "\n",
    "# Train the model using the validation set\n",
    "model.fit(\n",
    "    x_train,\n",
    "    y_train,\n",
    "    eval_set=[(x_val, y_val)],\n",
    "    verbose=False,\n",
    ")"
   ]
  },
  {
   "cell_type": "markdown",
   "id": "7f904540",
   "metadata": {},
   "source": [
    "### Initialize the ValidMind objects"
   ]
  },
  {
   "cell_type": "markdown",
   "id": "c0e441f4",
   "metadata": {},
   "source": [
    "Before you can run tests, you'll need to initialize a ValidMind dataset object, as well as a ValidMind model object that can be passed to other functions for analysis and tests on the data:\n"
   ]
  },
  {
   "cell_type": "code",
   "execution_count": null,
   "id": "6c072304",
   "metadata": {},
   "outputs": [],
   "source": [
    "# Initialize the dataset object\n",
    "vm_raw_dataset = vm.init_dataset(\n",
    "    dataset=raw_df,\n",
    "    input_id=\"raw_dataset\",\n",
    "    target_column=customer_churn.target_column,\n",
    "    class_labels=customer_churn.class_labels,\n",
    "    __log=False,\n",
    ")\n",
    "\n",
    "# Initialize the datasets into their own dataset objects\n",
    "vm_train_ds = vm.init_dataset(\n",
    "    dataset=train_df,\n",
    "    input_id=\"train_dataset\",\n",
    "    target_column=customer_churn.target_column,\n",
    "    __log=False,\n",
    ")\n",
    "vm_test_ds = vm.init_dataset(\n",
    "    dataset=test_df,\n",
    "    input_id=\"test_dataset\",\n",
    "    target_column=customer_churn.target_column,\n",
    "    __log=False,\n",
    ")\n",
    "\n",
    "# Initialize a model object\n",
    "vm_model = vm.init_model(\n",
    "    model,\n",
    "    input_id=\"model\",\n",
    "    __log=False,\n",
    ")\n",
    "\n",
    "# Assign predictions to the datasets\n",
    "vm_train_ds.assign_predictions(\n",
    "    model=vm_model,\n",
    ")\n",
    "\n",
    "vm_test_ds.assign_predictions(\n",
    "    model=vm_model,\n",
    ")"
   ]
  },
  {
   "cell_type": "markdown",
   "id": "e5b08241",
   "metadata": {},
   "source": [
    "## Examples\n",
    "\n",
    "Once you're set up, you can then run the following examples:"
   ]
  },
  {
   "cell_type": "markdown",
   "id": "18808f71",
   "metadata": {},
   "source": [
    "### Using `RawData` from the ROC Curve Test"
   ]
  },
  {
   "cell_type": "markdown",
   "id": "ed1b2ff9",
   "metadata": {},
   "source": [
    "### Pearson Correlation Matrix"
   ]
  },
  {
   "cell_type": "markdown",
   "id": "d4006753",
   "metadata": {},
   "source": [
    "### Precision-Recall Curve"
   ]
  },
  {
   "cell_type": "markdown",
   "id": "eaca281f",
   "metadata": {},
   "source": [
    "### Using `RawData` in custom tests"
   ]
  }
 ],
 "metadata": {
  "kernelspec": {
   "display_name": "Python 3",
   "language": "python",
   "name": "python3"
  },
  "language_info": {
   "name": "python",
   "version": "3.10"
  }
 },
 "nbformat": 4,
 "nbformat_minor": 5
}

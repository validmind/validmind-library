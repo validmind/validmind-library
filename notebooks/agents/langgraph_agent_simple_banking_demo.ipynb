{
 "cells": [
  {
   "cell_type": "markdown",
   "metadata": {},
   "source": [
    "# Banking AI Agent with LangGraph - Comprehensive Demo\n",
    "\n",
    "This notebook demonstrates how to build and validate a **banking-specific AI agent** using LangGraph integrated with ValidMind for comprehensive testing and monitoring.\n",
    "\n",
    "## What You'll Learn\n",
    "\n",
    "Learn how to create intelligent banking agents that can:\n",
    "- **Automatically select appropriate banking tools** based on user queries using LLM-powered routing\n",
    "- **Handle regulatory compliance** with built-in SR 11-7 and SS 1-23 monitoring\n",
    "- **Manage credit risk assessment** for loan applications and decisions\n",
    "- **Provide financial calculations** for loans, investments, and account analysis\n",
    "- **Monitor fraud and security** with comprehensive risk scoring\n",
    "- **Deliver customer service** through account management and product recommendations\n",
    "\n",
    "## Target Use Cases\n",
    "\n",
    "This agent is designed for:\n",
    "- **Retail Banking**: Personal loans, account management, customer service\n",
    "- **Commercial Banking**: Business loans, large transactions, compliance monitoring\n",
    "- **Risk Management**: Credit analysis, fraud detection, regulatory compliance\n",
    "- **Customer Service**: Account inquiries, product recommendations, transaction support\n",
    "\n",
    "We'll build a comprehensive banking agent system that intelligently routes user requests to five specialized tools, then validate its performance using ValidMind's testing framework.\n"
   ]
  },
  {
   "cell_type": "markdown",
   "metadata": {},
   "source": [
    "## Setup and Imports\n",
    "\n",
    "First, let's import all the necessary libraries for building our banking LangGraph agent system:\n",
    "\n",
    "- **LangChain components** for LLM integration and tool management\n",
    "- **LangGraph** for building stateful, multi-step agent workflows\n",
    "- **ValidMind** for model validation and testing\n",
    "- **Banking tools** for specialized financial services\n",
    "- **Standard libraries** for data handling and environment management\n",
    "\n",
    "The setup includes loading environment variables (like OpenAI API keys) needed for the LLM components to function properly.\n"
   ]
  },
  {
   "cell_type": "code",
   "execution_count": 1,
   "metadata": {},
   "outputs": [
    {
     "name": "stdout",
     "output_type": "stream",
     "text": [
      "\n",
      "\u001b[1m[\u001b[0m\u001b[34;49mnotice\u001b[0m\u001b[1;39;49m]\u001b[0m\u001b[39;49m A new release of pip is available: \u001b[0m\u001b[31;49m25.0.1\u001b[0m\u001b[39;49m -> \u001b[0m\u001b[32;49m25.2\u001b[0m\n",
      "\u001b[1m[\u001b[0m\u001b[34;49mnotice\u001b[0m\u001b[1;39;49m]\u001b[0m\u001b[39;49m To update, run: \u001b[0m\u001b[32;49mpip install --upgrade pip\u001b[0m\n",
      "Note: you may need to restart the kernel to use updated packages.\n"
     ]
    }
   ],
   "source": [
    "%pip install -q langgraph langchain validmind openai"
   ]
  },
  {
   "cell_type": "code",
   "execution_count": 2,
   "metadata": {},
   "outputs": [],
   "source": [
    "from typing import TypedDict, Annotated, Sequence, Optional\n",
    "from langchain.tools import tool\n",
    "from langchain_core.messages import BaseMessage, HumanMessage, SystemMessage\n",
    "from langchain_openai import ChatOpenAI\n",
    "from langgraph.graph import StateGraph, END, START\n",
    "from langgraph.prebuilt import ToolNode\n",
    "from langgraph.checkpoint.memory import MemorySaver\n",
    "from langgraph.graph.message import add_messages\n",
    "import pandas as pd\n",
    "from datetime import datetime\n",
    "\n",
    "# Load environment variables if using .env file\n",
    "try:\n",
    "    from dotenv import load_dotenv\n",
    "    load_dotenv()\n",
    "except ImportError:\n",
    "    print(\"dotenv not installed. Make sure OPENAI_API_KEY is set in your environment.\")\n"
   ]
  },
  {
   "cell_type": "code",
   "execution_count": null,
   "metadata": {},
   "outputs": [
    {
     "name": "stderr",
     "output_type": "stream",
     "text": [
      "2025-09-03 17:29:08,173 - INFO(validmind.api_client): 🎉 Connected to ValidMind!\n",
      "📊 Model: [Demo] Customer Churn Model (ID: clul6y51o02ct1ojrog2d4dus)\n",
      "📁 Document Type: model_documentation\n"
     ]
    }
   ],
   "source": [
    "import validmind as vm\n",
    "\n",
    "vm.init(\n",
    "    api_host=\"...\",\n",
    "    api_key=\"...\",\n",
    "    api_secret=\"...\",\n",
    "    model=\"...\",\n",
    ")"
   ]
  },
  {
   "cell_type": "markdown",
   "metadata": {},
   "source": [
    "## Banking Tools Import\n",
    "\n",
    "Now let's import our specialized banking tools that provide comprehensive financial services:\n",
    "\n",
    "### Tool Overview\n",
    "1. **Credit Risk Analyzer** - Loan applications and credit decisions\n",
    "2. **Compliance Monitor** - SR 11-7, SS 1-23, and KYC/AML compliance\n",
    "3. **Financial Calculator** - Banking calculations and analysis\n",
    "4. **Customer Account Manager** - Account services and customer support\n",
    "5. **Fraud Detection System** - Security and fraud prevention\n"
   ]
  },
  {
   "cell_type": "code",
   "execution_count": 4,
   "metadata": {},
   "outputs": [
    {
     "name": "stdout",
     "output_type": "stream",
     "text": [
      "Banking Tools Successfully Loaded!\n",
      "Available tools: 5\n",
      "\n",
      "Tool Details:\n",
      "   - credit_risk_analyzer: Analyze credit risk for loan applications and cred...\n",
      "   - compliance_monitor: Monitor transactions and operations for regulatory...\n",
      "   - financial_calculator: Perform banking-specific financial calculations.\n",
      "\n",
      "...\n",
      "   - customer_account_manager: Manage customer accounts and provide banking servi...\n",
      "   - fraud_detection_system: Analyze transactions for potential fraud and secur...\n",
      "All banking tools are ready for use!\n",
      "\n",
      "Note: For direct testing, use tool.func() to access underlying functions\n",
      "   Example: credit_risk_analyzer.func(customer_income=75000, ...)\n"
     ]
    }
   ],
   "source": [
    "# Import our specialized banking tools\n",
    "from banking_tools import AVAILABLE_TOOLS\n",
    "\n",
    "print(\"Banking Tools Successfully Loaded!\")\n",
    "print(f\"Available tools: {len(AVAILABLE_TOOLS)}\")\n",
    "print(\"\\nTool Details:\")\n",
    "for i, tool in enumerate(AVAILABLE_TOOLS, 1):\n",
    "    print(f\"   - {tool.name}: {tool.description[:50]}...\")\n",
    "    \n",
    "print(\"All banking tools are ready for use!\")\n",
    "\n",
    "# For testing purposes, we can access the underlying functions using .func\n",
    "# This is useful for debugging and testing individual tools\n",
    "print(\"\\nNote: For direct testing, use tool.func() to access underlying functions\")\n",
    "print(\"   Example: credit_risk_analyzer.func(customer_income=75000, ...)\")\n"
   ]
  },
  {
   "cell_type": "markdown",
   "metadata": {},
   "source": [
    "## Test Banking Tools Individually\n",
    "\n",
    "Let's test each banking tool individually to ensure they're working correctly before integrating them into our agent.\n",
    "\n",
    "**Important Note**: Since these are LangChain tools, we need to use `.func` to access the underlying functions for direct testing.\n"
   ]
  },
  {
   "cell_type": "code",
   "execution_count": 5,
   "metadata": {},
   "outputs": [
    {
     "name": "stdout",
     "output_type": "stream",
     "text": [
      "Testing Individual Banking Tools\n",
      "\n",
      "============================================================\n",
      "\n",
      "TEST 1: Credit Risk Analyzer\n",
      "----------------------------------------\n",
      "CREDIT RISK ANALYSIS REPORT\n",
      "    ================================\n",
      "    \n",
      "    Customer Profile:\n",
      "    - Annual Income: $75,000.00\n",
      "    - Monthly Debt: $1,200.00\n",
      "    - Credit Score: 720\n",
      "    - Loan Request: $50,000.00 (personal)\n",
      "    \n",
      "    Risk Assessment:\n",
      "    - Debt-to-Income Ratio: 19.2%\n",
      "    - Risk Score: 70/75\n",
      "    - Risk Level: LOW RISK\n",
      "    \n",
      "    Recommendation: APPROVE with standard terms\n",
      "    \n",
      "    Additional Notes:\n",
      "    - DTI ratio of 19.2% is excellent\n",
      "    - Credit score of 720 is good\n",
      "    - Loan amount represents 66.7% of annual income\n",
      "    \n",
      "Credit Risk Analyzer test PASSED\n",
      "\n",
      "============================================================\n",
      "\n",
      "TEST 2: Compliance Monitor (SR 11-7)\n",
      "----------------------------------------\n",
      "COMPLIANCE MONITORING REPORT\n",
      "    ================================\n",
      "    \n",
      "    Transaction Details:\n",
      "    - Type: Loan\n",
      "    - Amount: $150,000.00\n",
      "    - Customer Type: Commercial\n",
      "    - Account Age: 90 days\n",
      "    - Framework: Sr 11 7\n",
      "    \n",
      "    Compliance Assessment:\n",
      "    - Risk Level: MEDIUM\n",
      "    - Issues Found: 2\n",
      "    \n",
      "    Compliance Issues:\n",
      "      • Large transaction requires enhanced model validation per SR 11-7\n",
      "  • Commercial transaction requires business model validation\n",
      "    \n",
      "    Required Actions:\n",
      "      • Implement additional model monitoring and validation\n",
      "  • Document business model assumptions and limitations\n",
      "    \n",
      "    Regulatory References:\n",
      "    - SR 11-7: Model Risk Management\n",
      "    - SS 1-23: Model Risk Management\n",
      "    - KYC/AML: Customer Due Diligence\n",
      "    \n",
      "Compliance Monitor test PASSED\n",
      "\n",
      "============================================================\n",
      "\n",
      "TEST 3: Financial Calculator\n",
      "----------------------------------------\n",
      "LOAN PAYMENT CALCULATION\n",
      "        ================================\n",
      "        \n",
      "        Loan Details:\n",
      "        - Principal: $300,000.00\n",
      "        - Annual Rate: 4.50%\n",
      "        - Term: 30 years (360 monthly payments)\n",
      "        - Payment Frequency: Monthly\n",
      "        \n",
      "        Results:\n",
      "        - Monthly Payment: $1,520.06\n",
      "        - Total Payments: $547,220.13\n",
      "        - Total Interest: $247,220.13\n",
      "        - Interest Percentage: 45.2%\n",
      "        \n",
      "Financial Calculator test PASSED\n",
      "\n",
      "All individual tool tests completed!\n",
      "\n",
      "Note: These tools are now ready for the LangGraph agent to use automatically!\n"
     ]
    }
   ],
   "source": [
    "print(\"Testing Individual Banking Tools\\n\")\n",
    "print(\"=\" * 60)\n",
    "\n",
    "# Test 1: Credit Risk Analyzer\n",
    "print(\"\\nTEST 1: Credit Risk Analyzer\")\n",
    "print(\"-\" * 40)\n",
    "try:\n",
    "    # Access the underlying function using .func\n",
    "    credit_result = AVAILABLE_TOOLS[0].func(\n",
    "        customer_income=75000,\n",
    "        customer_debt=1200,\n",
    "        credit_score=720,\n",
    "        loan_amount=50000,\n",
    "        loan_type=\"personal\"\n",
    "    )\n",
    "    print(credit_result)\n",
    "    print(\"Credit Risk Analyzer test PASSED\")\n",
    "except Exception as e:\n",
    "    print(f\"Credit Risk Analyzer test FAILED: {e}\")\n",
    "\n",
    "print(\"\\n\" + \"=\" * 60)\n",
    "\n",
    "# Test 2: Compliance Monitor\n",
    "print(\"\\nTEST 2: Compliance Monitor (SR 11-7)\")\n",
    "print(\"-\" * 40)\n",
    "try:\n",
    "    compliance_result = AVAILABLE_TOOLS[1].func(\n",
    "        transaction_type=\"loan\",\n",
    "        transaction_amount=150000,\n",
    "        customer_type=\"commercial\",\n",
    "        account_age_days=90,\n",
    "        compliance_framework=\"SR_11_7\"\n",
    "    )\n",
    "    print(compliance_result)\n",
    "    print(\"Compliance Monitor test PASSED\")\n",
    "except Exception as e:\n",
    "    print(f\"Compliance Monitor test FAILED: {e}\")\n",
    "\n",
    "print(\"\\n\" + \"=\" * 60)\n",
    "\n",
    "# Test 3: Financial Calculator\n",
    "print(\"\\nTEST 3: Financial Calculator\")\n",
    "print(\"-\" * 40)\n",
    "try:\n",
    "    calc_result = AVAILABLE_TOOLS[2].func(\n",
    "        calculation_type=\"loan_payment\",\n",
    "        principal=300000,\n",
    "        rate=4.5,\n",
    "        term=30,\n",
    "        payment_frequency=\"monthly\"\n",
    "    )\n",
    "    print(calc_result)\n",
    "    print(\"Financial Calculator test PASSED\")\n",
    "except Exception as e:\n",
    "    print(f\"Financial Calculator test FAILED: {e}\")\n",
    "\n",
    "print(\"\\nAll individual tool tests completed!\")\n",
    "print(\"\\nNote: These tools are now ready for the LangGraph agent to use automatically!\")\n"
   ]
  },
  {
   "cell_type": "markdown",
   "metadata": {},
   "source": [
    "## Complete LangGraph Banking Agent\n",
    "\n",
    "Now we'll create our intelligent banking agent with LangGraph that can automatically select and use the appropriate banking tools based on user requests.\n"
   ]
  },
  {
   "cell_type": "code",
   "execution_count": null,
   "metadata": {},
   "outputs": [
    {
     "name": "stdout",
     "output_type": "stream",
     "text": [
      "Banking LangGraph Agent Created Successfully!\n",
      "\n",
      "Features:\n",
      "   - Intelligent banking tool selection\n",
      "   - Comprehensive banking system prompt\n",
      "   - Streamlined workflow: LLM → Tools → Response\n",
      "   - Automatic tool parameter extraction\n",
      "   - Professional banking assistance\n"
     ]
    }
   ],
   "source": [
    "# Banking Agent State Definition\n",
    "class BankingAgentState(TypedDict):\n",
    "    messages: Annotated[Sequence[BaseMessage], add_messages]\n",
    "    user_input: str\n",
    "    session_id: str\n",
    "    context: dict\n",
    "\n",
    "def create_banking_langgraph_agent():\n",
    "    \"\"\"Create a comprehensive LangGraph banking agent with intelligent tool selection.\"\"\"\n",
    "    \n",
    "    # Initialize the main LLM for banking responses\n",
    "    main_llm = ChatOpenAI(model=\"gpt-4o-mini\", temperature=0.3)\n",
    "    \n",
    "    # Bind all banking tools to the main LLM\n",
    "    llm_with_tools = main_llm.bind_tools(AVAILABLE_TOOLS)\n",
    "    \n",
    "    def llm_node(state: BankingAgentState) -> BankingAgentState:\n",
    "        \"\"\"Main LLM node that processes banking requests and selects appropriate tools.\"\"\"\n",
    "        \n",
    "        messages = state[\"messages\"]\n",
    "        \n",
    "        # Enhanced banking system prompt with tool selection guidance\n",
    "        system_context = \"\"\"You are a professional banking AI assistant with access to specialized banking tools.\n",
    "            Analyze the user's banking request and directly use the most appropriate tools to help them.\n",
    "            \n",
    "            AVAILABLE BANKING TOOLS:\n",
    "            \n",
    "            credit_risk_analyzer - Analyze credit risk for loan applications and credit decisions\n",
    "            - Use for: loan applications, credit assessments, risk analysis, mortgage eligibility\n",
    "            - Examples: \"Analyze credit risk for $50k personal loan\", \"Assess mortgage eligibility for $300k home purchase\"\n",
    "            - Parameters: customer_income, customer_debt, credit_score, loan_amount, loan_type\n",
    "\n",
    "            compliance_monitor - Monitor transactions and operations for regulatory compliance\n",
    "            - Use for: SR 11-7, SS 1-23 compliance, KYC/AML requirements, regulatory reporting\n",
    "            - Examples: \"Check SR 11-7 compliance for $100k business loan\", \"Verify AML compliance for $25k wire transfer\"\n",
    "            - Parameters: transaction_type, transaction_amount, customer_type, account_age_days, compliance_framework\n",
    "\n",
    "            financial_calculator - Perform banking-specific financial calculations\n",
    "            - Use for: loan payments, interest calculations, investment returns, amortization schedules\n",
    "            - Examples: \"Calculate monthly payment for $200k mortgage at 4.5% for 30 years\", \"Compute investment growth for $50k at 8% return\"\n",
    "            - Parameters: calculation_type, principal, rate, term, payment_frequency\n",
    "\n",
    "            customer_account_manager - Manage customer accounts and provide banking services\n",
    "            - Use for: account information, transaction processing, product recommendations, customer service\n",
    "            - Examples: \"Check balance for checking account 12345\", \"Recommend products for customer with high balance\"\n",
    "            - Parameters: account_type, customer_id, action, amount, account_details\n",
    "\n",
    "            fraud_detection_system - Analyze transactions for potential fraud and security risks\n",
    "            - Use for: transaction monitoring, fraud prevention, risk assessment, security alerts\n",
    "            - Examples: \"Analyze fraud risk for $500 ATM withdrawal in Miami\", \"Check security for $2000 online purchase\"\n",
    "            - Parameters: transaction_id, customer_id, transaction_amount, transaction_type, location, device_id\n",
    "\n",
    "            BANKING INSTRUCTIONS:\n",
    "            - Analyze the user's banking request carefully and identify the primary need\n",
    "            - If they need credit analysis → use credit_risk_analyzer\n",
    "            - If they need compliance checks → use compliance_monitor\n",
    "            - If they need financial calculations → use financial_calculator\n",
    "            - If they need account services → use customer_account_manager\n",
    "            - If they need security analysis → use fraud_detection_system\n",
    "            - Extract relevant parameters from the user's request\n",
    "            - Provide helpful, accurate banking responses based on tool outputs\n",
    "            - Always consider banking regulations, risk management, and best practices\n",
    "            - Be professional and thorough in your analysis\n",
    "\n",
    "            Choose and use tools wisely to provide the most helpful banking assistance.\"\"\"\n",
    "        \n",
    "        # Add system context to messages\n",
    "        enhanced_messages = [SystemMessage(content=system_context)] + list(messages)\n",
    "        \n",
    "        # Get LLM response with tool selection\n",
    "        response = llm_with_tools.invoke(enhanced_messages)\n",
    "        \n",
    "        return {\n",
    "            **state,\n",
    "            \"messages\": messages + [response]\n",
    "        }\n",
    "    \n",
    "    def should_continue(state: BankingAgentState) -> str:\n",
    "        \"\"\"Decide whether to use tools or end the conversation.\"\"\"\n",
    "        last_message = state[\"messages\"][-1]\n",
    "        \n",
    "        # Check if the LLM wants to use tools\n",
    "        if hasattr(last_message, 'tool_calls') and last_message.tool_calls:\n",
    "            return \"tools\"\n",
    "        \n",
    "        return END\n",
    "        \n",
    "    # Create the banking state graph\n",
    "    workflow = StateGraph(BankingAgentState)\n",
    "    \n",
    "    # Add nodes\n",
    "    workflow.add_node(\"llm\", llm_node)\n",
    "    workflow.add_node(\"tools\", ToolNode(AVAILABLE_TOOLS))\n",
    "    \n",
    "    # Simplified entry point - go directly to LLM\n",
    "    workflow.add_edge(START, \"llm\")\n",
    "    \n",
    "    # From LLM, decide whether to use tools or end\n",
    "    workflow.add_conditional_edges(\n",
    "        \"llm\",\n",
    "        should_continue,\n",
    "        {\"tools\": \"tools\", END: END}\n",
    "    )\n",
    "    \n",
    "    # Tool execution flows back to LLM for final response\n",
    "    workflow.add_edge(\"tools\", \"llm\")\n",
    "    \n",
    "    # Set up memory\n",
    "    memory = MemorySaver()\n",
    "    \n",
    "    # Compile the graph\n",
    "    agent = workflow.compile(checkpointer=memory)\n",
    "    \n",
    "    return agent\n",
    "\n",
    "# Create the banking intelligent agent\n",
    "banking_agent = create_banking_langgraph_agent()\n",
    "\n",
    "print(\"Banking LangGraph Agent Created Successfully!\")\n",
    "print(\"\\nFeatures:\")\n",
    "print(\"   - Intelligent banking tool selection\")\n",
    "print(\"   - Comprehensive banking system prompt\")\n",
    "print(\"   - Streamlined workflow: LLM → Tools → Response\")\n",
    "print(\"   - Automatic tool parameter extraction\")\n",
    "print(\"   - Professional banking assistance\")\n"
   ]
  },
  {
   "cell_type": "markdown",
   "metadata": {},
   "source": [
    "## ValidMind Model Integration\n",
    "\n",
    "Now we'll integrate our banking LangGraph agent with ValidMind for comprehensive testing and validation.\n"
   ]
  },
  {
   "cell_type": "code",
   "execution_count": 7,
   "metadata": {},
   "outputs": [
    {
     "name": "stdout",
     "output_type": "stream",
     "text": [
      "Banking Agent Successfully Integrated with ValidMind!\n",
      "Model ID: banking_agent_model\n"
     ]
    }
   ],
   "source": [
    "def banking_agent_fn(input):\n",
    "    \"\"\"\n",
    "    Invoke the banking agent with the given input.\n",
    "    \"\"\"\n",
    "    try:\n",
    "        # Initial state for banking agent\n",
    "        initial_state = {\n",
    "            \"user_input\": input[\"input\"],\n",
    "            \"messages\": [HumanMessage(content=input[\"input\"])],\n",
    "            \"session_id\": input[\"session_id\"],\n",
    "            \"context\": {}\n",
    "        }\n",
    "\n",
    "        session_config = {\"configurable\": {\"thread_id\": input[\"session_id\"]}}\n",
    "\n",
    "        result = banking_agent.invoke(initial_state, config=session_config)\n",
    "\n",
    "        return {\"prediction\": result['messages'][-1].content, \"output\": result}\n",
    "    except Exception as e:\n",
    "        # Return a fallback response if the agent fails\n",
    "        error_message = f\"I apologize, but I encountered an error while processing your banking request: {str(e)}. Please try rephrasing your question or contact support if the issue persists.\"\n",
    "        return {\n",
    "            \"prediction\": error_message, \n",
    "            \"output\": {\n",
    "                \"messages\": [HumanMessage(content=input[\"input\"]), SystemMessage(content=error_message)],\n",
    "                \"error\": str(e)\n",
    "            }\n",
    "        }\n",
    "\n",
    "\n",
    "vm_banking_model = vm.init_model(input_id=\"banking_agent_model\", predict_fn=banking_agent_fn)\n",
    "# Add the banking agent to the vm model\n",
    "vm_banking_model.model = banking_agent\n",
    "\n",
    "print(\"Banking Agent Successfully Integrated with ValidMind!\")\n",
    "print(f\"Model ID: {vm_banking_model.input_id}\")\n"
   ]
  },
  {
   "cell_type": "markdown",
   "metadata": {},
   "source": [
    "## Prepare Banking Test Dataset\n",
    "\n",
    "We'll use our comprehensive banking test dataset to evaluate our agent's performance across different banking scenarios.\n"
   ]
  },
  {
   "cell_type": "code",
   "execution_count": 8,
   "metadata": {},
   "outputs": [
    {
     "name": "stdout",
     "output_type": "stream",
     "text": [
      "Banking-specific test dataset created!\n",
      "Number of test cases: 10\n",
      "Categories: ['credit_risk' 'compliance' 'financial_calculation' 'account_management'\n",
      " 'fraud_detection']\n",
      "Tools being tested: ['compliance_monitor', 'credit_risk_analyzer', 'customer_account_manager', 'financial_calculator', 'fraud_detection_system']\n",
      "\n",
      "Sample test cases:\n",
      "1. Analyze credit risk for a $50,000 personal loan application with $75,000 annual ... -> Expected tool: credit_risk_analyzer (credit_risk)\n",
      "2. Check SR 11-7 compliance for a $150,000 business loan to a commercial customer w... -> Expected tool: compliance_monitor (compliance)\n",
      "3. Calculate monthly payment for a $300,000 mortgage at 4.5% interest for 30 years... -> Expected tool: financial_calculator (financial_calculation)\n",
      "Banking Test Dataset Loaded Successfully!\n",
      "Number of test cases: 10\n",
      "Tools being tested: ['compliance_monitor', 'credit_risk_analyzer', 'customer_account_manager', 'financial_calculator', 'fraud_detection_system']\n",
      "Categories: ['account_management', 'compliance', 'credit_risk', 'financial_calculation', 'fraud_detection']\n",
      "\n",
      "Test Cases Preview:\n",
      "1. Analyze credit risk for a $50,000 personal loan application with $75,000 annual ... -> Expected tool: credit_risk_analyzer (credit_risk)\n",
      "2. Check SR 11-7 compliance for a $150,000 business loan to a commercial customer w... -> Expected tool: compliance_monitor (compliance)\n",
      "3. Calculate monthly payment for a $300,000 mortgage at 4.5% interest for 30 years... -> Expected tool: financial_calculator (financial_calculation)\n",
      "4. Check account balance for checking account 12345... -> Expected tool: customer_account_manager (account_management)\n",
      "5. Analyze fraud risk for a $15,000 wire transfer from customer 67890 to Nigeria... -> Expected tool: fraud_detection_system (fraud_detection)\n",
      "6. Verify AML compliance for a $25,000 deposit from a new customer account opened 1... -> Expected tool: compliance_monitor (compliance)\n",
      "7. Recommend banking products for customer 11111 with $150,000 in savings and 720 c... -> Expected tool: customer_account_manager (account_management)\n",
      "8. Calculate investment growth for $100,000 at 8% annual return over 10 years... -> Expected tool: financial_calculator (financial_calculation)\n",
      "9. Assess credit risk for a $1,000,000 commercial real estate loan with $500,000 an... -> Expected tool: credit_risk_analyzer (credit_risk)\n",
      "10. Process a $2,500 deposit to savings account 67890... -> Expected tool: customer_account_manager (account_management)\n"
     ]
    }
   ],
   "source": [
    "# Import our banking-specific test dataset\n",
    "from banking_test_dataset import banking_test_dataset\n",
    "\n",
    "# Use the banking dataset for comprehensive testing\n",
    "test_dataset = banking_test_dataset\n",
    "\n",
    "print(\"Banking Test Dataset Loaded Successfully!\")\n",
    "print(f\"Number of test cases: {len(test_dataset)}\")\n",
    "print(f\"Tools being tested: {sorted(test_dataset['expected_tools'].explode().unique())}\")\n",
    "print(f\"Categories: {sorted(test_dataset['category'].unique())}\")\n",
    "\n",
    "print(\"\\nTest Cases Preview:\")\n",
    "for i, row in test_dataset.iterrows():\n",
    "    print(f\"{i+1}. {row['input'][:80]}... -> Expected tool: {row['expected_tools'][0]} ({row['category']})\")\n"
   ]
  },
  {
   "cell_type": "markdown",
   "metadata": {},
   "source": [
    "### Initialize ValidMind Dataset\n",
    "\n",
    "Before we can run tests and evaluations, we need to initialize our banking test dataset as a ValidMind dataset object.\n"
   ]
  },
  {
   "cell_type": "code",
   "execution_count": 9,
   "metadata": {},
   "outputs": [
    {
     "name": "stdout",
     "output_type": "stream",
     "text": [
      "Banking Test Dataset Initialized in ValidMind!\n",
      "Dataset ID: banking_test_dataset\n"
     ]
    }
   ],
   "source": [
    "vm_test_dataset = vm.init_dataset(\n",
    "    input_id=\"banking_test_dataset\",\n",
    "    dataset=test_dataset,\n",
    "    target_column=\"possible_outputs\"\n",
    ")\n",
    "\n",
    "print(\"Banking Test Dataset Initialized in ValidMind!\")\n",
    "print(f\"Dataset ID: {vm_test_dataset.input_id}\")\n"
   ]
  },
  {
   "cell_type": "markdown",
   "metadata": {},
   "source": [
    "### Run Banking Agent and Assign Predictions\n",
    "\n",
    "Now we'll execute our banking agent on the test dataset and capture its responses for evaluation.\n"
   ]
  },
  {
   "cell_type": "code",
   "execution_count": 10,
   "metadata": {},
   "outputs": [
    {
     "name": "stderr",
     "output_type": "stream",
     "text": [
      "2025-09-03 17:29:09,121 - INFO(validmind.vm_models.dataset.utils): Running predict_proba()... This may take a while\n",
      "2025-09-03 17:29:09,122 - INFO(validmind.vm_models.dataset.utils): Not running predict_proba() for unsupported models.\n",
      "2025-09-03 17:29:09,122 - INFO(validmind.vm_models.dataset.utils): Running predict()... This may take a while\n",
      "2025-09-03 17:30:38,552 - INFO(validmind.vm_models.dataset.utils): Done running predict()\n"
     ]
    },
    {
     "name": "stdout",
     "output_type": "stream",
     "text": [
      "Banking Agent Predictions Generated Successfully!\n",
      "Predictions assigned to 10 test cases\n"
     ]
    }
   ],
   "source": [
    "vm_test_dataset.assign_predictions(vm_banking_model)\n",
    "\n",
    "print(\"Banking Agent Predictions Generated Successfully!\")\n",
    "print(f\"Predictions assigned to {len(vm_test_dataset._df)} test cases\")\n"
   ]
  },
  {
   "cell_type": "markdown",
   "metadata": {},
   "source": [
    "#### Dataframe Display Settings\n"
   ]
  },
  {
   "cell_type": "code",
   "execution_count": 11,
   "metadata": {},
   "outputs": [
    {
     "name": "stdout",
     "output_type": "stream",
     "text": [
      "Banking Test Dataset with Predictions:\n"
     ]
    },
    {
     "data": {
      "text/html": [
       "<div>\n",
       "<style scoped>\n",
       "    .dataframe tbody tr th:only-of-type {\n",
       "        vertical-align: middle;\n",
       "    }\n",
       "\n",
       "    .dataframe tbody tr th {\n",
       "        vertical-align: top;\n",
       "    }\n",
       "\n",
       "    .dataframe thead th {\n",
       "        text-align: right;\n",
       "    }\n",
       "</style>\n",
       "<table border=\"1\" class=\"dataframe\">\n",
       "  <thead>\n",
       "    <tr style=\"text-align: right;\">\n",
       "      <th></th>\n",
       "      <th>input</th>\n",
       "      <th>expected_tools</th>\n",
       "      <th>possible_outputs</th>\n",
       "      <th>session_id</th>\n",
       "      <th>category</th>\n",
       "      <th>banking_agent_model_prediction</th>\n",
       "      <th>banking_agent_model_output</th>\n",
       "    </tr>\n",
       "  </thead>\n",
       "  <tbody>\n",
       "    <tr>\n",
       "      <th>0</th>\n",
       "      <td>Analyze credit risk for a $50,000 personal loan application with $75,000 annual income, $1,200 monthly debt, and 720 credit score</td>\n",
       "      <td>[credit_risk_analyzer]</td>\n",
       "      <td>[LOW RISK, MEDIUM RISK, APPROVE, debt-to-income ratio, risk score]</td>\n",
       "      <td>0c358bd6-12a0-4665-a16b-c63f85438406</td>\n",
       "      <td>credit_risk</td>\n",
       "      <td>### Credit Risk Analysis Report\\n\\n**Customer Profile:**\\n- **Annual Income:** $75,000.00\\n- **Monthly Debt:** $1,200.00\\n- **Credit Score:** 720\\n- **Loan Request:** $50,000.00 (personal)\\n\\n**Risk Assessment:**\\n- **Debt-to-Income Ratio:** 19.2%\\n- **Risk Score:** 70/75\\n- **Risk Level:** LOW RISK\\n\\n**Recommendation:** **APPROVE** with standard terms\\n\\n**Additional Notes:**\\n- The Debt-to-Income (DTI) ratio of 19.2% is excellent.\\n- A credit score of 720 is considered good.\\n- The loan amount represents 66.7% of annual income.\\n\\nThis analysis indicates that the applicant is a low-risk candidate for the requested personal loan.</td>\n",
       "      <td>{'messages': [content='Analyze credit risk for a $50,000 personal loan application with $75,000 annual income, $1,200 monthly debt, and 720 credit score' additional_kwargs={} response_metadata={} id='ba428c76-7f3f-40cc-b851-4dcc1651e452', content='' additional_kwargs={'tool_calls': [{'id': 'call_cAaHYsJoIE68iOZa8lJoYnQn', 'function': {'arguments': '{\"customer_income\":75000,\"customer_debt\":1200,\"credit_score\":720,\"loan_amount\":50000,\"loan_type\":\"personal\"}', 'name': 'credit_risk_analyzer'}, 'type': 'function'}], 'refusal': None} response_metadata={'token_usage': {'completion_tokens': 42, 'prompt_tokens': 1772, 'total_tokens': 1814, 'completion_tokens_details': {'accepted_prediction_tokens': 0, 'audio_tokens': 0, 'reasoning_tokens': 0, 'rejected_prediction_tokens': 0}, 'prompt_tokens_details': {'audio_tokens': 0, 'cached_tokens': 0}}, 'model_name': 'gpt-4o-mini-2024-07-18', 'system_fingerprint': 'fp_560af6e559', 'id': 'chatcmpl-CBke5xbsUONjeS8daksNrSvwj7Gg1', 'service_tier': 'default', 'finish_reason': 'tool_calls', 'logprobs': None} id='run--918f90ee-1e96-40b2-9672-b338557a4ce1-0' tool_calls=[{'name': 'credit_risk_analyzer', 'args': {'customer_income': 75000, 'customer_debt': 1200, 'credit_score': 720, 'loan_amount': 50000, 'loan_type': 'personal'}, 'id': 'call_cAaHYsJoIE68iOZa8lJoYnQn', 'type': 'tool_call'}] usage_metadata={'input_tokens': 1772, 'output_tokens': 42, 'total_tokens': 1814, 'input_token_details': {'audio': 0, 'cache_read': 0}, 'output_token_details': {'audio': 0, 'reasoning': 0}}, content='CREDIT RISK ANALYSIS REPORT\\n    ================================\\n    \\n    Customer Profile:\\n    - Annual Income: $75,000.00\\n    - Monthly Debt: $1,200.00\\n    - Credit Score: 720\\n    - Loan Request: $50,000.00 (personal)\\n    \\n    Risk Assessment:\\n    - Debt-to-Income Ratio: 19.2%\\n    - Risk Score: 70/75\\n    - Risk Level: LOW RISK\\n    \\n    Recommendation: APPROVE with standard terms\\n    \\n    Additional Notes:\\n    - DTI ratio of 19.2% is excellent\\n    - Credit score of 720 is good\\n    - Loan amount represents 66.7% of annual income\\n    ' name='credit_risk_analyzer' id='bc3c7f3f-2831-4861-8f39-af6c6de029df' tool_call_id='call_cAaHYsJoIE68iOZa8lJoYnQn', content='### Credit Risk Analysis Report\\n\\n**Customer Profile:**\\n- **Annual Income:** $75,000.00\\n- **Monthly Debt:** $1,200.00\\n- **Credit Score:** 720\\n- **Loan Request:** $50,000.00 (personal)\\n\\n**Risk Assessment:**\\n- **Debt-to-Income Ratio:** 19.2%\\n- **Risk Score:** 70/75\\n- **Risk Level:** LOW RISK\\n\\n**Recommendation:** **APPROVE** with standard terms\\n\\n**Additional Notes:**\\n- The Debt-to-Income (DTI) ratio of 19.2% is excellent.\\n- A credit score of 720 is considered good.\\n- The loan amount represents 66.7% of annual income.\\n\\nThis analysis indicates that the applicant is a low-risk candidate for the requested personal loan.' additional_kwargs={'refusal': None} response_metadata={'token_usage': {'completion_tokens': 174, 'prompt_tokens': 1977, 'total_tokens': 2151, 'completion_tokens_details': {'accepted_prediction_tokens': 0, 'audio_tokens': 0, 'reasoning_tokens': 0, 'rejected_prediction_tokens': 0}, 'prompt_tokens_details': {'audio_tokens': 0, 'cached_tokens': 1792}}, 'model_name': 'gpt-4o-mini-2024-07-18', 'system_fingerprint': 'fp_560af6e559', 'id': 'chatcmpl-CBke7PiUYJdaxjDE5PBKJQ2N2895e', 'service_tier': 'default', 'finish_reason': 'stop', 'logprobs': None} id='run--9623cf80-96cc-425a-8f99-098f5606865a-0' usage_metadata={'input_tokens': 1977, 'output_tokens': 174, 'total_tokens': 2151, 'input_token_details': {'audio': 0, 'cache_read': 1792}, 'output_token_details': {'audio': 0, 'reasoning': 0}}], 'user_input': 'Analyze credit risk for a $50,000 personal loan application with $75,000 annual income, $1,200 monthly debt, and 720 credit score', 'session_id': '0c358bd6-12a0-4665-a16b-c63f85438406', 'context': {}}</td>\n",
       "    </tr>\n",
       "    <tr>\n",
       "      <th>1</th>\n",
       "      <td>Check SR 11-7 compliance for a $150,000 business loan to a commercial customer with 90-day old account</td>\n",
       "      <td>[compliance_monitor]</td>\n",
       "      <td>[SR 11-7, model validation, compliance, risk level, required actions]</td>\n",
       "      <td>95b94871-b042-457d-a77d-06d6d6ae1b33</td>\n",
       "      <td>compliance</td>\n",
       "      <td>### Compliance Monitoring Report\\n\\n**Transaction Details:**\\n- **Type:** Loan\\n- **Amount:** $150,000.00\\n- **Customer Type:** Commercial\\n- **Account Age:** 90 days\\n- **Framework:** SR 11-7\\n\\n**Compliance Assessment:**\\n- **Risk Level:** Medium\\n- **Issues Found:** 2\\n\\n**Compliance Issues:**\\n1. Large transaction requires enhanced model validation per SR 11-7.\\n2. Commercial transaction requires business model validation.\\n\\n**Required Actions:**\\n- Implement additional model monitoring and validation.\\n- Document business model assumptions and limitations.\\n\\n**Regulatory References:**\\n- SR 11-7: Model Risk Management\\n- SS 1-23: Model Risk Management\\n- KYC/AML: Customer Due Diligence\\n\\nPlease ensure that the necessary actions are taken to address these compliance issues.</td>\n",
       "      <td>{'messages': [content='Check SR 11-7 compliance for a $150,000 business loan to a commercial customer with 90-day old account' additional_kwargs={} response_metadata={} id='2423000c-9208-42cb-ad33-7ae57967b9df', content='' additional_kwargs={'tool_calls': [{'id': 'call_QvK8j170ZnkBpSkYkrsrmy27', 'function': {'arguments': '{\"transaction_type\":\"loan\",\"transaction_amount\":150000,\"customer_type\":\"commercial\",\"account_age_days\":90,\"compliance_framework\":\"SR_11_7\"}', 'name': 'compliance_monitor'}, 'type': 'function'}], 'refusal': None} response_metadata={'token_usage': {'completion_tokens': 43, 'prompt_tokens': 1765, 'total_tokens': 1808, 'completion_tokens_details': {'accepted_prediction_tokens': 0, 'audio_tokens': 0, 'reasoning_tokens': 0, 'rejected_prediction_tokens': 0}, 'prompt_tokens_details': {'audio_tokens': 0, 'cached_tokens': 0}}, 'model_name': 'gpt-4o-mini-2024-07-18', 'system_fingerprint': 'fp_e665f7564b', 'id': 'chatcmpl-CBkeEN8W0E1b7ukreo0IIqIZBo9XJ', 'service_tier': 'default', 'finish_reason': 'tool_calls', 'logprobs': None} id='run--3a229633-2a1d-40d9-8e17-a7c53a014770-0' tool_calls=[{'name': 'compliance_monitor', 'args': {'transaction_type': 'loan', 'transaction_amount': 150000, 'customer_type': 'commercial', 'account_age_days': 90, 'compliance_framework': 'SR_11_7'}, 'id': 'call_QvK8j170ZnkBpSkYkrsrmy27', 'type': 'tool_call'}] usage_metadata={'input_tokens': 1765, 'output_tokens': 43, 'total_tokens': 1808, 'input_token_details': {'audio': 0, 'cache_read': 0}, 'output_token_details': {'audio': 0, 'reasoning': 0}}, content='COMPLIANCE MONITORING REPORT\\n    ================================\\n    \\n    Transaction Details:\\n    - Type: Loan\\n    - Amount: $150,000.00\\n    - Customer Type: Commercial\\n    - Account Age: 90 days\\n    - Framework: Sr 11 7\\n    \\n    Compliance Assessment:\\n    - Risk Level: MEDIUM\\n    - Issues Found: 2\\n    \\n    Compliance Issues:\\n      • Large transaction requires enhanced model validation per SR 11-7\\n  • Commercial transaction requires business model validation\\n    \\n    Required Actions:\\n      • Implement additional model monitoring and validation\\n  • Document business model assumptions and limitations\\n    \\n    Regulatory References:\\n    - SR 11-7: Model Risk Management\\n    - SS 1-23: Model Risk Management\\n    - KYC/AML: Customer Due Diligence\\n    ' name='compliance_monitor' id='bf413b16-9fbb-474a-8517-4941ed1d53a0' tool_call_id='call_QvK8j170ZnkBpSkYkrsrmy27', content='### Compliance Monitoring Report\\n\\n**Transaction Details:**\\n- **Type:** Loan\\n- **Amount:** $150,000.00\\n- **Customer Type:** Commercial\\n- **Account Age:** 90 days\\n- **Framework:** SR 11-7\\n\\n**Compliance Assessment:**\\n- **Risk Level:** Medium\\n- **Issues Found:** 2\\n\\n**Compliance Issues:**\\n1. Large transaction requires enhanced model validation per SR 11-7.\\n2. Commercial transaction requires business model validation.\\n\\n**Required Actions:**\\n- Implement additional model monitoring and validation.\\n- Document business model assumptions and limitations.\\n\\n**Regulatory References:**\\n- SR 11-7: Model Risk Management\\n- SS 1-23: Model Risk Management\\n- KYC/AML: Customer Due Diligence\\n\\nPlease ensure that the necessary actions are taken to address these compliance issues.' additional_kwargs={'refusal': None} response_metadata={'token_usage': {'completion_tokens': 178, 'prompt_tokens': 1989, 'total_tokens': 2167, 'completion_tokens_details': {'accepted_prediction_tokens': 0, 'audio_tokens': 0, 'reasoning_tokens': 0, 'rejected_prediction_tokens': 0}, 'prompt_tokens_details': {'audio_tokens': 0, 'cached_tokens': 1664}}, 'model_name': 'gpt-4o-mini-2024-07-18', 'system_fingerprint': 'fp_560af6e559', 'id': 'chatcmpl-CBkeGyKX3RUQTJVQN9esuEcWCIDlZ', 'service_tier': 'default', 'finish_reason': 'stop', 'logprobs': None} id='run--c1c25303-27b1-4506-96bb-a1c5b70095b0-0' usage_metadata={'input_tokens': 1989, 'output_tokens': 178, 'total_tokens': 2167, 'input_token_details': {'audio': 0, 'cache_read': 1664}, 'output_token_details': {'audio': 0, 'reasoning': 0}}], 'user_input': 'Check SR 11-7 compliance for a $150,000 business loan to a commercial customer with 90-day old account', 'session_id': '95b94871-b042-457d-a77d-06d6d6ae1b33', 'context': {}}</td>\n",
       "    </tr>\n",
       "    <tr>\n",
       "      <th>2</th>\n",
       "      <td>Calculate monthly payment for a $300,000 mortgage at 4.5% interest for 30 years</td>\n",
       "      <td>[financial_calculator]</td>\n",
       "      <td>[monthly payment, amortization, total interest, loan payment calculation]</td>\n",
       "      <td>51bc9ed9-cee3-4622-aadd-92c70476256f</td>\n",
       "      <td>financial_calculation</td>\n",
       "      <td>The monthly payment for a $300,000 mortgage at a 4.5% interest rate for 30 years is **$1,520.06**.\\n\\n### Loan Details:\\n- **Principal:** $300,000.00\\n- **Annual Rate:** 4.50%\\n- **Term:** 30 years (360 monthly payments)\\n\\n### Summary:\\n- **Total Payments:** $547,220.13\\n- **Total Interest:** $247,220.13\\n- **Interest Percentage:** 45.2%</td>\n",
       "      <td>{'messages': [content='Calculate monthly payment for a $300,000 mortgage at 4.5% interest for 30 years' additional_kwargs={} response_metadata={} id='d44a5ef7-8878-4721-9f88-59135c1482e3', content='' additional_kwargs={'tool_calls': [{'id': 'call_4fkgxbMf37yBUfTyTOcfiOON', 'function': {'arguments': '{\"calculation_type\":\"loan_payment\",\"principal\":300000,\"rate\":4.5,\"term\":30}', 'name': 'financial_calculator'}, 'type': 'function'}], 'refusal': None} response_metadata={'token_usage': {'completion_tokens': 34, 'prompt_tokens': 1761, 'total_tokens': 1795, 'completion_tokens_details': {'accepted_prediction_tokens': 0, 'audio_tokens': 0, 'reasoning_tokens': 0, 'rejected_prediction_tokens': 0}, 'prompt_tokens_details': {'audio_tokens': 0, 'cached_tokens': 1664}}, 'model_name': 'gpt-4o-mini-2024-07-18', 'system_fingerprint': 'fp_560af6e559', 'id': 'chatcmpl-CBkeKmXXwvw10L7Xj6BlnHSrUuVw2', 'service_tier': 'default', 'finish_reason': 'tool_calls', 'logprobs': None} id='run--56075552-9864-4924-93a1-f07c2d5d305a-0' tool_calls=[{'name': 'financial_calculator', 'args': {'calculation_type': 'loan_payment', 'principal': 300000, 'rate': 4.5, 'term': 30}, 'id': 'call_4fkgxbMf37yBUfTyTOcfiOON', 'type': 'tool_call'}] usage_metadata={'input_tokens': 1761, 'output_tokens': 34, 'total_tokens': 1795, 'input_token_details': {'audio': 0, 'cache_read': 1664}, 'output_token_details': {'audio': 0, 'reasoning': 0}}, content='LOAN PAYMENT CALCULATION\\n        ================================\\n        \\n        Loan Details:\\n        - Principal: $300,000.00\\n        - Annual Rate: 4.50%\\n        - Term: 30 years (360 monthly payments)\\n        - Payment Frequency: Monthly\\n        \\n        Results:\\n        - Monthly Payment: $1,520.06\\n        - Total Payments: $547,220.13\\n        - Total Interest: $247,220.13\\n        - Interest Percentage: 45.2%\\n        ' name='financial_calculator' id='eaa34705-40d6-4ef9-9a07-2abd79319463' tool_call_id='call_4fkgxbMf37yBUfTyTOcfiOON', content='The monthly payment for a $300,000 mortgage at a 4.5% interest rate for 30 years is **$1,520.06**.\\n\\n### Loan Details:\\n- **Principal:** $300,000.00\\n- **Annual Rate:** 4.50%\\n- **Term:** 30 years (360 monthly payments)\\n\\n### Summary:\\n- **Total Payments:** $547,220.13\\n- **Total Interest:** $247,220.13\\n- **Interest Percentage:** 45.2%' additional_kwargs={'refusal': None} response_metadata={'token_usage': {'completion_tokens': 108, 'prompt_tokens': 1910, 'total_tokens': 2018, 'completion_tokens_details': {'accepted_prediction_tokens': 0, 'audio_tokens': 0, 'reasoning_tokens': 0, 'rejected_prediction_tokens': 0}, 'prompt_tokens_details': {'audio_tokens': 0, 'cached_tokens': 1664}}, 'model_name': 'gpt-4o-mini-2024-07-18', 'system_fingerprint': 'fp_560af6e559', 'id': 'chatcmpl-CBkeMXhgW4q92dblRZrVP3lfzyYhp', 'service_tier': 'default', 'finish_reason': 'stop', 'logprobs': None} id='run--6ba57adb-0e2f-4396-a165-86fc8797e5a6-0' usage_metadata={'input_tokens': 1910, 'output_tokens': 108, 'total_tokens': 2018, 'input_token_details': {'audio': 0, 'cache_read': 1664}, 'output_token_details': {'audio': 0, 'reasoning': 0}}], 'user_input': 'Calculate monthly payment for a $300,000 mortgage at 4.5% interest for 30 years', 'session_id': '51bc9ed9-cee3-4622-aadd-92c70476256f', 'context': {}}</td>\n",
       "    </tr>\n",
       "    <tr>\n",
       "      <th>3</th>\n",
       "      <td>Check account balance for checking account 12345</td>\n",
       "      <td>[customer_account_manager]</td>\n",
       "      <td>[balance, account information, John Smith, checking account]</td>\n",
       "      <td>69688f05-209e-4c78-9d02-e9dc2260ef27</td>\n",
       "      <td>account_management</td>\n",
       "      <td>Here is the account balance report for checking account **12345**:\\n\\n- **Customer Name:** John Smith\\n- **Account Type:** Checking\\n- **Current Balance:** $2,547.89\\n- **Last Updated:** September 3, 2025\\n- **Account Status:** Active\\n\\nIf you need any further assistance, feel free to ask!</td>\n",
       "      <td>{'messages': [content='Check account balance for checking account 12345' additional_kwargs={} response_metadata={} id='a9e5120c-a40f-407c-915d-e187d75c8a8c', content='' additional_kwargs={'tool_calls': [{'id': 'call_xhkMDAnzVHbcXkJ2u3V71MP2', 'function': {'arguments': '{\"account_type\":\"checking\",\"customer_id\":\"12345\",\"action\":\"check_balance\"}', 'name': 'customer_account_manager'}, 'type': 'function'}], 'refusal': None} response_metadata={'token_usage': {'completion_tokens': 27, 'prompt_tokens': 1749, 'total_tokens': 1776, 'completion_tokens_details': {'accepted_prediction_tokens': 0, 'audio_tokens': 0, 'reasoning_tokens': 0, 'rejected_prediction_tokens': 0}, 'prompt_tokens_details': {'audio_tokens': 0, 'cached_tokens': 1664}}, 'model_name': 'gpt-4o-mini-2024-07-18', 'system_fingerprint': 'fp_e665f7564b', 'id': 'chatcmpl-CBkePm1EkLvmLAIsUEnxlRpJPxnpE', 'service_tier': 'default', 'finish_reason': 'tool_calls', 'logprobs': None} id='run--666ebfab-15e7-4e1f-afbf-988bb306e853-0' tool_calls=[{'name': 'customer_account_manager', 'args': {'account_type': 'checking', 'customer_id': '12345', 'action': 'check_balance'}, 'id': 'call_xhkMDAnzVHbcXkJ2u3V71MP2', 'type': 'tool_call'}] usage_metadata={'input_tokens': 1749, 'output_tokens': 27, 'total_tokens': 1776, 'input_token_details': {'audio': 0, 'cache_read': 1664}, 'output_token_details': {'audio': 0, 'reasoning': 0}}, content='ACCOUNT BALANCE REPORT\\n        ================================\\n        \\n        Customer: John Smith\\n        Account Type: Checking\\n        Account ID: 12345\\n        \\n        Current Balance: $2,547.89\\n        Last Updated: 2025-09-03 17:29:30\\n        \\n        Account Status: Active\\n        ' name='customer_account_manager' id='1710c08a-0261-4616-9bf0-44c40bdf2b99' tool_call_id='call_xhkMDAnzVHbcXkJ2u3V71MP2', content='Here is the account balance report for checking account **12345**:\\n\\n- **Customer Name:** John Smith\\n- **Account Type:** Checking\\n- **Current Balance:** $2,547.89\\n- **Last Updated:** September 3, 2025\\n- **Account Status:** Active\\n\\nIf you need any further assistance, feel free to ask!' additional_kwargs={'refusal': None} response_metadata={'token_usage': {'completion_tokens': 74, 'prompt_tokens': 1851, 'total_tokens': 1925, 'completion_tokens_details': {'accepted_prediction_tokens': 0, 'audio_tokens': 0, 'reasoning_tokens': 0, 'rejected_prediction_tokens': 0}, 'prompt_tokens_details': {'audio_tokens': 0, 'cached_tokens': 1664}}, 'model_name': 'gpt-4o-mini-2024-07-18', 'system_fingerprint': 'fp_e665f7564b', 'id': 'chatcmpl-CBkeQ8brBgZLcJZlALVWMuoWwDOAu', 'service_tier': 'default', 'finish_reason': 'stop', 'logprobs': None} id='run--b0215730-fa25-45d4-a59e-973fb5a5e451-0' usage_metadata={'input_tokens': 1851, 'output_tokens': 74, 'total_tokens': 1925, 'input_token_details': {'audio': 0, 'cache_read': 1664}, 'output_token_details': {'audio': 0, 'reasoning': 0}}], 'user_input': 'Check account balance for checking account 12345', 'session_id': '69688f05-209e-4c78-9d02-e9dc2260ef27', 'context': {}}</td>\n",
       "    </tr>\n",
       "    <tr>\n",
       "      <th>4</th>\n",
       "      <td>Analyze fraud risk for a $15,000 wire transfer from customer 67890 to Nigeria</td>\n",
       "      <td>[fraud_detection_system]</td>\n",
       "      <td>[HIGH RISK, fraud detection, risk score, geographic risk, block transaction]</td>\n",
       "      <td>5ae02888-78c2-4637-97bd-81715f9e8f44</td>\n",
       "      <td>fraud_detection</td>\n",
       "      <td>### Fraud Detection Analysis\\n\\n**Transaction Details:**\\n- **Transaction ID:** TX123456\\n- **Customer ID:** 67890\\n- **Amount:** $15,000.00\\n- **Type:** Wire Transfer\\n- **Location:** Nigeria\\n\\n**Risk Assessment:** 🔴 **HIGH RISK**\\n- **Risk Score:** 85/100\\n- **Identified Risk Factors:** 3\\n\\n**Identified Risk Factors:**\\n1. High-value transaction (greater than $10,000)\\n2. Medium-value transaction (greater than $1,000)\\n3. High-risk geographic location (Nigeria)\\n\\n**Recommendations:**\\n- Require additional verification before proceeding.\\n- Block the transaction due to the high-risk nature of the destination country.\\n\\n**Decision:** **BLOCK TRANSACTION**\\n\\n### Next Steps:\\n- Log the risk assessment in the fraud monitoring system.\\n- Update the customer risk profile if necessary.\\n- Monitor for similar transaction patterns in the future.\\n\\nIf you have any further questions or need assistance with anything else, feel free to ask!</td>\n",
       "      <td>{'messages': [content='Analyze fraud risk for a $15,000 wire transfer from customer 67890 to Nigeria' additional_kwargs={} response_metadata={} id='567b0daf-e237-4921-a03d-0b86405cfc05', content='' additional_kwargs={'tool_calls': [{'id': 'call_YKXnjasywEi7QWMFv3mToAjo', 'function': {'arguments': '{\"transaction_id\":\"TX123456\",\"customer_id\":\"67890\",\"transaction_amount\":15000,\"transaction_type\":\"wire transfer\",\"location\":\"Nigeria\"}', 'name': 'fraud_detection_system'}, 'type': 'function'}], 'refusal': None} response_metadata={'token_usage': {'completion_tokens': 41, 'prompt_tokens': 1758, 'total_tokens': 1799, 'completion_tokens_details': {'accepted_prediction_tokens': 0, 'audio_tokens': 0, 'reasoning_tokens': 0, 'rejected_prediction_tokens': 0}, 'prompt_tokens_details': {'audio_tokens': 0, 'cached_tokens': 1664}}, 'model_name': 'gpt-4o-mini-2024-07-18', 'system_fingerprint': 'fp_e665f7564b', 'id': 'chatcmpl-CBkeSRevg80Xwn3Z7XxNitOZCWIzl', 'service_tier': 'default', 'finish_reason': 'tool_calls', 'logprobs': None} id='run--1e749102-b0e2-4524-b38f-9972058d750b-0' tool_calls=[{'name': 'fraud_detection_system', 'args': {'transaction_id': 'TX123456', 'customer_id': '67890', 'transaction_amount': 15000, 'transaction_type': 'wire transfer', 'location': 'Nigeria'}, 'id': 'call_YKXnjasywEi7QWMFv3mToAjo', 'type': 'tool_call'}] usage_metadata={'input_tokens': 1758, 'output_tokens': 41, 'total_tokens': 1799, 'input_token_details': {'audio': 0, 'cache_read': 1664}, 'output_token_details': {'audio': 0, 'reasoning': 0}}, content='FRAUD DETECTION ANALYSIS\\n    ================================\\n    \\n    Transaction Details:\\n    - Transaction ID: TX123456\\n    - Customer ID: 67890\\n    - Amount: $15,000.00\\n    - Type: Wire Transfer\\n    - Location: Nigeria\\n    - Device: N/A\\n    \\n    Risk Assessment: 🔴 HIGH RISK\\n    - Risk Score: 85/100\\n    - Risk Factors: 3\\n    \\n    Identified Risk Factors:\\n      • High-value transaction (&gt;$10k)\\n  • Medium-value transaction (&gt;$1k)\\n  • High-risk geographic location\\n    \\n    Recommendations:\\n      • Require additional verification\\n  • Block transaction - high-risk country\\n    \\n    Decision: BLOCK TRANSACTION\\n    \\n    Next Steps:\\n    - Log risk assessment in fraud monitoring system\\n    - Update customer risk profile if necessary\\n    - Monitor for similar patterns\\n    ' name='fraud_detection_system' id='156a5230-1549-44b6-9244-642ae3658dcf' tool_call_id='call_YKXnjasywEi7QWMFv3mToAjo', content='### Fraud Detection Analysis\\n\\n**Transaction Details:**\\n- **Transaction ID:** TX123456\\n- **Customer ID:** 67890\\n- **Amount:** $15,000.00\\n- **Type:** Wire Transfer\\n- **Location:** Nigeria\\n\\n**Risk Assessment:** 🔴 **HIGH RISK**\\n- **Risk Score:** 85/100\\n- **Identified Risk Factors:** 3\\n\\n**Identified Risk Factors:**\\n1. High-value transaction (greater than $10,000)\\n2. Medium-value transaction (greater than $1,000)\\n3. High-risk geographic location (Nigeria)\\n\\n**Recommendations:**\\n- Require additional verification before proceeding.\\n- Block the transaction due to the high-risk nature of the destination country.\\n\\n**Decision:** **BLOCK TRANSACTION**\\n\\n### Next Steps:\\n- Log the risk assessment in the fraud monitoring system.\\n- Update the customer risk profile if necessary.\\n- Monitor for similar transaction patterns in the future.\\n\\nIf you have any further questions or need assistance with anything else, feel free to ask!' additional_kwargs={'refusal': None} response_metadata={'token_usage': {'completion_tokens': 212, 'prompt_tokens': 1993, 'total_tokens': 2205, 'completion_tokens_details': {'accepted_prediction_tokens': 0, 'audio_tokens': 0, 'reasoning_tokens': 0, 'rejected_prediction_tokens': 0}, 'prompt_tokens_details': {'audio_tokens': 0, 'cached_tokens': 1664}}, 'model_name': 'gpt-4o-mini-2024-07-18', 'system_fingerprint': 'fp_560af6e559', 'id': 'chatcmpl-CBkeUoLag3WPLjFhFZjPuT52qvfqb', 'service_tier': 'default', 'finish_reason': 'stop', 'logprobs': None} id='run--ec93faef-9ac0-4b5c-b242-9e1fb8f7f8f5-0' usage_metadata={'input_tokens': 1993, 'output_tokens': 212, 'total_tokens': 2205, 'input_token_details': {'audio': 0, 'cache_read': 1664}, 'output_token_details': {'audio': 0, 'reasoning': 0}}], 'user_input': 'Analyze fraud risk for a $15,000 wire transfer from customer 67890 to Nigeria', 'session_id': '5ae02888-78c2-4637-97bd-81715f9e8f44', 'context': {}}</td>\n",
       "    </tr>\n",
       "    <tr>\n",
       "      <th>5</th>\n",
       "      <td>Verify AML compliance for a $25,000 deposit from a new customer account opened 15 days ago</td>\n",
       "      <td>[compliance_monitor]</td>\n",
       "      <td>[KYC/AML, enhanced due diligence, CTR filing, compliance issues]</td>\n",
       "      <td>612b2010-f975-4d3b-bc30-bd0463a8fb59</td>\n",
       "      <td>compliance</td>\n",
       "      <td>**COMPLIANCE MONITORING REPORT**\\n\\n**Transaction Details:**\\n- **Type:** Deposit\\n- **Amount:** $25,000.00\\n- **Customer Type:** Retail\\n- **Account Age:** 15 days\\n- **Framework:** KYC/AML\\n\\n**Compliance Assessment:**\\n- **Risk Level:** HIGH\\n- **Issues Found:** 2\\n\\n**Compliance Issues:**\\n1. Transaction above $10k requires Currency Transaction Report (CTR) filing.\\n2. New account with significant transaction requires enhanced due diligence.\\n\\n**Required Actions:**\\n- File Currency Transaction Report (CTR).\\n- Conduct enhanced customer due diligence.\\n\\n**Regulatory References:**\\n- SR 11-7: Model Risk Management\\n- SS 1-23: Model Risk Management\\n- KYC/AML: Customer Due Diligence\\n\\nPlease ensure that the necessary compliance actions are taken promptly to adhere to regulatory requirements.</td>\n",
       "      <td>{'messages': [content='Verify AML compliance for a $25,000 deposit from a new customer account opened 15 days ago' additional_kwargs={} response_metadata={} id='8754f97e-83ef-4f09-8afc-4a4829e2cc87', content='' additional_kwargs={'tool_calls': [{'id': 'call_bc9h7y0CHuLRUIez4deIj6Hh', 'function': {'arguments': '{\"transaction_type\":\"deposit\",\"transaction_amount\":25000,\"customer_type\":\"retail\",\"account_age_days\":15,\"compliance_framework\":\"KYC_AML\"}', 'name': 'compliance_monitor'}, 'type': 'function'}], 'refusal': None} response_metadata={'token_usage': {'completion_tokens': 43, 'prompt_tokens': 1760, 'total_tokens': 1803, 'completion_tokens_details': {'accepted_prediction_tokens': 0, 'audio_tokens': 0, 'reasoning_tokens': 0, 'rejected_prediction_tokens': 0}, 'prompt_tokens_details': {'audio_tokens': 0, 'cached_tokens': 1664}}, 'model_name': 'gpt-4o-mini-2024-07-18', 'system_fingerprint': 'fp_e665f7564b', 'id': 'chatcmpl-CBkeaoctBwFsL1YtBZ83RtFLZnDpY', 'service_tier': 'default', 'finish_reason': 'tool_calls', 'logprobs': None} id='run--fd8ba955-970f-4f25-a7ff-bf927ec60430-0' tool_calls=[{'name': 'compliance_monitor', 'args': {'transaction_type': 'deposit', 'transaction_amount': 25000, 'customer_type': 'retail', 'account_age_days': 15, 'compliance_framework': 'KYC_AML'}, 'id': 'call_bc9h7y0CHuLRUIez4deIj6Hh', 'type': 'tool_call'}] usage_metadata={'input_tokens': 1760, 'output_tokens': 43, 'total_tokens': 1803, 'input_token_details': {'audio': 0, 'cache_read': 1664}, 'output_token_details': {'audio': 0, 'reasoning': 0}}, content='COMPLIANCE MONITORING REPORT\\n    ================================\\n    \\n    Transaction Details:\\n    - Type: Deposit\\n    - Amount: $25,000.00\\n    - Customer Type: Retail\\n    - Account Age: 15 days\\n    - Framework: Kyc Aml\\n    \\n    Compliance Assessment:\\n    - Risk Level: HIGH\\n    - Issues Found: 2\\n    \\n    Compliance Issues:\\n      • Transaction above $10k requires CTR filing\\n  • New account with significant transaction requires enhanced due diligence\\n    \\n    Required Actions:\\n      • File Currency Transaction Report (CTR)\\n  • Conduct enhanced customer due diligence\\n    \\n    Regulatory References:\\n    - SR 11-7: Model Risk Management\\n    - SS 1-23: Model Risk Management\\n    - KYC/AML: Customer Due Diligence\\n    ' name='compliance_monitor' id='8a09c82a-76d9-4a69-9112-2919aa7192fa' tool_call_id='call_bc9h7y0CHuLRUIez4deIj6Hh', content='**COMPLIANCE MONITORING REPORT**\\n\\n**Transaction Details:**\\n- **Type:** Deposit\\n- **Amount:** $25,000.00\\n- **Customer Type:** Retail\\n- **Account Age:** 15 days\\n- **Framework:** KYC/AML\\n\\n**Compliance Assessment:**\\n- **Risk Level:** HIGH\\n- **Issues Found:** 2\\n\\n**Compliance Issues:**\\n1. Transaction above $10k requires Currency Transaction Report (CTR) filing.\\n2. New account with significant transaction requires enhanced due diligence.\\n\\n**Required Actions:**\\n- File Currency Transaction Report (CTR).\\n- Conduct enhanced customer due diligence.\\n\\n**Regulatory References:**\\n- SR 11-7: Model Risk Management\\n- SS 1-23: Model Risk Management\\n- KYC/AML: Customer Due Diligence\\n\\nPlease ensure that the necessary compliance actions are taken promptly to adhere to regulatory requirements.' additional_kwargs={'refusal': None} response_metadata={'token_usage': {'completion_tokens': 186, 'prompt_tokens': 1980, 'total_tokens': 2166, 'completion_tokens_details': {'accepted_prediction_tokens': 0, 'audio_tokens': 0, 'reasoning_tokens': 0, 'rejected_prediction_tokens': 0}, 'prompt_tokens_details': {'audio_tokens': 0, 'cached_tokens': 1664}}, 'model_name': 'gpt-4o-mini-2024-07-18', 'system_fingerprint': 'fp_e665f7564b', 'id': 'chatcmpl-CBkecCeeco7vZHFDXnxTs2RYACJtX', 'service_tier': 'default', 'finish_reason': 'stop', 'logprobs': None} id='run--3bf36aa1-9cd3-4fa1-b68b-f1b9b51ca46e-0' usage_metadata={'input_tokens': 1980, 'output_tokens': 186, 'total_tokens': 2166, 'input_token_details': {'audio': 0, 'cache_read': 1664}, 'output_token_details': {'audio': 0, 'reasoning': 0}}], 'user_input': 'Verify AML compliance for a $25,000 deposit from a new customer account opened 15 days ago', 'session_id': '612b2010-f975-4d3b-bc30-bd0463a8fb59', 'context': {}}</td>\n",
       "    </tr>\n",
       "    <tr>\n",
       "      <th>6</th>\n",
       "      <td>Recommend banking products for customer 11111 with $150,000 in savings and 720 credit score</td>\n",
       "      <td>[customer_account_manager]</td>\n",
       "      <td>[product recommendations, premium accounts, investment services, line of credit]</td>\n",
       "      <td>29c87780-bdbe-4669-995d-3c998db952a3</td>\n",
       "      <td>account_management</td>\n",
       "      <td>### Product Recommendations for Customer 11111\\n\\n**Customer Profile:**\\n- **Credit Score:** 720\\n- **Account Age:** 730 days\\n\\n**Recommended Products:**\\n- **Premium Checking Account** with no monthly fees\\n- **High-Yield Savings Account** (2.5% APY)\\n- **Personal Line of Credit** up to $25,000\\n- **Investment Advisory Services**\\n\\n**Next Steps:**\\n- Schedule a consultation with a relationship manager\\n- Review product terms and conditions\\n- Complete the application process\\n\\n---\\n\\n### Credit Risk Analysis Report\\n\\n**Customer Profile:**\\n- **Annual Income:** $150,000\\n- **Monthly Debt:** $0\\n- **Credit Score:** 720\\n\\n**Risk Assessment:**\\n- **Debt-to-Income Ratio:** 0.0%\\n- **Risk Score:** 70/75\\n- **Risk Level:** LOW RISK\\n\\n**Recommendation:** APPROVE with standard terms\\n\\n**Additional Notes:**\\n- A DTI ratio of 0.0% is excellent\\n- A credit score of 720 is considered good\\n- The loan amount represents 0.0% of annual income\\n\\n---\\n\\nFeel free to reach out if you have any questions or need further assistance!</td>\n",
       "      <td>{'messages': [content='Recommend banking products for customer 11111 with $150,000 in savings and 720 credit score' additional_kwargs={} response_metadata={} id='ddda29a1-0fa4-4192-8fb2-25751445ac9d', content='' additional_kwargs={'tool_calls': [{'id': 'call_1gmNum5x3Pc8G40QI6R86E28', 'function': {'arguments': '{\"account_type\": \"savings\", \"customer_id\": \"11111\", \"action\": \"recommend_product\"}', 'name': 'customer_account_manager'}, 'type': 'function'}, {'id': 'call_3AzQ06F7IMgwWVD680DFR7sa', 'function': {'arguments': '{\"customer_income\": 150000, \"customer_debt\": 0, \"credit_score\": 720, \"loan_amount\": 0}', 'name': 'credit_risk_analyzer'}, 'type': 'function'}], 'refusal': None} response_metadata={'token_usage': {'completion_tokens': 79, 'prompt_tokens': 1760, 'total_tokens': 1839, 'completion_tokens_details': {'accepted_prediction_tokens': 0, 'audio_tokens': 0, 'reasoning_tokens': 0, 'rejected_prediction_tokens': 0}, 'prompt_tokens_details': {'audio_tokens': 0, 'cached_tokens': 1664}}, 'model_name': 'gpt-4o-mini-2024-07-18', 'system_fingerprint': 'fp_e665f7564b', 'id': 'chatcmpl-CBkelycNqRIPL60VIgX6LQMG1IGiS', 'service_tier': 'default', 'finish_reason': 'tool_calls', 'logprobs': None} id='run--9a1a1c2c-e05b-4001-a222-9bafdb17cfe0-0' tool_calls=[{'name': 'customer_account_manager', 'args': {'account_type': 'savings', 'customer_id': '11111', 'action': 'recommend_product'}, 'id': 'call_1gmNum5x3Pc8G40QI6R86E28', 'type': 'tool_call'}, {'name': 'credit_risk_analyzer', 'args': {'customer_income': 150000, 'customer_debt': 0, 'credit_score': 720, 'loan_amount': 0}, 'id': 'call_3AzQ06F7IMgwWVD680DFR7sa', 'type': 'tool_call'}] usage_metadata={'input_tokens': 1760, 'output_tokens': 79, 'total_tokens': 1839, 'input_token_details': {'audio': 0, 'cache_read': 1664}, 'output_token_details': {'audio': 0, 'reasoning': 0}}, content='PRODUCT RECOMMENDATIONS\\n        ================================\\n        \\n        Customer: Business Corp LLC\\n        Credit Score: 720\\n        Account Age: 730 days\\n        \\n        Recommended Products:\\n          • Premium Checking Account with no monthly fees\\n  • High-Yield Savings Account (2.5% APY)\\n  • Personal Line of Credit up to $25,000\\n  • Investment Advisory Services\\n        \\n        Next Steps:\\n        - Schedule consultation with relationship manager\\n        - Review product terms and conditions\\n        - Complete application process\\n        ' name='customer_account_manager' id='a9d9ea71-a947-496c-b70f-e5bd901cec3d' tool_call_id='call_1gmNum5x3Pc8G40QI6R86E28', content='CREDIT RISK ANALYSIS REPORT\\n    ================================\\n    \\n    Customer Profile:\\n    - Annual Income: $150,000.00\\n    - Monthly Debt: $0.00\\n    - Credit Score: 720\\n    - Loan Request: $0.00 (personal)\\n    \\n    Risk Assessment:\\n    - Debt-to-Income Ratio: 0.0%\\n    - Risk Score: 70/75\\n    - Risk Level: LOW RISK\\n    \\n    Recommendation: APPROVE with standard terms\\n    \\n    Additional Notes:\\n    - DTI ratio of 0.0% is excellent\\n    - Credit score of 720 is good\\n    - Loan amount represents 0.0% of annual income\\n    ' name='credit_risk_analyzer' id='cd0321fa-37e9-446d-b57c-361e99791d30' tool_call_id='call_3AzQ06F7IMgwWVD680DFR7sa', content='### Product Recommendations for Customer 11111\\n\\n**Customer Profile:**\\n- **Credit Score:** 720\\n- **Account Age:** 730 days\\n\\n**Recommended Products:**\\n- **Premium Checking Account** with no monthly fees\\n- **High-Yield Savings Account** (2.5% APY)\\n- **Personal Line of Credit** up to $25,000\\n- **Investment Advisory Services**\\n\\n**Next Steps:**\\n- Schedule a consultation with a relationship manager\\n- Review product terms and conditions\\n- Complete the application process\\n\\n---\\n\\n### Credit Risk Analysis Report\\n\\n**Customer Profile:**\\n- **Annual Income:** $150,000\\n- **Monthly Debt:** $0\\n- **Credit Score:** 720\\n\\n**Risk Assessment:**\\n- **Debt-to-Income Ratio:** 0.0%\\n- **Risk Score:** 70/75\\n- **Risk Level:** LOW RISK\\n\\n**Recommendation:** APPROVE with standard terms\\n\\n**Additional Notes:**\\n- A DTI ratio of 0.0% is excellent\\n- A credit score of 720 is considered good\\n- The loan amount represents 0.0% of annual income\\n\\n---\\n\\nFeel free to reach out if you have any questions or need further assistance!' additional_kwargs={'refusal': None} response_metadata={'token_usage': {'completion_tokens': 255, 'prompt_tokens': 2149, 'total_tokens': 2404, 'completion_tokens_details': {'accepted_prediction_tokens': 0, 'audio_tokens': 0, 'reasoning_tokens': 0, 'rejected_prediction_tokens': 0}, 'prompt_tokens_details': {'audio_tokens': 0, 'cached_tokens': 1792}}, 'model_name': 'gpt-4o-mini-2024-07-18', 'system_fingerprint': 'fp_e665f7564b', 'id': 'chatcmpl-CBkeqm2aIldTOaUcDsMPt97oOuoj3', 'service_tier': 'default', 'finish_reason': 'stop', 'logprobs': None} id='run--beb96e5a-38ea-4c48-aa78-a5e103125236-0' usage_metadata={'input_tokens': 2149, 'output_tokens': 255, 'total_tokens': 2404, 'input_token_details': {'audio': 0, 'cache_read': 1792}, 'output_token_details': {'audio': 0, 'reasoning': 0}}], 'user_input': 'Recommend banking products for customer 11111 with $150,000 in savings and 720 credit score', 'session_id': '29c87780-bdbe-4669-995d-3c998db952a3', 'context': {}}</td>\n",
       "    </tr>\n",
       "    <tr>\n",
       "      <th>7</th>\n",
       "      <td>Calculate investment growth for $100,000 at 8% annual return over 10 years</td>\n",
       "      <td>[financial_calculator]</td>\n",
       "      <td>[future value, total return, annualized return, investment growth]</td>\n",
       "      <td>f6afb7b8-37c8-4128-bed4-aeb13a092c5a</td>\n",
       "      <td>financial_calculation</td>\n",
       "      <td>Here's the investment growth calculation for your investment of $100,000 at an 8% annual return over 10 years:\\n\\n### Investment Details:\\n- **Initial Investment:** $100,000.00\\n- **Annual Return:** 8.00%\\n- **Time Period:** 10 years\\n\\n### Results:\\n- **Future Value:** $215,892.50\\n- **Total Return:** $115,892.50\\n- **Annualized Return:** 8.00%\\n- **Growth Multiple:** 2.16x\\n\\nThis means that after 10 years, your investment would grow to approximately $215,892.50, resulting in a total return of $115,892.50.</td>\n",
       "      <td>{'messages': [content='Calculate investment growth for $100,000 at 8% annual return over 10 years' additional_kwargs={} response_metadata={} id='d1f9d28c-3a80-4b1d-be72-721988c5d819', content='' additional_kwargs={'tool_calls': [{'id': 'call_CIrN2b8UkbvbJTMI9eXUWdrg', 'function': {'arguments': '{\"calculation_type\":\"investment\",\"principal\":100000,\"rate\":8,\"term\":10}', 'name': 'financial_calculator'}, 'type': 'function'}], 'refusal': None} response_metadata={'token_usage': {'completion_tokens': 31, 'prompt_tokens': 1758, 'total_tokens': 1789, 'completion_tokens_details': {'accepted_prediction_tokens': 0, 'audio_tokens': 0, 'reasoning_tokens': 0, 'rejected_prediction_tokens': 0}, 'prompt_tokens_details': {'audio_tokens': 0, 'cached_tokens': 1664}}, 'model_name': 'gpt-4o-mini-2024-07-18', 'system_fingerprint': 'fp_e665f7564b', 'id': 'chatcmpl-CBkf2ABz7e4gLhnqBEct8hVO2mA9O', 'service_tier': 'default', 'finish_reason': 'tool_calls', 'logprobs': None} id='run--e8a01bf5-a7c7-4c06-8c87-9a5a8764ea20-0' tool_calls=[{'name': 'financial_calculator', 'args': {'calculation_type': 'investment', 'principal': 100000, 'rate': 8, 'term': 10}, 'id': 'call_CIrN2b8UkbvbJTMI9eXUWdrg', 'type': 'tool_call'}] usage_metadata={'input_tokens': 1758, 'output_tokens': 31, 'total_tokens': 1789, 'input_token_details': {'audio': 0, 'cache_read': 1664}, 'output_token_details': {'audio': 0, 'reasoning': 0}}, content='INVESTMENT GROWTH CALCULATION\\n        ================================\\n        \\n        Investment Details:\\n        - Initial Investment: $100,000.00\\n        - Annual Return: 8.00%\\n        - Time Period: 10 years\\n        \\n        Results:\\n        - Future Value: $215,892.50\\n        - Total Return: $115,892.50\\n        - Annualized Return: 8.00%\\n        - Growth Multiple: 2.16x\\n        ' name='financial_calculator' id='e8211cd2-d035-4402-a735-91aac5536a99' tool_call_id='call_CIrN2b8UkbvbJTMI9eXUWdrg', content=\"Here's the investment growth calculation for your investment of $100,000 at an 8% annual return over 10 years:\\n\\n### Investment Details:\\n- **Initial Investment:** $100,000.00\\n- **Annual Return:** 8.00%\\n- **Time Period:** 10 years\\n\\n### Results:\\n- **Future Value:** $215,892.50\\n- **Total Return:** $115,892.50\\n- **Annualized Return:** 8.00%\\n- **Growth Multiple:** 2.16x\\n\\nThis means that after 10 years, your investment would grow to approximately $215,892.50, resulting in a total return of $115,892.50.\" additional_kwargs={'refusal': None} response_metadata={'token_usage': {'completion_tokens': 144, 'prompt_tokens': 1898, 'total_tokens': 2042, 'completion_tokens_details': {'accepted_prediction_tokens': 0, 'audio_tokens': 0, 'reasoning_tokens': 0, 'rejected_prediction_tokens': 0}, 'prompt_tokens_details': {'audio_tokens': 0, 'cached_tokens': 1664}}, 'model_name': 'gpt-4o-mini-2024-07-18', 'system_fingerprint': 'fp_e665f7564b', 'id': 'chatcmpl-CBkf6tNC43wMMbciltj4BvDxjlsaY', 'service_tier': 'default', 'finish_reason': 'stop', 'logprobs': None} id='run--8a5ce851-75ad-4d66-a46a-bd41cd88ec0c-0' usage_metadata={'input_tokens': 1898, 'output_tokens': 144, 'total_tokens': 2042, 'input_token_details': {'audio': 0, 'cache_read': 1664}, 'output_token_details': {'audio': 0, 'reasoning': 0}}], 'user_input': 'Calculate investment growth for $100,000 at 8% annual return over 10 years', 'session_id': 'f6afb7b8-37c8-4128-bed4-aeb13a092c5a', 'context': {}}</td>\n",
       "    </tr>\n",
       "    <tr>\n",
       "      <th>8</th>\n",
       "      <td>Assess credit risk for a $1,000,000 commercial real estate loan with $500,000 annual business income</td>\n",
       "      <td>[credit_risk_analyzer]</td>\n",
       "      <td>[HIGH RISK, VERY HIGH RISK, business loan, commercial, risk assessment]</td>\n",
       "      <td>8d525881-8d80-41b5-b388-3499c6f8304c</td>\n",
       "      <td>credit_risk</td>\n",
       "      <td>To assess the credit risk for the $1,000,000 commercial real estate loan, I need the following additional information:\\n\\n1. Total monthly debt payments (customer_debt)\\n2. Credit score (credit_score)\\n\\nPlease provide these details so I can proceed with the analysis.</td>\n",
       "      <td>{'messages': [content='Assess credit risk for a $1,000,000 commercial real estate loan with $500,000 annual business income' additional_kwargs={} response_metadata={} id='0f39209d-7824-468a-bafc-09ce64db53ac', content='To assess the credit risk for the $1,000,000 commercial real estate loan, I need the following additional information:\\n\\n1. Total monthly debt payments (customer_debt)\\n2. Credit score (credit_score)\\n\\nPlease provide these details so I can proceed with the analysis.' additional_kwargs={'refusal': None} response_metadata={'token_usage': {'completion_tokens': 57, 'prompt_tokens': 1763, 'total_tokens': 1820, 'completion_tokens_details': {'accepted_prediction_tokens': 0, 'audio_tokens': 0, 'reasoning_tokens': 0, 'rejected_prediction_tokens': 0}, 'prompt_tokens_details': {'audio_tokens': 0, 'cached_tokens': 1664}}, 'model_name': 'gpt-4o-mini-2024-07-18', 'system_fingerprint': 'fp_e665f7564b', 'id': 'chatcmpl-CBkfBOh7ex8CfWzbDrsBcWj7EuDgY', 'service_tier': 'default', 'finish_reason': 'stop', 'logprobs': None} id='run--80ea6041-c479-4857-9fc9-de858b21a792-0' usage_metadata={'input_tokens': 1763, 'output_tokens': 57, 'total_tokens': 1820, 'input_token_details': {'audio': 0, 'cache_read': 1664}, 'output_token_details': {'audio': 0, 'reasoning': 0}}], 'user_input': 'Assess credit risk for a $1,000,000 commercial real estate loan with $500,000 annual business income', 'session_id': '8d525881-8d80-41b5-b388-3499c6f8304c', 'context': {}}</td>\n",
       "    </tr>\n",
       "    <tr>\n",
       "      <th>9</th>\n",
       "      <td>Process a $2,500 deposit to savings account 67890</td>\n",
       "      <td>[customer_account_manager]</td>\n",
       "      <td>[transaction processed, deposit, new balance, transaction ID]</td>\n",
       "      <td>02de0065-0218-40f3-9b5a-086bb9867605</td>\n",
       "      <td>account_management</td>\n",
       "      <td>I apologize, but I encountered an error while processing your banking request: Recursion limit of 25 reached without hitting a stop condition. You can increase the limit by setting the `recursion_limit` config key.\\nFor troubleshooting, visit: https://python.langchain.com/docs/troubleshooting/errors/GRAPH_RECURSION_LIMIT. Please try rephrasing your question or contact support if the issue persists.</td>\n",
       "      <td>{'messages': [content='Process a $2,500 deposit to savings account 67890' additional_kwargs={} response_metadata={}, content='I apologize, but I encountered an error while processing your banking request: Recursion limit of 25 reached without hitting a stop condition. You can increase the limit by setting the `recursion_limit` config key.\\nFor troubleshooting, visit: https://python.langchain.com/docs/troubleshooting/errors/GRAPH_RECURSION_LIMIT. Please try rephrasing your question or contact support if the issue persists.' additional_kwargs={} response_metadata={}], 'error': 'Recursion limit of 25 reached without hitting a stop condition. You can increase the limit by setting the `recursion_limit` config key.\n",
       "For troubleshooting, visit: https://python.langchain.com/docs/troubleshooting/errors/GRAPH_RECURSION_LIMIT'}</td>\n",
       "    </tr>\n",
       "  </tbody>\n",
       "</table>\n",
       "</div>"
      ],
      "text/plain": [
       "                                                                                                                               input  \\\n",
       "0  Analyze credit risk for a $50,000 personal loan application with $75,000 annual income, $1,200 monthly debt, and 720 credit score   \n",
       "1                             Check SR 11-7 compliance for a $150,000 business loan to a commercial customer with 90-day old account   \n",
       "2                                                    Calculate monthly payment for a $300,000 mortgage at 4.5% interest for 30 years   \n",
       "3                                                                                   Check account balance for checking account 12345   \n",
       "4                                                      Analyze fraud risk for a $15,000 wire transfer from customer 67890 to Nigeria   \n",
       "5                                         Verify AML compliance for a $25,000 deposit from a new customer account opened 15 days ago   \n",
       "6                                        Recommend banking products for customer 11111 with $150,000 in savings and 720 credit score   \n",
       "7                                                         Calculate investment growth for $100,000 at 8% annual return over 10 years   \n",
       "8                               Assess credit risk for a $1,000,000 commercial real estate loan with $500,000 annual business income   \n",
       "9                                                                                  Process a $2,500 deposit to savings account 67890   \n",
       "\n",
       "               expected_tools                                                                  possible_outputs  \\\n",
       "0      [credit_risk_analyzer]                [LOW RISK, MEDIUM RISK, APPROVE, debt-to-income ratio, risk score]   \n",
       "1        [compliance_monitor]             [SR 11-7, model validation, compliance, risk level, required actions]   \n",
       "2      [financial_calculator]         [monthly payment, amortization, total interest, loan payment calculation]   \n",
       "3  [customer_account_manager]                      [balance, account information, John Smith, checking account]   \n",
       "4    [fraud_detection_system]      [HIGH RISK, fraud detection, risk score, geographic risk, block transaction]   \n",
       "5        [compliance_monitor]                  [KYC/AML, enhanced due diligence, CTR filing, compliance issues]   \n",
       "6  [customer_account_manager]  [product recommendations, premium accounts, investment services, line of credit]   \n",
       "7      [financial_calculator]                [future value, total return, annualized return, investment growth]   \n",
       "8      [credit_risk_analyzer]           [HIGH RISK, VERY HIGH RISK, business loan, commercial, risk assessment]   \n",
       "9  [customer_account_manager]                     [transaction processed, deposit, new balance, transaction ID]   \n",
       "\n",
       "                             session_id               category  \\\n",
       "0  0c358bd6-12a0-4665-a16b-c63f85438406            credit_risk   \n",
       "1  95b94871-b042-457d-a77d-06d6d6ae1b33             compliance   \n",
       "2  51bc9ed9-cee3-4622-aadd-92c70476256f  financial_calculation   \n",
       "3  69688f05-209e-4c78-9d02-e9dc2260ef27     account_management   \n",
       "4  5ae02888-78c2-4637-97bd-81715f9e8f44        fraud_detection   \n",
       "5  612b2010-f975-4d3b-bc30-bd0463a8fb59             compliance   \n",
       "6  29c87780-bdbe-4669-995d-3c998db952a3     account_management   \n",
       "7  f6afb7b8-37c8-4128-bed4-aeb13a092c5a  financial_calculation   \n",
       "8  8d525881-8d80-41b5-b388-3499c6f8304c            credit_risk   \n",
       "9  02de0065-0218-40f3-9b5a-086bb9867605     account_management   \n",
       "\n",
       "                                                                                                                                                                                                                                                                                                                                                                                                                                                                                                                                                                                                                                                                                                                                                                                                                                                                                                                                                                                                                                                banking_agent_model_prediction  \\\n",
       "0                                                                                                                                                                                                                                                                                                                                                                                                              ### Credit Risk Analysis Report\\n\\n**Customer Profile:**\\n- **Annual Income:** $75,000.00\\n- **Monthly Debt:** $1,200.00\\n- **Credit Score:** 720\\n- **Loan Request:** $50,000.00 (personal)\\n\\n**Risk Assessment:**\\n- **Debt-to-Income Ratio:** 19.2%\\n- **Risk Score:** 70/75\\n- **Risk Level:** LOW RISK\\n\\n**Recommendation:** **APPROVE** with standard terms\\n\\n**Additional Notes:**\\n- The Debt-to-Income (DTI) ratio of 19.2% is excellent.\\n- A credit score of 720 is considered good.\\n- The loan amount represents 66.7% of annual income.\\n\\nThis analysis indicates that the applicant is a low-risk candidate for the requested personal loan.   \n",
       "1                                                                                                                                                                                                                                                      ### Compliance Monitoring Report\\n\\n**Transaction Details:**\\n- **Type:** Loan\\n- **Amount:** $150,000.00\\n- **Customer Type:** Commercial\\n- **Account Age:** 90 days\\n- **Framework:** SR 11-7\\n\\n**Compliance Assessment:**\\n- **Risk Level:** Medium\\n- **Issues Found:** 2\\n\\n**Compliance Issues:**\\n1. Large transaction requires enhanced model validation per SR 11-7.\\n2. Commercial transaction requires business model validation.\\n\\n**Required Actions:**\\n- Implement additional model monitoring and validation.\\n- Document business model assumptions and limitations.\\n\\n**Regulatory References:**\\n- SR 11-7: Model Risk Management\\n- SS 1-23: Model Risk Management\\n- KYC/AML: Customer Due Diligence\\n\\nPlease ensure that the necessary actions are taken to address these compliance issues.   \n",
       "2                                                                                                                                                                                                                                                                                                                                                                                                                                                                                                                                                                                                                                                                                                                         The monthly payment for a $300,000 mortgage at a 4.5% interest rate for 30 years is **$1,520.06**.\\n\\n### Loan Details:\\n- **Principal:** $300,000.00\\n- **Annual Rate:** 4.50%\\n- **Term:** 30 years (360 monthly payments)\\n\\n### Summary:\\n- **Total Payments:** $547,220.13\\n- **Total Interest:** $247,220.13\\n- **Interest Percentage:** 45.2%   \n",
       "3                                                                                                                                                                                                                                                                                                                                                                                                                                                                                                                                                                                                                                                                                                                                                                          Here is the account balance report for checking account **12345**:\\n\\n- **Customer Name:** John Smith\\n- **Account Type:** Checking\\n- **Current Balance:** $2,547.89\\n- **Last Updated:** September 3, 2025\\n- **Account Status:** Active\\n\\nIf you need any further assistance, feel free to ask!   \n",
       "4                                                                                         ### Fraud Detection Analysis\\n\\n**Transaction Details:**\\n- **Transaction ID:** TX123456\\n- **Customer ID:** 67890\\n- **Amount:** $15,000.00\\n- **Type:** Wire Transfer\\n- **Location:** Nigeria\\n\\n**Risk Assessment:** 🔴 **HIGH RISK**\\n- **Risk Score:** 85/100\\n- **Identified Risk Factors:** 3\\n\\n**Identified Risk Factors:**\\n1. High-value transaction (greater than $10,000)\\n2. Medium-value transaction (greater than $1,000)\\n3. High-risk geographic location (Nigeria)\\n\\n**Recommendations:**\\n- Require additional verification before proceeding.\\n- Block the transaction due to the high-risk nature of the destination country.\\n\\n**Decision:** **BLOCK TRANSACTION**\\n\\n### Next Steps:\\n- Log the risk assessment in the fraud monitoring system.\\n- Update the customer risk profile if necessary.\\n- Monitor for similar transaction patterns in the future.\\n\\nIf you have any further questions or need assistance with anything else, feel free to ask!   \n",
       "5                                                                                                                                                                                                                                       **COMPLIANCE MONITORING REPORT**\\n\\n**Transaction Details:**\\n- **Type:** Deposit\\n- **Amount:** $25,000.00\\n- **Customer Type:** Retail\\n- **Account Age:** 15 days\\n- **Framework:** KYC/AML\\n\\n**Compliance Assessment:**\\n- **Risk Level:** HIGH\\n- **Issues Found:** 2\\n\\n**Compliance Issues:**\\n1. Transaction above $10k requires Currency Transaction Report (CTR) filing.\\n2. New account with significant transaction requires enhanced due diligence.\\n\\n**Required Actions:**\\n- File Currency Transaction Report (CTR).\\n- Conduct enhanced customer due diligence.\\n\\n**Regulatory References:**\\n- SR 11-7: Model Risk Management\\n- SS 1-23: Model Risk Management\\n- KYC/AML: Customer Due Diligence\\n\\nPlease ensure that the necessary compliance actions are taken promptly to adhere to regulatory requirements.   \n",
       "6  ### Product Recommendations for Customer 11111\\n\\n**Customer Profile:**\\n- **Credit Score:** 720\\n- **Account Age:** 730 days\\n\\n**Recommended Products:**\\n- **Premium Checking Account** with no monthly fees\\n- **High-Yield Savings Account** (2.5% APY)\\n- **Personal Line of Credit** up to $25,000\\n- **Investment Advisory Services**\\n\\n**Next Steps:**\\n- Schedule a consultation with a relationship manager\\n- Review product terms and conditions\\n- Complete the application process\\n\\n---\\n\\n### Credit Risk Analysis Report\\n\\n**Customer Profile:**\\n- **Annual Income:** $150,000\\n- **Monthly Debt:** $0\\n- **Credit Score:** 720\\n\\n**Risk Assessment:**\\n- **Debt-to-Income Ratio:** 0.0%\\n- **Risk Score:** 70/75\\n- **Risk Level:** LOW RISK\\n\\n**Recommendation:** APPROVE with standard terms\\n\\n**Additional Notes:**\\n- A DTI ratio of 0.0% is excellent\\n- A credit score of 720 is considered good\\n- The loan amount represents 0.0% of annual income\\n\\n---\\n\\nFeel free to reach out if you have any questions or need further assistance!   \n",
       "7                                                                                                                                                                                                                                                                                                                                                                                                                                                                                                                                            Here's the investment growth calculation for your investment of $100,000 at an 8% annual return over 10 years:\\n\\n### Investment Details:\\n- **Initial Investment:** $100,000.00\\n- **Annual Return:** 8.00%\\n- **Time Period:** 10 years\\n\\n### Results:\\n- **Future Value:** $215,892.50\\n- **Total Return:** $115,892.50\\n- **Annualized Return:** 8.00%\\n- **Growth Multiple:** 2.16x\\n\\nThis means that after 10 years, your investment would grow to approximately $215,892.50, resulting in a total return of $115,892.50.   \n",
       "8                                                                                                                                                                                                                                                                                                                                                                                                                                                                                                                                                                                                                                                                                                                                                                                                 To assess the credit risk for the $1,000,000 commercial real estate loan, I need the following additional information:\\n\\n1. Total monthly debt payments (customer_debt)\\n2. Credit score (credit_score)\\n\\nPlease provide these details so I can proceed with the analysis.   \n",
       "9                                                                                                                                                                                                                                                                                                                                                                                                                                                                                                                                                                                                                                                            I apologize, but I encountered an error while processing your banking request: Recursion limit of 25 reached without hitting a stop condition. You can increase the limit by setting the `recursion_limit` config key.\\nFor troubleshooting, visit: https://python.langchain.com/docs/troubleshooting/errors/GRAPH_RECURSION_LIMIT. Please try rephrasing your question or contact support if the issue persists.   \n",
       "\n",
       "                                                                                                                                                                                                                                                                                                                                                                                                                                                                                                                                                                                                                                                                                                                                                                                                                                                                                                                                                                                                                                                                                                                                                                                                                                                                                                                                                                                                                                                                                                                                                                                                                                                                                                                                                                                                                                                                                                                                                                                                                                                                                                                                                                                                                                                                                                                                                                                                                                                                                                                                                                                                                                                                                                                                                                                                                                                                                                                                                                                                                                                                                                                                                                                                                                                                                                                                                                                                                                                                                                                                                                                                                                                                                                                                                                                                                                                                                                                                                                                                                                                                                                                                                                                                                                                                                                                                                                                                                                                                                                                                                                                                                                                                                                                                                                                                                                                                                                                                                                                                                                                                                                                                                                                                                                                                                                                                                                                                                          banking_agent_model_output  \n",
       "0                                                                                                                                                                                                                                                                                                                                                                                                                                                                                                                                                                                                                                                                                                                                                                                                                                                                                                                                                                                                                                                                                                                                                                                                                                                                                                                                                                                                                            {'messages': [content='Analyze credit risk for a $50,000 personal loan application with $75,000 annual income, $1,200 monthly debt, and 720 credit score' additional_kwargs={} response_metadata={} id='ba428c76-7f3f-40cc-b851-4dcc1651e452', content='' additional_kwargs={'tool_calls': [{'id': 'call_cAaHYsJoIE68iOZa8lJoYnQn', 'function': {'arguments': '{\"customer_income\":75000,\"customer_debt\":1200,\"credit_score\":720,\"loan_amount\":50000,\"loan_type\":\"personal\"}', 'name': 'credit_risk_analyzer'}, 'type': 'function'}], 'refusal': None} response_metadata={'token_usage': {'completion_tokens': 42, 'prompt_tokens': 1772, 'total_tokens': 1814, 'completion_tokens_details': {'accepted_prediction_tokens': 0, 'audio_tokens': 0, 'reasoning_tokens': 0, 'rejected_prediction_tokens': 0}, 'prompt_tokens_details': {'audio_tokens': 0, 'cached_tokens': 0}}, 'model_name': 'gpt-4o-mini-2024-07-18', 'system_fingerprint': 'fp_560af6e559', 'id': 'chatcmpl-CBke5xbsUONjeS8daksNrSvwj7Gg1', 'service_tier': 'default', 'finish_reason': 'tool_calls', 'logprobs': None} id='run--918f90ee-1e96-40b2-9672-b338557a4ce1-0' tool_calls=[{'name': 'credit_risk_analyzer', 'args': {'customer_income': 75000, 'customer_debt': 1200, 'credit_score': 720, 'loan_amount': 50000, 'loan_type': 'personal'}, 'id': 'call_cAaHYsJoIE68iOZa8lJoYnQn', 'type': 'tool_call'}] usage_metadata={'input_tokens': 1772, 'output_tokens': 42, 'total_tokens': 1814, 'input_token_details': {'audio': 0, 'cache_read': 0}, 'output_token_details': {'audio': 0, 'reasoning': 0}}, content='CREDIT RISK ANALYSIS REPORT\\n    ================================\\n    \\n    Customer Profile:\\n    - Annual Income: $75,000.00\\n    - Monthly Debt: $1,200.00\\n    - Credit Score: 720\\n    - Loan Request: $50,000.00 (personal)\\n    \\n    Risk Assessment:\\n    - Debt-to-Income Ratio: 19.2%\\n    - Risk Score: 70/75\\n    - Risk Level: LOW RISK\\n    \\n    Recommendation: APPROVE with standard terms\\n    \\n    Additional Notes:\\n    - DTI ratio of 19.2% is excellent\\n    - Credit score of 720 is good\\n    - Loan amount represents 66.7% of annual income\\n    ' name='credit_risk_analyzer' id='bc3c7f3f-2831-4861-8f39-af6c6de029df' tool_call_id='call_cAaHYsJoIE68iOZa8lJoYnQn', content='### Credit Risk Analysis Report\\n\\n**Customer Profile:**\\n- **Annual Income:** $75,000.00\\n- **Monthly Debt:** $1,200.00\\n- **Credit Score:** 720\\n- **Loan Request:** $50,000.00 (personal)\\n\\n**Risk Assessment:**\\n- **Debt-to-Income Ratio:** 19.2%\\n- **Risk Score:** 70/75\\n- **Risk Level:** LOW RISK\\n\\n**Recommendation:** **APPROVE** with standard terms\\n\\n**Additional Notes:**\\n- The Debt-to-Income (DTI) ratio of 19.2% is excellent.\\n- A credit score of 720 is considered good.\\n- The loan amount represents 66.7% of annual income.\\n\\nThis analysis indicates that the applicant is a low-risk candidate for the requested personal loan.' additional_kwargs={'refusal': None} response_metadata={'token_usage': {'completion_tokens': 174, 'prompt_tokens': 1977, 'total_tokens': 2151, 'completion_tokens_details': {'accepted_prediction_tokens': 0, 'audio_tokens': 0, 'reasoning_tokens': 0, 'rejected_prediction_tokens': 0}, 'prompt_tokens_details': {'audio_tokens': 0, 'cached_tokens': 1792}}, 'model_name': 'gpt-4o-mini-2024-07-18', 'system_fingerprint': 'fp_560af6e559', 'id': 'chatcmpl-CBke7PiUYJdaxjDE5PBKJQ2N2895e', 'service_tier': 'default', 'finish_reason': 'stop', 'logprobs': None} id='run--9623cf80-96cc-425a-8f99-098f5606865a-0' usage_metadata={'input_tokens': 1977, 'output_tokens': 174, 'total_tokens': 2151, 'input_token_details': {'audio': 0, 'cache_read': 1792}, 'output_token_details': {'audio': 0, 'reasoning': 0}}], 'user_input': 'Analyze credit risk for a $50,000 personal loan application with $75,000 annual income, $1,200 monthly debt, and 720 credit score', 'session_id': '0c358bd6-12a0-4665-a16b-c63f85438406', 'context': {}}  \n",
       "1                                                                                                                                                                                                                                                                                                                                                                                                                                                                                                                                                                                                                                                                                                                                                                                                                                                                                                                                                                                                                                  {'messages': [content='Check SR 11-7 compliance for a $150,000 business loan to a commercial customer with 90-day old account' additional_kwargs={} response_metadata={} id='2423000c-9208-42cb-ad33-7ae57967b9df', content='' additional_kwargs={'tool_calls': [{'id': 'call_QvK8j170ZnkBpSkYkrsrmy27', 'function': {'arguments': '{\"transaction_type\":\"loan\",\"transaction_amount\":150000,\"customer_type\":\"commercial\",\"account_age_days\":90,\"compliance_framework\":\"SR_11_7\"}', 'name': 'compliance_monitor'}, 'type': 'function'}], 'refusal': None} response_metadata={'token_usage': {'completion_tokens': 43, 'prompt_tokens': 1765, 'total_tokens': 1808, 'completion_tokens_details': {'accepted_prediction_tokens': 0, 'audio_tokens': 0, 'reasoning_tokens': 0, 'rejected_prediction_tokens': 0}, 'prompt_tokens_details': {'audio_tokens': 0, 'cached_tokens': 0}}, 'model_name': 'gpt-4o-mini-2024-07-18', 'system_fingerprint': 'fp_e665f7564b', 'id': 'chatcmpl-CBkeEN8W0E1b7ukreo0IIqIZBo9XJ', 'service_tier': 'default', 'finish_reason': 'tool_calls', 'logprobs': None} id='run--3a229633-2a1d-40d9-8e17-a7c53a014770-0' tool_calls=[{'name': 'compliance_monitor', 'args': {'transaction_type': 'loan', 'transaction_amount': 150000, 'customer_type': 'commercial', 'account_age_days': 90, 'compliance_framework': 'SR_11_7'}, 'id': 'call_QvK8j170ZnkBpSkYkrsrmy27', 'type': 'tool_call'}] usage_metadata={'input_tokens': 1765, 'output_tokens': 43, 'total_tokens': 1808, 'input_token_details': {'audio': 0, 'cache_read': 0}, 'output_token_details': {'audio': 0, 'reasoning': 0}}, content='COMPLIANCE MONITORING REPORT\\n    ================================\\n    \\n    Transaction Details:\\n    - Type: Loan\\n    - Amount: $150,000.00\\n    - Customer Type: Commercial\\n    - Account Age: 90 days\\n    - Framework: Sr 11 7\\n    \\n    Compliance Assessment:\\n    - Risk Level: MEDIUM\\n    - Issues Found: 2\\n    \\n    Compliance Issues:\\n      • Large transaction requires enhanced model validation per SR 11-7\\n  • Commercial transaction requires business model validation\\n    \\n    Required Actions:\\n      • Implement additional model monitoring and validation\\n  • Document business model assumptions and limitations\\n    \\n    Regulatory References:\\n    - SR 11-7: Model Risk Management\\n    - SS 1-23: Model Risk Management\\n    - KYC/AML: Customer Due Diligence\\n    ' name='compliance_monitor' id='bf413b16-9fbb-474a-8517-4941ed1d53a0' tool_call_id='call_QvK8j170ZnkBpSkYkrsrmy27', content='### Compliance Monitoring Report\\n\\n**Transaction Details:**\\n- **Type:** Loan\\n- **Amount:** $150,000.00\\n- **Customer Type:** Commercial\\n- **Account Age:** 90 days\\n- **Framework:** SR 11-7\\n\\n**Compliance Assessment:**\\n- **Risk Level:** Medium\\n- **Issues Found:** 2\\n\\n**Compliance Issues:**\\n1. Large transaction requires enhanced model validation per SR 11-7.\\n2. Commercial transaction requires business model validation.\\n\\n**Required Actions:**\\n- Implement additional model monitoring and validation.\\n- Document business model assumptions and limitations.\\n\\n**Regulatory References:**\\n- SR 11-7: Model Risk Management\\n- SS 1-23: Model Risk Management\\n- KYC/AML: Customer Due Diligence\\n\\nPlease ensure that the necessary actions are taken to address these compliance issues.' additional_kwargs={'refusal': None} response_metadata={'token_usage': {'completion_tokens': 178, 'prompt_tokens': 1989, 'total_tokens': 2167, 'completion_tokens_details': {'accepted_prediction_tokens': 0, 'audio_tokens': 0, 'reasoning_tokens': 0, 'rejected_prediction_tokens': 0}, 'prompt_tokens_details': {'audio_tokens': 0, 'cached_tokens': 1664}}, 'model_name': 'gpt-4o-mini-2024-07-18', 'system_fingerprint': 'fp_560af6e559', 'id': 'chatcmpl-CBkeGyKX3RUQTJVQN9esuEcWCIDlZ', 'service_tier': 'default', 'finish_reason': 'stop', 'logprobs': None} id='run--c1c25303-27b1-4506-96bb-a1c5b70095b0-0' usage_metadata={'input_tokens': 1989, 'output_tokens': 178, 'total_tokens': 2167, 'input_token_details': {'audio': 0, 'cache_read': 1664}, 'output_token_details': {'audio': 0, 'reasoning': 0}}], 'user_input': 'Check SR 11-7 compliance for a $150,000 business loan to a commercial customer with 90-day old account', 'session_id': '95b94871-b042-457d-a77d-06d6d6ae1b33', 'context': {}}  \n",
       "2                                                                                                                                                                                                                                                                                                                                                                                                                                                                                                                                                                                                                                                                                                                                                                                                                                                                                                                                                                                                                                                                                                                                                                                                                                                                                                                                                                                                                                                                                                                                                                                                                                                                                                                                                                                                                                                                                                                                                                                                                              {'messages': [content='Calculate monthly payment for a $300,000 mortgage at 4.5% interest for 30 years' additional_kwargs={} response_metadata={} id='d44a5ef7-8878-4721-9f88-59135c1482e3', content='' additional_kwargs={'tool_calls': [{'id': 'call_4fkgxbMf37yBUfTyTOcfiOON', 'function': {'arguments': '{\"calculation_type\":\"loan_payment\",\"principal\":300000,\"rate\":4.5,\"term\":30}', 'name': 'financial_calculator'}, 'type': 'function'}], 'refusal': None} response_metadata={'token_usage': {'completion_tokens': 34, 'prompt_tokens': 1761, 'total_tokens': 1795, 'completion_tokens_details': {'accepted_prediction_tokens': 0, 'audio_tokens': 0, 'reasoning_tokens': 0, 'rejected_prediction_tokens': 0}, 'prompt_tokens_details': {'audio_tokens': 0, 'cached_tokens': 1664}}, 'model_name': 'gpt-4o-mini-2024-07-18', 'system_fingerprint': 'fp_560af6e559', 'id': 'chatcmpl-CBkeKmXXwvw10L7Xj6BlnHSrUuVw2', 'service_tier': 'default', 'finish_reason': 'tool_calls', 'logprobs': None} id='run--56075552-9864-4924-93a1-f07c2d5d305a-0' tool_calls=[{'name': 'financial_calculator', 'args': {'calculation_type': 'loan_payment', 'principal': 300000, 'rate': 4.5, 'term': 30}, 'id': 'call_4fkgxbMf37yBUfTyTOcfiOON', 'type': 'tool_call'}] usage_metadata={'input_tokens': 1761, 'output_tokens': 34, 'total_tokens': 1795, 'input_token_details': {'audio': 0, 'cache_read': 1664}, 'output_token_details': {'audio': 0, 'reasoning': 0}}, content='LOAN PAYMENT CALCULATION\\n        ================================\\n        \\n        Loan Details:\\n        - Principal: $300,000.00\\n        - Annual Rate: 4.50%\\n        - Term: 30 years (360 monthly payments)\\n        - Payment Frequency: Monthly\\n        \\n        Results:\\n        - Monthly Payment: $1,520.06\\n        - Total Payments: $547,220.13\\n        - Total Interest: $247,220.13\\n        - Interest Percentage: 45.2%\\n        ' name='financial_calculator' id='eaa34705-40d6-4ef9-9a07-2abd79319463' tool_call_id='call_4fkgxbMf37yBUfTyTOcfiOON', content='The monthly payment for a $300,000 mortgage at a 4.5% interest rate for 30 years is **$1,520.06**.\\n\\n### Loan Details:\\n- **Principal:** $300,000.00\\n- **Annual Rate:** 4.50%\\n- **Term:** 30 years (360 monthly payments)\\n\\n### Summary:\\n- **Total Payments:** $547,220.13\\n- **Total Interest:** $247,220.13\\n- **Interest Percentage:** 45.2%' additional_kwargs={'refusal': None} response_metadata={'token_usage': {'completion_tokens': 108, 'prompt_tokens': 1910, 'total_tokens': 2018, 'completion_tokens_details': {'accepted_prediction_tokens': 0, 'audio_tokens': 0, 'reasoning_tokens': 0, 'rejected_prediction_tokens': 0}, 'prompt_tokens_details': {'audio_tokens': 0, 'cached_tokens': 1664}}, 'model_name': 'gpt-4o-mini-2024-07-18', 'system_fingerprint': 'fp_560af6e559', 'id': 'chatcmpl-CBkeMXhgW4q92dblRZrVP3lfzyYhp', 'service_tier': 'default', 'finish_reason': 'stop', 'logprobs': None} id='run--6ba57adb-0e2f-4396-a165-86fc8797e5a6-0' usage_metadata={'input_tokens': 1910, 'output_tokens': 108, 'total_tokens': 2018, 'input_token_details': {'audio': 0, 'cache_read': 1664}, 'output_token_details': {'audio': 0, 'reasoning': 0}}], 'user_input': 'Calculate monthly payment for a $300,000 mortgage at 4.5% interest for 30 years', 'session_id': '51bc9ed9-cee3-4622-aadd-92c70476256f', 'context': {}}  \n",
       "3                                                                                                                                                                                                                                                                                                                                                                                                                                                                                                                                                                                                                                                                                                                                                                                                                                                                                                                                                                                                                                                                                                                                                                                                                                                                                                                                                                                                                                                                                                                                                                                                                                                                                                                                                                                                                                                                                                                                                                                                                                                                                                                                                                                                                                                                                 {'messages': [content='Check account balance for checking account 12345' additional_kwargs={} response_metadata={} id='a9e5120c-a40f-407c-915d-e187d75c8a8c', content='' additional_kwargs={'tool_calls': [{'id': 'call_xhkMDAnzVHbcXkJ2u3V71MP2', 'function': {'arguments': '{\"account_type\":\"checking\",\"customer_id\":\"12345\",\"action\":\"check_balance\"}', 'name': 'customer_account_manager'}, 'type': 'function'}], 'refusal': None} response_metadata={'token_usage': {'completion_tokens': 27, 'prompt_tokens': 1749, 'total_tokens': 1776, 'completion_tokens_details': {'accepted_prediction_tokens': 0, 'audio_tokens': 0, 'reasoning_tokens': 0, 'rejected_prediction_tokens': 0}, 'prompt_tokens_details': {'audio_tokens': 0, 'cached_tokens': 1664}}, 'model_name': 'gpt-4o-mini-2024-07-18', 'system_fingerprint': 'fp_e665f7564b', 'id': 'chatcmpl-CBkePm1EkLvmLAIsUEnxlRpJPxnpE', 'service_tier': 'default', 'finish_reason': 'tool_calls', 'logprobs': None} id='run--666ebfab-15e7-4e1f-afbf-988bb306e853-0' tool_calls=[{'name': 'customer_account_manager', 'args': {'account_type': 'checking', 'customer_id': '12345', 'action': 'check_balance'}, 'id': 'call_xhkMDAnzVHbcXkJ2u3V71MP2', 'type': 'tool_call'}] usage_metadata={'input_tokens': 1749, 'output_tokens': 27, 'total_tokens': 1776, 'input_token_details': {'audio': 0, 'cache_read': 1664}, 'output_token_details': {'audio': 0, 'reasoning': 0}}, content='ACCOUNT BALANCE REPORT\\n        ================================\\n        \\n        Customer: John Smith\\n        Account Type: Checking\\n        Account ID: 12345\\n        \\n        Current Balance: $2,547.89\\n        Last Updated: 2025-09-03 17:29:30\\n        \\n        Account Status: Active\\n        ' name='customer_account_manager' id='1710c08a-0261-4616-9bf0-44c40bdf2b99' tool_call_id='call_xhkMDAnzVHbcXkJ2u3V71MP2', content='Here is the account balance report for checking account **12345**:\\n\\n- **Customer Name:** John Smith\\n- **Account Type:** Checking\\n- **Current Balance:** $2,547.89\\n- **Last Updated:** September 3, 2025\\n- **Account Status:** Active\\n\\nIf you need any further assistance, feel free to ask!' additional_kwargs={'refusal': None} response_metadata={'token_usage': {'completion_tokens': 74, 'prompt_tokens': 1851, 'total_tokens': 1925, 'completion_tokens_details': {'accepted_prediction_tokens': 0, 'audio_tokens': 0, 'reasoning_tokens': 0, 'rejected_prediction_tokens': 0}, 'prompt_tokens_details': {'audio_tokens': 0, 'cached_tokens': 1664}}, 'model_name': 'gpt-4o-mini-2024-07-18', 'system_fingerprint': 'fp_e665f7564b', 'id': 'chatcmpl-CBkeQ8brBgZLcJZlALVWMuoWwDOAu', 'service_tier': 'default', 'finish_reason': 'stop', 'logprobs': None} id='run--b0215730-fa25-45d4-a59e-973fb5a5e451-0' usage_metadata={'input_tokens': 1851, 'output_tokens': 74, 'total_tokens': 1925, 'input_token_details': {'audio': 0, 'cache_read': 1664}, 'output_token_details': {'audio': 0, 'reasoning': 0}}], 'user_input': 'Check account balance for checking account 12345', 'session_id': '69688f05-209e-4c78-9d02-e9dc2260ef27', 'context': {}}  \n",
       "4                                                                                                                                                                                                                                                                                                                                                                                                                                                                                                                                                                                                                                                                                                                                                                                                                                                                                         {'messages': [content='Analyze fraud risk for a $15,000 wire transfer from customer 67890 to Nigeria' additional_kwargs={} response_metadata={} id='567b0daf-e237-4921-a03d-0b86405cfc05', content='' additional_kwargs={'tool_calls': [{'id': 'call_YKXnjasywEi7QWMFv3mToAjo', 'function': {'arguments': '{\"transaction_id\":\"TX123456\",\"customer_id\":\"67890\",\"transaction_amount\":15000,\"transaction_type\":\"wire transfer\",\"location\":\"Nigeria\"}', 'name': 'fraud_detection_system'}, 'type': 'function'}], 'refusal': None} response_metadata={'token_usage': {'completion_tokens': 41, 'prompt_tokens': 1758, 'total_tokens': 1799, 'completion_tokens_details': {'accepted_prediction_tokens': 0, 'audio_tokens': 0, 'reasoning_tokens': 0, 'rejected_prediction_tokens': 0}, 'prompt_tokens_details': {'audio_tokens': 0, 'cached_tokens': 1664}}, 'model_name': 'gpt-4o-mini-2024-07-18', 'system_fingerprint': 'fp_e665f7564b', 'id': 'chatcmpl-CBkeSRevg80Xwn3Z7XxNitOZCWIzl', 'service_tier': 'default', 'finish_reason': 'tool_calls', 'logprobs': None} id='run--1e749102-b0e2-4524-b38f-9972058d750b-0' tool_calls=[{'name': 'fraud_detection_system', 'args': {'transaction_id': 'TX123456', 'customer_id': '67890', 'transaction_amount': 15000, 'transaction_type': 'wire transfer', 'location': 'Nigeria'}, 'id': 'call_YKXnjasywEi7QWMFv3mToAjo', 'type': 'tool_call'}] usage_metadata={'input_tokens': 1758, 'output_tokens': 41, 'total_tokens': 1799, 'input_token_details': {'audio': 0, 'cache_read': 1664}, 'output_token_details': {'audio': 0, 'reasoning': 0}}, content='FRAUD DETECTION ANALYSIS\\n    ================================\\n    \\n    Transaction Details:\\n    - Transaction ID: TX123456\\n    - Customer ID: 67890\\n    - Amount: $15,000.00\\n    - Type: Wire Transfer\\n    - Location: Nigeria\\n    - Device: N/A\\n    \\n    Risk Assessment: 🔴 HIGH RISK\\n    - Risk Score: 85/100\\n    - Risk Factors: 3\\n    \\n    Identified Risk Factors:\\n      • High-value transaction (>$10k)\\n  • Medium-value transaction (>$1k)\\n  • High-risk geographic location\\n    \\n    Recommendations:\\n      • Require additional verification\\n  • Block transaction - high-risk country\\n    \\n    Decision: BLOCK TRANSACTION\\n    \\n    Next Steps:\\n    - Log risk assessment in fraud monitoring system\\n    - Update customer risk profile if necessary\\n    - Monitor for similar patterns\\n    ' name='fraud_detection_system' id='156a5230-1549-44b6-9244-642ae3658dcf' tool_call_id='call_YKXnjasywEi7QWMFv3mToAjo', content='### Fraud Detection Analysis\\n\\n**Transaction Details:**\\n- **Transaction ID:** TX123456\\n- **Customer ID:** 67890\\n- **Amount:** $15,000.00\\n- **Type:** Wire Transfer\\n- **Location:** Nigeria\\n\\n**Risk Assessment:** 🔴 **HIGH RISK**\\n- **Risk Score:** 85/100\\n- **Identified Risk Factors:** 3\\n\\n**Identified Risk Factors:**\\n1. High-value transaction (greater than $10,000)\\n2. Medium-value transaction (greater than $1,000)\\n3. High-risk geographic location (Nigeria)\\n\\n**Recommendations:**\\n- Require additional verification before proceeding.\\n- Block the transaction due to the high-risk nature of the destination country.\\n\\n**Decision:** **BLOCK TRANSACTION**\\n\\n### Next Steps:\\n- Log the risk assessment in the fraud monitoring system.\\n- Update the customer risk profile if necessary.\\n- Monitor for similar transaction patterns in the future.\\n\\nIf you have any further questions or need assistance with anything else, feel free to ask!' additional_kwargs={'refusal': None} response_metadata={'token_usage': {'completion_tokens': 212, 'prompt_tokens': 1993, 'total_tokens': 2205, 'completion_tokens_details': {'accepted_prediction_tokens': 0, 'audio_tokens': 0, 'reasoning_tokens': 0, 'rejected_prediction_tokens': 0}, 'prompt_tokens_details': {'audio_tokens': 0, 'cached_tokens': 1664}}, 'model_name': 'gpt-4o-mini-2024-07-18', 'system_fingerprint': 'fp_560af6e559', 'id': 'chatcmpl-CBkeUoLag3WPLjFhFZjPuT52qvfqb', 'service_tier': 'default', 'finish_reason': 'stop', 'logprobs': None} id='run--ec93faef-9ac0-4b5c-b242-9e1fb8f7f8f5-0' usage_metadata={'input_tokens': 1993, 'output_tokens': 212, 'total_tokens': 2205, 'input_token_details': {'audio': 0, 'cache_read': 1664}, 'output_token_details': {'audio': 0, 'reasoning': 0}}], 'user_input': 'Analyze fraud risk for a $15,000 wire transfer from customer 67890 to Nigeria', 'session_id': '5ae02888-78c2-4637-97bd-81715f9e8f44', 'context': {}}  \n",
       "5                                                                                                                                                                                                                                                                                                                                                                                                                                                                                                                                                                                                                                                                                                                                                                                                                                                                                                                                                                                                                                                                              {'messages': [content='Verify AML compliance for a $25,000 deposit from a new customer account opened 15 days ago' additional_kwargs={} response_metadata={} id='8754f97e-83ef-4f09-8afc-4a4829e2cc87', content='' additional_kwargs={'tool_calls': [{'id': 'call_bc9h7y0CHuLRUIez4deIj6Hh', 'function': {'arguments': '{\"transaction_type\":\"deposit\",\"transaction_amount\":25000,\"customer_type\":\"retail\",\"account_age_days\":15,\"compliance_framework\":\"KYC_AML\"}', 'name': 'compliance_monitor'}, 'type': 'function'}], 'refusal': None} response_metadata={'token_usage': {'completion_tokens': 43, 'prompt_tokens': 1760, 'total_tokens': 1803, 'completion_tokens_details': {'accepted_prediction_tokens': 0, 'audio_tokens': 0, 'reasoning_tokens': 0, 'rejected_prediction_tokens': 0}, 'prompt_tokens_details': {'audio_tokens': 0, 'cached_tokens': 1664}}, 'model_name': 'gpt-4o-mini-2024-07-18', 'system_fingerprint': 'fp_e665f7564b', 'id': 'chatcmpl-CBkeaoctBwFsL1YtBZ83RtFLZnDpY', 'service_tier': 'default', 'finish_reason': 'tool_calls', 'logprobs': None} id='run--fd8ba955-970f-4f25-a7ff-bf927ec60430-0' tool_calls=[{'name': 'compliance_monitor', 'args': {'transaction_type': 'deposit', 'transaction_amount': 25000, 'customer_type': 'retail', 'account_age_days': 15, 'compliance_framework': 'KYC_AML'}, 'id': 'call_bc9h7y0CHuLRUIez4deIj6Hh', 'type': 'tool_call'}] usage_metadata={'input_tokens': 1760, 'output_tokens': 43, 'total_tokens': 1803, 'input_token_details': {'audio': 0, 'cache_read': 1664}, 'output_token_details': {'audio': 0, 'reasoning': 0}}, content='COMPLIANCE MONITORING REPORT\\n    ================================\\n    \\n    Transaction Details:\\n    - Type: Deposit\\n    - Amount: $25,000.00\\n    - Customer Type: Retail\\n    - Account Age: 15 days\\n    - Framework: Kyc Aml\\n    \\n    Compliance Assessment:\\n    - Risk Level: HIGH\\n    - Issues Found: 2\\n    \\n    Compliance Issues:\\n      • Transaction above $10k requires CTR filing\\n  • New account with significant transaction requires enhanced due diligence\\n    \\n    Required Actions:\\n      • File Currency Transaction Report (CTR)\\n  • Conduct enhanced customer due diligence\\n    \\n    Regulatory References:\\n    - SR 11-7: Model Risk Management\\n    - SS 1-23: Model Risk Management\\n    - KYC/AML: Customer Due Diligence\\n    ' name='compliance_monitor' id='8a09c82a-76d9-4a69-9112-2919aa7192fa' tool_call_id='call_bc9h7y0CHuLRUIez4deIj6Hh', content='**COMPLIANCE MONITORING REPORT**\\n\\n**Transaction Details:**\\n- **Type:** Deposit\\n- **Amount:** $25,000.00\\n- **Customer Type:** Retail\\n- **Account Age:** 15 days\\n- **Framework:** KYC/AML\\n\\n**Compliance Assessment:**\\n- **Risk Level:** HIGH\\n- **Issues Found:** 2\\n\\n**Compliance Issues:**\\n1. Transaction above $10k requires Currency Transaction Report (CTR) filing.\\n2. New account with significant transaction requires enhanced due diligence.\\n\\n**Required Actions:**\\n- File Currency Transaction Report (CTR).\\n- Conduct enhanced customer due diligence.\\n\\n**Regulatory References:**\\n- SR 11-7: Model Risk Management\\n- SS 1-23: Model Risk Management\\n- KYC/AML: Customer Due Diligence\\n\\nPlease ensure that the necessary compliance actions are taken promptly to adhere to regulatory requirements.' additional_kwargs={'refusal': None} response_metadata={'token_usage': {'completion_tokens': 186, 'prompt_tokens': 1980, 'total_tokens': 2166, 'completion_tokens_details': {'accepted_prediction_tokens': 0, 'audio_tokens': 0, 'reasoning_tokens': 0, 'rejected_prediction_tokens': 0}, 'prompt_tokens_details': {'audio_tokens': 0, 'cached_tokens': 1664}}, 'model_name': 'gpt-4o-mini-2024-07-18', 'system_fingerprint': 'fp_e665f7564b', 'id': 'chatcmpl-CBkecCeeco7vZHFDXnxTs2RYACJtX', 'service_tier': 'default', 'finish_reason': 'stop', 'logprobs': None} id='run--3bf36aa1-9cd3-4fa1-b68b-f1b9b51ca46e-0' usage_metadata={'input_tokens': 1980, 'output_tokens': 186, 'total_tokens': 2166, 'input_token_details': {'audio': 0, 'cache_read': 1664}, 'output_token_details': {'audio': 0, 'reasoning': 0}}], 'user_input': 'Verify AML compliance for a $25,000 deposit from a new customer account opened 15 days ago', 'session_id': '612b2010-f975-4d3b-bc30-bd0463a8fb59', 'context': {}}  \n",
       "6  {'messages': [content='Recommend banking products for customer 11111 with $150,000 in savings and 720 credit score' additional_kwargs={} response_metadata={} id='ddda29a1-0fa4-4192-8fb2-25751445ac9d', content='' additional_kwargs={'tool_calls': [{'id': 'call_1gmNum5x3Pc8G40QI6R86E28', 'function': {'arguments': '{\"account_type\": \"savings\", \"customer_id\": \"11111\", \"action\": \"recommend_product\"}', 'name': 'customer_account_manager'}, 'type': 'function'}, {'id': 'call_3AzQ06F7IMgwWVD680DFR7sa', 'function': {'arguments': '{\"customer_income\": 150000, \"customer_debt\": 0, \"credit_score\": 720, \"loan_amount\": 0}', 'name': 'credit_risk_analyzer'}, 'type': 'function'}], 'refusal': None} response_metadata={'token_usage': {'completion_tokens': 79, 'prompt_tokens': 1760, 'total_tokens': 1839, 'completion_tokens_details': {'accepted_prediction_tokens': 0, 'audio_tokens': 0, 'reasoning_tokens': 0, 'rejected_prediction_tokens': 0}, 'prompt_tokens_details': {'audio_tokens': 0, 'cached_tokens': 1664}}, 'model_name': 'gpt-4o-mini-2024-07-18', 'system_fingerprint': 'fp_e665f7564b', 'id': 'chatcmpl-CBkelycNqRIPL60VIgX6LQMG1IGiS', 'service_tier': 'default', 'finish_reason': 'tool_calls', 'logprobs': None} id='run--9a1a1c2c-e05b-4001-a222-9bafdb17cfe0-0' tool_calls=[{'name': 'customer_account_manager', 'args': {'account_type': 'savings', 'customer_id': '11111', 'action': 'recommend_product'}, 'id': 'call_1gmNum5x3Pc8G40QI6R86E28', 'type': 'tool_call'}, {'name': 'credit_risk_analyzer', 'args': {'customer_income': 150000, 'customer_debt': 0, 'credit_score': 720, 'loan_amount': 0}, 'id': 'call_3AzQ06F7IMgwWVD680DFR7sa', 'type': 'tool_call'}] usage_metadata={'input_tokens': 1760, 'output_tokens': 79, 'total_tokens': 1839, 'input_token_details': {'audio': 0, 'cache_read': 1664}, 'output_token_details': {'audio': 0, 'reasoning': 0}}, content='PRODUCT RECOMMENDATIONS\\n        ================================\\n        \\n        Customer: Business Corp LLC\\n        Credit Score: 720\\n        Account Age: 730 days\\n        \\n        Recommended Products:\\n          • Premium Checking Account with no monthly fees\\n  • High-Yield Savings Account (2.5% APY)\\n  • Personal Line of Credit up to $25,000\\n  • Investment Advisory Services\\n        \\n        Next Steps:\\n        - Schedule consultation with relationship manager\\n        - Review product terms and conditions\\n        - Complete application process\\n        ' name='customer_account_manager' id='a9d9ea71-a947-496c-b70f-e5bd901cec3d' tool_call_id='call_1gmNum5x3Pc8G40QI6R86E28', content='CREDIT RISK ANALYSIS REPORT\\n    ================================\\n    \\n    Customer Profile:\\n    - Annual Income: $150,000.00\\n    - Monthly Debt: $0.00\\n    - Credit Score: 720\\n    - Loan Request: $0.00 (personal)\\n    \\n    Risk Assessment:\\n    - Debt-to-Income Ratio: 0.0%\\n    - Risk Score: 70/75\\n    - Risk Level: LOW RISK\\n    \\n    Recommendation: APPROVE with standard terms\\n    \\n    Additional Notes:\\n    - DTI ratio of 0.0% is excellent\\n    - Credit score of 720 is good\\n    - Loan amount represents 0.0% of annual income\\n    ' name='credit_risk_analyzer' id='cd0321fa-37e9-446d-b57c-361e99791d30' tool_call_id='call_3AzQ06F7IMgwWVD680DFR7sa', content='### Product Recommendations for Customer 11111\\n\\n**Customer Profile:**\\n- **Credit Score:** 720\\n- **Account Age:** 730 days\\n\\n**Recommended Products:**\\n- **Premium Checking Account** with no monthly fees\\n- **High-Yield Savings Account** (2.5% APY)\\n- **Personal Line of Credit** up to $25,000\\n- **Investment Advisory Services**\\n\\n**Next Steps:**\\n- Schedule a consultation with a relationship manager\\n- Review product terms and conditions\\n- Complete the application process\\n\\n---\\n\\n### Credit Risk Analysis Report\\n\\n**Customer Profile:**\\n- **Annual Income:** $150,000\\n- **Monthly Debt:** $0\\n- **Credit Score:** 720\\n\\n**Risk Assessment:**\\n- **Debt-to-Income Ratio:** 0.0%\\n- **Risk Score:** 70/75\\n- **Risk Level:** LOW RISK\\n\\n**Recommendation:** APPROVE with standard terms\\n\\n**Additional Notes:**\\n- A DTI ratio of 0.0% is excellent\\n- A credit score of 720 is considered good\\n- The loan amount represents 0.0% of annual income\\n\\n---\\n\\nFeel free to reach out if you have any questions or need further assistance!' additional_kwargs={'refusal': None} response_metadata={'token_usage': {'completion_tokens': 255, 'prompt_tokens': 2149, 'total_tokens': 2404, 'completion_tokens_details': {'accepted_prediction_tokens': 0, 'audio_tokens': 0, 'reasoning_tokens': 0, 'rejected_prediction_tokens': 0}, 'prompt_tokens_details': {'audio_tokens': 0, 'cached_tokens': 1792}}, 'model_name': 'gpt-4o-mini-2024-07-18', 'system_fingerprint': 'fp_e665f7564b', 'id': 'chatcmpl-CBkeqm2aIldTOaUcDsMPt97oOuoj3', 'service_tier': 'default', 'finish_reason': 'stop', 'logprobs': None} id='run--beb96e5a-38ea-4c48-aa78-a5e103125236-0' usage_metadata={'input_tokens': 2149, 'output_tokens': 255, 'total_tokens': 2404, 'input_token_details': {'audio': 0, 'cache_read': 1792}, 'output_token_details': {'audio': 0, 'reasoning': 0}}], 'user_input': 'Recommend banking products for customer 11111 with $150,000 in savings and 720 credit score', 'session_id': '29c87780-bdbe-4669-995d-3c998db952a3', 'context': {}}  \n",
       "7                                                                                                                                                                                                                                                                                                                                                                                                                                                                                                                                                                                                                                                                                                                                                                                                                                                                                                                                                                                                                                                                                                                                                                                                                                                                                                                                                                                                                                                                                                                                                                                                                                                                                                                                                                                                                                                                                                             {'messages': [content='Calculate investment growth for $100,000 at 8% annual return over 10 years' additional_kwargs={} response_metadata={} id='d1f9d28c-3a80-4b1d-be72-721988c5d819', content='' additional_kwargs={'tool_calls': [{'id': 'call_CIrN2b8UkbvbJTMI9eXUWdrg', 'function': {'arguments': '{\"calculation_type\":\"investment\",\"principal\":100000,\"rate\":8,\"term\":10}', 'name': 'financial_calculator'}, 'type': 'function'}], 'refusal': None} response_metadata={'token_usage': {'completion_tokens': 31, 'prompt_tokens': 1758, 'total_tokens': 1789, 'completion_tokens_details': {'accepted_prediction_tokens': 0, 'audio_tokens': 0, 'reasoning_tokens': 0, 'rejected_prediction_tokens': 0}, 'prompt_tokens_details': {'audio_tokens': 0, 'cached_tokens': 1664}}, 'model_name': 'gpt-4o-mini-2024-07-18', 'system_fingerprint': 'fp_e665f7564b', 'id': 'chatcmpl-CBkf2ABz7e4gLhnqBEct8hVO2mA9O', 'service_tier': 'default', 'finish_reason': 'tool_calls', 'logprobs': None} id='run--e8a01bf5-a7c7-4c06-8c87-9a5a8764ea20-0' tool_calls=[{'name': 'financial_calculator', 'args': {'calculation_type': 'investment', 'principal': 100000, 'rate': 8, 'term': 10}, 'id': 'call_CIrN2b8UkbvbJTMI9eXUWdrg', 'type': 'tool_call'}] usage_metadata={'input_tokens': 1758, 'output_tokens': 31, 'total_tokens': 1789, 'input_token_details': {'audio': 0, 'cache_read': 1664}, 'output_token_details': {'audio': 0, 'reasoning': 0}}, content='INVESTMENT GROWTH CALCULATION\\n        ================================\\n        \\n        Investment Details:\\n        - Initial Investment: $100,000.00\\n        - Annual Return: 8.00%\\n        - Time Period: 10 years\\n        \\n        Results:\\n        - Future Value: $215,892.50\\n        - Total Return: $115,892.50\\n        - Annualized Return: 8.00%\\n        - Growth Multiple: 2.16x\\n        ' name='financial_calculator' id='e8211cd2-d035-4402-a735-91aac5536a99' tool_call_id='call_CIrN2b8UkbvbJTMI9eXUWdrg', content=\"Here's the investment growth calculation for your investment of $100,000 at an 8% annual return over 10 years:\\n\\n### Investment Details:\\n- **Initial Investment:** $100,000.00\\n- **Annual Return:** 8.00%\\n- **Time Period:** 10 years\\n\\n### Results:\\n- **Future Value:** $215,892.50\\n- **Total Return:** $115,892.50\\n- **Annualized Return:** 8.00%\\n- **Growth Multiple:** 2.16x\\n\\nThis means that after 10 years, your investment would grow to approximately $215,892.50, resulting in a total return of $115,892.50.\" additional_kwargs={'refusal': None} response_metadata={'token_usage': {'completion_tokens': 144, 'prompt_tokens': 1898, 'total_tokens': 2042, 'completion_tokens_details': {'accepted_prediction_tokens': 0, 'audio_tokens': 0, 'reasoning_tokens': 0, 'rejected_prediction_tokens': 0}, 'prompt_tokens_details': {'audio_tokens': 0, 'cached_tokens': 1664}}, 'model_name': 'gpt-4o-mini-2024-07-18', 'system_fingerprint': 'fp_e665f7564b', 'id': 'chatcmpl-CBkf6tNC43wMMbciltj4BvDxjlsaY', 'service_tier': 'default', 'finish_reason': 'stop', 'logprobs': None} id='run--8a5ce851-75ad-4d66-a46a-bd41cd88ec0c-0' usage_metadata={'input_tokens': 1898, 'output_tokens': 144, 'total_tokens': 2042, 'input_token_details': {'audio': 0, 'cache_read': 1664}, 'output_token_details': {'audio': 0, 'reasoning': 0}}], 'user_input': 'Calculate investment growth for $100,000 at 8% annual return over 10 years', 'session_id': 'f6afb7b8-37c8-4128-bed4-aeb13a092c5a', 'context': {}}  \n",
       "8                                                                                                                                                                                                                                                                                                                                                                                                                                                                                                                                                                                                                                                                                                                                                                                                                                                                                                                                                                                                                                                                                                                                                                                                                                                                                                                                                                                                                                                                                                                                                                                                                                                                                                                                                                                                                                                                                                                                                                                                                                                                                                                                                                                                                                                                                                                                                                                                                                                                                                                                                                                                                                                                                                                                                                                                                                                                                                                                                                                                                                                                                                                                                                                                                                                                                                                                                                                                                                                                                                                                                                                                                                                                                                                                                                                                                                                                                                                          {'messages': [content='Assess credit risk for a $1,000,000 commercial real estate loan with $500,000 annual business income' additional_kwargs={} response_metadata={} id='0f39209d-7824-468a-bafc-09ce64db53ac', content='To assess the credit risk for the $1,000,000 commercial real estate loan, I need the following additional information:\\n\\n1. Total monthly debt payments (customer_debt)\\n2. Credit score (credit_score)\\n\\nPlease provide these details so I can proceed with the analysis.' additional_kwargs={'refusal': None} response_metadata={'token_usage': {'completion_tokens': 57, 'prompt_tokens': 1763, 'total_tokens': 1820, 'completion_tokens_details': {'accepted_prediction_tokens': 0, 'audio_tokens': 0, 'reasoning_tokens': 0, 'rejected_prediction_tokens': 0}, 'prompt_tokens_details': {'audio_tokens': 0, 'cached_tokens': 1664}}, 'model_name': 'gpt-4o-mini-2024-07-18', 'system_fingerprint': 'fp_e665f7564b', 'id': 'chatcmpl-CBkfBOh7ex8CfWzbDrsBcWj7EuDgY', 'service_tier': 'default', 'finish_reason': 'stop', 'logprobs': None} id='run--80ea6041-c479-4857-9fc9-de858b21a792-0' usage_metadata={'input_tokens': 1763, 'output_tokens': 57, 'total_tokens': 1820, 'input_token_details': {'audio': 0, 'cache_read': 1664}, 'output_token_details': {'audio': 0, 'reasoning': 0}}], 'user_input': 'Assess credit risk for a $1,000,000 commercial real estate loan with $500,000 annual business income', 'session_id': '8d525881-8d80-41b5-b388-3499c6f8304c', 'context': {}}  \n",
       "9                                                                                                                                                                                                                                                                                                                                                                                                                                                                                                                                                                                                                                                                                                                                                                                                                                                                                                                                                                                                                                                                                                                                                                                                                                                                                                                                                                                                                                                                                                                                                                                                                                                                                                                                                                                                                                                                                                                                                                                                                                                                                                                                                                                                                                                                                                                                                                                                                                                                                                                                                                                                                                                                                                                                                                                                                                                                                                                                                                                                                                                                                                                                                                                                                                                                                                                                                                                                                                                                                                                                                                                                                                                                                                                                                                                                                                                                                                                                                                                                                                                                                                                                                                                                                                                                                                                                                                                                                                                                                                                                                                                        {'messages': [content='Process a $2,500 deposit to savings account 67890' additional_kwargs={} response_metadata={}, content='I apologize, but I encountered an error while processing your banking request: Recursion limit of 25 reached without hitting a stop condition. You can increase the limit by setting the `recursion_limit` config key.\\nFor troubleshooting, visit: https://python.langchain.com/docs/troubleshooting/errors/GRAPH_RECURSION_LIMIT. Please try rephrasing your question or contact support if the issue persists.' additional_kwargs={} response_metadata={}], 'error': 'Recursion limit of 25 reached without hitting a stop condition. You can increase the limit by setting the `recursion_limit` config key.\n",
       "For troubleshooting, visit: https://python.langchain.com/docs/troubleshooting/errors/GRAPH_RECURSION_LIMIT'}  "
      ]
     },
     "execution_count": 11,
     "metadata": {},
     "output_type": "execute_result"
    }
   ],
   "source": [
    "pd.set_option('display.max_colwidth', 40)\n",
    "pd.set_option('display.width', 120)\n",
    "pd.set_option('display.max_colwidth', None)\n",
    "\n",
    "print(\"Banking Test Dataset with Predictions:\")\n",
    "vm_test_dataset._df\n"
   ]
  },
  {
   "cell_type": "markdown",
   "metadata": {},
   "source": [
    "## Custom ValidMind Tests for Banking Agent\n",
    "\n",
    "Now let's create and run custom ValidMind tests specifically designed for our banking agent to evaluate its performance across different banking scenarios.\n"
   ]
  },
  {
   "cell_type": "code",
   "execution_count": 12,
   "metadata": {},
   "outputs": [
    {
     "data": {
      "application/vnd.jupyter.widget-view+json": {
       "model_id": "38935621ea2e4f10b96a0533179d4d70",
       "version_major": 2,
       "version_minor": 0
      },
      "text/plain": [
       "VBox(children=(HTML(value=\"<h2>Lang Graph Banking Visualization </h2>\\n\\n<p><strong>Lang Graph Banking Visuali…"
      ]
     },
     "metadata": {},
     "output_type": "display_data"
    },
    {
     "data": {
      "text/html": [
       "\n",
       "<script defer type=\"module\">\n",
       "import hljs from 'https://unpkg.com/@highlightjs/cdn-assets@11.9.0/es/highlight.min.js';\n",
       "import python from 'https://cdnjs.cloudflare.com/ajax/libs/highlight.js/11.9.0/es/languages/python.min.js';\n",
       "\n",
       "hljs.registerLanguage('python', python);\n",
       "hljs.highlightAll();\n",
       "</script>\n"
      ],
      "text/plain": [
       "<IPython.core.display.HTML object>"
      ]
     },
     "metadata": {},
     "output_type": "display_data"
    },
    {
     "data": {
      "text/html": [
       "\n",
       "<script>\n",
       "window.MathJax = {\n",
       "    tex2jax: {\n",
       "        inlineMath: [['$', '$'], ['\\\\(', '\\\\)']],\n",
       "        displayMath: [['$$', '$$'], ['\\[', '\\]']],\n",
       "        processEscapes: true,\n",
       "        skipTags: ['script', 'noscript', 'style', 'textarea', 'pre'],\n",
       "        ignoreClass: \".*\",\n",
       "        processClass: \"math\"\n",
       "    }\n",
       "};\n",
       "setTimeout(function () {\n",
       "    var script = document.createElement('script');\n",
       "    script.type = 'text/javascript';\n",
       "    script.src = 'https://cdnjs.cloudflare.com/ajax/libs/mathjax/2.7.7/MathJax.js?config=TeX-AMS_HTML';\n",
       "    document.head.appendChild(script);\n",
       "}, 300);\n",
       "</script>\n"
      ],
      "text/plain": [
       "<IPython.core.display.HTML object>"
      ]
     },
     "metadata": {},
     "output_type": "display_data"
    },
    {
     "name": "stderr",
     "output_type": "stream",
     "text": [
      "2025-09-03 17:30:59,368 - INFO(validmind.vm_models.result.result): Test driven block with result_id my_custom_tests.LangGraphBankingVisualization does not exist in model's document\n"
     ]
    }
   ],
   "source": [
    "import langgraph\n",
    "\n",
    "@vm.test(\"my_custom_tests.LangGraphBankingVisualization\")\n",
    "def LangGraphBankingVisualization(model):\n",
    "    \"\"\"\n",
    "    Visualizes the LangGraph banking workflow structure using Mermaid diagrams.\n",
    "    \n",
    "    ### Purpose\n",
    "    Creates a visual representation of the LangGraph banking agent's workflow using Mermaid diagrams\n",
    "    to show the connections and flow between different components. This helps validate that\n",
    "    the agent's architecture is properly structured for banking operations.\n",
    "    \n",
    "    ### Test Mechanism\n",
    "    1. Retrieves the graph representation from the model using get_graph()\n",
    "    2. Attempts to render it as a Mermaid diagram\n",
    "    3. Returns the visualization and validation results\n",
    "    \n",
    "    ### Signs of High Risk\n",
    "    - Failure to generate graph visualization indicates potential structural issues\n",
    "    - Missing or broken connections between components\n",
    "    - Invalid graph structure that cannot be rendered\n",
    "    \"\"\"\n",
    "    try:\n",
    "        if not hasattr(model, 'model') or not isinstance(model.model, langgraph.graph.state.CompiledStateGraph):\n",
    "            return {\n",
    "                'test_results': False,\n",
    "                'summary': {\n",
    "                    'status': 'FAIL', \n",
    "                    'details': 'Model must have a LangGraph Graph object as model attribute'\n",
    "                }\n",
    "            }\n",
    "        graph = model.model.get_graph(xray=False)\n",
    "        mermaid_png = graph.draw_mermaid_png()\n",
    "        return mermaid_png\n",
    "    except Exception as e:\n",
    "        return {\n",
    "            'test_results': False, \n",
    "            'summary': {\n",
    "                'status': 'FAIL',\n",
    "                'details': f'Failed to generate graph visualization: {str(e)}'\n",
    "            }\n",
    "        }\n",
    "\n",
    "vm.tests.run_test(\n",
    "    \"my_custom_tests.LangGraphBankingVisualization\",\n",
    "    inputs = {\n",
    "        \"model\": vm_banking_model\n",
    "    }\n",
    ").log()\n"
   ]
  },
  {
   "cell_type": "markdown",
   "metadata": {},
   "source": [
    "## Banking Accuracy Test\n",
    "\n",
    "This test evaluates the banking agent's ability to provide accurate responses by:\n",
    "- Testing against a dataset of predefined banking questions and expected answers\n",
    "- Checking if responses contain expected keywords and banking terminology\n",
    "- Providing detailed test results including pass/fail status\n",
    "- Helping identify any gaps in the agent's banking knowledge or response quality\n"
   ]
  },
  {
   "cell_type": "code",
   "execution_count": 13,
   "metadata": {},
   "outputs": [
    {
     "data": {
      "application/vnd.jupyter.widget-view+json": {
       "model_id": "47a229bf35014bbdba7355356f7d0848",
       "version_major": 2,
       "version_minor": 0
      },
      "text/plain": [
       "VBox(children=(HTML(value='<h2>Banking Accuracy Test </h2>\\n\\n<p><strong>Banking Accuracy Test</strong> is des…"
      ]
     },
     "metadata": {},
     "output_type": "display_data"
    },
    {
     "data": {
      "text/html": [
       "\n",
       "<script defer type=\"module\">\n",
       "import hljs from 'https://unpkg.com/@highlightjs/cdn-assets@11.9.0/es/highlight.min.js';\n",
       "import python from 'https://cdnjs.cloudflare.com/ajax/libs/highlight.js/11.9.0/es/languages/python.min.js';\n",
       "\n",
       "hljs.registerLanguage('python', python);\n",
       "hljs.highlightAll();\n",
       "</script>\n"
      ],
      "text/plain": [
       "<IPython.core.display.HTML object>"
      ]
     },
     "metadata": {},
     "output_type": "display_data"
    },
    {
     "data": {
      "text/html": [
       "\n",
       "<script>\n",
       "window.MathJax = {\n",
       "    tex2jax: {\n",
       "        inlineMath: [['$', '$'], ['\\\\(', '\\\\)']],\n",
       "        displayMath: [['$$', '$$'], ['\\[', '\\]']],\n",
       "        processEscapes: true,\n",
       "        skipTags: ['script', 'noscript', 'style', 'textarea', 'pre'],\n",
       "        ignoreClass: \".*\",\n",
       "        processClass: \"math\"\n",
       "    }\n",
       "};\n",
       "setTimeout(function () {\n",
       "    var script = document.createElement('script');\n",
       "    script.type = 'text/javascript';\n",
       "    script.src = 'https://cdnjs.cloudflare.com/ajax/libs/mathjax/2.7.7/MathJax.js?config=TeX-AMS_HTML';\n",
       "    document.head.appendChild(script);\n",
       "}, 300);\n",
       "</script>\n"
      ],
      "text/plain": [
       "<IPython.core.display.HTML object>"
      ]
     },
     "metadata": {},
     "output_type": "display_data"
    },
    {
     "name": "stderr",
     "output_type": "stream",
     "text": [
      "2025-09-03 17:31:44,791 - INFO(validmind.vm_models.result.result): Test driven block with result_id my_custom_tests.banking_accuracy_test does not exist in model's document\n"
     ]
    }
   ],
   "source": [
    "import pandas as pd\n",
    "import validmind as vm\n",
    "\n",
    "@vm.test(\"my_custom_tests.banking_accuracy_test\")\n",
    "def banking_accuracy_test(model, dataset, list_of_columns):\n",
    "    \"\"\"\n",
    "    Run tests on a dataset of banking questions and expected responses.\n",
    "    Optimized version using vectorized operations and list comprehension.\n",
    "    \"\"\"\n",
    "    df = dataset._df\n",
    "    \n",
    "    # Pre-compute responses for all tests\n",
    "    y_true = dataset.y.tolist()\n",
    "    y_pred = dataset.y_pred(model).tolist()\n",
    "\n",
    "    # Vectorized test results\n",
    "    test_results = []\n",
    "    for response, keywords in zip(y_pred, y_true):\n",
    "        test_results.append(any(str(keyword).lower() in str(response).lower() for keyword in keywords))\n",
    "        \n",
    "    results = pd.DataFrame()\n",
    "    column_names = [col + \"_details\" for col in list_of_columns]\n",
    "    results[column_names] = df[list_of_columns]\n",
    "    results[\"actual\"] = y_pred\n",
    "    results[\"expected\"] = y_true\n",
    "    results[\"passed\"] = test_results\n",
    "    results[\"error\"] = None if test_results else f'Response did not contain any expected keywords: {y_true}'\n",
    "    \n",
    "    return results\n",
    "   \n",
    "result = vm.tests.run_test(\n",
    "    \"my_custom_tests.banking_accuracy_test\",\n",
    "    inputs={\n",
    "        \"dataset\": vm_test_dataset,\n",
    "        \"model\": vm_banking_model\n",
    "    },\n",
    "    params={\n",
    "        \"list_of_columns\": [\"input\"]\n",
    "    }\n",
    ")\n",
    "result.log()\n"
   ]
  },
  {
   "cell_type": "markdown",
   "metadata": {},
   "source": [
    "## Banking Tool Call Accuracy Test\n",
    "\n",
    "This test evaluates how accurately our intelligent banking router selects the correct tools for different banking requests. This test provides quantitative feedback on the agent's core intelligence - its ability to understand what users need and select the right banking tools to help them.\n"
   ]
  },
  {
   "cell_type": "code",
   "execution_count": 15,
   "metadata": {},
   "outputs": [
    {
     "data": {
      "application/vnd.jupyter.widget-view+json": {
       "model_id": "6d0e151b85144a7caa3d24aa4e71eb31",
       "version_major": 2,
       "version_minor": 0
      },
      "text/plain": [
       "VBox(children=(HTML(value='<h2>Banking Tool Call Accuracy </h2>\\n\\n<p><strong>Banking Tool Call Accuracy</stro…"
      ]
     },
     "metadata": {},
     "output_type": "display_data"
    },
    {
     "data": {
      "text/html": [
       "\n",
       "<script defer type=\"module\">\n",
       "import hljs from 'https://unpkg.com/@highlightjs/cdn-assets@11.9.0/es/highlight.min.js';\n",
       "import python from 'https://cdnjs.cloudflare.com/ajax/libs/highlight.js/11.9.0/es/languages/python.min.js';\n",
       "\n",
       "hljs.registerLanguage('python', python);\n",
       "hljs.highlightAll();\n",
       "</script>\n"
      ],
      "text/plain": [
       "<IPython.core.display.HTML object>"
      ]
     },
     "metadata": {},
     "output_type": "display_data"
    },
    {
     "data": {
      "text/html": [
       "\n",
       "<script>\n",
       "window.MathJax = {\n",
       "    tex2jax: {\n",
       "        inlineMath: [['$', '$'], ['\\\\(', '\\\\)']],\n",
       "        displayMath: [['$$', '$$'], ['\\[', '\\]']],\n",
       "        processEscapes: true,\n",
       "        skipTags: ['script', 'noscript', 'style', 'textarea', 'pre'],\n",
       "        ignoreClass: \".*\",\n",
       "        processClass: \"math\"\n",
       "    }\n",
       "};\n",
       "setTimeout(function () {\n",
       "    var script = document.createElement('script');\n",
       "    script.type = 'text/javascript';\n",
       "    script.src = 'https://cdnjs.cloudflare.com/ajax/libs/mathjax/2.7.7/MathJax.js?config=TeX-AMS_HTML';\n",
       "    document.head.appendChild(script);\n",
       "}, 300);\n",
       "</script>\n"
      ],
      "text/plain": [
       "<IPython.core.display.HTML object>"
      ]
     },
     "metadata": {},
     "output_type": "display_data"
    },
    {
     "data": {
      "text/plain": [
       "TestResult(\"my_custom_tests.BankingToolCallAccuracy\", doc, description, params, tables)"
      ]
     },
     "execution_count": 15,
     "metadata": {},
     "output_type": "execute_result"
    }
   ],
   "source": [
    "import validmind as vm\n",
    "\n",
    "@vm.test(\"my_custom_tests.BankingToolCallAccuracy\")\n",
    "def BankingToolCallAccuracy(dataset, agent_output_column, expected_tools_column):\n",
    "    \"\"\"Test validation using actual LangGraph banking agent results.\"\"\"\n",
    "    def validate_tool_calls_simple(messages, expected_tools):\n",
    "        \"\"\"Simple validation of tool calls without RAGAS dependency issues.\"\"\"\n",
    "        \n",
    "        tool_calls_found = []\n",
    "        \n",
    "        for message in messages:\n",
    "            if hasattr(message, 'tool_calls') and message.tool_calls:\n",
    "                for tool_call in message.tool_calls:\n",
    "                    # Handle both dictionary and object formats\n",
    "                    if isinstance(tool_call, dict):\n",
    "                        tool_calls_found.append(tool_call['name'])\n",
    "                    else:\n",
    "                        # ToolCall object - use attribute access\n",
    "                        tool_calls_found.append(tool_call.name)\n",
    "        \n",
    "        # Check if expected tools were called\n",
    "        accuracy = 0.0\n",
    "        matches = 0\n",
    "        if expected_tools:\n",
    "            matches = sum(1 for tool in expected_tools if tool in tool_calls_found)\n",
    "            accuracy = matches / len(expected_tools)\n",
    "        \n",
    "        return {\n",
    "            'accuracy': accuracy,\n",
    "            'expected_tools': expected_tools,\n",
    "            'found_tools': tool_calls_found,\n",
    "            'matches': matches,\n",
    "            'total_expected': len(expected_tools) if expected_tools else 0\n",
    "        }\n",
    "\n",
    "    df = dataset._df\n",
    "    \n",
    "    results = []\n",
    "    for i, row in df.iterrows():\n",
    "        result = validate_tool_calls_simple(row[agent_output_column]['messages'], row[expected_tools_column])\n",
    "        results.append(result)\n",
    "         \n",
    "    return results\n",
    "\n",
    "vm.tests.run_test(\n",
    "    \"my_custom_tests.BankingToolCallAccuracy\",\n",
    "    inputs = {\n",
    "        \"dataset\": vm_test_dataset,\n",
    "    },\n",
    "    params = {\n",
    "        \"agent_output_column\": \"banking_agent_model_output\",\n",
    "        \"expected_tools_column\": \"expected_tools\"\n",
    "    }\n",
    ")\n"
   ]
  },
  {
   "cell_type": "markdown",
   "metadata": {},
   "source": [
    "## Banking Performance Analysis\n",
    "\n",
    "Let's analyze the performance of our banking agent across different categories to understand its strengths and areas for improvement.\n"
   ]
  },
  {
   "cell_type": "code",
   "execution_count": 16,
   "metadata": {},
   "outputs": [
    {
     "name": "stdout",
     "output_type": "stream",
     "text": [
      "Banking Agent Performance Analysis by Category:\n",
      "============================================================\n",
      "\n",
      "Category: account_management\n",
      "  Test Count: 3\n",
      "  Primary Tool: customer_account_manager\n",
      "\n",
      "Category: compliance\n",
      "  Test Count: 2\n",
      "  Primary Tool: compliance_monitor\n",
      "\n",
      "Category: credit_risk\n",
      "  Test Count: 2\n",
      "  Primary Tool: credit_risk_analyzer\n",
      "\n",
      "Category: financial_calculation\n",
      "  Test Count: 2\n",
      "  Primary Tool: financial_calculator\n",
      "\n",
      "Category: fraud_detection\n",
      "  Test Count: 1\n",
      "  Primary Tool: fraud_detection_system\n",
      "\n",
      "Total Test Cases: 10\n",
      "Categories Covered: 5\n"
     ]
    },
    {
     "data": {
      "text/html": [
       "<div>\n",
       "<style scoped>\n",
       "    .dataframe tbody tr th:only-of-type {\n",
       "        vertical-align: middle;\n",
       "    }\n",
       "\n",
       "    .dataframe tbody tr th {\n",
       "        vertical-align: top;\n",
       "    }\n",
       "\n",
       "    .dataframe thead th {\n",
       "        text-align: right;\n",
       "    }\n",
       "</style>\n",
       "<table border=\"1\" class=\"dataframe\">\n",
       "  <thead>\n",
       "    <tr style=\"text-align: right;\">\n",
       "      <th></th>\n",
       "      <th>test_count</th>\n",
       "      <th>expected_tools</th>\n",
       "    </tr>\n",
       "    <tr>\n",
       "      <th>category</th>\n",
       "      <th></th>\n",
       "      <th></th>\n",
       "    </tr>\n",
       "  </thead>\n",
       "  <tbody>\n",
       "    <tr>\n",
       "      <th>account_management</th>\n",
       "      <td>3</td>\n",
       "      <td>[customer_account_manager]</td>\n",
       "    </tr>\n",
       "    <tr>\n",
       "      <th>compliance</th>\n",
       "      <td>2</td>\n",
       "      <td>[compliance_monitor]</td>\n",
       "    </tr>\n",
       "    <tr>\n",
       "      <th>credit_risk</th>\n",
       "      <td>2</td>\n",
       "      <td>[credit_risk_analyzer]</td>\n",
       "    </tr>\n",
       "    <tr>\n",
       "      <th>financial_calculation</th>\n",
       "      <td>2</td>\n",
       "      <td>[financial_calculator]</td>\n",
       "    </tr>\n",
       "    <tr>\n",
       "      <th>fraud_detection</th>\n",
       "      <td>1</td>\n",
       "      <td>[fraud_detection_system]</td>\n",
       "    </tr>\n",
       "  </tbody>\n",
       "</table>\n",
       "</div>"
      ],
      "text/plain": [
       "                       test_count              expected_tools\n",
       "category                                                     \n",
       "account_management              3  [customer_account_manager]\n",
       "compliance                      2        [compliance_monitor]\n",
       "credit_risk                     2      [credit_risk_analyzer]\n",
       "financial_calculation           2      [financial_calculator]\n",
       "fraud_detection                 1    [fraud_detection_system]"
      ]
     },
     "execution_count": 16,
     "metadata": {},
     "output_type": "execute_result"
    }
   ],
   "source": [
    "def analyze_banking_performance(dataset):\n",
    "    \"\"\"Analyze banking agent performance by category.\"\"\"\n",
    "    df = dataset._df\n",
    "    \n",
    "    # Group by category and analyze performance\n",
    "    category_analysis = df.groupby('category').agg({\n",
    "        'input': 'count',\n",
    "        'expected_tools': 'first'\n",
    "    }).rename(columns={'input': 'test_count'})\n",
    "    \n",
    "    print(\"Banking Agent Performance Analysis by Category:\")\n",
    "    print(\"=\" * 60)\n",
    "    \n",
    "    for category, row in category_analysis.iterrows():\n",
    "        print(f\"\\nCategory: {category}\")\n",
    "        print(f\"  Test Count: {row['test_count']}\")\n",
    "        print(f\"  Primary Tool: {row['expected_tools'][0] if row['expected_tools'] else 'N/A'}\")\n",
    "    \n",
    "    print(f\"\\nTotal Test Cases: {len(df)}\")\n",
    "    print(f\"Categories Covered: {len(category_analysis)}\")\n",
    "    \n",
    "    return category_analysis\n",
    "\n",
    "# Run the analysis\n",
    "performance_summary = analyze_banking_performance(vm_test_dataset)\n",
    "performance_summary\n"
   ]
  },
  {
   "cell_type": "markdown",
   "metadata": {},
   "source": [
    "## RAGAS Tests for Banking Agent Evaluation\n",
    "\n",
    "RAGAS (Retrieval-Augmented Generation Assessment) provides specialized metrics for evaluating conversational AI systems like our banking agent. These tests analyze different aspects of agent performance:\n",
    "\n",
    "Our banking agent uses tools to retrieve information (credit analysis, compliance checks, financial calculations) and generates responses based on that context, making it similar to a RAG system. RAGAS metrics help evaluate:\n",
    "\n",
    "- **Response Quality**: How well the agent uses retrieved tool outputs to generate helpful banking responses\n",
    "- **Information Faithfulness**: Whether agent responses accurately reflect tool outputs  \n",
    "- **Relevance Assessment**: How well responses address the original banking query\n",
    "- **Context Utilization**: How effectively the agent incorporates tool results into final answers\n",
    "\n",
    "These tests provide insights into how well our banking agent integrates tool usage with conversational abilities, ensuring it provides accurate, relevant, and helpful responses to banking users.\n"
   ]
  },
  {
   "cell_type": "markdown",
   "metadata": {},
   "source": [
    "### Dataset Preparation - Extract Context from Banking Agent State\n",
    "\n",
    "Before running RAGAS tests, we need to extract and prepare the context information from our banking agent's execution results. This process:\n",
    "\n",
    "**Tool Output Extraction**: Retrieves the outputs from banking tools used during agent execution\n",
    "- **Message Parsing**: Analyzes the agent's conversation state to find tool outputs\n",
    "- **Content Aggregation**: Combines outputs from multiple tools when used in sequence\n",
    "- **Context Formatting**: Structures tool outputs as context for RAGAS evaluation\n",
    "\n",
    "**RAGAS Format Preparation**: Converts banking agent data into the format expected by RAGAS metrics\n",
    "- **User Input**: Original banking queries from the test dataset\n",
    "- **Retrieved Context**: Banking tool outputs treated as \"retrieved\" information  \n",
    "- **Agent Response**: Final responses generated by the banking agent\n",
    "- **Ground Truth**: Expected outputs for comparison\n",
    "\n",
    "This preparation step is essential because RAGAS metrics were designed for traditional RAG systems, so we need to map our banking agent's tool-based architecture to the RAG paradigm for meaningful evaluation.\n"
   ]
  },
  {
   "cell_type": "code",
   "execution_count": 18,
   "metadata": {},
   "outputs": [
    {
     "name": "stdout",
     "output_type": "stream",
     "text": [
      "Tool messages extracted and prepared for RAGAS evaluation!\n",
      "Processed 10 test cases\n"
     ]
    }
   ],
   "source": [
    "from utils import capture_tool_output_messages\n",
    "\n",
    "tool_messages = []\n",
    "for i, row in vm_test_dataset._df.iterrows():\n",
    "    tool_message = \"\"\n",
    "    result = row['banking_agent_model_output']\n",
    "    # Capture all tool outputs and metadata\n",
    "    captured_data = capture_tool_output_messages(result)\n",
    "   \n",
    "    # Access specific tool outputs\n",
    "    for output in captured_data[\"tool_outputs\"]:\n",
    "        tool_message += output['content']\n",
    "    tool_messages.append([tool_message])\n",
    "\n",
    "vm_test_dataset._df['tool_messages'] = tool_messages\n",
    "\n",
    "print(\"Tool messages extracted and prepared for RAGAS evaluation!\")\n",
    "print(f\"Processed {len(tool_messages)} test cases\")\n"
   ]
  },
  {
   "cell_type": "markdown",
   "metadata": {},
   "source": [
    "### Faithfulness\n",
    "\n",
    "Faithfulness measures how accurately the banking agent's responses reflect the information retrieved from tools. This metric evaluates:\n",
    "\n",
    "**Information Accuracy**: Whether the agent correctly uses tool outputs in its responses\n",
    "- **Fact Preservation**: Ensuring credit scores, loan calculations, compliance results are accurately reported\n",
    "- **No Hallucination**: Verifying the agent doesn't invent banking information not provided by tools\n",
    "- **Source Attribution**: Checking that responses align with actual tool outputs\n",
    "\n",
    "**Critical for Banking Trust**: Faithfulness is essential for banking agent reliability because users need to trust that:\n",
    "- Credit analysis results are reported correctly\n",
    "- Financial calculations are accurate  \n",
    "- Compliance checks return real information\n",
    "- Risk assessments are properly communicated\n"
   ]
  },
  {
   "cell_type": "code",
   "execution_count": 19,
   "metadata": {},
   "outputs": [
    {
     "data": {
      "application/vnd.jupyter.widget-view+json": {
       "model_id": "e7c9994550e8478fbd78a695b3fc0e18",
       "version_major": 2,
       "version_minor": 0
      },
      "text/plain": [
       "Evaluating:   0%|          | 0/10 [00:00<?, ?it/s]"
      ]
     },
     "metadata": {},
     "output_type": "display_data"
    },
    {
     "data": {
      "application/vnd.jupyter.widget-view+json": {
       "model_id": "d9bea810b61e492981771c1325f9ce65",
       "version_major": 2,
       "version_minor": 0
      },
      "text/plain": [
       "VBox(children=(HTML(value='<h2>Faithfulness </h2>\\n\\n<p><strong>Faithfulness</strong> is designed to evaluate …"
      ]
     },
     "metadata": {},
     "output_type": "display_data"
    },
    {
     "data": {
      "text/html": [
       "\n",
       "<script defer type=\"module\">\n",
       "import hljs from 'https://unpkg.com/@highlightjs/cdn-assets@11.9.0/es/highlight.min.js';\n",
       "import python from 'https://cdnjs.cloudflare.com/ajax/libs/highlight.js/11.9.0/es/languages/python.min.js';\n",
       "\n",
       "hljs.registerLanguage('python', python);\n",
       "hljs.highlightAll();\n",
       "</script>\n"
      ],
      "text/plain": [
       "<IPython.core.display.HTML object>"
      ]
     },
     "metadata": {},
     "output_type": "display_data"
    },
    {
     "data": {
      "text/html": [
       "\n",
       "<script>\n",
       "window.MathJax = {\n",
       "    tex2jax: {\n",
       "        inlineMath: [['$', '$'], ['\\\\(', '\\\\)']],\n",
       "        displayMath: [['$$', '$$'], ['\\[', '\\]']],\n",
       "        processEscapes: true,\n",
       "        skipTags: ['script', 'noscript', 'style', 'textarea', 'pre'],\n",
       "        ignoreClass: \".*\",\n",
       "        processClass: \"math\"\n",
       "    }\n",
       "};\n",
       "setTimeout(function () {\n",
       "    var script = document.createElement('script');\n",
       "    script.type = 'text/javascript';\n",
       "    script.src = 'https://cdnjs.cloudflare.com/ajax/libs/mathjax/2.7.7/MathJax.js?config=TeX-AMS_HTML';\n",
       "    document.head.appendChild(script);\n",
       "}, 300);\n",
       "</script>\n"
      ],
      "text/plain": [
       "<IPython.core.display.HTML object>"
      ]
     },
     "metadata": {},
     "output_type": "display_data"
    },
    {
     "name": "stderr",
     "output_type": "stream",
     "text": [
      "2025-09-04 11:23:21,347 - INFO(validmind.vm_models.result.result): Test driven block with result_id validmind.model_validation.ragas.Faithfulness does not exist in model's document\n"
     ]
    }
   ],
   "source": [
    "vm.tests.run_test(\n",
    "    \"validmind.model_validation.ragas.Faithfulness\",\n",
    "    inputs={\"dataset\": vm_test_dataset},\n",
    "    param_grid={\n",
    "        \"user_input_column\": [\"input\"],\n",
    "        \"response_column\": [\"banking_agent_model_prediction\"],\n",
    "        \"retrieved_contexts_column\": [\"tool_messages\"],\n",
    "    },\n",
    ").log()\n"
   ]
  },
  {
   "cell_type": "markdown",
   "metadata": {},
   "source": [
    "### Response Relevancy\n",
    "\n",
    "Response Relevancy evaluates how well the banking agent's answers address the user's original banking question or request. This metric assesses:\n",
    "\n",
    "**Query Alignment**: Whether responses directly answer what users asked for\n",
    "- **Intent Fulfillment**: Checking if the agent understood and addressed the user's actual banking need\n",
    "- **Completeness**: Ensuring responses provide sufficient information to satisfy the banking query\n",
    "- **Focus**: Avoiding irrelevant information that doesn't help the banking user\n",
    "\n",
    "**Banking Quality**: Measures the agent's ability to maintain relevant, helpful banking dialogue\n",
    "- **Context Awareness**: Responses should be appropriate for the banking conversation context\n",
    "- **User Satisfaction**: Answers should be useful and actionable for banking users\n",
    "- **Clarity**: Banking information should be presented in a way that directly helps the user\n",
    "\n",
    "High relevancy indicates the banking agent successfully understands user needs and provides targeted, helpful banking responses.\n"
   ]
  },
  {
   "cell_type": "code",
   "execution_count": 20,
   "metadata": {},
   "outputs": [
    {
     "data": {
      "application/vnd.jupyter.widget-view+json": {
       "model_id": "61589f52aab94377af2e56776f3aeff4",
       "version_major": 2,
       "version_minor": 0
      },
      "text/plain": [
       "Evaluating:   0%|          | 0/10 [00:00<?, ?it/s]"
      ]
     },
     "metadata": {},
     "output_type": "display_data"
    },
    {
     "data": {
      "application/vnd.jupyter.widget-view+json": {
       "model_id": "e66171e263f9438794ad3f990096b9a7",
       "version_major": 2,
       "version_minor": 0
      },
      "text/plain": [
       "VBox(children=(HTML(value='<h2>Response Relevancy </h2>\\n\\n<p><strong>Response Relevancy</strong> is designed …"
      ]
     },
     "metadata": {},
     "output_type": "display_data"
    },
    {
     "data": {
      "text/html": [
       "\n",
       "<script defer type=\"module\">\n",
       "import hljs from 'https://unpkg.com/@highlightjs/cdn-assets@11.9.0/es/highlight.min.js';\n",
       "import python from 'https://cdnjs.cloudflare.com/ajax/libs/highlight.js/11.9.0/es/languages/python.min.js';\n",
       "\n",
       "hljs.registerLanguage('python', python);\n",
       "hljs.highlightAll();\n",
       "</script>\n"
      ],
      "text/plain": [
       "<IPython.core.display.HTML object>"
      ]
     },
     "metadata": {},
     "output_type": "display_data"
    },
    {
     "data": {
      "text/html": [
       "\n",
       "<script>\n",
       "window.MathJax = {\n",
       "    tex2jax: {\n",
       "        inlineMath: [['$', '$'], ['\\\\(', '\\\\)']],\n",
       "        displayMath: [['$$', '$$'], ['\\[', '\\]']],\n",
       "        processEscapes: true,\n",
       "        skipTags: ['script', 'noscript', 'style', 'textarea', 'pre'],\n",
       "        ignoreClass: \".*\",\n",
       "        processClass: \"math\"\n",
       "    }\n",
       "};\n",
       "setTimeout(function () {\n",
       "    var script = document.createElement('script');\n",
       "    script.type = 'text/javascript';\n",
       "    script.src = 'https://cdnjs.cloudflare.com/ajax/libs/mathjax/2.7.7/MathJax.js?config=TeX-AMS_HTML';\n",
       "    document.head.appendChild(script);\n",
       "}, 300);\n",
       "</script>\n"
      ],
      "text/plain": [
       "<IPython.core.display.HTML object>"
      ]
     },
     "metadata": {},
     "output_type": "display_data"
    },
    {
     "name": "stderr",
     "output_type": "stream",
     "text": [
      "2025-09-04 11:24:18,788 - INFO(validmind.vm_models.result.result): Test driven block with result_id validmind.model_validation.ragas.ResponseRelevancy does not exist in model's document\n"
     ]
    }
   ],
   "source": [
    "vm.tests.run_test(\n",
    "    \"validmind.model_validation.ragas.ResponseRelevancy\",\n",
    "    inputs={\"dataset\": vm_test_dataset},\n",
    "    params={\n",
    "        \"user_input_column\": \"input\",\n",
    "        \"response_column\": \"banking_agent_model_prediction\",\n",
    "        \"retrieved_contexts_column\": \"tool_messages\",\n",
    "    }\n",
    ").log()\n"
   ]
  },
  {
   "cell_type": "markdown",
   "metadata": {},
   "source": [
    "### Context Recall\n",
    "\n",
    "Context Recall measures how well the banking agent utilizes the information retrieved from tools when generating its responses. This metric evaluates:\n",
    "\n",
    "**Information Utilization**: Whether the agent effectively incorporates tool outputs into its responses\n",
    "- **Coverage**: How much of the available tool information is used in the response\n",
    "- **Integration**: How well tool outputs are woven into coherent, natural banking responses\n",
    "- **Completeness**: Whether all relevant information from tools is considered\n",
    "\n",
    "**Tool Effectiveness**: Assesses whether selected banking tools provide useful context for responses\n",
    "- **Relevance**: Whether tool outputs actually help answer the user's banking question\n",
    "- **Sufficiency**: Whether enough information was retrieved to generate good banking responses\n",
    "- **Quality**: Whether the tools provided accurate, helpful banking information\n",
    "\n",
    "High context recall indicates the banking agent not only selects the right tools but also effectively uses their outputs to create comprehensive, well-informed banking responses.\n"
   ]
  },
  {
   "cell_type": "code",
   "execution_count": 21,
   "metadata": {},
   "outputs": [
    {
     "data": {
      "application/vnd.jupyter.widget-view+json": {
       "model_id": "8da1c15f605c48bfaf86c148316e772b",
       "version_major": 2,
       "version_minor": 0
      },
      "text/plain": [
       "Evaluating:   0%|          | 0/10 [00:00<?, ?it/s]"
      ]
     },
     "metadata": {},
     "output_type": "display_data"
    },
    {
     "data": {
      "application/vnd.jupyter.widget-view+json": {
       "model_id": "e37256a88f7d49dc908171c268dd3ef1",
       "version_major": 2,
       "version_minor": 0
      },
      "text/plain": [
       "VBox(children=(HTML(value='<h2>Context Recall </h2>\\n\\n<p><strong>Context Recall</strong> is designed to evalu…"
      ]
     },
     "metadata": {},
     "output_type": "display_data"
    },
    {
     "data": {
      "text/html": [
       "\n",
       "<script defer type=\"module\">\n",
       "import hljs from 'https://unpkg.com/@highlightjs/cdn-assets@11.9.0/es/highlight.min.js';\n",
       "import python from 'https://cdnjs.cloudflare.com/ajax/libs/highlight.js/11.9.0/es/languages/python.min.js';\n",
       "\n",
       "hljs.registerLanguage('python', python);\n",
       "hljs.highlightAll();\n",
       "</script>\n"
      ],
      "text/plain": [
       "<IPython.core.display.HTML object>"
      ]
     },
     "metadata": {},
     "output_type": "display_data"
    },
    {
     "data": {
      "text/html": [
       "\n",
       "<script>\n",
       "window.MathJax = {\n",
       "    tex2jax: {\n",
       "        inlineMath: [['$', '$'], ['\\\\(', '\\\\)']],\n",
       "        displayMath: [['$$', '$$'], ['\\[', '\\]']],\n",
       "        processEscapes: true,\n",
       "        skipTags: ['script', 'noscript', 'style', 'textarea', 'pre'],\n",
       "        ignoreClass: \".*\",\n",
       "        processClass: \"math\"\n",
       "    }\n",
       "};\n",
       "setTimeout(function () {\n",
       "    var script = document.createElement('script');\n",
       "    script.type = 'text/javascript';\n",
       "    script.src = 'https://cdnjs.cloudflare.com/ajax/libs/mathjax/2.7.7/MathJax.js?config=TeX-AMS_HTML';\n",
       "    document.head.appendChild(script);\n",
       "}, 300);\n",
       "</script>\n"
      ],
      "text/plain": [
       "<IPython.core.display.HTML object>"
      ]
     },
     "metadata": {},
     "output_type": "display_data"
    },
    {
     "name": "stderr",
     "output_type": "stream",
     "text": [
      "2025-09-04 11:25:11,115 - INFO(validmind.vm_models.result.result): Test driven block with result_id validmind.model_validation.ragas.ContextRecall does not exist in model's document\n"
     ]
    }
   ],
   "source": [
    "vm.tests.run_test(\n",
    "    \"validmind.model_validation.ragas.ContextRecall\",\n",
    "    inputs={\"dataset\": vm_test_dataset},\n",
    "    param_grid={\n",
    "        \"user_input_column\": [\"input\"],\n",
    "        \"retrieved_contexts_column\": [\"tool_messages\"],\n",
    "        \"reference_column\": [\"banking_agent_model_prediction\"],\n",
    "    },\n",
    ").log()\n"
   ]
  },
  {
   "cell_type": "markdown",
   "metadata": {},
   "source": [
    "### AspectCritic\n",
    "\n",
    "AspectCritic provides comprehensive evaluation across multiple dimensions of banking agent performance. This metric analyzes various aspects of response quality:\n",
    "\n",
    "**Multi-Dimensional Assessment**: Evaluates responses across different quality criteria\n",
    "- **Helpfulness**: Whether responses genuinely assist banking users in accomplishing their goals\n",
    "- **Relevance**: How well responses address the specific banking user query\n",
    "- **Coherence**: Whether responses are logically structured and easy to follow\n",
    "- **Correctness**: Accuracy of banking information and appropriateness of recommendations\n",
    "\n",
    "**Holistic Quality Scoring**: Provides an overall assessment that considers:\n",
    "- **User Experience**: How satisfying and useful the banking interaction would be for real users\n",
    "- **Professional Standards**: Whether responses meet quality expectations for production banking systems\n",
    "- **Consistency**: Whether the banking agent maintains quality across different types of requests\n",
    "\n",
    "AspectCritic helps identify specific areas where the banking agent excels or needs improvement, providing actionable insights for enhancing overall performance and user satisfaction in banking scenarios.\n"
   ]
  },
  {
   "cell_type": "code",
   "execution_count": 22,
   "metadata": {},
   "outputs": [
    {
     "data": {
      "application/vnd.jupyter.widget-view+json": {
       "model_id": "83243fe5a57a4529bbea1f878395a3c6",
       "version_major": 2,
       "version_minor": 0
      },
      "text/plain": [
       "Evaluating:   0%|          | 0/50 [00:00<?, ?it/s]"
      ]
     },
     "metadata": {},
     "output_type": "display_data"
    },
    {
     "data": {
      "application/vnd.jupyter.widget-view+json": {
       "model_id": "aff4ab35e29e457888917e26ad43af13",
       "version_major": 2,
       "version_minor": 0
      },
      "text/plain": [
       "VBox(children=(HTML(value='<h2>Aspect Critic </h2>\\n\\n<p><strong>Aspect Critic</strong> is designed to evaluat…"
      ]
     },
     "metadata": {},
     "output_type": "display_data"
    },
    {
     "data": {
      "text/html": [
       "\n",
       "<script defer type=\"module\">\n",
       "import hljs from 'https://unpkg.com/@highlightjs/cdn-assets@11.9.0/es/highlight.min.js';\n",
       "import python from 'https://cdnjs.cloudflare.com/ajax/libs/highlight.js/11.9.0/es/languages/python.min.js';\n",
       "\n",
       "hljs.registerLanguage('python', python);\n",
       "hljs.highlightAll();\n",
       "</script>\n"
      ],
      "text/plain": [
       "<IPython.core.display.HTML object>"
      ]
     },
     "metadata": {},
     "output_type": "display_data"
    },
    {
     "data": {
      "text/html": [
       "\n",
       "<script>\n",
       "window.MathJax = {\n",
       "    tex2jax: {\n",
       "        inlineMath: [['$', '$'], ['\\\\(', '\\\\)']],\n",
       "        displayMath: [['$$', '$$'], ['\\[', '\\]']],\n",
       "        processEscapes: true,\n",
       "        skipTags: ['script', 'noscript', 'style', 'textarea', 'pre'],\n",
       "        ignoreClass: \".*\",\n",
       "        processClass: \"math\"\n",
       "    }\n",
       "};\n",
       "setTimeout(function () {\n",
       "    var script = document.createElement('script');\n",
       "    script.type = 'text/javascript';\n",
       "    script.src = 'https://cdnjs.cloudflare.com/ajax/libs/mathjax/2.7.7/MathJax.js?config=TeX-AMS_HTML';\n",
       "    document.head.appendChild(script);\n",
       "}, 300);\n",
       "</script>\n"
      ],
      "text/plain": [
       "<IPython.core.display.HTML object>"
      ]
     },
     "metadata": {},
     "output_type": "display_data"
    },
    {
     "name": "stderr",
     "output_type": "stream",
     "text": [
      "2025-09-04 11:25:39,888 - INFO(validmind.vm_models.result.result): Test driven block with result_id validmind.model_validation.ragas.AspectCritic does not exist in model's document\n"
     ]
    }
   ],
   "source": [
    "vm.tests.run_test(\n",
    "    \"validmind.model_validation.ragas.AspectCritic\",\n",
    "    inputs={\"dataset\": vm_test_dataset},\n",
    "    param_grid={\n",
    "        \"user_input_column\": [\"input\"],\n",
    "        \"response_column\": [\"banking_agent_model_prediction\"],\n",
    "        \"retrieved_contexts_column\": [\"tool_messages\"],\n",
    "    },\n",
    ").log()\n"
   ]
  },
  {
   "cell_type": "markdown",
   "metadata": {},
   "source": [
    "## Demo Summary and Next Steps\n",
    "\n",
    "Congratulations! You've successfully built and tested a comprehensive **Banking AI Agent** using LangGraph and ValidMind. Here's what we've accomplished:\n",
    "\n",
    "### What We Built\n",
    "\n",
    "1. **5 Specialized Banking Tools**\n",
    "   - Credit Risk Analyzer for loan assessments\n",
    "   - Compliance Monitor for regulatory requirements (SR 11-7, SS 1-23)\n",
    "   - Financial Calculator for banking calculations\n",
    "   - Customer Account Manager for account services\n",
    "   - Fraud Detection System for security monitoring\n",
    "\n",
    "2. **Intelligent LangGraph Agent**\n",
    "   - Automatic tool selection based on user requests\n",
    "   - Banking-specific system prompts and guidance\n",
    "   - Professional banking assistance and responses\n",
    "\n",
    "3. **Comprehensive Testing Framework**\n",
    "   - 10 banking-specific test cases\n",
    "   - ValidMind integration for validation\n",
    "   - Performance analysis across banking domains\n",
    "\n",
    "### Banking Use Cases Covered\n",
    "\n",
    "- **Retail Banking**: Personal loans, account management, customer service\n",
    "- **Commercial Banking**: Business loans, compliance monitoring, large transactions\n",
    "- **Risk Management**: Credit analysis, fraud detection, regulatory compliance\n",
    "- **Customer Service**: Account inquiries, product recommendations, transaction support\n",
    "\n",
    "### Next Steps\n",
    "\n",
    "1. **Customize Tools**: Adapt the banking tools to your specific banking requirements\n",
    "2. **Expand Test Cases**: Add more banking scenarios and edge cases\n",
    "3. **Integrate with Real Data**: Connect to actual banking systems and databases\n",
    "4. **Add More Tools**: Implement additional banking-specific functionality\n",
    "5. **Production Deployment**: Deploy the agent in a production banking environment\n",
    "\n",
    "### Key Benefits\n",
    "\n",
    "- **Industry-Specific**: Designed specifically for banking operations\n",
    "- **Regulatory Compliance**: Built-in SR 11-7 and SS 1-23 compliance checks\n",
    "- **Risk Management**: Comprehensive credit and fraud risk assessment\n",
    "- **Customer Focus**: Tools for both retail and commercial banking needs\n",
    "- **Real-World Applicability**: Addresses actual banking use cases and challenges\n",
    "\n",
    "Your banking AI agent is now ready to handle real-world banking scenarios while maintaining regulatory compliance and risk management best practices!\n"
   ]
  }
 ],
 "metadata": {
  "kernelspec": {
   "display_name": "ValidMind Library",
   "name": "validmind"
  },
  "language_info": {
   "codemirror_mode": {
    "name": "ipython",
    "version": 3
   },
   "file_extension": ".py",
   "mimetype": "text/x-python",
   "name": "python",
   "nbconvert_exporter": "python",
   "pygments_lexer": "ipython3",
   "version": "3.11.9"
  }
 },
 "nbformat": 4,
 "nbformat_minor": 2
}

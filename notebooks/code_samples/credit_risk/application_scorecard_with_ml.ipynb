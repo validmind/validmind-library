{
 "cells": [
  {
   "cell_type": "markdown",
   "metadata": {},
   "source": [
    "# Document an application scorecard model\n",
    "\n",
    "Build and document an *application scorecard model* with the ValidMind Library by using Kaggle's [Lending Club](https://www.kaggle.com/datasets/devanshi23/loan-data-2007-2014/data) sample dataset to build a simple application scorecard.\n",
    "\n",
    "An application scorecard model is a type of statistical model used in credit scoring to evaluate the creditworthiness of potential borrowers by generating a score based on various characteristics of an applicant — such as credit history, income, employment status, and other relevant financial data. \n",
    "\n",
    "- This score helps lenders make decisions about whether to approve or reject loan applications, as well as determine the terms of the loan, including interest rates and credit limits. \n",
    "- Application scorecard models enable lenders to manage risk efficiently while making the loan application process faster and more transparent for applicants.\n",
    "\n",
    "This interactive notebook provides a step-by-step guide for loading a demo dataset, preprocessing the raw data, training a model for testing, setting up test inputs, initializing the required ValidMind objects, running the test, and then logging the results to ValidMind."
   ]
  },
  {
   "cell_type": "markdown",
   "metadata": {},
   "source": [
    "## Contents    \n",
    "- [About ValidMind](#toc1_)    \n",
    "  - [Before you begin](#toc1_1_)    \n",
    "  - [New to ValidMind?](#toc1_2_)    \n",
    "  - [Key concepts](#toc1_3_)    \n",
    "- [Install the ValidMind Library](#toc2_)    \n",
    "- [Initialize the ValidMind Library](#toc3_)    \n",
    "  - [Get your code snippet](#toc3_1_)  \n",
    "- [Initialize the Python environment](#toc4_)    \n",
    "  - [Preview the documentation template](#toc4_1_)    \n",
    "- [Load the sample dataset](#toc5_)    \n",
    "  - [Prepocess the dataset](#toc5_1_)    \n",
    "  - [Feature engineering](#toc5_2_)    \n",
    "- [Train the model](#toc6_)    \n",
    "  - [Compute probabilities](#toc6_1_)    \n",
    "  - [Compute binary predictions](#toc6_2_)    \n",
    "  - [Compute scores](#toc6_3_)    \n",
    "- [Document the model](#toc7_)    \n",
    "  - [Initialize the ValidMind datasets](#toc7_1_)    \n",
    "  - [Initialize a model object](#toc7_2_)    \n",
    "  - [Assign prediction values and probabilities to the datasets](#toc7_3_)    \n",
    "  - [Assign scores to the datasets](#toc7_4_)    \n",
    "  - [Data validation](#toc7_5_)    \n",
    "    - [Run tests for raw data tests](#toc7_5_1_)    \n",
    "    - [Run tests for preprocessed data](#toc7_5_2_)    \n",
    "    - [Run tests for WoE analysis](#toc7_5_3_)    \n",
    "  - [Model validation](#toc7_6_)    \n",
    "    - [Run tests for model training](#toc7_6_1_)    \n",
    "    - [Run tests for model evaluation](#toc7_6_2_)    \n",
    "    - [Run tests for model explainability](#toc7_6_3_)    \n",
    "- [Next steps](#toc8_)    \n",
    "  - [Work with your model documentation](#toc8_1_)    \n",
    "  - [Discover more learning resources](#toc8_2_)\n",
    "- [Upgrade ValidMind](#toc9_)    \n",
    "\n",
    "<!-- vscode-jupyter-toc-config\n",
    "    numbering=false\n",
    "    anchor=true\n",
    "    flat=false\n",
    "    minLevel=2\n",
    "    maxLevel=4\n",
    "    /vscode-jupyter-toc-config -->\n",
    "<!-- THIS CELL WILL BE REPLACED ON TOC UPDATE. DO NOT WRITE YOUR TEXT IN THIS CELL -->"
   ]
  },
  {
   "cell_type": "markdown",
   "metadata": {},
   "source": [
    "<a id='toc1_'></a>\n",
    "\n",
    "## About ValidMind\n",
    "ValidMind is a suite of tools for managing model risk, including risk associated with AI and statistical models.\n",
    "\n",
    "You use the ValidMind Library to automate documentation and validation tests, and then use the ValidMind Platform to collaborate on model documentation. Together, these products simplify model risk management, facilitate compliance with regulations and institutional standards, and enhance collaboration between yourself and model validators.\n",
    "\n",
    "<a id='toc1_1_'></a>\n",
    "\n",
    "### Before you begin\n",
    "This notebook assumes you have basic familiarity with Python, including an understanding of how functions work. If you are new to Python, you can still run the notebook but we recommend further familiarizing yourself with the language.\n",
    "\n",
    "If you encounter errors due to missing modules in your Python environment, install the modules with `pip install`, and then re-run the notebook. For more help, refer to [Installing Python Modules](https://docs.python.org/3/installing/index.html).\n",
    "\n",
    "<a id='toc1_2_'></a>\n",
    "\n",
    "### New to ValidMind?\n",
    "If you haven't already seen our [Get started with the ValidMind Library](https://docs.validmind.ai/developer/get-started-validmind-library.html), we recommend you begin by exploring the available resources in this section. There, you can learn more about documenting models, find code samples, or read our developer reference.\n",
    "\n",
    "<div class=\"alert alert-block alert-info\" style=\"background-color: #B5B5B510; color: black; border: 1px solid #083E44; border-left-width: 5px; box-shadow: 2px 2px 4px rgba(0, 0, 0, 0.2);border-radius: 5px;\"><span style=\"color: #083E44;\"><b>For access to all features available in this notebook, create a free ValidMind account.</b></span>\n",
    "<br></br>\n",
    "Signing up is FREE — <a href=\"https://docs.validmind.ai/guide/configuration/register-with-validmind.html\" style=\"color: #DE257E;\"><b>Register with ValidMind</b></a></div>\n"
   ]
  },
  {
   "cell_type": "markdown",
   "metadata": {},
   "source": [
    "<a id='toc1_3_'></a>\n",
    "\n",
    "### Key concepts\n",
    "\n",
    "**Model documentation**: A structured and detailed record pertaining to a model, encompassing key components such as its underlying assumptions, methodologies, data sources, inputs, performance metrics, evaluations, limitations, and intended uses. It serves to ensure transparency, adherence to regulatory requirements, and a clear understanding of potential risks associated with the model’s application.\n",
    "\n",
    "**Documentation template**: Functions as a test suite and lays out the structure of model documentation, segmented into various sections and sub-sections. Documentation templates define the structure of your model documentation, specifying the tests that should be run, and how the results should be displayed.\n",
    "\n",
    "**Tests**: A function contained in the ValidMind Library, designed to run a specific quantitative test on the dataset or model. Tests are the building blocks of ValidMind, used to evaluate and document models and datasets, and can be run individually or as part of a suite defined by your model documentation template.\n",
    "\n",
    "**Custom tests**: Custom tests are functions that you define to evaluate your model or dataset. These functions can be registered via the ValidMind Library to be used with the ValidMind Platform.\n",
    "\n",
    "**Inputs**: Objects to be evaluated and documented in the ValidMind Library. They can be any of the following:\n",
    "\n",
    "- **model**: A single model that has been initialized in ValidMind with [`vm.init_model()`](https://docs.validmind.ai/validmind/validmind.html#init_model).\n",
    "- **dataset**: Single dataset that has been initialized in ValidMind with [`vm.init_dataset()`](https://docs.validmind.ai/validmind/validmind.html#init_dataset).\n",
    "- **models**: A list of ValidMind models - usually this is used when you want to compare multiple models in your custom test.\n",
    "- **datasets**: A list of ValidMind datasets - usually this is used when you want to compare multiple datasets in your custom test. See this [example](https://docs.validmind.ai/notebooks/how_to/run_tests_that_require_multiple_datasets.html) for more information.\n",
    "\n",
    "**Parameters**: Additional arguments that can be passed when running a ValidMind test, used to pass additional information to a test, customize its behavior, or provide additional context.\n",
    "\n",
    "**Outputs**: Custom tests can return elements like tables or plots. Tables may be a list of dictionaries (each representing a row) or a pandas DataFrame. Plots may be matplotlib or plotly figures.\n",
    "\n",
    "**Test suites**: Collections of tests designed to run together to automate and generate model documentation end-to-end for specific use-cases.\n",
    "\n",
    "Example: The [`classifier_full_suite`](https://docs.validmind.ai/validmind/validmind/test_suites/classifier.html#ClassifierFullSuite) test suite runs tests from the [`tabular_dataset`](https://docs.validmind.ai/validmind/validmind/test_suites/tabular_datasets.html) and [`classifier`](https://docs.validmind.ai/validmind/validmind/test_suites/classifier.html) test suites to fully document the data and model sections for binary classification model use-cases."
   ]
  },
  {
   "cell_type": "markdown",
   "metadata": {},
   "source": [
    "<a id='toc2_'></a>\n",
    "\n",
    "## Install the ValidMind Library\n",
    "\n",
    "To install the library:"
   ]
  },
  {
   "cell_type": "code",
   "execution_count": 1,
   "metadata": {},
   "outputs": [
    {
     "name": "stdout",
     "output_type": "stream",
     "text": [
      "\u001b[33mWARNING: visions 0.7.6 does not provide the extra 'type-image-path'\u001b[0m\u001b[33m\n",
      "\u001b[0m\n",
      "\u001b[1m[\u001b[0m\u001b[34;49mnotice\u001b[0m\u001b[1;39;49m]\u001b[0m\u001b[39;49m A new release of pip is available: \u001b[0m\u001b[31;49m24.0\u001b[0m\u001b[39;49m -> \u001b[0m\u001b[32;49m24.3.1\u001b[0m\n",
      "\u001b[1m[\u001b[0m\u001b[34;49mnotice\u001b[0m\u001b[1;39;49m]\u001b[0m\u001b[39;49m To update, run: \u001b[0m\u001b[32;49mpip install --upgrade pip\u001b[0m\n",
      "Note: you may need to restart the kernel to use updated packages.\n"
     ]
    }
   ],
   "source": [
    "%pip install -q validmind"
   ]
  },
  {
   "cell_type": "markdown",
   "metadata": {},
   "source": [
    "<a id='toc3_'></a>\n",
    "\n",
    "## Initialize the ValidMind Library\n",
    "\n",
    "ValidMind generates a unique _code snippet_ for each registered model to connect with your developer environment. You initialize the ValidMind Library with this code snippet, which ensures that your documentation and tests are uploaded to the correct model when you run the notebook.\n",
    "\n",
    "<a id='toc3_1_'></a>\n",
    "\n",
    "### Get your code snippet\n",
    "\n",
    "1. In a browser, [log in to ValidMind](https://docs.validmind.ai/guide/configuration/log-in-to-validmind.html).\n",
    "\n",
    "2. In the left sidebar, navigate to **Model Inventory** and click **+ Register Model**.\n",
    "\n",
    "3. Enter the model details and click **Continue**. ([Need more help?](https://docs.validmind.ai/guide/model-inventory/register-models-in-inventory.html))\n",
    "\n",
    "   For example, to register a model for use with this notebook, select:\n",
    "\n",
    "   - Documentation template: `Credit Risk Scorecard`\n",
    "   - Use case: `Credit Risk - CECL`\n",
    "\n",
    "   You can fill in other options according to your preference.\n",
    "\n",
    "4. Go to **Getting Started** and click **Copy snippet to clipboard**.\n",
    "\n",
    "Next, [load your model identifier credentials from an `.env` file](https://docs.validmind.ai/developer/model-documentation/store-credentials-in-env-file.html) or replace the placeholder with your own code snippet:"
   ]
  },
  {
   "cell_type": "code",
   "execution_count": 2,
   "metadata": {},
   "outputs": [
    {
     "name": "stderr",
     "output_type": "stream",
     "text": [
      "2025-01-03 15:41:50,510 - INFO(validmind.api_client): 🎉 Connected to ValidMind!\n",
      "📊 Model: [JM] Credit Risk Scorecard (ID: cm5gljv9100021nignfpbkvvc)\n",
      "📁 Document Type: model_documentation\n"
     ]
    }
   ],
   "source": [
    "# Load your model identifier credentials from an `.env` file\n",
    "\n",
    "%load_ext dotenv\n",
    "%dotenv .env\n",
    "\n",
    "# Or replace with your code snippet\n",
    "\n",
    "import validmind as vm\n",
    "\n",
    "vm.init(\n",
    "  api_host = \"https://api.prod.validmind.ai/api/v1/tracking\",\n",
    "  api_key = \"...\",\n",
    "  api_secret = \"...\",\n",
    "  model = \"...\"\n",
    ")"
   ]
  },
  {
   "cell_type": "markdown",
   "metadata": {},
   "source": [
    "<a id='toc4_'></a>\n",
    "\n",
    "## Initialize the Python environment\n",
    "\n",
    "Next, let's import the necessary libraries and set up your Python environment for data analysis:"
   ]
  },
  {
   "cell_type": "code",
   "execution_count": 3,
   "metadata": {},
   "outputs": [],
   "source": [
    "import xgboost as xgb\n",
    "from sklearn.ensemble import RandomForestClassifier\n",
    "\n",
    "from validmind.tests import run_test\n",
    "from validmind.datasets.credit_risk import lending_club\n",
    "\n",
    "%matplotlib inline"
   ]
  },
  {
   "cell_type": "markdown",
   "metadata": {},
   "source": [
    "<a id='toc4_1_'></a>\n",
    "\n",
    "### Preview the documentation template\n",
    "\n",
    "A template predefines sections for your model documentation and provides a general outline to follow, making the documentation process much easier.\n",
    "\n",
    "You'll upload documentation and test results into this template later on. For now, take a look at the structure that the template provides with the `vm.preview_template()` function from the ValidMind library and note the empty sections:"
   ]
  },
  {
   "cell_type": "code",
   "execution_count": 4,
   "metadata": {},
   "outputs": [
    {
     "data": {
      "application/vnd.jupyter.widget-view+json": {
       "model_id": "aeda8e9baaca448e8e8ce41ceeadab8e",
       "version_major": 2,
       "version_minor": 0
      },
      "text/plain": [
       "Accordion(children=(HTML(value='<p>Empty Section</p>'), Accordion(children=(VBox(children=(HTML(value='\\n<div\\…"
      ]
     },
     "metadata": {},
     "output_type": "display_data"
    },
    {
     "data": {
      "text/html": [
       "\n",
       "<script defer type=\"module\">\n",
       "import hljs from 'https://unpkg.com/@highlightjs/cdn-assets@11.9.0/es/highlight.min.js';\n",
       "import python from 'https://cdnjs.cloudflare.com/ajax/libs/highlight.js/11.9.0/es/languages/python.min.js';\n",
       "\n",
       "hljs.registerLanguage('python', python);\n",
       "hljs.highlightAll();\n",
       "</script>\n"
      ],
      "text/plain": [
       "<IPython.core.display.HTML object>"
      ]
     },
     "metadata": {},
     "output_type": "display_data"
    },
    {
     "data": {
      "text/html": [
       "\n",
       "<script>\n",
       "window.MathJax = {\n",
       "    tex2jax: {\n",
       "        inlineMath: [['$', '$'], ['\\\\(', '\\\\)']],\n",
       "        displayMath: [['$$', '$$'], ['\\[', '\\]']],\n",
       "        processEscapes: true,\n",
       "        skipTags: ['script', 'noscript', 'style', 'textarea', 'pre'],\n",
       "        ignoreClass: \".*\",\n",
       "        processClass: \"math\"\n",
       "    }\n",
       "};\n",
       "setTimeout(function () {\n",
       "    var script = document.createElement('script');\n",
       "    script.type = 'text/javascript';\n",
       "    script.src = 'https://cdnjs.cloudflare.com/ajax/libs/mathjax/2.7.7/MathJax.js?config=TeX-AMS_HTML';\n",
       "    document.head.appendChild(script);\n",
       "}, 300);\n",
       "</script>\n"
      ],
      "text/plain": [
       "<IPython.core.display.HTML object>"
      ]
     },
     "metadata": {},
     "output_type": "display_data"
    }
   ],
   "source": [
    "vm.preview_template()"
   ]
  },
  {
   "cell_type": "markdown",
   "metadata": {},
   "source": [
    "<a id='toc5_'></a>\n",
    "\n",
    "## Load the sample dataset\n",
    "\n",
    "The sample dataset used here is provided by the ValidMind library. To be able to use it, you'll need to import the dataset and load it into a pandas [DataFrame](https://pandas.pydata.org/docs/reference/api/pandas.DataFrame.html), a two-dimensional tabular data structure that makes use of rows and columns:"
   ]
  },
  {
   "cell_type": "code",
   "execution_count": 5,
   "metadata": {},
   "outputs": [
    {
     "name": "stdout",
     "output_type": "stream",
     "text": [
      "Loading data from an offline .gz file: /Users/juanvalidmind/Dev/github/validmind/developer-framework/validmind/datasets/credit_risk/datasets/lending_club_loan_data_2007_2014_clean.csv.gz\n",
      "Attempting to read from .gz file: /Users/juanvalidmind/Dev/github/validmind/developer-framework/validmind/datasets/credit_risk/datasets/lending_club_loan_data_2007_2014_clean.csv.gz\n",
      "Data loaded successfully.\n",
      "Rows: 227214, Columns: 16, Missing values: 8673\n"
     ]
    },
    {
     "data": {
      "text/html": [
       "<div>\n",
       "<style scoped>\n",
       "    .dataframe tbody tr th:only-of-type {\n",
       "        vertical-align: middle;\n",
       "    }\n",
       "\n",
       "    .dataframe tbody tr th {\n",
       "        vertical-align: top;\n",
       "    }\n",
       "\n",
       "    .dataframe thead th {\n",
       "        text-align: right;\n",
       "    }\n",
       "</style>\n",
       "<table border=\"1\" class=\"dataframe\">\n",
       "  <thead>\n",
       "    <tr style=\"text-align: right;\">\n",
       "      <th></th>\n",
       "      <th>loan_amnt</th>\n",
       "      <th>funded_amnt_inv</th>\n",
       "      <th>term</th>\n",
       "      <th>int_rate</th>\n",
       "      <th>installment</th>\n",
       "      <th>grade</th>\n",
       "      <th>sub_grade</th>\n",
       "      <th>emp_length</th>\n",
       "      <th>home_ownership</th>\n",
       "      <th>annual_inc</th>\n",
       "      <th>verification_status</th>\n",
       "      <th>loan_status</th>\n",
       "      <th>purpose</th>\n",
       "      <th>open_acc</th>\n",
       "      <th>total_acc</th>\n",
       "      <th>total_pymnt</th>\n",
       "    </tr>\n",
       "  </thead>\n",
       "  <tbody>\n",
       "    <tr>\n",
       "      <th>0</th>\n",
       "      <td>5000</td>\n",
       "      <td>4975.0</td>\n",
       "      <td>36 months</td>\n",
       "      <td>10.65</td>\n",
       "      <td>162.87</td>\n",
       "      <td>B</td>\n",
       "      <td>B2</td>\n",
       "      <td>10+ years</td>\n",
       "      <td>RENT</td>\n",
       "      <td>24000.0</td>\n",
       "      <td>Verified</td>\n",
       "      <td>0.0</td>\n",
       "      <td>credit_card</td>\n",
       "      <td>3.0</td>\n",
       "      <td>9.0</td>\n",
       "      <td>5861.071414</td>\n",
       "    </tr>\n",
       "    <tr>\n",
       "      <th>1</th>\n",
       "      <td>2500</td>\n",
       "      <td>2500.0</td>\n",
       "      <td>60 months</td>\n",
       "      <td>15.27</td>\n",
       "      <td>59.83</td>\n",
       "      <td>C</td>\n",
       "      <td>C4</td>\n",
       "      <td>&lt; 1 year</td>\n",
       "      <td>RENT</td>\n",
       "      <td>30000.0</td>\n",
       "      <td>Source Verified</td>\n",
       "      <td>1.0</td>\n",
       "      <td>car</td>\n",
       "      <td>3.0</td>\n",
       "      <td>4.0</td>\n",
       "      <td>1008.710000</td>\n",
       "    </tr>\n",
       "    <tr>\n",
       "      <th>2</th>\n",
       "      <td>2400</td>\n",
       "      <td>2400.0</td>\n",
       "      <td>36 months</td>\n",
       "      <td>15.96</td>\n",
       "      <td>84.33</td>\n",
       "      <td>C</td>\n",
       "      <td>C5</td>\n",
       "      <td>10+ years</td>\n",
       "      <td>RENT</td>\n",
       "      <td>12252.0</td>\n",
       "      <td>Not Verified</td>\n",
       "      <td>0.0</td>\n",
       "      <td>small_business</td>\n",
       "      <td>2.0</td>\n",
       "      <td>10.0</td>\n",
       "      <td>3003.653644</td>\n",
       "    </tr>\n",
       "    <tr>\n",
       "      <th>3</th>\n",
       "      <td>10000</td>\n",
       "      <td>10000.0</td>\n",
       "      <td>36 months</td>\n",
       "      <td>13.49</td>\n",
       "      <td>339.31</td>\n",
       "      <td>C</td>\n",
       "      <td>C1</td>\n",
       "      <td>10+ years</td>\n",
       "      <td>RENT</td>\n",
       "      <td>49200.0</td>\n",
       "      <td>Source Verified</td>\n",
       "      <td>0.0</td>\n",
       "      <td>other</td>\n",
       "      <td>10.0</td>\n",
       "      <td>37.0</td>\n",
       "      <td>12226.302210</td>\n",
       "    </tr>\n",
       "    <tr>\n",
       "      <th>4</th>\n",
       "      <td>5000</td>\n",
       "      <td>5000.0</td>\n",
       "      <td>36 months</td>\n",
       "      <td>7.90</td>\n",
       "      <td>156.46</td>\n",
       "      <td>A</td>\n",
       "      <td>A4</td>\n",
       "      <td>3 years</td>\n",
       "      <td>RENT</td>\n",
       "      <td>36000.0</td>\n",
       "      <td>Source Verified</td>\n",
       "      <td>0.0</td>\n",
       "      <td>wedding</td>\n",
       "      <td>9.0</td>\n",
       "      <td>12.0</td>\n",
       "      <td>5631.377753</td>\n",
       "    </tr>\n",
       "  </tbody>\n",
       "</table>\n",
       "</div>"
      ],
      "text/plain": [
       "   loan_amnt  funded_amnt_inv        term  int_rate  installment grade  \\\n",
       "0       5000           4975.0   36 months     10.65       162.87     B   \n",
       "1       2500           2500.0   60 months     15.27        59.83     C   \n",
       "2       2400           2400.0   36 months     15.96        84.33     C   \n",
       "3      10000          10000.0   36 months     13.49       339.31     C   \n",
       "4       5000           5000.0   36 months      7.90       156.46     A   \n",
       "\n",
       "  sub_grade emp_length home_ownership  annual_inc verification_status  \\\n",
       "0        B2  10+ years           RENT     24000.0            Verified   \n",
       "1        C4   < 1 year           RENT     30000.0     Source Verified   \n",
       "2        C5  10+ years           RENT     12252.0        Not Verified   \n",
       "3        C1  10+ years           RENT     49200.0     Source Verified   \n",
       "4        A4    3 years           RENT     36000.0     Source Verified   \n",
       "\n",
       "   loan_status         purpose  open_acc  total_acc   total_pymnt  \n",
       "0          0.0     credit_card       3.0        9.0   5861.071414  \n",
       "1          1.0             car       3.0        4.0   1008.710000  \n",
       "2          0.0  small_business       2.0       10.0   3003.653644  \n",
       "3          0.0           other      10.0       37.0  12226.302210  \n",
       "4          0.0         wedding       9.0       12.0   5631.377753  "
      ]
     },
     "execution_count": 5,
     "metadata": {},
     "output_type": "execute_result"
    }
   ],
   "source": [
    "df = lending_club.load_data(source=\"offline\")\n",
    "\n",
    "df.head()"
   ]
  },
  {
   "cell_type": "markdown",
   "metadata": {},
   "source": [
    "<a id='toc5_1_'></a>\n",
    "\n",
    "### Prepocess the dataset\n",
    "\n",
    "In the preprocessing step we perform a number of operations to get ready for building our application scorecard. \n",
    "\n",
    "We use the `lending_club.preprocess` to simplify preprocessing. This function performs the following operations: \n",
    "- Filters the dataset to include only loans for debt consolidation or credit card purposes\n",
    "- Removes loans classified under the riskier grades \"F\" and \"G\"\n",
    "- Excludes uncommon home ownership types and standardizes employment length and loan terms into numerical formats\n",
    "- Discards unnecessary fields and any entries with missing information to maintain a clean and robust dataset for modeling"
   ]
  },
  {
   "cell_type": "code",
   "execution_count": 6,
   "metadata": {},
   "outputs": [
    {
     "name": "stdout",
     "output_type": "stream",
     "text": [
      "Filtering 'purpose' to 'debt_consolidation' and 'credit_card':\n",
      "Rows: 177825\n",
      "Columns: 16\n",
      "Missing values: 6507\n",
      "\n",
      "Filtering out 'grade' F and G:\n",
      "Rows: 172165\n",
      "Columns: 16\n",
      "Missing values: 6352\n",
      "\n",
      "Filtering out 'sub_grade' F and G:\n",
      "Rows: 172165\n",
      "Columns: 16\n",
      "Missing values: 6352\n",
      "\n",
      "Filtering out 'home_ownership' OTHER, NONE, ANY:\n",
      "Rows: 172045\n",
      "Columns: 16\n",
      "Missing values: 6350\n",
      "\n",
      "Dropping specified features:\n",
      "Rows: 172045\n",
      "Columns: 13\n",
      "Missing values: 6350\n",
      "\n",
      "Dropping rows with any missing values:\n",
      "Rows: 165695\n",
      "Columns: 13\n",
      "Missing values: 0\n",
      "\n"
     ]
    },
    {
     "data": {
      "text/html": [
       "<div>\n",
       "<style scoped>\n",
       "    .dataframe tbody tr th:only-of-type {\n",
       "        vertical-align: middle;\n",
       "    }\n",
       "\n",
       "    .dataframe tbody tr th {\n",
       "        vertical-align: top;\n",
       "    }\n",
       "\n",
       "    .dataframe thead th {\n",
       "        text-align: right;\n",
       "    }\n",
       "</style>\n",
       "<table border=\"1\" class=\"dataframe\">\n",
       "  <thead>\n",
       "    <tr style=\"text-align: right;\">\n",
       "      <th></th>\n",
       "      <th>term</th>\n",
       "      <th>int_rate</th>\n",
       "      <th>installment</th>\n",
       "      <th>grade</th>\n",
       "      <th>sub_grade</th>\n",
       "      <th>emp_length</th>\n",
       "      <th>home_ownership</th>\n",
       "      <th>annual_inc</th>\n",
       "      <th>verification_status</th>\n",
       "      <th>loan_status</th>\n",
       "      <th>purpose</th>\n",
       "      <th>open_acc</th>\n",
       "      <th>total_acc</th>\n",
       "    </tr>\n",
       "  </thead>\n",
       "  <tbody>\n",
       "    <tr>\n",
       "      <th>0</th>\n",
       "      <td>36</td>\n",
       "      <td>10.65</td>\n",
       "      <td>162.87</td>\n",
       "      <td>B</td>\n",
       "      <td>B2</td>\n",
       "      <td>10</td>\n",
       "      <td>RENT</td>\n",
       "      <td>24000.0</td>\n",
       "      <td>Verified</td>\n",
       "      <td>0</td>\n",
       "      <td>credit_card</td>\n",
       "      <td>3.0</td>\n",
       "      <td>9.0</td>\n",
       "    </tr>\n",
       "    <tr>\n",
       "      <th>8</th>\n",
       "      <td>60</td>\n",
       "      <td>14.65</td>\n",
       "      <td>153.45</td>\n",
       "      <td>C</td>\n",
       "      <td>C3</td>\n",
       "      <td>5</td>\n",
       "      <td>OWN</td>\n",
       "      <td>72000.0</td>\n",
       "      <td>Not Verified</td>\n",
       "      <td>0</td>\n",
       "      <td>debt_consolidation</td>\n",
       "      <td>14.0</td>\n",
       "      <td>23.0</td>\n",
       "    </tr>\n",
       "    <tr>\n",
       "      <th>9</th>\n",
       "      <td>36</td>\n",
       "      <td>12.69</td>\n",
       "      <td>402.54</td>\n",
       "      <td>B</td>\n",
       "      <td>B5</td>\n",
       "      <td>10</td>\n",
       "      <td>OWN</td>\n",
       "      <td>75000.0</td>\n",
       "      <td>Source Verified</td>\n",
       "      <td>0</td>\n",
       "      <td>debt_consolidation</td>\n",
       "      <td>12.0</td>\n",
       "      <td>34.0</td>\n",
       "    </tr>\n",
       "    <tr>\n",
       "      <th>10</th>\n",
       "      <td>36</td>\n",
       "      <td>13.49</td>\n",
       "      <td>305.38</td>\n",
       "      <td>C</td>\n",
       "      <td>C1</td>\n",
       "      <td>0</td>\n",
       "      <td>RENT</td>\n",
       "      <td>30000.0</td>\n",
       "      <td>Source Verified</td>\n",
       "      <td>1</td>\n",
       "      <td>debt_consolidation</td>\n",
       "      <td>4.0</td>\n",
       "      <td>9.0</td>\n",
       "    </tr>\n",
       "    <tr>\n",
       "      <th>11</th>\n",
       "      <td>36</td>\n",
       "      <td>9.91</td>\n",
       "      <td>96.68</td>\n",
       "      <td>B</td>\n",
       "      <td>B1</td>\n",
       "      <td>3</td>\n",
       "      <td>RENT</td>\n",
       "      <td>15000.0</td>\n",
       "      <td>Source Verified</td>\n",
       "      <td>0</td>\n",
       "      <td>credit_card</td>\n",
       "      <td>11.0</td>\n",
       "      <td>11.0</td>\n",
       "    </tr>\n",
       "  </tbody>\n",
       "</table>\n",
       "</div>"
      ],
      "text/plain": [
       "   term  int_rate  installment grade sub_grade emp_length home_ownership  \\\n",
       "0    36     10.65       162.87     B        B2         10           RENT   \n",
       "8    60     14.65       153.45     C        C3          5            OWN   \n",
       "9    36     12.69       402.54     B        B5         10            OWN   \n",
       "10   36     13.49       305.38     C        C1          0           RENT   \n",
       "11   36      9.91        96.68     B        B1          3           RENT   \n",
       "\n",
       "    annual_inc verification_status  loan_status             purpose  open_acc  \\\n",
       "0      24000.0            Verified            0         credit_card       3.0   \n",
       "8      72000.0        Not Verified            0  debt_consolidation      14.0   \n",
       "9      75000.0     Source Verified            0  debt_consolidation      12.0   \n",
       "10     30000.0     Source Verified            1  debt_consolidation       4.0   \n",
       "11     15000.0     Source Verified            0         credit_card      11.0   \n",
       "\n",
       "    total_acc  \n",
       "0         9.0  \n",
       "8        23.0  \n",
       "9        34.0  \n",
       "10        9.0  \n",
       "11       11.0  "
      ]
     },
     "execution_count": 6,
     "metadata": {},
     "output_type": "execute_result"
    }
   ],
   "source": [
    "preprocess_df = lending_club.preprocess(df)\n",
    "preprocess_df.head()"
   ]
  },
  {
   "cell_type": "markdown",
   "metadata": {},
   "source": [
    "<a id='toc5_2_'></a>\n",
    "\n",
    "### Feature engineering\n",
    "\n",
    "In the feature engineering phase, we apply specific transformations to optimize the dataset for predictive modeling in our application scorecard. \n",
    "\n",
    "Using the `ending_club.feature_engineering()` function, we conduct the following operations:\n",
    "- **WoE encoding**: Converts both numerical and categorical features into Weight of Evidence (WoE) values. WoE is a statistical measure used in scorecard modeling that quantifies the relationship between a predictor variable and the binary target variable. It calculates the ratio of the distribution of good outcomes to the distribution of bad outcomes for each category or bin of a feature. This transformation helps to ensure that the features are predictive and consistent in their contribution to the model.\n",
    "- **Integration of WoE bins**: Ensures that the WoE transformed values are integrated throughout the dataset, replacing the original feature values while excluding the target variable from this transformation. This transformation is used to maintain a consistent scale and impact of each variable within the model, which helps make the predictions more stable and accurate."
   ]
  },
  {
   "cell_type": "code",
   "execution_count": 7,
   "metadata": {},
   "outputs": [
    {
     "name": "stdout",
     "output_type": "stream",
     "text": [
      "Performing binning with breaks_adj: {'loan_amnt': [5000, 10000, 15000, 20000, 25000], 'int_rate': [10, 15, 20], 'annual_inc': [50000, 100000, 150000]}\n",
      "[INFO] creating woe binning ...\n"
     ]
    },
    {
     "name": "stderr",
     "output_type": "stream",
     "text": [
      "Could not infer format, so each element will be parsed individually, falling back to `dateutil`. To ensure parsing is consistent and as-expected, please specify a format.\n",
      "Could not infer format, so each element will be parsed individually, falling back to `dateutil`. To ensure parsing is consistent and as-expected, please specify a format.\n",
      "Could not infer format, so each element will be parsed individually, falling back to `dateutil`. To ensure parsing is consistent and as-expected, please specify a format.\n",
      "Could not infer format, so each element will be parsed individually, falling back to `dateutil`. To ensure parsing is consistent and as-expected, please specify a format.\n",
      "Could not infer format, so each element will be parsed individually, falling back to `dateutil`. To ensure parsing is consistent and as-expected, please specify a format.\n"
     ]
    },
    {
     "name": "stdout",
     "output_type": "stream",
     "text": [
      "[INFO] converting into woe values ...\n",
      "Successfully converted features to WoE values.\n",
      "Rows: 165695\n",
      "Columns: 13\n",
      "Missing values: 0\n",
      "\n"
     ]
    },
    {
     "data": {
      "text/html": [
       "<div>\n",
       "<style scoped>\n",
       "    .dataframe tbody tr th:only-of-type {\n",
       "        vertical-align: middle;\n",
       "    }\n",
       "\n",
       "    .dataframe tbody tr th {\n",
       "        vertical-align: top;\n",
       "    }\n",
       "\n",
       "    .dataframe thead th {\n",
       "        text-align: right;\n",
       "    }\n",
       "</style>\n",
       "<table border=\"1\" class=\"dataframe\">\n",
       "  <thead>\n",
       "    <tr style=\"text-align: right;\">\n",
       "      <th></th>\n",
       "      <th>loan_status</th>\n",
       "      <th>grade_woe</th>\n",
       "      <th>sub_grade_woe</th>\n",
       "      <th>open_acc_woe</th>\n",
       "      <th>verification_status_woe</th>\n",
       "      <th>home_ownership_woe</th>\n",
       "      <th>annual_inc_woe</th>\n",
       "      <th>purpose_woe</th>\n",
       "      <th>installment_woe</th>\n",
       "      <th>emp_length_woe</th>\n",
       "      <th>term_woe</th>\n",
       "      <th>int_rate_woe</th>\n",
       "      <th>total_acc_woe</th>\n",
       "    </tr>\n",
       "  </thead>\n",
       "  <tbody>\n",
       "    <tr>\n",
       "      <th>0</th>\n",
       "      <td>0</td>\n",
       "      <td>-0.396915</td>\n",
       "      <td>-0.336648</td>\n",
       "      <td>-0.135784</td>\n",
       "      <td>0.144895</td>\n",
       "      <td>0.114461</td>\n",
       "      <td>0.272855</td>\n",
       "      <td>-0.157770</td>\n",
       "      <td>-0.191738</td>\n",
       "      <td>-0.016348</td>\n",
       "      <td>-0.215312</td>\n",
       "      <td>-0.202397</td>\n",
       "      <td>0.085175</td>\n",
       "    </tr>\n",
       "    <tr>\n",
       "      <th>8</th>\n",
       "      <td>0</td>\n",
       "      <td>0.186188</td>\n",
       "      <td>0.337916</td>\n",
       "      <td>0.023460</td>\n",
       "      <td>-0.243789</td>\n",
       "      <td>0.053303</td>\n",
       "      <td>-0.054231</td>\n",
       "      <td>0.051351</td>\n",
       "      <td>-0.191738</td>\n",
       "      <td>-0.016348</td>\n",
       "      <td>0.654502</td>\n",
       "      <td>-0.202397</td>\n",
       "      <td>0.032958</td>\n",
       "    </tr>\n",
       "    <tr>\n",
       "      <th>9</th>\n",
       "      <td>0</td>\n",
       "      <td>-0.396915</td>\n",
       "      <td>-0.336648</td>\n",
       "      <td>0.023460</td>\n",
       "      <td>0.089350</td>\n",
       "      <td>0.053303</td>\n",
       "      <td>-0.054231</td>\n",
       "      <td>0.051351</td>\n",
       "      <td>0.128420</td>\n",
       "      <td>-0.016348</td>\n",
       "      <td>-0.215312</td>\n",
       "      <td>-0.202397</td>\n",
       "      <td>-0.101325</td>\n",
       "    </tr>\n",
       "    <tr>\n",
       "      <th>10</th>\n",
       "      <td>1</td>\n",
       "      <td>0.186188</td>\n",
       "      <td>-0.336648</td>\n",
       "      <td>-0.135784</td>\n",
       "      <td>0.089350</td>\n",
       "      <td>0.114461</td>\n",
       "      <td>0.272855</td>\n",
       "      <td>0.051351</td>\n",
       "      <td>-0.013370</td>\n",
       "      <td>0.053758</td>\n",
       "      <td>-0.215312</td>\n",
       "      <td>-0.202397</td>\n",
       "      <td>0.085175</td>\n",
       "    </tr>\n",
       "    <tr>\n",
       "      <th>11</th>\n",
       "      <td>0</td>\n",
       "      <td>-0.396915</td>\n",
       "      <td>-0.336648</td>\n",
       "      <td>0.023460</td>\n",
       "      <td>0.089350</td>\n",
       "      <td>0.114461</td>\n",
       "      <td>0.272855</td>\n",
       "      <td>-0.157770</td>\n",
       "      <td>-0.191738</td>\n",
       "      <td>-0.016348</td>\n",
       "      <td>-0.215312</td>\n",
       "      <td>-1.067745</td>\n",
       "      <td>0.085175</td>\n",
       "    </tr>\n",
       "  </tbody>\n",
       "</table>\n",
       "</div>"
      ],
      "text/plain": [
       "    loan_status  grade_woe  sub_grade_woe  open_acc_woe  \\\n",
       "0             0  -0.396915      -0.336648     -0.135784   \n",
       "8             0   0.186188       0.337916      0.023460   \n",
       "9             0  -0.396915      -0.336648      0.023460   \n",
       "10            1   0.186188      -0.336648     -0.135784   \n",
       "11            0  -0.396915      -0.336648      0.023460   \n",
       "\n",
       "    verification_status_woe  home_ownership_woe  annual_inc_woe  purpose_woe  \\\n",
       "0                  0.144895            0.114461        0.272855    -0.157770   \n",
       "8                 -0.243789            0.053303       -0.054231     0.051351   \n",
       "9                  0.089350            0.053303       -0.054231     0.051351   \n",
       "10                 0.089350            0.114461        0.272855     0.051351   \n",
       "11                 0.089350            0.114461        0.272855    -0.157770   \n",
       "\n",
       "    installment_woe  emp_length_woe  term_woe  int_rate_woe  total_acc_woe  \n",
       "0         -0.191738       -0.016348 -0.215312     -0.202397       0.085175  \n",
       "8         -0.191738       -0.016348  0.654502     -0.202397       0.032958  \n",
       "9          0.128420       -0.016348 -0.215312     -0.202397      -0.101325  \n",
       "10        -0.013370        0.053758 -0.215312     -0.202397       0.085175  \n",
       "11        -0.191738       -0.016348 -0.215312     -1.067745       0.085175  "
      ]
     },
     "execution_count": 7,
     "metadata": {},
     "output_type": "execute_result"
    }
   ],
   "source": [
    "fe_df = lending_club.feature_engineering(preprocess_df)\n",
    "fe_df.head()"
   ]
  },
  {
   "cell_type": "markdown",
   "metadata": {},
   "source": [
    "<a id='toc6_'></a>\n",
    "\n",
    "## Train the model\n",
    "\n",
    "In this section, we focus on constructing and refining our predictive model. \n",
    "- We begin by dividing our data, which is based on Weight of Evidence (WoE) features, into training and testing sets (`train_df`, `test_df`). \n",
    "- With `lending_club.split`, we employ a simple random split, randomly allocating data points to each set to ensure a mix of examples in both."
   ]
  },
  {
   "cell_type": "code",
   "execution_count": 8,
   "metadata": {},
   "outputs": [
    {
     "name": "stdout",
     "output_type": "stream",
     "text": [
      "After splitting the dataset into training and test sets:\n",
      "Training Dataset:\n",
      "Rows: 132556\n",
      "Columns: 13\n",
      "Missing values: 0\n",
      "\n",
      "Test Dataset:\n",
      "Rows: 33139\n",
      "Columns: 13\n",
      "Missing values: 0\n",
      "\n"
     ]
    }
   ],
   "source": [
    "# Split the data\n",
    "train_df, test_df = lending_club.split(fe_df, test_size=0.2)\n",
    "\n",
    "x_train = train_df.drop(lending_club.target_column, axis=1)\n",
    "y_train = train_df[lending_club.target_column]\n",
    "\n",
    "x_test = test_df.drop(lending_club.target_column, axis=1)\n",
    "y_test = test_df[lending_club.target_column]"
   ]
  },
  {
   "cell_type": "code",
   "execution_count": 9,
   "metadata": {},
   "outputs": [
    {
     "data": {
      "text/html": [
       "<style>#sk-container-id-1 {color: black;}#sk-container-id-1 pre{padding: 0;}#sk-container-id-1 div.sk-toggleable {background-color: white;}#sk-container-id-1 label.sk-toggleable__label {cursor: pointer;display: block;width: 100%;margin-bottom: 0;padding: 0.3em;box-sizing: border-box;text-align: center;}#sk-container-id-1 label.sk-toggleable__label-arrow:before {content: \"▸\";float: left;margin-right: 0.25em;color: #696969;}#sk-container-id-1 label.sk-toggleable__label-arrow:hover:before {color: black;}#sk-container-id-1 div.sk-estimator:hover label.sk-toggleable__label-arrow:before {color: black;}#sk-container-id-1 div.sk-toggleable__content {max-height: 0;max-width: 0;overflow: hidden;text-align: left;background-color: #f0f8ff;}#sk-container-id-1 div.sk-toggleable__content pre {margin: 0.2em;color: black;border-radius: 0.25em;background-color: #f0f8ff;}#sk-container-id-1 input.sk-toggleable__control:checked~div.sk-toggleable__content {max-height: 200px;max-width: 100%;overflow: auto;}#sk-container-id-1 input.sk-toggleable__control:checked~label.sk-toggleable__label-arrow:before {content: \"▾\";}#sk-container-id-1 div.sk-estimator input.sk-toggleable__control:checked~label.sk-toggleable__label {background-color: #d4ebff;}#sk-container-id-1 div.sk-label input.sk-toggleable__control:checked~label.sk-toggleable__label {background-color: #d4ebff;}#sk-container-id-1 input.sk-hidden--visually {border: 0;clip: rect(1px 1px 1px 1px);clip: rect(1px, 1px, 1px, 1px);height: 1px;margin: -1px;overflow: hidden;padding: 0;position: absolute;width: 1px;}#sk-container-id-1 div.sk-estimator {font-family: monospace;background-color: #f0f8ff;border: 1px dotted black;border-radius: 0.25em;box-sizing: border-box;margin-bottom: 0.5em;}#sk-container-id-1 div.sk-estimator:hover {background-color: #d4ebff;}#sk-container-id-1 div.sk-parallel-item::after {content: \"\";width: 100%;border-bottom: 1px solid gray;flex-grow: 1;}#sk-container-id-1 div.sk-label:hover label.sk-toggleable__label {background-color: #d4ebff;}#sk-container-id-1 div.sk-serial::before {content: \"\";position: absolute;border-left: 1px solid gray;box-sizing: border-box;top: 0;bottom: 0;left: 50%;z-index: 0;}#sk-container-id-1 div.sk-serial {display: flex;flex-direction: column;align-items: center;background-color: white;padding-right: 0.2em;padding-left: 0.2em;position: relative;}#sk-container-id-1 div.sk-item {position: relative;z-index: 1;}#sk-container-id-1 div.sk-parallel {display: flex;align-items: stretch;justify-content: center;background-color: white;position: relative;}#sk-container-id-1 div.sk-item::before, #sk-container-id-1 div.sk-parallel-item::before {content: \"\";position: absolute;border-left: 1px solid gray;box-sizing: border-box;top: 0;bottom: 0;left: 50%;z-index: -1;}#sk-container-id-1 div.sk-parallel-item {display: flex;flex-direction: column;z-index: 1;position: relative;background-color: white;}#sk-container-id-1 div.sk-parallel-item:first-child::after {align-self: flex-end;width: 50%;}#sk-container-id-1 div.sk-parallel-item:last-child::after {align-self: flex-start;width: 50%;}#sk-container-id-1 div.sk-parallel-item:only-child::after {width: 0;}#sk-container-id-1 div.sk-dashed-wrapped {border: 1px dashed gray;margin: 0 0.4em 0.5em 0.4em;box-sizing: border-box;padding-bottom: 0.4em;background-color: white;}#sk-container-id-1 div.sk-label label {font-family: monospace;font-weight: bold;display: inline-block;line-height: 1.2em;}#sk-container-id-1 div.sk-label-container {text-align: center;}#sk-container-id-1 div.sk-container {/* jupyter's `normalize.less` sets `[hidden] { display: none; }` but bootstrap.min.css set `[hidden] { display: none !important; }` so we also need the `!important` here to be able to override the default hidden behavior on the sphinx rendered scikit-learn.org. See: https://github.com/scikit-learn/scikit-learn/issues/21755 */display: inline-block !important;position: relative;}#sk-container-id-1 div.sk-text-repr-fallback {display: none;}</style><div id=\"sk-container-id-1\" class=\"sk-top-container\"><div class=\"sk-text-repr-fallback\"><pre>XGBClassifier(base_score=None, booster=None, callbacks=None,\n",
       "              colsample_bylevel=None, colsample_bynode=None,\n",
       "              colsample_bytree=None, device=None, early_stopping_rounds=10,\n",
       "              enable_categorical=False, eval_metric=[&#x27;error&#x27;, &#x27;logloss&#x27;, &#x27;auc&#x27;],\n",
       "              feature_types=None, gamma=None, grow_policy=None,\n",
       "              importance_type=None, interaction_constraints=None,\n",
       "              learning_rate=None, max_bin=None, max_cat_threshold=None,\n",
       "              max_cat_to_onehot=None, max_delta_step=None, max_depth=None,\n",
       "              max_leaves=None, min_child_weight=None, missing=nan,\n",
       "              monotone_constraints=None, multi_strategy=None, n_estimators=50,\n",
       "              n_jobs=None, num_parallel_tree=None, random_state=42, ...)</pre><b>In a Jupyter environment, please rerun this cell to show the HTML representation or trust the notebook. <br />On GitHub, the HTML representation is unable to render, please try loading this page with nbviewer.org.</b></div><div class=\"sk-container\" hidden><div class=\"sk-item\"><div class=\"sk-estimator sk-toggleable\"><input class=\"sk-toggleable__control sk-hidden--visually\" id=\"sk-estimator-id-1\" type=\"checkbox\" checked><label for=\"sk-estimator-id-1\" class=\"sk-toggleable__label sk-toggleable__label-arrow\">XGBClassifier</label><div class=\"sk-toggleable__content\"><pre>XGBClassifier(base_score=None, booster=None, callbacks=None,\n",
       "              colsample_bylevel=None, colsample_bynode=None,\n",
       "              colsample_bytree=None, device=None, early_stopping_rounds=10,\n",
       "              enable_categorical=False, eval_metric=[&#x27;error&#x27;, &#x27;logloss&#x27;, &#x27;auc&#x27;],\n",
       "              feature_types=None, gamma=None, grow_policy=None,\n",
       "              importance_type=None, interaction_constraints=None,\n",
       "              learning_rate=None, max_bin=None, max_cat_threshold=None,\n",
       "              max_cat_to_onehot=None, max_delta_step=None, max_depth=None,\n",
       "              max_leaves=None, min_child_weight=None, missing=nan,\n",
       "              monotone_constraints=None, multi_strategy=None, n_estimators=50,\n",
       "              n_jobs=None, num_parallel_tree=None, random_state=42, ...)</pre></div></div></div></div></div>"
      ],
      "text/plain": [
       "XGBClassifier(base_score=None, booster=None, callbacks=None,\n",
       "              colsample_bylevel=None, colsample_bynode=None,\n",
       "              colsample_bytree=None, device=None, early_stopping_rounds=10,\n",
       "              enable_categorical=False, eval_metric=['error', 'logloss', 'auc'],\n",
       "              feature_types=None, gamma=None, grow_policy=None,\n",
       "              importance_type=None, interaction_constraints=None,\n",
       "              learning_rate=None, max_bin=None, max_cat_threshold=None,\n",
       "              max_cat_to_onehot=None, max_delta_step=None, max_depth=None,\n",
       "              max_leaves=None, min_child_weight=None, missing=nan,\n",
       "              monotone_constraints=None, multi_strategy=None, n_estimators=50,\n",
       "              n_jobs=None, num_parallel_tree=None, random_state=42, ...)"
      ]
     },
     "execution_count": 9,
     "metadata": {},
     "output_type": "execute_result"
    }
   ],
   "source": [
    "# Define the XGBoost model\n",
    "xgb_model = xgb.XGBClassifier(\n",
    "    n_estimators=50, \n",
    "    random_state=42, \n",
    "    early_stopping_rounds=10\n",
    ")\n",
    "xgb_model.set_params(\n",
    "    eval_metric=[\"error\", \"logloss\", \"auc\"],\n",
    ")\n",
    "\n",
    "# Fit the model\n",
    "xgb_model.fit(\n",
    "    x_train, \n",
    "    y_train,\n",
    "    eval_set=[(x_test, y_test)],\n",
    "    verbose=False\n",
    ")"
   ]
  },
  {
   "cell_type": "code",
   "execution_count": 10,
   "metadata": {},
   "outputs": [
    {
     "data": {
      "text/html": [
       "<style>#sk-container-id-2 {color: black;}#sk-container-id-2 pre{padding: 0;}#sk-container-id-2 div.sk-toggleable {background-color: white;}#sk-container-id-2 label.sk-toggleable__label {cursor: pointer;display: block;width: 100%;margin-bottom: 0;padding: 0.3em;box-sizing: border-box;text-align: center;}#sk-container-id-2 label.sk-toggleable__label-arrow:before {content: \"▸\";float: left;margin-right: 0.25em;color: #696969;}#sk-container-id-2 label.sk-toggleable__label-arrow:hover:before {color: black;}#sk-container-id-2 div.sk-estimator:hover label.sk-toggleable__label-arrow:before {color: black;}#sk-container-id-2 div.sk-toggleable__content {max-height: 0;max-width: 0;overflow: hidden;text-align: left;background-color: #f0f8ff;}#sk-container-id-2 div.sk-toggleable__content pre {margin: 0.2em;color: black;border-radius: 0.25em;background-color: #f0f8ff;}#sk-container-id-2 input.sk-toggleable__control:checked~div.sk-toggleable__content {max-height: 200px;max-width: 100%;overflow: auto;}#sk-container-id-2 input.sk-toggleable__control:checked~label.sk-toggleable__label-arrow:before {content: \"▾\";}#sk-container-id-2 div.sk-estimator input.sk-toggleable__control:checked~label.sk-toggleable__label {background-color: #d4ebff;}#sk-container-id-2 div.sk-label input.sk-toggleable__control:checked~label.sk-toggleable__label {background-color: #d4ebff;}#sk-container-id-2 input.sk-hidden--visually {border: 0;clip: rect(1px 1px 1px 1px);clip: rect(1px, 1px, 1px, 1px);height: 1px;margin: -1px;overflow: hidden;padding: 0;position: absolute;width: 1px;}#sk-container-id-2 div.sk-estimator {font-family: monospace;background-color: #f0f8ff;border: 1px dotted black;border-radius: 0.25em;box-sizing: border-box;margin-bottom: 0.5em;}#sk-container-id-2 div.sk-estimator:hover {background-color: #d4ebff;}#sk-container-id-2 div.sk-parallel-item::after {content: \"\";width: 100%;border-bottom: 1px solid gray;flex-grow: 1;}#sk-container-id-2 div.sk-label:hover label.sk-toggleable__label {background-color: #d4ebff;}#sk-container-id-2 div.sk-serial::before {content: \"\";position: absolute;border-left: 1px solid gray;box-sizing: border-box;top: 0;bottom: 0;left: 50%;z-index: 0;}#sk-container-id-2 div.sk-serial {display: flex;flex-direction: column;align-items: center;background-color: white;padding-right: 0.2em;padding-left: 0.2em;position: relative;}#sk-container-id-2 div.sk-item {position: relative;z-index: 1;}#sk-container-id-2 div.sk-parallel {display: flex;align-items: stretch;justify-content: center;background-color: white;position: relative;}#sk-container-id-2 div.sk-item::before, #sk-container-id-2 div.sk-parallel-item::before {content: \"\";position: absolute;border-left: 1px solid gray;box-sizing: border-box;top: 0;bottom: 0;left: 50%;z-index: -1;}#sk-container-id-2 div.sk-parallel-item {display: flex;flex-direction: column;z-index: 1;position: relative;background-color: white;}#sk-container-id-2 div.sk-parallel-item:first-child::after {align-self: flex-end;width: 50%;}#sk-container-id-2 div.sk-parallel-item:last-child::after {align-self: flex-start;width: 50%;}#sk-container-id-2 div.sk-parallel-item:only-child::after {width: 0;}#sk-container-id-2 div.sk-dashed-wrapped {border: 1px dashed gray;margin: 0 0.4em 0.5em 0.4em;box-sizing: border-box;padding-bottom: 0.4em;background-color: white;}#sk-container-id-2 div.sk-label label {font-family: monospace;font-weight: bold;display: inline-block;line-height: 1.2em;}#sk-container-id-2 div.sk-label-container {text-align: center;}#sk-container-id-2 div.sk-container {/* jupyter's `normalize.less` sets `[hidden] { display: none; }` but bootstrap.min.css set `[hidden] { display: none !important; }` so we also need the `!important` here to be able to override the default hidden behavior on the sphinx rendered scikit-learn.org. See: https://github.com/scikit-learn/scikit-learn/issues/21755 */display: inline-block !important;position: relative;}#sk-container-id-2 div.sk-text-repr-fallback {display: none;}</style><div id=\"sk-container-id-2\" class=\"sk-top-container\"><div class=\"sk-text-repr-fallback\"><pre>RandomForestClassifier(n_estimators=50, random_state=42)</pre><b>In a Jupyter environment, please rerun this cell to show the HTML representation or trust the notebook. <br />On GitHub, the HTML representation is unable to render, please try loading this page with nbviewer.org.</b></div><div class=\"sk-container\" hidden><div class=\"sk-item\"><div class=\"sk-estimator sk-toggleable\"><input class=\"sk-toggleable__control sk-hidden--visually\" id=\"sk-estimator-id-2\" type=\"checkbox\" checked><label for=\"sk-estimator-id-2\" class=\"sk-toggleable__label sk-toggleable__label-arrow\">RandomForestClassifier</label><div class=\"sk-toggleable__content\"><pre>RandomForestClassifier(n_estimators=50, random_state=42)</pre></div></div></div></div></div>"
      ],
      "text/plain": [
       "RandomForestClassifier(n_estimators=50, random_state=42)"
      ]
     },
     "execution_count": 10,
     "metadata": {},
     "output_type": "execute_result"
    }
   ],
   "source": [
    "# Define the Random Forest model\n",
    "rf_model = RandomForestClassifier(\n",
    "    n_estimators=50, \n",
    "    random_state=42,\n",
    ")\n",
    "\n",
    "# Fit the model\n",
    "rf_model.fit(x_train, y_train)"
   ]
  },
  {
   "cell_type": "markdown",
   "metadata": {},
   "source": [
    "<a id='toc6_1_'></a>\n",
    "\n",
    "### Compute probabilities"
   ]
  },
  {
   "cell_type": "code",
   "execution_count": 11,
   "metadata": {},
   "outputs": [],
   "source": [
    "train_xgb_prob = xgb_model.predict_proba(x_train)[:, 1]\n",
    "test_xgb_prob = xgb_model.predict_proba(x_test)[:, 1]\n",
    "\n",
    "train_rf_prob = rf_model.predict_proba(x_train)[:, 1]\n",
    "test_rf_prob = rf_model.predict_proba(x_test)[:, 1]"
   ]
  },
  {
   "cell_type": "markdown",
   "metadata": {},
   "source": [
    "<a id='toc6_2_'></a>\n",
    "\n",
    "### Compute binary predictions"
   ]
  },
  {
   "cell_type": "code",
   "execution_count": 12,
   "metadata": {},
   "outputs": [],
   "source": [
    "cut_off_threshold = 0.3\n",
    "\n",
    "train_xgb_binary_predictions = (train_xgb_prob > cut_off_threshold).astype(int)\n",
    "test_xgb_binary_predictions = (test_xgb_prob > cut_off_threshold).astype(int)\n",
    "\n",
    "train_rf_binary_predictions = (train_rf_prob > cut_off_threshold).astype(int)\n",
    "test_rf_binary_predictions = (test_rf_prob > cut_off_threshold).astype(int)"
   ]
  },
  {
   "cell_type": "markdown",
   "metadata": {},
   "source": [
    "<a id='toc7_'></a>\n",
    "\n",
    "## Document the model\n",
    "\n",
    "To document the model with the ValidMind Library, you'll need to:\n",
    "1. Preprocess the raw dataset\n",
    "2. Initialize some training and test datasets\n",
    "3. Initialize a model object you can use for testing\n",
    "4. Run the full suite of tests"
   ]
  },
  {
   "cell_type": "markdown",
   "metadata": {},
   "source": [
    "<a id='toc7_1_'></a>\n",
    "\n",
    "### Initialize the ValidMind datasets\n",
    "\n",
    "Before you can run tests, you must first initialize a ValidMind dataset object using the [`init_dataset`](https://docs.validmind.ai/validmind/validmind.html#init_dataset) function from the ValidMind (`vm`) module.\n",
    "\n",
    "This function takes a number of arguments:\n",
    "\n",
    "- `dataset`: The dataset that you want to provide as input to tests.\n",
    "- `input_id`: A unique identifier that allows tracking what inputs are used when running each individual test.\n",
    "- `target_column`: A required argument if tests require access to true values. This is the name of the target column in the dataset.\n",
    "\n",
    "With all datasets ready, you can now initialize the raw, processed, training and test datasets (`raw_df`, `preprocessed_df`, `fe_df`,  `train_df` and `test_df`) created earlier into their own dataset objects using [`vm.init_dataset()`](https://docs.validmind.ai/validmind/validmind.html#init_dataset):"
   ]
  },
  {
   "cell_type": "code",
   "execution_count": 13,
   "metadata": {},
   "outputs": [],
   "source": [
    "vm_raw_dataset = vm.init_dataset(\n",
    "    dataset=df,\n",
    "    input_id=\"raw_dataset\",\n",
    "    target_column=lending_club.target_column,\n",
    ")\n",
    "\n",
    "vm_preprocess_dataset = vm.init_dataset(\n",
    "    dataset=preprocess_df,\n",
    "    input_id=\"preprocess_dataset\",\n",
    "    target_column=lending_club.target_column,\n",
    ")\n",
    "\n",
    "vm_fe_dataset = vm.init_dataset(\n",
    "    dataset=fe_df,\n",
    "    input_id=\"fe_dataset\",\n",
    "    target_column=lending_club.target_column,\n",
    ")\n",
    "\n",
    "vm_train_ds = vm.init_dataset(\n",
    "    dataset=train_df,\n",
    "    input_id=\"train_dataset\",\n",
    "    target_column=lending_club.target_column,\n",
    ")\n",
    "\n",
    "vm_test_ds = vm.init_dataset(\n",
    "    dataset=test_df,\n",
    "    input_id=\"test_dataset\",\n",
    "    target_column=lending_club.target_column,\n",
    ")"
   ]
  },
  {
   "cell_type": "markdown",
   "metadata": {},
   "source": [
    "<a id='toc7_2_'></a>\n",
    "\n",
    "### Initialize a model object\n",
    "\n",
    "You will also need to initialize a ValidMind model object (`vm_model`) that can be passed to other functions for analysis and tests on the data. You simply intialize this model object with [`vm.init_model()`](https://docs.validmind.ai/validmind/validmind.html#init_model):"
   ]
  },
  {
   "cell_type": "code",
   "execution_count": 14,
   "metadata": {},
   "outputs": [],
   "source": [
    "vm_xgb_model = vm.init_model(\n",
    "    xgb_model,\n",
    "    input_id=\"xgb_model\",\n",
    ")\n",
    "\n",
    "vm_rf_model = vm.init_model(\n",
    "    rf_model,\n",
    "    input_id=\"rf_model\",\n",
    ")"
   ]
  },
  {
   "cell_type": "markdown",
   "metadata": {},
   "source": [
    "<a id='toc7_3_'></a>\n",
    "\n",
    "### Assign prediction values and probabilities to the datasets\n",
    "\n",
    "With our model now trained, we'll move on to assigning both the predictive probabilities coming directly from the model's predictions, and the binary prediction after applying the cutoff threshold described in the previous steps. \n",
    "- These tasks are achieved through the use of the `assign_predictions()` method associated with the VM `dataset` object.\n",
    "- This method links the model's class prediction values and probabilities to our VM train and test datasets."
   ]
  },
  {
   "cell_type": "code",
   "execution_count": 15,
   "metadata": {},
   "outputs": [],
   "source": [
    "# XGBoost\n",
    "vm_train_ds.assign_predictions(\n",
    "    model=vm_xgb_model,\n",
    "    prediction_values=train_xgb_binary_predictions,\n",
    "    prediction_probabilities=train_xgb_prob,\n",
    ")\n",
    "\n",
    "vm_test_ds.assign_predictions(\n",
    "    model=vm_xgb_model,\n",
    "    prediction_values=test_xgb_binary_predictions,\n",
    "    prediction_probabilities=test_xgb_prob,\n",
    ")\n",
    "\n",
    "# Random Forest\n",
    "vm_train_ds.assign_predictions(\n",
    "    model=vm_rf_model,\n",
    "    prediction_values=train_rf_binary_predictions,\n",
    "    prediction_probabilities=train_rf_prob,\n",
    ")\n",
    "\n",
    "vm_test_ds.assign_predictions(\n",
    "    model=vm_rf_model,\n",
    "    prediction_values=test_rf_binary_predictions,\n",
    "    prediction_probabilities=test_rf_prob,\n",
    ")\n"
   ]
  },
  {
   "cell_type": "markdown",
   "metadata": {},
   "source": [
    "### Compute credit risk scores\n",
    "\n",
    "In this phase, we translate model predictions into actionable scores using probability estimates generated by our trained model."
   ]
  },
  {
   "cell_type": "code",
   "execution_count": 16,
   "metadata": {},
   "outputs": [
    {
     "name": "stderr",
     "output_type": "stream",
     "text": [
      "2025-01-03 15:42:12,957 - INFO(validmind.vm_models.dataset.dataset): Extra column xgb_scores with 132556 values added to the dataset\n",
      "2025-01-03 15:42:12,961 - INFO(validmind.vm_models.dataset.dataset): Extra column xgb_scores with 33139 values added to the dataset\n"
     ]
    }
   ],
   "source": [
    "train_xgb_scores = lending_club.compute_scores(train_xgb_prob)\n",
    "test_xgb_scores = lending_club.compute_scores(test_xgb_prob)\n",
    "\n",
    "# Assign scores to the datasets\n",
    "vm_train_ds.add_extra_column(\"xgb_scores\", train_xgb_scores)\n",
    "vm_test_ds.add_extra_column(\"xgb_scores\", test_xgb_scores)"
   ]
  },
  {
   "cell_type": "markdown",
   "metadata": {},
   "source": [
    "### Adding custom context to the LLM descriptions\n",
    "\n",
    "To enable the LLM descriptions context, you need to set the `VALIDMIND_LLM_DESCRIPTIONS_CONTEXT_ENABLED` environment variable to `1`. This will enable the LLM descriptions context, which will be used to provide additional context to the LLM descriptions. This is a global setting that will affect all tests."
   ]
  },
  {
   "cell_type": "code",
   "execution_count": 17,
   "metadata": {},
   "outputs": [],
   "source": [
    "import os\n",
    "os.environ[\"VALIDMIND_LLM_DESCRIPTIONS_CONTEXT_ENABLED\"] = \"1\"\n",
    "\n",
    "context = \"\"\"\n",
    "\n",
    "FORMAT FOR THE LLM DESCRIPTIONS: \n",
    "    **<Test Name>** is designed to <begin with a concise overview of what the test does and its primary purpose, \n",
    "    extracted from the test description>.\n",
    "\n",
    "    The test operates by <write a paragraph about the test mechanism, explaining how it works and what it measures. \n",
    "    Include any relevant formulas or methodologies mentioned in the test description.>\n",
    "\n",
    "    The primary advantages of this test include <write a paragraph about the test's strengths and capabilities, \n",
    "    highlighting what makes it particularly useful for specific scenarios.>\n",
    "\n",
    "    Users should be aware that <write a paragraph about the test's limitations and potential risks. \n",
    "    Include both technical limitations and interpretation challenges. \n",
    "    If the test description includes specific signs of high risk, incorporate these here.>\n",
    "\n",
    "    **Key Insights:**\n",
    "\n",
    "    The test results reveal:\n",
    "\n",
    "    - **<insight title>**: <comprehensive description of one aspect of the results>\n",
    "    - **<insight title>**: <comprehensive description of another aspect>\n",
    "    ...\n",
    "\n",
    "    Based on these results, <conclude with a brief paragraph that ties together the test results with the test's \n",
    "    purpose and provides any final recommendations or considerations.>\n",
    "\n",
    "\n",
    "ADDITIONAL INSTRUCTIONS:\n",
    "    Present insights in order from general to specific, with each insight as a single bullet point with bold title.\n",
    "\n",
    "    Each insight should be self-contained and complete, avoiding sub-bullets or nested structures. \n",
    "    Your insights should progressively cover:\n",
    "    1. Overall scope and distribution\n",
    "    2. Complete breakdown of all elements with specific values\n",
    "    3. Natural groupings and patterns\n",
    "    4. Comparative analysis between datasets/categories\n",
    "    5. Stability and variations\n",
    "    6. Notable relationships or dependencies\n",
    "\n",
    "    Remember:\n",
    "    - Keep all insights at the same level (no sub-bullets or nested structures)\n",
    "    - Make each insight complete and self-contained\n",
    "    - Include specific numerical values and ranges\n",
    "    - Cover all elements in the results comprehensively\n",
    "    - Maintain clear, concise language\n",
    "    - Use only \"- **Title**: Description\" format for insights\n",
    "    - Progress naturally from general to specific observations\n",
    "\n",
    "\"\"\".strip()\n",
    "\n",
    "os.environ[\"VALIDMIND_LLM_DESCRIPTIONS_CONTEXT\"] = context"
   ]
  },
  {
   "cell_type": "markdown",
   "metadata": {},
   "source": [
    "<a id='toc7_5_'></a>\n",
    "\n",
    "### Raw data"
   ]
  },
  {
   "cell_type": "code",
   "execution_count": null,
   "metadata": {},
   "outputs": [],
   "source": [
    "run=True\n",
    "if run:\n",
    "\n",
    "    run_test(\n",
    "        \"validmind.data_validation.DatasetDescription:raw_data\",\n",
    "        inputs={\n",
    "            \"dataset\": vm_raw_dataset,\n",
    "        },\n",
    "    ).log()"
   ]
  },
  {
   "cell_type": "code",
   "execution_count": null,
   "metadata": {},
   "outputs": [],
   "source": [
    "run=True\n",
    "if run:\n",
    "\n",
    "    run_test(\n",
    "        \"validmind.data_validation.DescriptiveStatistics:raw_data\",\n",
    "        inputs={\n",
    "            \"dataset\": vm_raw_dataset,\n",
    "        }\n",
    "    ).log()"
   ]
  },
  {
   "cell_type": "code",
   "execution_count": null,
   "metadata": {},
   "outputs": [],
   "source": [
    "run=True\n",
    "if run:\n",
    "\n",
    "    run_test(\n",
    "        \"validmind.data_validation.MissingValues:raw_data\",\n",
    "        inputs={\n",
    "            \"dataset\": vm_raw_dataset,\n",
    "        },\n",
    "        params={\n",
    "            \"min_threshold\": 1\n",
    "        }\n",
    "    ).log()"
   ]
  },
  {
   "cell_type": "code",
   "execution_count": null,
   "metadata": {},
   "outputs": [],
   "source": [
    "run=True\n",
    "if run:\n",
    "\n",
    "    run_test(\n",
    "        \"validmind.data_validation.ClassImbalance:raw_data\",\n",
    "        inputs={\n",
    "            \"dataset\": vm_raw_dataset,\n",
    "        },\n",
    "        params={\n",
    "            \"min_percent_threshold\": 10\n",
    "        }\n",
    "    ).log()"
   ]
  },
  {
   "cell_type": "code",
   "execution_count": null,
   "metadata": {},
   "outputs": [],
   "source": [
    "run=True\n",
    "if run:\n",
    "\n",
    "    run_test(\n",
    "        \"validmind.data_validation.Duplicates:raw_data\",\n",
    "        inputs={\n",
    "            \"dataset\": vm_raw_dataset,\n",
    "        },\n",
    "        params={\n",
    "            \"min_threshold\": 1\n",
    "        }\n",
    "    ).log()"
   ]
  },
  {
   "cell_type": "code",
   "execution_count": null,
   "metadata": {},
   "outputs": [],
   "source": [
    "run=True\n",
    "if run:\n",
    "\n",
    "    run_test(\n",
    "        \"validmind.data_validation.HighCardinality:raw_data\",\n",
    "        inputs={\n",
    "            \"dataset\": vm_raw_dataset,\n",
    "        },\n",
    "        params={\n",
    "            \"num_threshold\": 100,\n",
    "            \"percent_threshold\": 0.1,\n",
    "            \"threshold_type\": \"percent\"\n",
    "        }\n",
    "    ).log()"
   ]
  },
  {
   "cell_type": "code",
   "execution_count": null,
   "metadata": {},
   "outputs": [],
   "source": [
    "run=True\n",
    "if run:\n",
    "\n",
    "    run_test(\n",
    "        \"validmind.data_validation.Skewness:raw_data\",\n",
    "        inputs={\n",
    "            \"dataset\": vm_raw_dataset,\n",
    "        },\n",
    "        params={\n",
    "            \"max_threshold\": 1\n",
    "        }\n",
    "    ).log()"
   ]
  },
  {
   "cell_type": "code",
   "execution_count": null,
   "metadata": {},
   "outputs": [],
   "source": [
    "run=True\n",
    "if run:\n",
    "\n",
    "    run_test(\n",
    "        \"validmind.data_validation.UniqueRows:raw_data\",\n",
    "        inputs={\n",
    "            \"dataset\": vm_raw_dataset,\n",
    "        },\n",
    "        params={\n",
    "            \"min_percent_threshold\": 1\n",
    "        }\n",
    "    ).log()"
   ]
  },
  {
   "cell_type": "code",
   "execution_count": null,
   "metadata": {},
   "outputs": [],
   "source": [
    "run=True\n",
    "if run:\n",
    "\n",
    "    run_test(\n",
    "        \"validmind.data_validation.TooManyZeroValues:raw_data\",\n",
    "        inputs={\n",
    "            \"dataset\": vm_raw_dataset,\n",
    "        },\n",
    "        params={\n",
    "            \"max_percent_threshold\": 0.03\n",
    "        }\n",
    "    ).log()"
   ]
  },
  {
   "cell_type": "code",
   "execution_count": null,
   "metadata": {},
   "outputs": [],
   "source": [
    "run=True\n",
    "if run:\n",
    "\n",
    "    run_test(\n",
    "        \"validmind.data_validation.IQROutliersTable:raw_data\",\n",
    "        inputs={\n",
    "            \"dataset\": vm_raw_dataset,\n",
    "        },\n",
    "        params={\n",
    "            \"threshold\": 5\n",
    "        }\n",
    "    ).log()"
   ]
  },
  {
   "cell_type": "markdown",
   "metadata": {},
   "source": [
    "<a id='toc7_5_2_'></a>\n",
    "\n",
    "### Pre-processed data"
   ]
  },
  {
   "cell_type": "code",
   "execution_count": null,
   "metadata": {},
   "outputs": [],
   "source": [
    "run=True\n",
    "if run:\n",
    "\n",
    "    run_test(\n",
    "        \"validmind.data_validation.DescriptiveStatistics:preprocessed_data\",\n",
    "        inputs={\n",
    "            \"dataset\": vm_preprocess_dataset,\n",
    "        }\n",
    "    ).log()"
   ]
  },
  {
   "cell_type": "code",
   "execution_count": null,
   "metadata": {},
   "outputs": [],
   "source": [
    "run=True\n",
    "if run:\n",
    "\n",
    "    run_test(\n",
    "        \"validmind.data_validation.TabularDescriptionTables:preprocessed_data\",\n",
    "        inputs={\n",
    "            \"dataset\": vm_preprocess_dataset\n",
    "        },\n",
    "    ).log()"
   ]
  },
  {
   "cell_type": "code",
   "execution_count": null,
   "metadata": {},
   "outputs": [],
   "source": [
    "run=True\n",
    "if run:\n",
    "\n",
    "    run_test(\n",
    "        \"validmind.data_validation.MissingValues:preprocessed_data\",\n",
    "        inputs={\n",
    "            \"dataset\": vm_preprocess_dataset,\n",
    "        },\n",
    "        params={\n",
    "            \"min_threshold\": 1\n",
    "        }\n",
    "    ).log()"
   ]
  },
  {
   "cell_type": "code",
   "execution_count": null,
   "metadata": {},
   "outputs": [],
   "source": [
    "run=True\n",
    "if run:\n",
    "\n",
    "    run_test(\n",
    "        \"validmind.data_validation.TabularNumericalHistograms:preprocessed_data\",\n",
    "        inputs={\n",
    "            \"dataset\": vm_preprocess_dataset\n",
    "        },\n",
    "    ).log()"
   ]
  },
  {
   "cell_type": "code",
   "execution_count": null,
   "metadata": {},
   "outputs": [],
   "source": [
    "run=True\n",
    "if run:\n",
    "\n",
    "    run_test(\n",
    "        \"validmind.data_validation.TabularCategoricalBarPlots:preprocessed_data\",\n",
    "        inputs={\n",
    "            \"dataset\": vm_preprocess_dataset\n",
    "        },\n",
    "    ).log()"
   ]
  },
  {
   "cell_type": "code",
   "execution_count": null,
   "metadata": {},
   "outputs": [],
   "source": [
    "run=True\n",
    "if run:\n",
    "\n",
    "    run_test(\n",
    "        \"validmind.data_validation.TargetRateBarPlots:preprocessed_data\",\n",
    "        inputs={\n",
    "            \"dataset\": vm_preprocess_dataset\n",
    "        },\n",
    "        params={\n",
    "            \"default_column\": lending_club.target_column,\n",
    "        },\n",
    "    ).log()"
   ]
  },
  {
   "cell_type": "markdown",
   "metadata": {},
   "source": [
    "### Development data"
   ]
  },
  {
   "cell_type": "code",
   "execution_count": null,
   "metadata": {},
   "outputs": [],
   "source": [
    "run=True\n",
    "if run:\n",
    "\n",
    "    run_test(\n",
    "        \"validmind.data_validation.DescriptiveStatistics:development_data\",\n",
    "        input_grid={\n",
    "            \"dataset\": [vm_train_ds, vm_test_ds],\n",
    "        }\n",
    "    ).log()"
   ]
  },
  {
   "cell_type": "code",
   "execution_count": null,
   "metadata": {},
   "outputs": [],
   "source": [
    "run=True\n",
    "if run:\n",
    "\n",
    "    run_test(\n",
    "        \"validmind.data_validation.TabularDescriptionTables:development_data\",\n",
    "        input_grid={\n",
    "            \"dataset\": [vm_train_ds, vm_test_ds],\n",
    "        },\n",
    "    ).log()"
   ]
  },
  {
   "cell_type": "code",
   "execution_count": null,
   "metadata": {},
   "outputs": [],
   "source": [
    "run=True\n",
    "if run:\n",
    "\n",
    "    run_test(\n",
    "        \"validmind.data_validation.ClassImbalance:development_data\",\n",
    "        input_grid={\n",
    "            \"dataset\": [vm_train_ds, vm_test_ds],\n",
    "        },\n",
    "        params={\n",
    "            \"min_percent_threshold\": 10\n",
    "        }\n",
    "    ).log()"
   ]
  },
  {
   "cell_type": "code",
   "execution_count": null,
   "metadata": {},
   "outputs": [],
   "source": [
    "run=True\n",
    "if run:\n",
    "\n",
    "    run_test(\n",
    "        \"validmind.data_validation.UniqueRows:development_data\",\n",
    "        input_grid={\n",
    "            \"dataset\": [vm_train_ds, vm_test_ds],\n",
    "        },\n",
    "        params={\n",
    "            \"min_percent_threshold\": 1\n",
    "        }\n",
    "    ).log()"
   ]
  },
  {
   "cell_type": "code",
   "execution_count": null,
   "metadata": {},
   "outputs": [],
   "source": [
    "run=True\n",
    "if run:\n",
    "\n",
    "    run_test(\n",
    "        \"validmind.data_validation.TabularNumericalHistograms:development_data\",\n",
    "        input_grid={\n",
    "            \"dataset\": [vm_train_ds, vm_test_ds],\n",
    "        },\n",
    "    ).log()"
   ]
  },
  {
   "cell_type": "markdown",
   "metadata": {},
   "source": [
    "### Feature selection"
   ]
  },
  {
   "cell_type": "code",
   "execution_count": null,
   "metadata": {},
   "outputs": [],
   "source": [
    "run=True\n",
    "if run:\n",
    "\n",
    "    run_test(\n",
    "        \"validmind.data_validation.MutualInformation:development_data\",\n",
    "        input_grid  ={\n",
    "            \"dataset\": [vm_train_ds, vm_test_ds],\n",
    "        },\n",
    "        params={\n",
    "            \"min_threshold\": 0.01,\n",
    "        },\n",
    "    ).log()"
   ]
  },
  {
   "cell_type": "code",
   "execution_count": null,
   "metadata": {},
   "outputs": [],
   "source": [
    "run=True\n",
    "if run:\n",
    "\n",
    "    run_test(\n",
    "        \"validmind.data_validation.PearsonCorrelationMatrix:development_data\",\n",
    "        input_grid={\n",
    "            \"dataset\": [vm_train_ds, vm_test_ds],\n",
    "        }\n",
    "    ).log()"
   ]
  },
  {
   "cell_type": "code",
   "execution_count": null,
   "metadata": {},
   "outputs": [],
   "source": [
    "run=True\n",
    "if run:\n",
    "\n",
    "    run_test(\n",
    "        \"validmind.data_validation.HighPearsonCorrelation:development_data\",\n",
    "        input_grid={\n",
    "            \"dataset\": [vm_train_ds, vm_test_ds],\n",
    "        },\n",
    "        params={\n",
    "            \"max_threshold\": 0.3,\n",
    "            \"top_n_correlations\": 10\n",
    "        }\n",
    "    ).log()"
   ]
  },
  {
   "cell_type": "code",
   "execution_count": null,
   "metadata": {},
   "outputs": [],
   "source": [
    "run=True\n",
    "if run:\n",
    "\n",
    "    run_test(\n",
    "        \"validmind.data_validation.WOEBinTable\",\n",
    "        input_grid={\n",
    "            \"dataset\": [vm_preprocess_dataset]\n",
    "        },\n",
    "        params={\n",
    "            \"breaks_adj\": lending_club.breaks_adj,\n",
    "        },\n",
    "    ).log()"
   ]
  },
  {
   "cell_type": "code",
   "execution_count": null,
   "metadata": {},
   "outputs": [],
   "source": [
    "run=True\n",
    "if run:\n",
    "\n",
    "    run_test(\n",
    "        \"validmind.data_validation.WOEBinPlots\",\n",
    "        input_grid={\n",
    "            \"dataset\": [vm_preprocess_dataset]\n",
    "        },\n",
    "        params={\n",
    "            \"breaks_adj\": lending_club.breaks_adj,\n",
    "        },\n",
    "    ).log()"
   ]
  },
  {
   "cell_type": "markdown",
   "metadata": {},
   "source": [
    "<a id='toc7_6_'></a>\n",
    "\n",
    "### Model training"
   ]
  },
  {
   "cell_type": "code",
   "execution_count": null,
   "metadata": {},
   "outputs": [],
   "source": [
    "run=True\n",
    "if run:\n",
    "\n",
    "    run_test(\n",
    "        \"validmind.data_validation.DatasetSplit\",\n",
    "        inputs={\n",
    "            \"datasets\": [vm_train_ds, vm_test_ds],\n",
    "        },\n",
    "    ).log()"
   ]
  },
  {
   "cell_type": "code",
   "execution_count": null,
   "metadata": {},
   "outputs": [],
   "source": [
    "run=True\n",
    "if run:\n",
    "\n",
    "    run_test(\n",
    "        \"validmind.model_validation.ModelMetadata\",\n",
    "        input_grid={\n",
    "            \"model\": [vm_xgb_model, vm_rf_model],\n",
    "        },\n",
    "    ).log()"
   ]
  },
  {
   "cell_type": "code",
   "execution_count": null,
   "metadata": {},
   "outputs": [],
   "source": [
    "run=True\n",
    "if run:\n",
    "\n",
    "    run_test(\n",
    "        \"validmind.model_validation.sklearn.ModelParameters\",\n",
    "        input_grid={\n",
    "            \"model\": [vm_xgb_model, vm_rf_model],\n",
    "        },\n",
    "    ).log()"
   ]
  },
  {
   "cell_type": "markdown",
   "metadata": {},
   "source": [
    "### Model selection"
   ]
  },
  {
   "cell_type": "code",
   "execution_count": null,
   "metadata": {},
   "outputs": [],
   "source": [
    "run=True\n",
    "if run:\n",
    "\n",
    "    run_test(\n",
    "        \"validmind.model_validation.statsmodels.GINITable\",\n",
    "        input_grid={\n",
    "            \"dataset\": [vm_train_ds, vm_test_ds],\n",
    "            \"model\": [vm_xgb_model, vm_rf_model],\n",
    "        },\n",
    "    ).log()"
   ]
  },
  {
   "cell_type": "code",
   "execution_count": null,
   "metadata": {},
   "outputs": [],
   "source": [
    "run=True\n",
    "if run:\n",
    "\n",
    "    run_test(\n",
    "        \"validmind.model_validation.sklearn.ClassifierPerformance\",\n",
    "        input_grid={\n",
    "            \"dataset\": [vm_train_ds, vm_test_ds],\n",
    "            \"model\": [vm_xgb_model, vm_rf_model],\n",
    "        },\n",
    "    ).log()"
   ]
  },
  {
   "cell_type": "code",
   "execution_count": null,
   "metadata": {},
   "outputs": [],
   "source": [
    "run=True\n",
    "if run:\n",
    "\n",
    "    run_test(\n",
    "        \"validmind.model_validation.sklearn.TrainingTestDegradation:XGBoost\",\n",
    "        inputs={\n",
    "            \"datasets\": [vm_train_ds, vm_test_ds],\n",
    "            \"model\": vm_xgb_model,\n",
    "        },\n",
    "        params={\n",
    "            \"max_threshold\": 0.1\n",
    "        }\n",
    "    ).log()"
   ]
  },
  {
   "cell_type": "code",
   "execution_count": null,
   "metadata": {},
   "outputs": [],
   "source": [
    "run=True\n",
    "if run:\n",
    "\n",
    "    run_test(\n",
    "        \"validmind.model_validation.sklearn.TrainingTestDegradation:RandomForest\",\n",
    "        inputs={\n",
    "            \"datasets\": [vm_train_ds, vm_test_ds],\n",
    "            \"model\": vm_rf_model,\n",
    "        },\n",
    "        params={\n",
    "            \"max_threshold\": 0.1\n",
    "        }\n",
    "    ).log()"
   ]
  },
  {
   "cell_type": "code",
   "execution_count": null,
   "metadata": {},
   "outputs": [],
   "source": [
    "run=True\n",
    "if run:\n",
    "\n",
    "    # Run the test\n",
    "    result = run_test(\n",
    "        \"validmind.model_validation.sklearn.HyperParametersTuning\",\n",
    "        inputs={\n",
    "            \"model\": vm_xgb_model,\n",
    "            \"dataset\": vm_train_ds,\n",
    "        },\n",
    "        params={\n",
    "            \"param_grid\": {'n_estimators': [50, 100]},\n",
    "            \"scoring\": ['roc_auc', 'recall'],\n",
    "            \"fit_params\": {'eval_set': [(x_test, y_test)], 'verbose': False},\n",
    "            \"thresholds\": [0.3, 0.5],\n",
    "        }\n",
    "    ).log()"
   ]
  },
  {
   "cell_type": "markdown",
   "metadata": {},
   "source": [
    "<a id='toc7_6_2_'></a>\n",
    "\n",
    "### Class discrimination"
   ]
  },
  {
   "cell_type": "code",
   "execution_count": null,
   "metadata": {},
   "outputs": [],
   "source": [
    "run=True\n",
    "if run:\n",
    "\n",
    "    run_test(\n",
    "        \"validmind.model_validation.sklearn.ROCCurve\",\n",
    "        input_grid={\n",
    "            \"dataset\": [vm_train_ds, vm_test_ds],\n",
    "            \"model\": [vm_xgb_model],\n",
    "        },\n",
    "    ).log()"
   ]
  },
  {
   "cell_type": "code",
   "execution_count": null,
   "metadata": {},
   "outputs": [],
   "source": [
    "run=True\n",
    "if run:\n",
    "\n",
    "    run_test(\n",
    "        \"validmind.model_validation.sklearn.MinimumROCAUCScore\",\n",
    "        input_grid={\n",
    "            \"dataset\": [vm_train_ds, vm_test_ds],\n",
    "            \"model\": [vm_xgb_model],\n",
    "        },\n",
    "        params={\n",
    "            \"min_threshold\": 0.5\n",
    "        }\n",
    "    ).log()"
   ]
  },
  {
   "cell_type": "code",
   "execution_count": null,
   "metadata": {},
   "outputs": [],
   "source": [
    "run=True\n",
    "if run:\n",
    "\n",
    "    run_test(\n",
    "        \"validmind.model_validation.statsmodels.PredictionProbabilitiesHistogram\",\n",
    "        input_grid={\n",
    "            \"dataset\": [vm_train_ds, vm_test_ds],\n",
    "            \"model\": [vm_xgb_model],\n",
    "        },\n",
    "    ).log()"
   ]
  },
  {
   "cell_type": "code",
   "execution_count": null,
   "metadata": {},
   "outputs": [],
   "source": [
    "run=True\n",
    "if run:\n",
    "\n",
    "    run_test(\n",
    "        \"validmind.model_validation.statsmodels.CumulativePredictionProbabilities\",\n",
    "        input_grid={\n",
    "            \"model\": [vm_xgb_model],\n",
    "            \"dataset\": [vm_train_ds, vm_test_ds],\n",
    "        },\n",
    "    ).log()"
   ]
  },
  {
   "cell_type": "code",
   "execution_count": null,
   "metadata": {},
   "outputs": [],
   "source": [
    "run=True\n",
    "if run:\n",
    "\n",
    "    run_test(\n",
    "        \"validmind.model_validation.sklearn.PopulationStabilityIndex\",\n",
    "        inputs={\n",
    "            \"datasets\": [vm_train_ds, vm_test_ds],\n",
    "            \"model\": vm_xgb_model,\n",
    "        },\n",
    "        params={\n",
    "            \"num_bins\": 10,\n",
    "            \"mode\": \"fixed\"\n",
    "        }\n",
    "    ).log()"
   ]
  },
  {
   "cell_type": "markdown",
   "metadata": {},
   "source": [
    "### Classification accuracy"
   ]
  },
  {
   "cell_type": "code",
   "execution_count": null,
   "metadata": {},
   "outputs": [],
   "source": [
    "run=True\n",
    "if run:\n",
    "\n",
    "    run_test(\n",
    "        \"validmind.model_validation.sklearn.ClassifierThresholdOptimization\",\n",
    "        inputs={\n",
    "            \"dataset\": vm_train_ds,\n",
    "            \"model\": vm_xgb_model\n",
    "        },\n",
    "        params={\n",
    "            \"target_recall\": 0.8 # Find a threshold that achieves a recall of 80%\n",
    "        }\n",
    "    ).log()"
   ]
  },
  {
   "cell_type": "code",
   "execution_count": null,
   "metadata": {},
   "outputs": [],
   "source": [
    "run=True\n",
    "if run:\n",
    "\n",
    "    run_test(\n",
    "        \"validmind.model_validation.sklearn.CalibrationCurve\",\n",
    "        input_grid={\n",
    "            \"dataset\": [vm_train_ds, vm_test_ds],\n",
    "            \"model\": [vm_xgb_model],\n",
    "        },\n",
    "    ).log()"
   ]
  },
  {
   "cell_type": "code",
   "execution_count": 18,
   "metadata": {},
   "outputs": [
    {
     "data": {
      "application/vnd.jupyter.widget-view+json": {
       "model_id": "bea01e1bbc8a4ba487b60051fa698c73",
       "version_major": 2,
       "version_minor": 0
      },
      "text/plain": [
       "VBox(children=(HTML(value=\"<h2>Confusion Matrix </h2>\\n\\n<p><strong>Confusion Matrix</strong> is designed to e…"
      ]
     },
     "metadata": {},
     "output_type": "display_data"
    },
    {
     "data": {
      "text/html": [
       "\n",
       "<script defer type=\"module\">\n",
       "import hljs from 'https://unpkg.com/@highlightjs/cdn-assets@11.9.0/es/highlight.min.js';\n",
       "import python from 'https://cdnjs.cloudflare.com/ajax/libs/highlight.js/11.9.0/es/languages/python.min.js';\n",
       "\n",
       "hljs.registerLanguage('python', python);\n",
       "hljs.highlightAll();\n",
       "</script>\n"
      ],
      "text/plain": [
       "<IPython.core.display.HTML object>"
      ]
     },
     "metadata": {},
     "output_type": "display_data"
    },
    {
     "data": {
      "text/html": [
       "\n",
       "<script>\n",
       "window.MathJax = {\n",
       "    tex2jax: {\n",
       "        inlineMath: [['$', '$'], ['\\\\(', '\\\\)']],\n",
       "        displayMath: [['$$', '$$'], ['\\[', '\\]']],\n",
       "        processEscapes: true,\n",
       "        skipTags: ['script', 'noscript', 'style', 'textarea', 'pre'],\n",
       "        ignoreClass: \".*\",\n",
       "        processClass: \"math\"\n",
       "    }\n",
       "};\n",
       "setTimeout(function () {\n",
       "    var script = document.createElement('script');\n",
       "    script.type = 'text/javascript';\n",
       "    script.src = 'https://cdnjs.cloudflare.com/ajax/libs/mathjax/2.7.7/MathJax.js?config=TeX-AMS_HTML';\n",
       "    document.head.appendChild(script);\n",
       "}, 300);\n",
       "</script>\n"
      ],
      "text/plain": [
       "<IPython.core.display.HTML object>"
      ]
     },
     "metadata": {},
     "output_type": "display_data"
    }
   ],
   "source": [
    "run=True\n",
    "if run:\n",
    "\n",
    "    run_test(\n",
    "        \"validmind.model_validation.sklearn.ConfusionMatrix\",\n",
    "        input_grid={\n",
    "            \"dataset\": [vm_train_ds, vm_test_ds],\n",
    "            \"model\": [vm_xgb_model],\n",
    "        },\n",
    "    ).log()"
   ]
  },
  {
   "cell_type": "code",
   "execution_count": null,
   "metadata": {},
   "outputs": [],
   "source": [
    "run=True\n",
    "if run:\n",
    "\n",
    "    run_test(\n",
    "        \"validmind.model_validation.sklearn.MinimumAccuracy\",\n",
    "        input_grid={\n",
    "            \"dataset\": [vm_train_ds, vm_test_ds],\n",
    "            \"model\": [vm_xgb_model],\n",
    "        },\n",
    "        params={\n",
    "            \"min_threshold\": 0.7\n",
    "        }\n",
    "    ).log()"
   ]
  },
  {
   "cell_type": "code",
   "execution_count": null,
   "metadata": {},
   "outputs": [],
   "source": [
    "run=True\n",
    "if run:\n",
    "\n",
    "    run_test(\n",
    "        \"validmind.model_validation.sklearn.MinimumF1Score\",\n",
    "        input_grid={\n",
    "            \"dataset\": [vm_train_ds, vm_test_ds],\n",
    "            \"model\": [vm_xgb_model],\n",
    "        },\n",
    "        params={\n",
    "            \"min_threshold\": 0.5\n",
    "        }\n",
    "    ).log()"
   ]
  },
  {
   "cell_type": "code",
   "execution_count": null,
   "metadata": {},
   "outputs": [],
   "source": [
    "run=True\n",
    "if run:\n",
    "\n",
    "    run_test(\n",
    "        \"validmind.model_validation.sklearn.PrecisionRecallCurve\",\n",
    "        input_grid={\n",
    "            \"dataset\": [vm_train_ds, vm_test_ds],\n",
    "            \"model\": [vm_xgb_model]\n",
    "        },\n",
    "    ).log()"
   ]
  },
  {
   "cell_type": "markdown",
   "metadata": {},
   "source": [
    "### Model diagnosis"
   ]
  },
  {
   "cell_type": "code",
   "execution_count": null,
   "metadata": {},
   "outputs": [],
   "source": [
    "run=True\n",
    "if run:\n",
    "\n",
    "    run_test(\n",
    "        \"validmind.model_validation.sklearn.WeakspotsDiagnosis\",\n",
    "        inputs={\n",
    "            \"datasets\": [vm_train_ds, vm_test_ds],\n",
    "            \"model\": vm_xgb_model,\n",
    "        },\n",
    "    ).log()"
   ]
  },
  {
   "cell_type": "code",
   "execution_count": null,
   "metadata": {},
   "outputs": [],
   "source": [
    "run=True\n",
    "if run:\n",
    "\n",
    "    run_test(\n",
    "        \"validmind.model_validation.sklearn.OverfitDiagnosis\",\n",
    "        inputs={\n",
    "            \"model\": vm_xgb_model,\n",
    "            \"datasets\": [vm_train_ds, vm_test_ds],\n",
    "        },\n",
    "        params={\n",
    "            \"cut_off_threshold\": 0.04\n",
    "        }\n",
    "    ).log()"
   ]
  },
  {
   "cell_type": "code",
   "execution_count": null,
   "metadata": {},
   "outputs": [],
   "source": [
    "run=True\n",
    "if run:\n",
    "\n",
    "    run_test(\n",
    "        \"validmind.model_validation.sklearn.RobustnessDiagnosis\",\n",
    "        inputs={\n",
    "            \"datasets\": [vm_train_ds, vm_test_ds],\n",
    "            \"model\": vm_xgb_model,\n",
    "        },\n",
    "        params={\n",
    "            \"scaling_factor_std_dev_list\": [\n",
    "                0.1,\n",
    "                0.2,\n",
    "                0.3,\n",
    "                0.4,\n",
    "                0.5\n",
    "            ],\n",
    "            \"performance_decay_threshold\": 0.05\n",
    "        }\n",
    "    ).log()"
   ]
  },
  {
   "cell_type": "markdown",
   "metadata": {},
   "source": [
    "<a id='toc7_6_3_'></a>\n",
    "\n",
    "### Model explainability"
   ]
  },
  {
   "cell_type": "code",
   "execution_count": null,
   "metadata": {},
   "outputs": [],
   "source": [
    "run=True\n",
    "if run:\n",
    "\n",
    "    run_test(\n",
    "        \"validmind.model_validation.sklearn.PermutationFeatureImportance\",\n",
    "        input_grid={\n",
    "            \"dataset\": [vm_train_ds, vm_test_ds],\n",
    "            \"model\": [vm_xgb_model]\n",
    "        }\n",
    "    ).log()"
   ]
  },
  {
   "cell_type": "code",
   "execution_count": null,
   "metadata": {},
   "outputs": [],
   "source": [
    "run=True\n",
    "if run:\n",
    "\n",
    "    run_test(\n",
    "        \"validmind.model_validation.FeaturesAUC\",\n",
    "        input_grid={\n",
    "            \"model\": [vm_xgb_model],\n",
    "            \"dataset\": [vm_train_ds, vm_test_ds],\n",
    "        },\n",
    "    ).log()"
   ]
  },
  {
   "cell_type": "code",
   "execution_count": null,
   "metadata": {},
   "outputs": [],
   "source": [
    "run=True\n",
    "if run:\n",
    "\n",
    "    run_test(\n",
    "        \"validmind.model_validation.sklearn.SHAPGlobalImportance\",\n",
    "        input_grid={\n",
    "            \"model\": [vm_xgb_model],\n",
    "            \"dataset\": [vm_train_ds, vm_test_ds],\n",
    "        },\n",
    "        params={\n",
    "            \"kernel_explainer_samples\": 10,\n",
    "            \"tree_or_linear_explainer_samples\": 200,\n",
    "        }\n",
    "    ).log()"
   ]
  },
  {
   "cell_type": "markdown",
   "metadata": {},
   "source": [
    "### Scoring evaluation"
   ]
  },
  {
   "cell_type": "code",
   "execution_count": null,
   "metadata": {},
   "outputs": [],
   "source": [
    "run=True\n",
    "if run:\n",
    "\n",
    "    run_test(\n",
    "        \"validmind.model_validation.statsmodels.ScorecardHistogram\",\n",
    "        input_grid={\n",
    "            \"dataset\": [vm_train_ds, vm_test_ds],\n",
    "        },\n",
    "        params={\n",
    "            \"score_column\": \"xgb_scores\",\n",
    "        },\n",
    "    ).log()"
   ]
  },
  {
   "cell_type": "code",
   "execution_count": null,
   "metadata": {},
   "outputs": [],
   "source": [
    "run=True\n",
    "if run:\n",
    "\n",
    "    run_test(\n",
    "        \"validmind.data_validation.ScoreBandDefaultRates\",\n",
    "        input_grid={\n",
    "            \"dataset\": [vm_train_ds],\n",
    "            \"model\": [vm_xgb_model],\n",
    "        },\n",
    "        params = {\n",
    "            \"score_column\": \"xgb_scores\",\n",
    "            \"score_bands\": [500, 540, 570]\n",
    "        }\n",
    "    ).log()"
   ]
  },
  {
   "cell_type": "code",
   "execution_count": null,
   "metadata": {},
   "outputs": [],
   "source": [
    "run=True\n",
    "if run:\n",
    "\n",
    "    run_test(\n",
    "        \"validmind.model_validation.sklearn.ScoreProbabilityAlignment\",\n",
    "        input_grid={\n",
    "            \"dataset\": [vm_train_ds],\n",
    "            \"model\": [vm_xgb_model],\n",
    "        },\n",
    "        params={\n",
    "            \"score_column\": \"xgb_scores\",\n",
    "        },\n",
    "    ).log()"
   ]
  },
  {
   "cell_type": "markdown",
   "metadata": {},
   "source": [
    "<a id='toc8_'></a>\n",
    "\n",
    "## Next steps\n",
    "\n",
    "You can look at the results of this test suite right in the notebook where you ran the code, as you would expect. But there is a better way — use the ValidMind Platform to work with your model documentation.\n",
    "\n",
    "<a id='toc8_1_'></a>\n",
    "\n",
    "### Work with your model documentation\n",
    "\n",
    "1. In the ValidMind Platform, go to the **Documentation** page for the model you registered earlier. ([Need more help?](https://docs.validmind.ai/guide/model-documentation/working-with-model-documentation.html))\n",
    "\n",
    "2. Expand the following sections and take a look around:\n",
    "\n",
    "   - **2. Data Preparation**\n",
    "   - **3. Model Development**\n",
    "\n",
    "What you see is the full draft of your model documentation in a more easily consumable version. From here, you can make qualitative edits to model documentation (hint: some of the tests in **2.3. Feature Selection and Engineering** look like they need some attention), view guidelines, collaborate with validators, and submit your model documentation for approval when it's ready.\n",
    "\n",
    "<a id='toc8_2_'></a>\n",
    "\n",
    "### Discover more learning resources\n",
    "\n",
    "We offer many interactive notebooks to help you document models:\n",
    "\n",
    "- [Run tests & test suites](https://docs.validmind.ai/developer/model-testing/testing-overview.html)\n",
    "- [Code samples](https://docs.validmind.ai/developer/samples-jupyter-notebooks.html)\n",
    "\n",
    "Or, visit our [documentation](https://docs.validmind.ai/) to learn more about ValidMind."
   ]
  },
  {
   "cell_type": "markdown",
   "metadata": {},
   "source": [
    "<a id='toc9_'></a>\n",
    "\n",
    "## Upgrade ValidMind\n",
    "\n",
    "<div class=\"alert alert-block alert-info\" style=\"background-color: #B5B5B510; color: black; border: 1px solid #083E44; border-left-width: 5px; box-shadow: 2px 2px 4px rgba(0, 0, 0, 0.2);border-radius: 5px;\">After installing ValidMind, you’ll want to periodically make sure you are on the latest version to access any new features and other enhancements.</div>\n",
    "\n",
    "Retrieve the information for the currently installed version of ValidMind:"
   ]
  },
  {
   "cell_type": "code",
   "execution_count": null,
   "metadata": {},
   "outputs": [],
   "source": [
    "%pip show validmind"
   ]
  },
  {
   "cell_type": "markdown",
   "metadata": {},
   "source": [
    "If the version returned is lower than the version indicated in our [production open-source code](https://github.com/validmind/validmind-library/blob/prod/validmind/__version__.py), restart your notebook and run:\n",
    "\n",
    "```bash\n",
    "%pip install --upgrade validmind\n",
    "```"
   ]
  },
  {
   "cell_type": "markdown",
   "metadata": {},
   "source": [
    "You may need to restart your kernel after running the upgrade package for changes to be applied."
   ]
  }
 ],
 "metadata": {
  "kernelspec": {
   "display_name": "validmind-eEL8LtKG-py3.10",
   "language": "python",
   "name": "python3"
  },
  "language_info": {
   "codemirror_mode": {
    "name": "ipython",
    "version": 3
   },
   "file_extension": ".py",
   "mimetype": "text/x-python",
   "name": "python",
   "nbconvert_exporter": "python",
   "pygments_lexer": "ipython3",
   "version": "3.10.13"
  }
 },
 "nbformat": 4,
 "nbformat_minor": 2
}

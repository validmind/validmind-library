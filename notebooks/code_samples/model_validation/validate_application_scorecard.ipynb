{
 "cells": [
  {
   "cell_type": "markdown",
   "metadata": {},
   "source": [
    "# Validate an application scorecard model\n",
    "\n",
    "Learn how to independently assess an application scorecard model developed using the ValidMind Library as a validator. You'll evaluate the development of the model by conducting thorough testing and analysis, including the use of challenger models to benchmark performance.\n",
    "\n",
    "An *application scorecard model* is a type of statistical model used in credit scoring to evaluate the creditworthiness of potential borrowers by generating a score based on various characteristics of an applicant such as credit history, income, employment status, and other relevant financial data.\n",
    "\n",
    " - This score assists lenders in making informed decisions about whether to approve or reject loan applications, as well as in determining the terms of the loan, including interest rates and credit limits.\n",
    " - Effective validation of application scorecard models ensures that lenders can manage risk efficiently while maintaining a fast and transparent loan application process for applicants.\n",
    "\n",
    " This interactive notebook provides a step-by-step guide for:\n",
    "\n",
    "- Verifying the data quality steps performed by the model development team\n",
    "- Independently replicating the champion model's results and conducting additional tests to assess performance, stability, and robustness\n",
    "- Setting up test inputs and challenger models for comparative analysis\n",
    "- Running validation tests, analyzing results, and logging findings to ValidMind"
   ]
  },
  {
    "cell_type": "markdown",
    "id": "434bea70",
    "metadata": {},
    "source": [
     "## About ValidMind\n",
     "\n",
     "ValidMind is a suite of tools for managing model risk, including risk associated with AI and statistical models.\n",
     "\n",
     "You use the ValidMind Library to automate comparison and other validation tests, and then use the ValidMind Platform to submit compliance assessments of champion models via comprehensive validation reports. Together, these products simplify model risk management, facilitate compliance with regulations and institutional standards, and enhance collaboration between yourself and model developers."
    ]
   },
   {
    "cell_type": "markdown",
    "id": "662d6027",
    "metadata": {},
    "source": [
     "### Before you begin\n",
     "\n",
     "This notebook assumes you have basic familiarity with Python, including an understanding of how functions work. If you are new to Python, you can still run the notebook but we recommend further familiarizing yourself with the language. \n",
     "\n",
     "If you encounter errors due to missing modules in your Python environment, install the modules with `pip install`, and then re-run the notebook. For more help, refer to [Installing Python Modules](https://docs.python.org/3/installing/index.html)."
    ]
   },
   {
    "cell_type": "markdown",
    "id": "5a1a2fa8",
    "metadata": {},
    "source": [
     "### New to ValidMind?\n",
     "\n",
     "If you haven't already seen our documentation on the [ValidMind Library](https://docs.validmind.ai/developer/validmind-library.html), we recommend you begin by exploring the available resources in this section. There, you can learn more about documenting models and running tests, as well as find code samples and our Python Library API reference.\n",
     "\n",
     "<div class=\"alert alert-block alert-info\" style=\"background-color: #B5B5B510; color: black; border: 1px solid #083E44; border-left-width: 5px; box-shadow: 2px 2px 4px rgba(0, 0, 0, 0.2);border-radius: 5px;\"><span style=\"color: #083E44;\"><b>For access to all features available in this notebook, create a free ValidMind account.</b></span>\n",
     "<br></br>\n",
     "Signing up is FREE — <a href=\"https://docs.validmind.ai/guide/configuration/register-with-validmind.html\" style=\"color: #DE257E;\"><b>Register with ValidMind</b></a></div>"
    ]
   },
   {
    "cell_type": "markdown",
    "id": "aa9b1d8e",
    "metadata": {},
    "source": [
     "### Key concepts\n",
     "\n",
     "**Validation report**: A comprehensive and structured assessment of a model’s development and performance, focusing on verifying its integrity, appropriateness, and alignment with its intended use. It includes analyses of model assumptions, data quality, performance metrics, outcomes of testing procedures, and risk considerations. The validation report supports transparency, regulatory compliance, and informed decision-making by documenting the validator’s independent review and conclusions.\n",
     "\n",
     "**Validation report template**: Serves as a standardized framework for conducting and documenting model validation activities. It outlines the required sections, recommended analyses, and expected validation tests, ensuring consistency and completeness across validation reports. The template helps guide validators through a systematic review process while promoting comparability and traceability of validation outcomes.\n",
     "\n",
     "**Tests**: A function contained in the ValidMind Library, designed to run a specific quantitative test on the dataset or model. Tests are the building blocks of ValidMind, used to evaluate and document models and datasets.\n",
     "\n",
     "**Metrics**: A subset of tests that do not have thresholds. In the context of this notebook, metrics and tests can be thought of as interchangeable concepts.\n",
     "\n",
     "**Custom metrics**: Custom metrics are functions that you define to evaluate your model or dataset. These functions can be registered with the ValidMind Library to be used in the ValidMind Platform.\n",
     "\n",
     "**Inputs**: Objects to be evaluated and documented in the ValidMind Library. They can be any of the following:\n",
     "\n",
     "  - **model**: A single model that has been initialized in ValidMind with [`vm.init_model()`](https://docs.validmind.ai/validmind/validmind.html#init_model).\n",
     "  - **dataset**: Single dataset that has been initialized in ValidMind with [`vm.init_dataset()`](https://docs.validmind.ai/validmind/validmind.html#init_dataset).\n",
     "  - **models**: A list of ValidMind models - usually this is used when you want to compare multiple models in your custom metric.\n",
     "  - **datasets**: A list of ValidMind datasets - usually this is used when you want to compare multiple datasets in your custom metric. (Learn more: [Run tests with multiple datasets](https://docs.validmind.ai/notebooks/how_to/run_tests_that_require_multiple_datasets.html))\n",
     "\n",
     "**Parameters**: Additional arguments that can be passed when running a ValidMind test, used to pass additional information to a metric, customize its behavior, or provide additional context.\n",
     "\n",
     "**Outputs**: Custom metrics can return elements like tables or plots. Tables may be a list of dictionaries (each representing a row) or a pandas DataFrame. Plots may be matplotlib or plotly figures."
    ]
   },
   {
    "cell_type": "markdown",
    "id": "057c1417",
    "metadata": {},
    "source": [
     "## Setting up"
    ]
   },
   {
    "cell_type": "markdown",
    "id": "ef1f5ce4",
    "metadata": {},
    "source": [
     "### Register a sample model\n",
     "\n",
     "In a usual model lifecycle, a champion model will have been independently registered in your model inventory and submitted to you for validation by your model development team as part of the effective challenge process. (**Learn more:** [Submit for approval](https://docs.validmind.ai/guide/model-documentation/submit-for-approval.html))\n",
     "\n",
     "For this series of notebooks, we'll have you register a dummy model in the ValidMind Platform inventory and assign yourself as the validator to familiarize you with the ValidMind interface and circumvent the need for an existing model:\n",
     "\n",
     "1. In a browser, [log in to ValidMind](https://docs.validmind.ai/guide/configuration/log-in-to-validmind.html).\n",
     "\n",
     "2. In the left sidebar, navigate to **Inventory** and click **+ Register Model**.\n",
     "\n",
     "3. Enter the model details and click **Continue**. ([Need more help?](https://docs.validmind.ai/guide/model-inventory/register-models-in-inventory.html))\n",
     "\n",
     "   For example, to register a model for use with this notebook, select:\n",
     "\n",
     "    - Documentation template: `Credit Risk Scorecard`\n",
     "    - Use case: `Credit Risk — CECL`\n",
     "\n",
     "    You can fill in other options according to your preference."
    ]
   },
   {
    "cell_type": "markdown",
    "id": "9743927c",
    "metadata": {},
    "source": [
     "#### Assign validator credentials\n",
     "\n",
     "In order to log tests as a validator instead of as a developer, on the model details page that appears after you've successfully registered your sample model:\n",
     "\n",
     "1. Remove yourself as a developer: \n",
     "\n",
     "    - Click on the **DEVELOPERS** tile.\n",
     "    - Click the **x** next to your name to remove yourself from that model's role.\n",
     "    - Click **Save** to apply your changes to that role.\n",
     "\n",
     "2. Add yourself as a validator: \n",
     "\n",
     "    - Click on the **VALIDATORS** tile.\n",
     "    - Select your name from the drop-down menu.\n",
     "    - Click **Save** to apply your changes to that role."
    ]
   },
   {
    "cell_type": "markdown",
    "id": "37a94e48",
    "metadata": {},
    "source": [
     "### Install the ValidMind Library\n",
     "\n",
     "<div class=\"alert alert-block alert-info\" style=\"background-color: #B5B5B510; color: black; border: 1px solid #083E44; border-left-width: 5px; box-shadow: 2px 2px 4px rgba(0, 0, 0, 0.2);border-radius: 5px;\"><span style=\"color: #083E44;\"><b>Recommended Python versions</b></span>\n",
     "<br></br>\n",
     "Python 3.8 <= x <= 3.11</div>\n",
     "\n",
     "To install the library:"
    ]
   },
   {
    "cell_type": "code",
    "execution_count": null,
    "id": "cef99db1",
    "metadata": {},
    "outputs": [],
    "source": [
     "%pip install -q validmind"
    ]
   },
   {
    "cell_type": "markdown",
    "metadata": {},
    "source": [
     "### Initialize the ValidMind Library\n",
     "\n",
     "ValidMind generates a unique _code snippet_ for each registered model to connect with your validation environment. You initialize the ValidMind Library with this code snippet, which ensures that your test results are uploaded to the correct model when you run the notebook."
    ]
   },
   {
    "cell_type": "markdown",
    "id": "30803184",
    "metadata": {},
    "source": [
     "#### Get your code snippet\n",
     "\n",
     "1. In a browser, [log in to ValidMind](https://docs.validmind.ai/guide/configuration/log-in-to-validmind.html).\n",
     "\n",
     "2. In the left sidebar, navigate to **Inventory** and select the model you registered for this \"ValidMind for model validation\" series of notebooks.\n",
     "\n",
     "3. Go to **Getting Started** and click **Copy snippet to clipboard**.\n",
     "\n",
     "Next, [load your model identifier credentials from an `.env` file](https://docs.validmind.ai/developer/model-documentation/store-credentials-in-env-file.html) or replace the placeholder with your own code snippet:"
    ]
   },
   {
    "cell_type": "code",
    "execution_count": null,
    "id": "d5de450a",
    "metadata": {},
    "outputs": [],
    "source": [
     "# Load your model identifier credentials from an `.env` file\n",
     "\n",
     "%load_ext dotenv\n",
     "%dotenv .env\n",
     "\n",
     "# Or replace with your code snippet\n",
     "\n",
     "import validmind as vm\n",
     "\n",
     "vm.init(\n",
     "    # api_host=\"...\",\n",
     "    # api_key=\"...\",\n",
     "    # api_secret=\"...\",\n",
     "    # model=\"...\",\n",
     ")"
    ]
   },
   {
    "cell_type": "markdown",
    "metadata": {},
    "source": [
     "## Getting to know ValidMind"
    ]
   },
   {
    "cell_type": "markdown",
    "id": "d22ef356",
    "metadata": {},
    "source": [
     "### Preview the validation report template\n",
     "\n",
     "Let's verify that you have connected the ValidMind Library to the ValidMind Platform and that the appropriate *template* is selected for model validation. A template predefines sections for your validation report and provides a general outline to follow, making the validation process much easier.\n",
     "\n",
     "You will attach evidence to this template in the form of risk assessment notes, findings, and test results later on. For now, **take a look at the default structure that the template provides with [the `vm.preview_template()` function](https://docs.validmind.ai/validmind/validmind.html#preview_template)** from the ValidMind library:"
    ]
   },
   {
    "cell_type": "code",
    "execution_count": null,
    "id": "38592086",
    "metadata": {},
    "outputs": [],
    "source": [
     "vm.preview_template()"
    ]
   },
   {
    "cell_type": "markdown",
    "metadata": {},
    "source": [
     "### View validation report in the ValidMind Platform\n",
     "\n",
     "Next, let's head to the ValidMind Platform to see the template in action:\n",
     "\n",
     "1. In a browser, [log in to ValidMind](https://docs.validmind.ai/guide/configuration/log-in-to-validmind.html).\n",
     "\n",
     "2. In the left sidebar, navigate to **Inventory** and select the model you registered for this \"ValidMind for model validation\" series of notebooks.\n",
     "\n",
     "3. Click on the **Validation Report** for your model and note:\n",
     "\n",
     "    - [ ] The risk assessment compliance summary at the top of the report (screenshot below)\n",
     "    - [ ] How the structure of the validation report reflects the previewed template\n",
     "\n",
     "    <img src= \"compliance-summary.png\" alt=\"Screenshot showing the risk assessment compliance summary\" style=\"border: 2px solid #083E44; border-radius: 8px; border-right-width: 2px; border-bottom-width: 3px;\">\n",
     "    <br><br>"
    ]
   },
   {
    "cell_type": "markdown",
    "id": "943a45d6",
    "metadata": {},
    "source": [
     "## Importing the champion model\n",
     "\n",
     "With the ValidMind Library set up and ready to go, let's go ahead and import the champion model submitted by the model development team in the format of a `.pkl` file: **[xgb_model_champion.pkl](xgb_model_champion.pkl)**\n"
    ]
   },
   {
    "cell_type": "code",
    "execution_count": null,
    "id": "3f9e197e",
    "metadata": {},
    "outputs": [],
    "source": [
     "import xgboost as xgb\n",
     "\n",
     "#Load the saved model\n",
     "xgb_model = xgb.XGBClassifier()\n",
     "xgb_model.load_model(\"xgb_model_champion.pkl\")\n",
     "xgb_model"
    ]
   },
   {
    "cell_type": "code",
    "execution_count": null,
    "id": "b6887d38",
    "metadata": {},
    "outputs": [],
    "source": [
     "# Ensure that we have to appropriate order in feature names from Champion model and dataset\n",
     "cols_when_model_builds = xgb_model.get_booster().feature_names"
    ]
   },
   {
    "cell_type": "markdown",
    "metadata": {},
    "source": [
     "### Load the sample dataset\n",
     "\n",
     "Let's next import the public [Lending Club](https://www.kaggle.com/datasets/devanshi23/loan-data-2007-2014/data) dataset from Kaggle, which was used to develop the dummy champion model.\n",
     "\n",
     "- We'll use this dataset to review steps that should have been conducted during the initial development and documentation of the model to ensure that the model was built correctly.\n",
     "- By independently performing steps such as preprocessing and feature engineering, we can confirm whether the model was built using appropriate and properly processed data.\n",
     "\n",
     "To be able to use the dataset, you'll need to import the dataset and load it into a pandas [DataFrame](https://pandas.pydata.org/docs/reference/api/pandas.DataFrame.html), a two-dimensional tabular data structure that makes use of rows and columns:"
    ]
   },
   {
    "cell_type": "code",
    "execution_count": null,
    "id": "40e73b7c",
    "metadata": {},
    "outputs": [],
    "source": [
     "from validmind.datasets.credit_risk import lending_club\n",
     "\n",
     "df = lending_club.load_data(source=\"offline\")\n",
     "df.head()"
    ]
   },
   {
    "cell_type": "markdown",
    "metadata": {},
    "source": [
     "#### Preprocess the dataset\n",
     "\n",
     "We'll first quickly preprocess the dataset for data quality testing purposes using `lending_club.preprocess`. This function performs the following operations:\n",
     "\n",
     "- Filters the dataset to include only loans for debt consolidation or credit card purposes\n",
     "- Removes loans classified under the riskier grades \"F\" and \"G\"\n",
     "- Excludes uncommon home ownership types and standardizes employment length and loan terms into numerical formats\n",
     "- Discards unnecessary fields and any entries with missing information to maintain a clean and robust dataset for modeling"
    ]
   },
   {
    "cell_type": "code",
    "execution_count": null,
    "id": "e436e862",
    "metadata": {},
    "outputs": [],
    "source": [
     "preprocess_df = lending_club.preprocess(df)"
    ]
   },
   {
    "cell_type": "markdown",
    "metadata": {},
    "source": [
     "### Apply feature engineering to the dataset\n",
     "\n",
     "Feature engineering improves the dataset's structure to better match what our model expects, and ensures that the model performs optimally by leveraging additional insights from raw data.\n",
     "\n",
     "We'll apply the following transformations using the `ending_club.feature_engineering()` function to optimize the dataset for predictive modeling in our application scorecard:\n",
     "\n",
     "- **WoE encoding**: Converts both numerical and categorical features into Weight of Evidence (WoE) values. WoE is a statistical measure used in scorecard modeling that quantifies the relationship between a predictor variable and the binary target variable. It calculates the ratio of the distribution of good outcomes to the distribution of bad outcomes for each category or bin of a feature. This transformation helps to ensure that the features are predictive and consistent in their contribution to the model.\n",
     "- **Integration of WoE bins**: Ensures that the WoE transformed values are integrated throughout the dataset, replacing the original feature values while excluding the target variable from this transformation. This transformation is used to maintain a consistent scale and impact of each variable within the model, which helps make the predictions more stable and accurate."
    ]
   },
   {
    "cell_type": "code",
    "execution_count": null,
    "id": "9c6b641c",
    "metadata": {},
    "outputs": [],
    "source": [
     "fe_df = lending_club.feature_engineering(preprocess_df)\n",
     "fe_df.head()"
    ]
   }
 ],
 "metadata": {
  "language_info": {
   "name": "python"
  }
 },
 "nbformat": 4,
 "nbformat_minor": 2
}

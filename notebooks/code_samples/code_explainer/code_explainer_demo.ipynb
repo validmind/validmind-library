{
 "cells": [
  {
   "cell_type": "markdown",
   "metadata": {},
   "source": [
    "# Code explainer\n",
    "\n"
   ]
  },
  {
   "cell_type": "code",
   "execution_count": null,
   "metadata": {},
   "outputs": [],
   "source": [
    "%pip install -q validmind\n"
   ]
  },
  {
   "cell_type": "code",
   "execution_count": null,
   "metadata": {},
   "outputs": [],
   "source": [
    "\n",
    "%load_ext dotenv\n",
    "%dotenv .env\n",
    "\n",
    "import validmind as vm\n",
    "\n",
    "vm.init(\n",
    "    api_host=\"...\",\n",
    "    api_key=\"...\",\n",
    "    api_secret=\"...\",\n",
    "    model=\"...\",\n",
    ")"
   ]
  },
  {
   "cell_type": "code",
   "execution_count": null,
   "metadata": {},
   "outputs": [],
   "source": [
    "vm.preview_template()"
   ]
  },
  {
   "cell_type": "code",
   "execution_count": 4,
   "metadata": {},
   "outputs": [],
   "source": [
    "source_code=\"\"\n",
    "with open(\"customer_churn_full_suite.py\", \"r\") as f:\n",
    "    source_code = f.read()"
   ]
  },
  {
   "cell_type": "code",
   "execution_count": 5,
   "metadata": {},
   "outputs": [],
   "source": [
    "def explain_code(additional_instructions: str, content_id: str):\n",
    "    result = vm.experimental.agents.run_task(\n",
    "        task=\"code_explainer\",\n",
    "        input={\n",
    "            \"source_code\": source_code,\n",
    "            \"additional_instructions\": additional_instructions\n",
    "        }\n",
    "    )\n",
    "    result.log(content_id=content_id)\n",
    "    return result\n"
   ]
  },
  {
   "cell_type": "markdown",
   "metadata": {},
   "source": [
    "## 1. Codebase Overview"
   ]
  },
  {
   "cell_type": "code",
   "execution_count": null,
   "metadata": {},
   "outputs": [],
   "source": [
    "result = explain_code(\n",
    "    additional_instructions=\"\"\"\n",
    "        Please provide a summary of the following bullet points only.\n",
    "        - Describe the overall structure of the source code repository.\n",
    "        - Identify main modules, folders, and scripts.\n",
    "        - Highlight entry points for training, inference, and evaluation.\n",
    "        - State the main programming languages and frameworks used.\n",
    "        \"\"\",\n",
    "    content_id=\"code_structure_summary\"\n",
    ")"
   ]
  },
  {
   "cell_type": "markdown",
   "metadata": {},
   "source": [
    "## 2. Environment and Dependencies ('environment_setup')"
   ]
  },
  {
   "cell_type": "code",
   "execution_count": null,
   "metadata": {},
   "outputs": [],
   "source": [
    "result = explain_code(\n",
    "    additional_instructions=\"\"\"\n",
    "    Please provide a summary of the following bullet points only.\n",
    "    - List Python packages and system dependencies (OS, compilers, etc.).\n",
    "    - Reference environment files (requirements.txt, environment.yml, Dockerfile).\n",
    "    - Include setup instructions using Conda, virtualenv, or containers.\n",
    "    \"\"\",\n",
    "    content_id=\"setup_instructions\"\n",
    ")"
   ]
  },
  {
   "cell_type": "markdown",
   "metadata": {},
   "source": [
    "## 3. Data Ingestion and Preprocessing"
   ]
  },
  {
   "cell_type": "code",
   "execution_count": null,
   "metadata": {},
   "outputs": [],
   "source": [
    "result = explain_code(\n",
    "    additional_instructions=\"\"\"\n",
    "    Please provide a summary of the following bullet points only.\n",
    "    - Specify data input formats and sources.\n",
    "    - Document ingestion, validation, and transformation logic.\n",
    "    - Explain how raw data is preprocessed and features are generated.\n",
    "    Please remove Potential Risks or Failure Points and Assumptions or Limitations sections\n",
    "    \"\"\",\n",
    "    content_id=\"data_handling_notes\"\n",
    ")"
   ]
  },
  {
   "cell_type": "markdown",
   "metadata": {},
   "source": [
    "## 4. Model Implementation Details"
   ]
  },
  {
   "cell_type": "code",
   "execution_count": null,
   "metadata": {},
   "outputs": [],
   "source": [
    "result = explain_code(\n",
    "    additional_instructions=\"\"\"\n",
    "    Please provide a summary of the following bullet points only.\n",
    "    - Describe the core model code structure (classes, functions).\n",
    "    - Link code to theoretical models or equations when applicable.\n",
    "    - Note custom components like loss functions or feature selectors.\n",
    "    Please remove Potential Risks or Failure Points and Assumptions or Limitations sections\n",
    "    \"\"\",\n",
    "    content_id=\"model_code_description\"\n",
    ")"
   ]
  },
  {
   "cell_type": "markdown",
   "metadata": {},
   "source": [
    "## 5. Model Training Pipeline"
   ]
  },
  {
   "cell_type": "code",
   "execution_count": null,
   "metadata": {},
   "outputs": [],
   "source": [
    "result = explain_code(\n",
    "    additional_instructions=\"\"\"\n",
    "    Please provide a summary of the following bullet points only.\n",
    "    - Explain the training process, optimization strategy, and hyperparameters.\n",
    "    - Describe logging, checkpointing, and early stopping mechanisms.\n",
    "    - Include references to training config files or tuning logic.\n",
    "    Please remove Potential Risks or Failure Points and Assumptions or Limitations sections\n",
    "    \"\"\",\n",
    "    content_id=\"training_logic_details\"\n",
    ")"
   ]
  },
  {
   "cell_type": "markdown",
   "metadata": {},
   "source": [
    "## 6. Evaluation and Validation Code"
   ]
  },
  {
   "cell_type": "code",
   "execution_count": null,
   "metadata": {},
   "outputs": [],
   "source": [
    "result = explain_code(\n",
    "    additional_instructions=\"\"\"\n",
    "    Please provide a summary of the following bullet points only.\n",
    "    - Describe how validation is implemented and metrics are calculated.\n",
    "    - Include plots and diagnostic tools (e.g., ROC, SHAP, confusion matrix).\n",
    "    - State how outputs are logged and persisted.\n",
    "    Please remove Potential Risks or Failure Points and Assumptions or Limitations sections\n",
    "    \"\"\",\n",
    "    content_id=\"evaluation_logic_notes\"\n",
    ")"
   ]
  },
  {
   "cell_type": "markdown",
   "metadata": {},
   "source": [
    "## 7. Inference and Scoring Logic"
   ]
  },
  {
   "cell_type": "code",
   "execution_count": null,
   "metadata": {},
   "outputs": [],
   "source": [
    "result = explain_code(\n",
    "    additional_instructions=\"\"\"\n",
    "    Please provide a summary of the following bullet points only.\n",
    "    - Detail how the trained model is loaded and used for predictions.\n",
    "    - Explain I/O formats and APIs for serving or batch scoring.\n",
    "    - Include any preprocessing/postprocessing logic required.\n",
    "    Please remove Potential Risks or Failure Points and Assumptions or Limitations sections\n",
    "    \"\"\",\n",
    "    content_id=\"inference_mechanism\"\n",
    ")"
   ]
  },
  {
   "cell_type": "markdown",
   "metadata": {},
   "source": [
    "## 8. Configuration and Parameters"
   ]
  },
  {
   "cell_type": "code",
   "execution_count": null,
   "metadata": {},
   "outputs": [],
   "source": [
    "result = explain_code(\n",
    "    additional_instructions=\"\"\"\n",
    "    Please provide a summary of the following bullet points only.\n",
    "    - Describe configuration management (files, CLI args, env vars).\n",
    "    - Highlight default parameters and override mechanisms.\n",
    "    - Reference versioning practices for config files.\n",
    "    Please remove Potential Risks or Failure Points and Assumptions or Limitations sections\n",
    "    \"\"\",\n",
    "    content_id=\"config_control_notes\"\n",
    ")"
   ]
  },
  {
   "cell_type": "markdown",
   "metadata": {},
   "source": [
    "## 9. Unit and Integration Testing"
   ]
  },
  {
   "cell_type": "code",
   "execution_count": null,
   "metadata": {},
   "outputs": [],
   "source": [
    "result = explain_code(\n",
    "    additional_instructions=\"\"\"\n",
    "    Please provide a summary of the following bullet points only.\n",
    "    - List unit and integration tests and what they cover.\n",
    "    - Mention testing frameworks and coverage tools used.\n",
    "    - Explain testing strategy for production-readiness.\n",
    "    Please remove Potential Risks or Failure Points and Assumptions or Limitations sections\n",
    "    \"\"\",\n",
    "    content_id=\"test_strategy_overview\"\n",
    ")"
   ]
  },
  {
   "cell_type": "markdown",
   "metadata": {},
   "source": [
    "## 10. Logging and Monitoring Hooks"
   ]
  },
  {
   "cell_type": "code",
   "execution_count": null,
   "metadata": {},
   "outputs": [],
   "source": [
    "result = explain_code(\n",
    "    additional_instructions=\"\"\"\n",
    "    Please provide a summary of the following bullet points only.\n",
    "    - Describe logging configuration and structure.\n",
    "    - Highlight real-time monitoring or observability integrations.\n",
    "    - List key events, metrics, or alerts tracked.\n",
    "    Please remove Potential Risks or Failure Points and Assumptions or Limitations sections\n",
    "    \"\"\",\n",
    "    content_id=\"logging_monitoring_notes\"\n",
    ")\n"
   ]
  },
  {
   "cell_type": "markdown",
   "metadata": {},
   "source": [
    "## 11. Code and Model Versioning"
   ]
  },
  {
   "cell_type": "code",
   "execution_count": null,
   "metadata": {},
   "outputs": [],
   "source": [
    "result = explain_code(\n",
    "    additional_instructions=\"\"\"\n",
    "    Please provide a summary of the following bullet points only.\n",
    "      - Describe Git usage, branching, tagging, and commit standards.\n",
    "      - Include model artifact versioning practices (e.g., DVC, MLflow).\n",
    "      - Reference any automation in CI/CD.\n",
    "    Please remove Potential Risks or Failure Points and Assumptions or Limitations sections\n",
    "    \"\"\",\n",
    "    content_id=\"version_tracking_description\"\n",
    ")"
   ]
  },
  {
   "cell_type": "markdown",
   "metadata": {},
   "source": [
    "## 12. Security and Access Control"
   ]
  },
  {
   "cell_type": "code",
   "execution_count": null,
   "metadata": {},
   "outputs": [],
   "source": [
    "result = explain_code(\n",
    "    additional_instructions=\"\"\"\n",
    "    Please provide a summary of the following bullet points only.\n",
    "      - Document access controls for source code and data.\n",
    "      - Include any encryption, PII handling, or compliance measures.\n",
    "      - Mention secure deployment practices.\n",
    "    Please remove Potential Risks or Failure Points and Assumptions or Limitations sections\n",
    "    \"\"\",\n",
    "    content_id=\"security_policies_notes\"\n",
    ")"
   ]
  },
  {
   "cell_type": "markdown",
   "metadata": {},
   "source": [
    "## 13. Example Runs and Scripts"
   ]
  },
  {
   "cell_type": "code",
   "execution_count": null,
   "metadata": {},
   "outputs": [],
   "source": [
    "result = explain_code(\n",
    "    additional_instructions=\"\"\"\n",
    "    Please provide a summary of the following bullet points only.\n",
    "      - Provide working script examples (e.g., `train.py`, `predict.py`).\n",
    "      - Include CLI usage instructions or sample notebooks.\n",
    "      - Link to demo datasets or test scenarios.\n",
    "    Please remove Potential Risks or Failure Points and Assumptions or Limitations sections\n",
    "    \"\"\",\n",
    "    content_id=\"runnable_examples\"\n",
    ")"
   ]
  },
  {
   "cell_type": "markdown",
   "metadata": {},
   "source": [
    "## 14. Known Issues and Future Improvements"
   ]
  },
  {
   "cell_type": "code",
   "execution_count": null,
   "metadata": {},
   "outputs": [],
   "source": [
    "result = explain_code(\n",
    "    additional_instructions=\"\"\"\n",
    "    Please provide a summary of the following bullet points only.\n",
    "      - List current limitations or technical debt.\n",
    "      - Outline proposed enhancements or refactors.\n",
    "      - Reference relevant tickets, GitHub issues, or roadmap items.\n",
    "    Please remove Potential Risks or Failure Points and Assumptions or Limitations sections\n",
    "    \"\"\",\n",
    "    content_id=\"issues_and_improvements_log\"\n",
    ")"
   ]
  },
  {
   "cell_type": "code",
   "execution_count": null,
   "metadata": {},
   "outputs": [],
   "source": []
  }
 ],
 "metadata": {
  "kernelspec": {
   "display_name": "validmind-1QuffXMV-py3.11",
   "language": "python",
   "name": "python3"
  },
  "language_info": {
   "codemirror_mode": {
    "name": "ipython",
    "version": 3
   },
   "file_extension": ".py",
   "mimetype": "text/x-python",
   "name": "python",
   "nbconvert_exporter": "python",
   "pygments_lexer": "ipython3",
   "version": "3.11.9"
  }
 },
 "nbformat": 4,
 "nbformat_minor": 4
}

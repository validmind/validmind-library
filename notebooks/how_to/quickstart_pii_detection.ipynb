{
  "cells": [
    {
      "cell_type": "markdown",
      "metadata": {},
      "source": [
        "# PII Detection Modes with a Custom Test\n",
        "\n",
        "This notebook shows how to initialize ValidMind, implement a custom test that emits PII, and observe behavior differences under each `VALIDMIND_PII_DETECTION` mode when running the test with `validmind.tests.run_test`.\n"
      ]
    },
    {
      "cell_type": "markdown",
      "metadata": {},
      "source": [
        "## Prerequisites\n",
        "\n",
        "- `validmind` installed with PII extras:\n",
        "\n",
        "```bash\n",
        "%pip install -q validmind[pii-detection]\n",
        "```\n",
        "\n",
        "- A ValidMind model registered. We'll initialize the library using your model snippet.\n"
      ]
    },
    {
      "cell_type": "code",
      "execution_count": null,
      "metadata": {},
      "outputs": [],
      "source": [
        "%pip install -q validmind[pii-detection]\n"
      ]
    },
    {
      "cell_type": "markdown",
      "metadata": {},
      "source": [
        "## Initialize ValidMind\n",
        "\n",
        "Initialize using your model code snippet or a `.env` file, as shown in other quickstarts.\n"
      ]
    },
    {
      "cell_type": "code",
      "execution_count": null,
      "metadata": {},
      "outputs": [],
      "source": [
        "# Load your model identifier credentials from an `.env` file\n",
        "%load_ext dotenv\n",
        "%dotenv .env\n",
        "\n",
        "# Or initialize with your code snippet\n",
        "import validmind as vm\n",
        "\n",
        "vm.init(\n",
        "    # api_host=\"...\",\n",
        "    # api_key=\"...\",\n",
        "    # api_secret=\"...\",\n",
        "    # model=\"...\",\n",
        ")"
      ]
    },
    {
      "cell_type": "markdown",
      "metadata": {},
      "source": [
        "## Create a custom test that emits PII\n",
        "\n",
        "We'll create a custom test that returns:\n",
        "- A description string containing PII (name, email, phone)\n",
        "- A small table containing PII in columns\n",
        "\n",
        "This mirrors the structure used in other custom test notebooks and will exercise both table and description PII detection paths.\n"
      ]
    },
    {
      "cell_type": "code",
      "execution_count": null,
      "metadata": {},
      "outputs": [],
      "source": [
        "import pandas as pd\n",
        "\n",
        "from validmind import test\n",
        "\n",
        "@test(\"my_pii_demo.PIIEmittingTest\")\n",
        "def pii_emitting_test():\n",
        "    \"\"\"A demo test that returns both a PII-bearing description and a PII-bearing table.\"\"\"\n",
        "    description = (\n",
        "        \"Primary contact: John Doe (john.doe@example.com), phone +1-415-555-1234.\"\n",
        "    )\n",
        "    table = pd.DataFrame(\n",
        "        {\n",
        "            \"name\": [\"Jane Smith\"],\n",
        "            \"email\": [\"jane.smith@bank.example\"],\n",
        "            \"phone\": [\"(212) 555-9876\"],\n",
        "        }\n",
        "    )\n",
        "    # Return order: (description, table)\n",
        "    return description, table"
      ]
    },
    {
      "cell_type": "markdown",
      "metadata": {},
      "source": [
        "## Run the test under different PII detection modes\n",
        "\n",
        "We'll switch `VALIDMIND_PII_DETECTION` across modes and run the same test with `validmind.tests.run_test`. We catch exceptions to observe blocking behavior.\n"
      ]
    },
    {
      "cell_type": "code",
      "execution_count": null,
      "metadata": {},
      "outputs": [],
      "source": [
        "import os\n",
        "from validmind.tests import run_test\n",
        "\n",
        "MODES = [\"disabled\", \"test_results\", \"test_descriptions\", \"all\"]\n",
        "\n",
        "for mode in MODES:\n",
        "    print(\"\\n=== Mode:\", mode, \"===\")\n",
        "    os.environ[\"VALIDMIND_PII_DETECTION\"] = mode\n",
        "    try:\n",
        "        result = run_test(\"my_pii_demo.PIIEmittingTest\")\n",
        "\n",
        "        # check if the description was generated\n",
        "        if not result._was_description_generated:\n",
        "            print(\"Blocked: Test Description Generation was not run due to PII\")\n",
        "\n",
        "        # Try logging (this triggers PII checks before upload)\n",
        "        result.log()\n",
        "        print(\"Run + log succeeded\")\n",
        "    except Exception as e:\n",
        "        print(\"Blocked:\", type(e).__name__, str(e)[:200])"
      ]
    },
    {
      "cell_type": "markdown",
      "metadata": {},
      "source": [
        "### Expected behavior by mode\n",
        "\n",
        "- disabled: No PII checks; test runs and logs.\n",
        "- test_results: Table PII triggers blocking; description may still proceed.\n",
        "- test_descriptions: Description PII triggers blocking; tables may still proceed.\n",
        "- all: Both table and description checks are enforced.\n"
      ]
    },
    {
      "cell_type": "markdown",
      "metadata": {},
      "source": [
        "## Notes\n",
        "\n",
        "- If you see warnings that Presidio is unavailable, ensure you installed extras: `validmind[pii-detection]`.\n",
        "- You can override blocking by passing `unsafe=True` to `result.log(unsafe=True)`, but this is not recommended outside controlled workflows.\n",
        "- To test only a subset (tables or descriptions), adjust the test to emit only that type and re-run the mode loop.\n"
      ]
    },
    {
      "cell_type": "markdown",
      "metadata": {},
      "source": [
        "## Troubleshooting\n",
        "\n",
        "- If you see warnings like \"Presidio analyzer not available\", install the extras: `pip install validmind[pii-detection]`.\n",
        "- If structured detection is unavailable, the library falls back to token-level text scans when possible.\n",
        "- Ensure your environment is restarted after installing new packages if imports fail.\n"
      ]
    }
  ],
  "metadata": {
    "kernelspec": {
      "display_name": "validmind-BbKYUwN1-py3.11",
      "language": "python",
      "name": "python3"
    },
    "language_info": {
      "codemirror_mode": {
        "name": "ipython",
        "version": 3
      },
      "file_extension": ".py",
      "mimetype": "text/x-python",
      "name": "python",
      "nbconvert_exporter": "python",
      "pygments_lexer": "ipython3",
      "version": "3.11.5"
    }
  },
  "nbformat": 4,
  "nbformat_minor": 2
}
